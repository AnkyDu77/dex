{
 "cells": [
  {
   "cell_type": "code",
   "execution_count": 14,
   "metadata": {},
   "outputs": [],
   "source": [
    "import os\n",
    "import re\n",
    "import sys\n",
    "import hashlib\n",
    "import socket\n",
    "import requests\n",
    "import json\n",
    "import time\n",
    "from time import time\n",
    "from urllib.parse import urlparse\n",
    "from flask import request\n",
    "from operator import itemgetter\n",
    "from datetime import datetime, timezone\n",
    "from pyp2p.net import *\n",
    "\n",
    "from config import Config"
   ]
  },
  {
   "cell_type": "code",
   "execution_count": null,
   "metadata": {},
   "outputs": [],
   "source": []
  },
  {
   "cell_type": "code",
   "execution_count": null,
   "metadata": {},
   "outputs": [],
   "source": []
  },
  {
   "cell_type": "code",
   "execution_count": null,
   "metadata": {},
   "outputs": [],
   "source": []
  },
  {
   "cell_type": "markdown",
   "metadata": {},
   "source": [
    "## Test Blockchain Endpoints"
   ]
  },
  {
   "cell_type": "code",
   "execution_count": 82,
   "metadata": {},
   "outputs": [],
   "source": [
    "host = 'http://0.0.0.0:5000'"
   ]
  },
  {
   "cell_type": "code",
   "execution_count": 116,
   "metadata": {},
   "outputs": [
    {
     "data": {
      "text/plain": [
       "b'{\"nodes\": [\"0.0.0.0:5002\"]}'"
      ]
     },
     "execution_count": 116,
     "metadata": {},
     "output_type": "execute_result"
    }
   ],
   "source": [
    "nodes = requests.get(host+\"/nodes/getNodes\").content\n",
    "nodes"
   ]
  },
  {
   "cell_type": "code",
   "execution_count": 125,
   "metadata": {},
   "outputs": [
    {
     "data": {
      "text/plain": [
       "b'{\"nodes\": [\"0.0.0.0:5000\"]}'"
      ]
     },
     "execution_count": 125,
     "metadata": {},
     "output_type": "execute_result"
    }
   ],
   "source": [
    "host1 = 'http://0.0.0.0:5001'\n",
    "nodes1 = requests.get(host1+\"/nodes/getNodes\").content\n",
    "nodes1"
   ]
  },
  {
   "cell_type": "code",
   "execution_count": 170,
   "metadata": {},
   "outputs": [],
   "source": [
    "# wallet = requests.post(host+'/wallet/new', json={'password': 'lalalend'}).content\n",
    "# wallet"
   ]
  },
  {
   "cell_type": "code",
   "execution_count": 256,
   "metadata": {},
   "outputs": [
    {
     "data": {
      "text/plain": [
       "b'{\"message\":\"New nodes have been added\",\"total_nodes\":[\"0.0.0.0:5002\",\"0.0.0.0:5001\"]}\\n'"
      ]
     },
     "execution_count": 256,
     "metadata": {},
     "output_type": "execute_result"
    }
   ],
   "source": [
    "regNode = requests.post(host+\"/nodes/register\", json={\"nodes\": ['http://0.0.0.0:5001']}).content\n",
    "regNode"
   ]
  },
  {
   "cell_type": "code",
   "execution_count": 257,
   "metadata": {},
   "outputs": [
    {
     "data": {
      "text/plain": [
       "b'{\"ADDRESS\":\"z01x00a61643807d1f0bfe6dbb609311de768fb41430479b6564ca5f2c4f06\",\"MSG\":true}\\n'"
      ]
     },
     "execution_count": 257,
     "metadata": {},
     "output_type": "execute_result"
    }
   ],
   "source": [
    "login = requests.post(host+'/wallet/login', json={'password': 'lalalend'}).content\n",
    "login"
   ]
  },
  {
   "cell_type": "code",
   "execution_count": 69,
   "metadata": {},
   "outputs": [
    {
     "data": {
      "text/plain": [
       "b'{\"MSG\":true}\\n'"
      ]
     },
     "execution_count": 69,
     "metadata": {},
     "output_type": "execute_result"
    }
   ],
   "source": [
    "# logout = requests.get(host+'/wallet/logout').content\n",
    "# logout"
   ]
  },
  {
   "cell_type": "code",
   "execution_count": 258,
   "metadata": {},
   "outputs": [
    {
     "data": {
      "text/plain": [
       "b'{\"MSG\":2,\"SYNC\":\"Tx pool synced among 1 nodes\"}\\n'"
      ]
     },
     "execution_count": 258,
     "metadata": {},
     "output_type": "execute_result"
    }
   ],
   "source": [
    "tradeTx = {\n",
    "    'type': 'trade',\n",
    "    'sender': json.loads(wallet)['ADDRESS'],\n",
    "    'symbol': 'btc/usdt',\n",
    "    'price': 30000.0,\n",
    "    'send': 'btc',\n",
    "    'sendVol': 2.0,\n",
    "    'get': 'usdt',\n",
    "    'getVol': 60000.0,\n",
    "    'comissionAmount':2\n",
    "}\n",
    "\n",
    "txReq = requests.post(host+'/transactions/new', json=tradeTx).content\n",
    "txReq"
   ]
  },
  {
   "cell_type": "code",
   "execution_count": 259,
   "metadata": {},
   "outputs": [
    {
     "data": {
      "text/plain": [
       "b'{\"MSG\":2,\"SYNC\":\"Tx pool synced among 1 nodes\"}\\n'"
      ]
     },
     "execution_count": 259,
     "metadata": {},
     "output_type": "execute_result"
    }
   ],
   "source": [
    "tradeTx = {\n",
    "    'type': 'trade',\n",
    "    'sender': json.loads(wallet)['ADDRESS'],\n",
    "    'symbol': 'btc/usdt',\n",
    "    'price': 30000.0,\n",
    "    'send': 'usdt',\n",
    "    'sendVol': 60000.0,\n",
    "    'get': 'btc',\n",
    "    'getVol': 2.0,\n",
    "    'comissionAmount':2\n",
    "}\n",
    "\n",
    "txReq = requests.post(host+'/transactions/new', json=tradeTx).content\n",
    "txReq"
   ]
  },
  {
   "cell_type": "code",
   "execution_count": 261,
   "metadata": {},
   "outputs": [
    {
     "data": {
      "text/plain": [
       "b'{\"index\":2,\"message\":\"New Block Forged\",\"pool_syncing\":\"Tx pool synced among 1 nodes\",\"previous_hash\":\"9204ca3bc9ca2716f5a0a3ed866c9fb5b15a292c0ea53bc2e3e145b94933f393\",\"proof\":22976,\"transactions\":[{\"comissionAmount\":1.0,\"contract\":null,\"price\":0.0,\"recieveAmount\":null,\"recipient\":\"d32902ea13e44d3a9f905d99620d0892\",\"sendAmount\":1,\"sender\":\"z01x0000000000000000000000000000000000000000000000000000000000\",\"symbol\":\"zsh\",\"timestamp\":1629723151.043912,\"tradeTxId\":null},{\"comissionAmount\":2.0,\"contract\":\"btc\",\"price\":30000.0,\"recieveAmount\":60000.0,\"recipient\":\"z01x00daba2c45b077691c1ada65fb07f5e740e455d4463c59028b37055900\",\"sendAmount\":2.0,\"sender\":\"z01x00daba2c45b077691c1ada65fb07f5e740e455d4463c59028b37055900\",\"symbol\":\"btc/usdt\",\"timestamp\":1629723151.057158,\"tradeTxId\":\"8e85b87e9298b3d39259884f5edc56eb516ec865d96333783cc2c4e6cc53f22e\"},{\"comissionAmount\":2.0,\"contract\":\"usdt\",\"price\":30000.0,\"recieveAmount\":2.0,\"recipient\":\"z01x00daba2c45b077691c1ada65fb07f5e740e455d4463c59028b37055900\",\"sendAmount\":60000.0,\"sender\":\"z01x00daba2c45b077691c1ada65fb07f5e740e455d4463c59028b37055900\",\"symbol\":\"btc/usdt\",\"timestamp\":1629723151.057167,\"tradeTxId\":\"ff4f6d0db4cb0753f60e402dbfa9e8595c983fe03906a695d904966f8b99b3b8\"}]}\\n'"
      ]
     },
     "execution_count": 261,
     "metadata": {},
     "output_type": "execute_result"
    }
   ],
   "source": [
    "mineReq = requests.get(host+'/mine').content\n",
    "mineReq"
   ]
  },
  {
   "cell_type": "code",
   "execution_count": 263,
   "metadata": {},
   "outputs": [
    {
     "data": {
      "text/plain": [
       "b'{\"tradeOrders\":[]}\\n'"
      ]
     },
     "execution_count": 263,
     "metadata": {},
     "output_type": "execute_result"
    }
   ],
   "source": [
    "ordersPool = requests.get(host+'/getTradeOrders').content\n",
    "ordersPool"
   ]
  },
  {
   "cell_type": "code",
   "execution_count": 264,
   "metadata": {},
   "outputs": [
    {
     "data": {
      "text/plain": [
       "b'{\"txPool\":[]}\\n'"
      ]
     },
     "execution_count": 264,
     "metadata": {},
     "output_type": "execute_result"
    }
   ],
   "source": [
    "txPool = requests.get(host+'/getTxPool').content\n",
    "txPool"
   ]
  },
  {
   "cell_type": "code",
   "execution_count": 254,
   "metadata": {},
   "outputs": [
    {
     "data": {
      "text/plain": [
       "b'{\"chain\":[{\"index\":1,\"previousHash\":\"9c3b78de7eb0066418a682aec7d0e6841cd5cbe70d71ae65309d4917cd1c5681\",\"proof\":42,\"timestamp\":1629032178.368946,\"transactions\":[\"ascl,sdc,d[v,[d,vsdcaaxasx]]\",\"lv,sldc,sdc ;,d;d\"]},{\"index\":2,\"previousHash\":\"9204ca3bc9ca2716f5a0a3ed866c9fb5b15a292c0ea53bc2e3e145b94933f393\",\"proof\":22976,\"timestamp\":1629722983.08941,\"transactions\":[{\"comissionAmount\":1.0,\"contract\":null,\"price\":0.0,\"recieveAmount\":null,\"recipient\":\"742ec114113e487eb7163e98fc8dcdcd\",\"sendAmount\":1,\"sender\":\"z01x0000000000000000000000000000000000000000000000000000000000\",\"symbol\":\"zsh\",\"timestamp\":1629722983.046188,\"tradeTxId\":null},{\"comissionAmount\":2.0,\"contract\":\"btc\",\"price\":30000.0,\"recieveAmount\":60000.0,\"recipient\":\"z01x00daba2c45b077691c1ada65fb07f5e740e455d4463c59028b37055900\",\"sendAmount\":2.0,\"sender\":\"z01x00daba2c45b077691c1ada65fb07f5e740e455d4463c59028b37055900\",\"symbol\":\"btc/usdt\",\"timestamp\":1629722983.089376,\"tradeTxId\":\"39385e1fd6809fa2e114eaaf244aba7d099a998a7e6a7277e82e1068840aed3a\"},{\"comissionAmount\":2.0,\"contract\":\"usdt\",\"price\":30000.0,\"recieveAmount\":2.0,\"recipient\":\"z01x00daba2c45b077691c1ada65fb07f5e740e455d4463c59028b37055900\",\"sendAmount\":60000.0,\"sender\":\"z01x00daba2c45b077691c1ada65fb07f5e740e455d4463c59028b37055900\",\"symbol\":\"btc/usdt\",\"timestamp\":1629722983.089389,\"tradeTxId\":\"2e1ae401758c0eeae1cd4455a418a9d2c6183226c3b9ae147360b3a1a339366a\"}]}],\"length\":2}\\n'"
      ]
     },
     "execution_count": 254,
     "metadata": {},
     "output_type": "execute_result"
    }
   ],
   "source": [
    "chain = requests.get(host+'/chain').content\n",
    "chain"
   ]
  },
  {
   "cell_type": "markdown",
   "metadata": {},
   "source": [
    "### NODE 1"
   ]
  },
  {
   "cell_type": "code",
   "execution_count": null,
   "metadata": {},
   "outputs": [],
   "source": [
    "host1 = 'http://0.0.0.0:5001'"
   ]
  },
  {
   "cell_type": "code",
   "execution_count": 74,
   "metadata": {},
   "outputs": [
    {
     "data": {
      "text/plain": [
       "b'{\"ADDRESS\":\"z01x001ddb88cc07c6d9179c51b370128d07109a650cba29c5889c078e6bb0\"}\\n'"
      ]
     },
     "execution_count": 74,
     "metadata": {},
     "output_type": "execute_result"
    }
   ],
   "source": [
    "wallet1 = requests.post(host1+'/wallet/new', json={'password': 'lalalend'}).content\n",
    "wallet1"
   ]
  },
  {
   "cell_type": "code",
   "execution_count": 154,
   "metadata": {},
   "outputs": [
    {
     "data": {
      "text/plain": [
       "b'{\"ADDRESS\":\"z01x0011c451ec98668981d667349895f26de90940f0b55a2843eabab0ebc7\",\"MSG\":true}\\n'"
      ]
     },
     "execution_count": 154,
     "metadata": {},
     "output_type": "execute_result"
    }
   ],
   "source": [
    "login1 = requests.post(host1+'/wallet/login', json={'password': 'lalalend'}).content\n",
    "login1"
   ]
  },
  {
   "cell_type": "code",
   "execution_count": 155,
   "metadata": {},
   "outputs": [
    {
     "data": {
      "text/plain": [
       "b'{\"MSG\":[2,\"Tx pool synced among 1 nodes\"]}\\n'"
      ]
     },
     "execution_count": 155,
     "metadata": {},
     "output_type": "execute_result"
    }
   ],
   "source": [
    "tradeTx1 = {\n",
    "    'type': 'trade',\n",
    "    'sender': json.loads(login1)['ADDRESS'],\n",
    "    'symbol': 'btc/usdt',\n",
    "    'price': 3.0,\n",
    "    'send': 'btc',\n",
    "    'sendVol': 2.0,\n",
    "    'get': 'usdt',\n",
    "    'getVol': 6.0,\n",
    "    'comissionAmount':2\n",
    "}\n",
    "\n",
    "txReq1 = requests.post(host1+'/transactions/new', json=tradeTx1).content\n",
    "txReq1"
   ]
  },
  {
   "cell_type": "code",
   "execution_count": 198,
   "metadata": {},
   "outputs": [
    {
     "data": {
      "text/plain": [
       "b'{\"tradeOrders\":[{\"comissionAmount\":2.0,\"get\":\"btc\",\"getVol\":0.0,\"price\":30000.0,\"send\":\"usdt\",\"sendVol\":0.0,\"sender\":\"z01x00daba2c45b077691c1ada65fb07f5e740e455d4463c59028b37055900\",\"symbol\":\"btc/usdt\",\"timestamp\":1629717391.990759,\"tradeTxId\":\"573deae78760921a540a1c2e43e342eb92b8ae08c3ab068c1aa14142569f9fba\"}]}\\n'"
      ]
     },
     "execution_count": 198,
     "metadata": {},
     "output_type": "execute_result"
    }
   ],
   "source": [
    "ordersPool1 = requests.get(host1+'/getTradeOrders').content\n",
    "ordersPool1"
   ]
  },
  {
   "cell_type": "code",
   "execution_count": 177,
   "metadata": {},
   "outputs": [
    {
     "data": {
      "text/plain": [
       "b'{\"txPool\":[]}\\n'"
      ]
     },
     "execution_count": 177,
     "metadata": {},
     "output_type": "execute_result"
    }
   ],
   "source": [
    "txPool1 = requests.get(host1+'/getTxPool').content\n",
    "txPool1"
   ]
  },
  {
   "cell_type": "code",
   "execution_count": 262,
   "metadata": {},
   "outputs": [
    {
     "data": {
      "text/plain": [
       "b'{\"chain\":[{\"index\":1,\"previousHash\":\"9c3b78de7eb0066418a682aec7d0e6841cd5cbe70d71ae65309d4917cd1c5681\",\"proof\":42,\"timestamp\":1629032178.368946,\"transactions\":[\"ascl,sdc,d[v,[d,vsdcaaxasx]]\",\"lv,sldc,sdc ;,d;d\"]},{\"index\":2,\"previousHash\":\"9204ca3bc9ca2716f5a0a3ed866c9fb5b15a292c0ea53bc2e3e145b94933f393\",\"proof\":22976,\"timestamp\":1629723151.057186,\"transactions\":[{\"comissionAmount\":1.0,\"contract\":null,\"price\":0.0,\"recieveAmount\":null,\"recipient\":\"d32902ea13e44d3a9f905d99620d0892\",\"sendAmount\":1,\"sender\":\"z01x0000000000000000000000000000000000000000000000000000000000\",\"symbol\":\"zsh\",\"timestamp\":1629723151.043912,\"tradeTxId\":null},{\"comissionAmount\":2.0,\"contract\":\"btc\",\"price\":30000.0,\"recieveAmount\":60000.0,\"recipient\":\"z01x00daba2c45b077691c1ada65fb07f5e740e455d4463c59028b37055900\",\"sendAmount\":2.0,\"sender\":\"z01x00daba2c45b077691c1ada65fb07f5e740e455d4463c59028b37055900\",\"symbol\":\"btc/usdt\",\"timestamp\":1629723151.057158,\"tradeTxId\":\"8e85b87e9298b3d39259884f5edc56eb516ec865d96333783cc2c4e6cc53f22e\"},{\"comissionAmount\":2.0,\"contract\":\"usdt\",\"price\":30000.0,\"recieveAmount\":2.0,\"recipient\":\"z01x00daba2c45b077691c1ada65fb07f5e740e455d4463c59028b37055900\",\"sendAmount\":60000.0,\"sender\":\"z01x00daba2c45b077691c1ada65fb07f5e740e455d4463c59028b37055900\",\"symbol\":\"btc/usdt\",\"timestamp\":1629723151.057167,\"tradeTxId\":\"ff4f6d0db4cb0753f60e402dbfa9e8595c983fe03906a695d904966f8b99b3b8\"}]}],\"length\":2}\\n'"
      ]
     },
     "execution_count": 262,
     "metadata": {},
     "output_type": "execute_result"
    }
   ],
   "source": [
    "chain1 = requests.get(host1+'/chain').content\n",
    "chain1"
   ]
  },
  {
   "cell_type": "code",
   "execution_count": null,
   "metadata": {},
   "outputs": [],
   "source": []
  }
 ],
 "metadata": {
  "kernelspec": {
   "display_name": "Python 3",
   "language": "python",
   "name": "python3"
  },
  "language_info": {
   "codemirror_mode": {
    "name": "ipython",
    "version": 3
   },
   "file_extension": ".py",
   "mimetype": "text/x-python",
   "name": "python",
   "nbconvert_exporter": "python",
   "pygments_lexer": "ipython3",
   "version": "3.7.2"
  }
 },
 "nbformat": 4,
 "nbformat_minor": 2
}

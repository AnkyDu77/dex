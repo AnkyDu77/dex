{
 "cells": [
  {
   "cell_type": "code",
   "execution_count": 1,
   "metadata": {},
   "outputs": [],
   "source": [
    "import os\n",
    "import re\n",
    "import sys\n",
    "import hashlib\n",
    "import socket\n",
    "import requests\n",
    "import json\n",
    "import time\n",
    "from time import time\n",
    "from urllib.parse import urlparse\n",
    "from flask import request\n",
    "from operator import itemgetter\n",
    "from datetime import datetime, timezone\n",
    "from pyp2p.net import *\n",
    "\n",
    "from config import Config"
   ]
  },
  {
   "cell_type": "code",
   "execution_count": 288,
   "metadata": {},
   "outputs": [
    {
     "data": {
      "text/plain": [
       "'82.151.196.144'"
      ]
     },
     "execution_count": 288,
     "metadata": {},
     "output_type": "execute_result"
    }
   ],
   "source": [
    "whiteIp = requests.get('https://api.ipify.org').content\n",
    "whiteIp.decode()"
   ]
  },
  {
   "cell_type": "code",
   "execution_count": 2,
   "metadata": {},
   "outputs": [
    {
     "data": {
      "text/plain": [
       "b'{\"MSG\":\"Working\"}\\n'"
      ]
     },
     "execution_count": 2,
     "metadata": {},
     "output_type": "execute_result"
    }
   ],
   "source": [
    "requests.get('http://178.176.120.241:5000').content"
   ]
  },
  {
   "cell_type": "code",
   "execution_count": null,
   "metadata": {},
   "outputs": [],
   "source": []
  },
  {
   "cell_type": "markdown",
   "metadata": {},
   "source": [
    "## Test Blockchain Endpoints"
   ]
  },
  {
   "cell_type": "code",
   "execution_count": 3,
   "metadata": {},
   "outputs": [],
   "source": [
    "host = 'http://0.0.0.0:5000'"
   ]
  },
  {
   "cell_type": "code",
   "execution_count": 4,
   "metadata": {},
   "outputs": [
    {
     "data": {
      "text/plain": [
       "b'{\"nodes\": [\"178.176.120.241:5000\"]}'"
      ]
     },
     "execution_count": 4,
     "metadata": {},
     "output_type": "execute_result"
    }
   ],
   "source": [
    "nodes = requests.get(host+\"/nodes/getNodes\").content\n",
    "nodes"
   ]
  },
  {
   "cell_type": "code",
   "execution_count": 277,
   "metadata": {},
   "outputs": [
    {
     "data": {
      "text/plain": [
       "b'{\"nodes\": [\"82.151.196.144:5000\"]}'"
      ]
     },
     "execution_count": 277,
     "metadata": {},
     "output_type": "execute_result"
    }
   ],
   "source": [
    "host1 = 'http://178.176.120.241:5000'\n",
    "nodes1 = requests.get(host1+\"/nodes/getNodes\").content\n",
    "nodes1"
   ]
  },
  {
   "cell_type": "code",
   "execution_count": 6,
   "metadata": {},
   "outputs": [
    {
     "data": {
      "text/plain": [
       "b'{\"ADDRESS\":\"z01x0048c2e16fa1b83b24853dc05fb32465e819f1ebf5b30020525848bf23\"}\\n'"
      ]
     },
     "execution_count": 6,
     "metadata": {},
     "output_type": "execute_result"
    }
   ],
   "source": [
    "wallet = requests.post(host+'/wallet/new', json={'password': 'lalalend'}).content\n",
    "wallet"
   ]
  },
  {
   "cell_type": "code",
   "execution_count": 12,
   "metadata": {},
   "outputs": [],
   "source": [
    "# regNode = requests.post(host+\"/nodes/register\", json={\"nodes\": ['http://0.0.0.0:5001']}).content\n",
    "# regNode"
   ]
  },
  {
   "cell_type": "code",
   "execution_count": 69,
   "metadata": {},
   "outputs": [
    {
     "data": {
      "text/plain": [
       "b'{\"MSG\":true}\\n'"
      ]
     },
     "execution_count": 69,
     "metadata": {},
     "output_type": "execute_result"
    }
   ],
   "source": [
    "# logout = requests.get(host+'/wallet/logout').content\n",
    "# logout"
   ]
  },
  {
   "cell_type": "code",
   "execution_count": 9,
   "metadata": {},
   "outputs": [
    {
     "data": {
      "text/plain": [
       "b'{\"ADDRESS\":\"z01x0030dfc2c4736a6ecaa2362cb65f7fb313934b33283f51caa765e3745e\",\"MSG\":true}\\n'"
      ]
     },
     "execution_count": 9,
     "metadata": {},
     "output_type": "execute_result"
    }
   ],
   "source": [
    "login = requests.post(host+'/wallet/login', json={'password': 'lalalend'}).content\n",
    "login"
   ]
  },
  {
   "cell_type": "code",
   "execution_count": 10,
   "metadata": {},
   "outputs": [
    {
     "data": {
      "text/plain": [
       "b'{\"MSG\":2,\"SYNC\":\"Tx pool synced among 1 nodes\"}\\n'"
      ]
     },
     "execution_count": 10,
     "metadata": {},
     "output_type": "execute_result"
    }
   ],
   "source": [
    "step=0\n",
    "for i in range(3):\n",
    "    \n",
    "    tradeTx = {\n",
    "        'type': 'trade',\n",
    "        'sender': json.loads(login)['ADDRESS'],\n",
    "        'symbol': 'uni/usdt',\n",
    "        'price': 1010.0+step,\n",
    "        'send': 'uni',\n",
    "        'sendVol': 1.0,\n",
    "        'get': 'usdt',\n",
    "        'getVol': 1010.0+step,\n",
    "        'comissionAmount':2\n",
    "    }\n",
    "\n",
    "    txReq = requests.post(host+'/transactions/new', json=tradeTx).content\n",
    "    step += 10\n",
    "\n",
    "txReq"
   ]
  },
  {
   "cell_type": "code",
   "execution_count": 11,
   "metadata": {},
   "outputs": [
    {
     "data": {
      "text/plain": [
       "b'{\"MSG\":2,\"SYNC\":\"Tx pool synced among 1 nodes\"}\\n'"
      ]
     },
     "execution_count": 11,
     "metadata": {},
     "output_type": "execute_result"
    }
   ],
   "source": [
    "step = 0\n",
    "for i in range(3):\n",
    "    tradeTx = {\n",
    "        'type': 'trade',\n",
    "        'sender': json.loads(login)['ADDRESS'],\n",
    "        'symbol': 'uni/usdt',\n",
    "        'price': 980.0+step,\n",
    "        'send': 'usdt',\n",
    "        'sendVol': 980.0+step,\n",
    "        'get': 'uni',\n",
    "        'getVol': 1.0,\n",
    "        'comissionAmount':2\n",
    "    }\n",
    "    \n",
    "    txReq = requests.post(host+'/transactions/new', json=tradeTx).content\n",
    "    step -= 10\n",
    "txReq"
   ]
  },
  {
   "cell_type": "code",
   "execution_count": null,
   "metadata": {},
   "outputs": [],
   "source": []
  },
  {
   "cell_type": "code",
   "execution_count": 66,
   "metadata": {},
   "outputs": [
    {
     "data": {
      "text/plain": [
       "b'{\"MSG\":3,\"SYNC\":\"Tx pool synced among 1 nodes\"}\\n'"
      ]
     },
     "execution_count": 66,
     "metadata": {},
     "output_type": "execute_result"
    }
   ],
   "source": [
    "sellTx = {\n",
    "        'type': 'trade',\n",
    "        'sender': json.loads(login)['ADDRESS'],\n",
    "        'symbol': 'uni/usdt',\n",
    "        'price': 1000.0,\n",
    "        'send': 'uni',\n",
    "        'sendVol': 1.0,\n",
    "        'get': 'usdt',\n",
    "        'getVol': 1000.0,\n",
    "        'comissionAmount':2\n",
    "    }\n",
    "txReq = requests.post(host+'/transactions/new', json=sellTx).content\n",
    "txReq"
   ]
  },
  {
   "cell_type": "code",
   "execution_count": 71,
   "metadata": {},
   "outputs": [
    {
     "data": {
      "text/plain": [
       "b'{\"MSG\":4,\"SYNC\":\"Tx pool synced among 1 nodes\"}\\n'"
      ]
     },
     "execution_count": 71,
     "metadata": {},
     "output_type": "execute_result"
    }
   ],
   "source": [
    "# 'comissionAmount': 2.0,\n",
    "#   'get': 'usdt',\n",
    "#   'getVol': 1030.0,\n",
    "#   'price': 1030.0,\n",
    "#   'send': 'uni',\n",
    "#   'sendVol': 1.0,\n",
    "#   'sender': 'z01x0030dfc2c4736a6ecaa2362cb65f7fb313934b33283f51caa765e3745e',\n",
    "#   'symbol': 'uni/usdt',\n",
    "#   'timestamp': 1629813262.264664,\n",
    "#   'tradeTxId': 'd648507f2b334c965c3e616f6d06fb1e987e820453385b8e65183c2f994265c3'}\n",
    "\n",
    "\n",
    "buyTx = {\n",
    "        'type': 'trade',\n",
    "        'sender': json.loads(login)['ADDRESS'],\n",
    "        'symbol': 'uni/usdt',\n",
    "        'price': 1031.0,\n",
    "        'send': 'usdt',\n",
    "        'sendVol': 1031.0,\n",
    "        'get': 'uni',\n",
    "        'getVol': 1.0,\n",
    "        'comissionAmount':2\n",
    "    }\n",
    "txReq = requests.post(host+'/transactions/new', json=buyTx).content\n",
    "\n",
    "\n",
    "# {'comissionAmount': 2.0,\n",
    "#   'get': 'usdt',\n",
    "#   'getVol': 49010.0,\n",
    "#   'price': 49010.0,\n",
    "#   'send': 'btc',\n",
    "#   'sendVol': 1.0,\n",
    "#   'sender': 'z01x0030dfc2c4736a6ecaa2362cb65f7fb313934b33283f51caa765e3745e',\n",
    "#   'symbol': 'btc/usdt',\n",
    "#   'timestamp': 1629813003.165863,\n",
    "#   'tradeTxId': 'b0c04cc31ff140a01b7bacaad8dd8b866b93861edc74e4e2be28e0327e31c139'}\n",
    "\n",
    "buyTx = {\n",
    "        'type': 'trade',\n",
    "        'sender': json.loads(login)['ADDRESS'],\n",
    "        'symbol': 'btc/usdt',\n",
    "        'price': 49010.1,\n",
    "        'send': 'usdt',\n",
    "        'sendVol': 49010.1,\n",
    "        'get': 'btc',\n",
    "        'getVol': 1.0,\n",
    "        'comissionAmount':2\n",
    "    }\n",
    "txReq = requests.post(host+'/transactions/new', json=buyTx).content\n",
    "txReq"
   ]
  },
  {
   "cell_type": "code",
   "execution_count": 73,
   "metadata": {},
   "outputs": [
    {
     "data": {
      "text/plain": [
       "b'{\"index\":4,\"message\":\"New Block Forged\",\"pool_syncing\":\"Tx pool synced among 1 nodes\",\"previous_hash\":\"f3112062b183496bf914ba8683594cd564ee1dfbe766d60c0cfe218fe938b061\",\"proof\":26333,\"transactions\":[{\"comissionAmount\":1.0,\"contract\":null,\"price\":0.0,\"recieveAmount\":null,\"recipient\":\"c9690db60192446299144a440d7d2ccb\",\"sendAmount\":1,\"sender\":\"z01x0000000000000000000000000000000000000000000000000000000000\",\"symbol\":\"zsh\",\"timestamp\":1629813809.862458,\"tradeTxId\":null},{\"comissionAmount\":0.02,\"contract\":\"uni\",\"price\":1030.0,\"recieveAmount\":1030.0,\"recipient\":\"z01x0030dfc2c4736a6ecaa2362cb65f7fb313934b33283f51caa765e3745e\",\"sendAmount\":1.0,\"sender\":\"z01x0030dfc2c4736a6ecaa2362cb65f7fb313934b33283f51caa765e3745e\",\"symbol\":\"uni/usdt\",\"timestamp\":1629813810.509632,\"tradeTxId\":\"d648507f2b334c965c3e616f6d06fb1e987e820453385b8e65183c2f994265c3\"},{\"comissionAmount\":0.019980601357904946,\"contract\":\"usdt\",\"price\":1030.0,\"recieveAmount\":1.0,\"recipient\":\"z01x0030dfc2c4736a6ecaa2362cb65f7fb313934b33283f51caa765e3745e\",\"sendAmount\":1030.0,\"sender\":\"z01x0030dfc2c4736a6ecaa2362cb65f7fb313934b33283f51caa765e3745e\",\"symbol\":\"uni/usdt\",\"timestamp\":1629813810.509731,\"tradeTxId\":\"d492386049bc4e798dfff7360b5827c91349ed5833f5b273685c27fe59868ef5\"},{\"comissionAmount\":0.02,\"contract\":\"btc\",\"price\":49010.0,\"recieveAmount\":49010.0,\"recipient\":\"z01x0030dfc2c4736a6ecaa2362cb65f7fb313934b33283f51caa765e3745e\",\"sendAmount\":1.0,\"sender\":\"z01x0030dfc2c4736a6ecaa2362cb65f7fb313934b33283f51caa765e3745e\",\"symbol\":\"btc/usdt\",\"timestamp\":1629813810.510084,\"tradeTxId\":\"b0c04cc31ff140a01b7bacaad8dd8b866b93861edc74e4e2be28e0327e31c139\"},{\"comissionAmount\":0.019999959192084898,\"contract\":\"usdt\",\"price\":49010.0,\"recieveAmount\":1.0,\"recipient\":\"z01x0030dfc2c4736a6ecaa2362cb65f7fb313934b33283f51caa765e3745e\",\"sendAmount\":49010.0,\"sender\":\"z01x0030dfc2c4736a6ecaa2362cb65f7fb313934b33283f51caa765e3745e\",\"symbol\":\"btc/usdt\",\"timestamp\":1629813810.510151,\"tradeTxId\":\"2a12982440f683f5b5ea39a63bb36677d5bb6c4ae5e5a8fd9e855f864f21d129\"}]}\\n'"
      ]
     },
     "execution_count": 73,
     "metadata": {},
     "output_type": "execute_result"
    }
   ],
   "source": [
    "mineReq = requests.get(host+'/mine').content\n",
    "mineReq"
   ]
  },
  {
   "cell_type": "code",
   "execution_count": 12,
   "metadata": {
    "scrolled": true
   },
   "outputs": [
    {
     "data": {
      "text/plain": [
       "[{'comissionAmount': 2.0,\n",
       "  'get': 'usdt',\n",
       "  'getVol': 1010.0,\n",
       "  'price': 1010.0,\n",
       "  'send': 'uni',\n",
       "  'sendVol': 1.0,\n",
       "  'sender': 'z01x0030dfc2c4736a6ecaa2362cb65f7fb313934b33283f51caa765e3745e',\n",
       "  'symbol': 'uni/usdt',\n",
       "  'timestamp': 1629875047.833741,\n",
       "  'tradeTxId': '13a5b8d30ec348f5ac8e7663a4244739d3dacb3efc3bbfdccf0566a558d008de'},\n",
       " {'comissionAmount': 2.0,\n",
       "  'get': 'usdt',\n",
       "  'getVol': 1020.0,\n",
       "  'price': 1020.0,\n",
       "  'send': 'uni',\n",
       "  'sendVol': 1.0,\n",
       "  'sender': 'z01x0030dfc2c4736a6ecaa2362cb65f7fb313934b33283f51caa765e3745e',\n",
       "  'symbol': 'uni/usdt',\n",
       "  'timestamp': 1629875048.662411,\n",
       "  'tradeTxId': '1a2592007000794fc7795e889c0c9d2a4ec20a359e9d83f6445f1227047d8a51'},\n",
       " {'comissionAmount': 2.0,\n",
       "  'get': 'usdt',\n",
       "  'getVol': 1030.0,\n",
       "  'price': 1030.0,\n",
       "  'send': 'uni',\n",
       "  'sendVol': 1.0,\n",
       "  'sender': 'z01x0030dfc2c4736a6ecaa2362cb65f7fb313934b33283f51caa765e3745e',\n",
       "  'symbol': 'uni/usdt',\n",
       "  'timestamp': 1629875049.437809,\n",
       "  'tradeTxId': 'f470c4eba28d7963384d634df71c6bcdc70a052f9f1c9fe829c70e8987caf8b5'},\n",
       " {'comissionAmount': 2.0,\n",
       "  'get': 'uni',\n",
       "  'getVol': 1.0,\n",
       "  'price': 980.0,\n",
       "  'send': 'usdt',\n",
       "  'sendVol': 980.0,\n",
       "  'sender': 'z01x0030dfc2c4736a6ecaa2362cb65f7fb313934b33283f51caa765e3745e',\n",
       "  'symbol': 'uni/usdt',\n",
       "  'timestamp': 1629875052.962186,\n",
       "  'tradeTxId': 'b58fa10c9c51439ea430c4ab13f248d3d199921b3e701ab3cfb6b0a044d381c0'},\n",
       " {'comissionAmount': 2.0,\n",
       "  'get': 'uni',\n",
       "  'getVol': 1.0,\n",
       "  'price': 970.0,\n",
       "  'send': 'usdt',\n",
       "  'sendVol': 970.0,\n",
       "  'sender': 'z01x0030dfc2c4736a6ecaa2362cb65f7fb313934b33283f51caa765e3745e',\n",
       "  'symbol': 'uni/usdt',\n",
       "  'timestamp': 1629875053.930479,\n",
       "  'tradeTxId': '29b271494a6baa3491351d5df0c7725b78b7017feec8cf9534666e37c04e44d6'},\n",
       " {'comissionAmount': 2.0,\n",
       "  'get': 'uni',\n",
       "  'getVol': 1.0,\n",
       "  'price': 960.0,\n",
       "  'send': 'usdt',\n",
       "  'sendVol': 960.0,\n",
       "  'sender': 'z01x0030dfc2c4736a6ecaa2362cb65f7fb313934b33283f51caa765e3745e',\n",
       "  'symbol': 'uni/usdt',\n",
       "  'timestamp': 1629875054.944442,\n",
       "  'tradeTxId': 'f75ea1d420310e112162d86a33fd8321f288b445d61f2ff08575593b7f306818'}]"
      ]
     },
     "execution_count": 12,
     "metadata": {},
     "output_type": "execute_result"
    }
   ],
   "source": [
    "ordersPool = json.loads(requests.get(host+'/getTradeOrders').content)['tradeOrders']\n",
    "ordersPool"
   ]
  },
  {
   "cell_type": "code",
   "execution_count": 38,
   "metadata": {},
   "outputs": [
    {
     "data": {
      "text/plain": [
       "[('z01x0030dfc2c4736a6ecaa2362cb65f7fb313934b33283f51caa765e3745e',\n",
       "  'btc/usdt',\n",
       "  'usdt',\n",
       "  'btc',\n",
       "  48960.0,\n",
       "  '86e46974fdd63dd773da36f3724e91ec782e62110b44637fde6322f39d4101ce'),\n",
       " ('z01x0030dfc2c4736a6ecaa2362cb65f7fb313934b33283f51caa765e3745e',\n",
       "  'btc/usdt',\n",
       "  'usdt',\n",
       "  'btc',\n",
       "  48970.0,\n",
       "  'fd782f8c14c710d1e33ca276961e9cb7a61fff371ead383dac2d81ddb15af1a0'),\n",
       " ('z01x0030dfc2c4736a6ecaa2362cb65f7fb313934b33283f51caa765e3745e',\n",
       "  'btc/usdt',\n",
       "  'usdt',\n",
       "  'btc',\n",
       "  48980.0,\n",
       "  '6aab946489976021faff63a985d37243a65b1ec0c3c837bc0d92c6b1154aae3f'),\n",
       " ('z01x0030dfc2c4736a6ecaa2362cb65f7fb313934b33283f51caa765e3745e',\n",
       "  'btc/usdt',\n",
       "  'btc',\n",
       "  'usdt',\n",
       "  49000.0,\n",
       "  '6d348eea99de4b9a0999f1b252cdf1c28d8bba0bdecf3184c17f64291e2ab4e3'),\n",
       " ('z01x0030dfc2c4736a6ecaa2362cb65f7fb313934b33283f51caa765e3745e',\n",
       "  'btc/usdt',\n",
       "  'usdt',\n",
       "  'btc',\n",
       "  49000.0,\n",
       "  '6356596306c008b19dee84b58701b0d93bdd07b17160c6caf24ce4314082b511'),\n",
       " ('z01x0030dfc2c4736a6ecaa2362cb65f7fb313934b33283f51caa765e3745e',\n",
       "  'btc/usdt',\n",
       "  'btc',\n",
       "  'usdt',\n",
       "  49010.0,\n",
       "  'a52d682742d1a2f1aaa85c79af25a871e92a2ff8be550d88336d4e5052d87e19'),\n",
       " ('z01x0030dfc2c4736a6ecaa2362cb65f7fb313934b33283f51caa765e3745e',\n",
       "  'btc/usdt',\n",
       "  'btc',\n",
       "  'usdt',\n",
       "  49020.0,\n",
       "  '5bf8ba8eb92b8da3c91a9f19047b97b5f4daa6971fb8bedc417aa16255bb3a87'),\n",
       " ('z01x0030dfc2c4736a6ecaa2362cb65f7fb313934b33283f51caa765e3745e',\n",
       "  'btc/usdt',\n",
       "  'btc',\n",
       "  'usdt',\n",
       "  49030.0,\n",
       "  'fa145471de6058bde3a3eb019f9f62dc89ad37628faf81c6692aa0721c7d37bd')]"
      ]
     },
     "execution_count": 38,
     "metadata": {},
     "output_type": "execute_result"
    }
   ],
   "source": [
    "sybmolSortedLst = sorted([(ordersPool[i]['sender'],ordersPool[i]['symbol'],\\\n",
    "                            ordersPool[i]['send'],ordersPool[i]['get'],\\\n",
    "                           ordersPool[i]['price'],ordersPool[i]['tradeTxId'],)\\\n",
    "                          for i in range(len(ordersPool))], key=itemgetter(4, 2, 1))\n",
    "\n",
    "sybmolSortedLst"
   ]
  },
  {
   "cell_type": "code",
   "execution_count": 39,
   "metadata": {},
   "outputs": [
    {
     "data": {
      "text/plain": [
       "[(('z01x0030dfc2c4736a6ecaa2362cb65f7fb313934b33283f51caa765e3745e',\n",
       "   'btc/usdt',\n",
       "   'btc',\n",
       "   'usdt',\n",
       "   49000.0,\n",
       "   '6d348eea99de4b9a0999f1b252cdf1c28d8bba0bdecf3184c17f64291e2ab4e3'),\n",
       "  ('z01x0030dfc2c4736a6ecaa2362cb65f7fb313934b33283f51caa765e3745e',\n",
       "   'btc/usdt',\n",
       "   'usdt',\n",
       "   'btc',\n",
       "   49000.0,\n",
       "   '6356596306c008b19dee84b58701b0d93bdd07b17160c6caf24ce4314082b511'))]"
      ]
     },
     "execution_count": 39,
     "metadata": {},
     "output_type": "execute_result"
    }
   ],
   "source": [
    "mathchedOrders=[]\n",
    "for i in range(len(sybmolSortedLst)-1):\n",
    "    if (sybmolSortedLst[i][2] == sybmolSortedLst[i+1][3]) and (sybmolSortedLst[i][3] == sybmolSortedLst[i+1][2]) :\n",
    "\n",
    "        # Split symbol and define direction and price matching\n",
    "        splittedSymbol1 = re.split(r'/', sybmolSortedLst[i][1])[0]\n",
    "        splittedSymbol2 = re.split(r'/', sybmolSortedLst[i+1][1])[0]\n",
    "\n",
    "        if ((splittedSymbol1 == sybmolSortedLst[i][2] and splittedSymbol2 == sybmolSortedLst[i+1][3]) \\\n",
    "            and (sybmolSortedLst[i][4] <= sybmolSortedLst[i+1][4])) \\\n",
    "            or ((splittedSymbol1 == sybmolSortedLst[i][3] and splittedSymbol2 == sybmolSortedLst[i+1][2])\\\n",
    "               and (sybmolSortedLst[i][4] >= sybmolSortedLst[i+1][4])):\n",
    "\n",
    "            mathchedOrders.append((sybmolSortedLst[i], sybmolSortedLst[i+1],))\n",
    "mathchedOrders"
   ]
  },
  {
   "cell_type": "code",
   "execution_count": 56,
   "metadata": {},
   "outputs": [
    {
     "data": {
      "text/plain": [
       "'6356596306c008b19dee84b58701b0d93bdd07b17160c6caf24ce4314082b511'"
      ]
     },
     "execution_count": 56,
     "metadata": {},
     "output_type": "execute_result"
    }
   ],
   "source": [
    "mathchedOrders[0][1][-1]"
   ]
  },
  {
   "cell_type": "code",
   "execution_count": null,
   "metadata": {},
   "outputs": [],
   "source": []
  },
  {
   "cell_type": "code",
   "execution_count": null,
   "metadata": {},
   "outputs": [],
   "source": [
    "commonTxs = []\n",
    "# Get matched orders\n",
    "txDir = {}\n",
    "for i in range(len(mathchedOrders)):\n",
    "    tempLst = [mathchedOrders[i][0][0], mathchedOrders[i][1][0]]\n",
    "    txTempLst=[order for order in ordersList if order['tradeTxId'] in tempLst]\n",
    "    txDir[f'tx_{i}'] = txTempLst"
   ]
  },
  {
   "cell_type": "code",
   "execution_count": null,
   "metadata": {},
   "outputs": [],
   "source": []
  },
  {
   "cell_type": "code",
   "execution_count": null,
   "metadata": {},
   "outputs": [],
   "source": []
  },
  {
   "cell_type": "code",
   "execution_count": 270,
   "metadata": {},
   "outputs": [
    {
     "data": {
      "text/plain": [
       "b'{\"txPool\":[]}\\n'"
      ]
     },
     "execution_count": 270,
     "metadata": {},
     "output_type": "execute_result"
    }
   ],
   "source": [
    "txPool = requests.get(host+'/getTxPool').content\n",
    "txPool"
   ]
  },
  {
   "cell_type": "code",
   "execution_count": 274,
   "metadata": {},
   "outputs": [
    {
     "data": {
      "text/plain": [
       "b'{\"chain\":[{\"index\":1,\"previousHash\":\"9c3b78de7eb0066418a682aec7d0e6841cd5cbe70d71ae65309d4917cd1c5681\",\"proof\":42,\"timestamp\":1629032178.368946,\"transactions\":[\"ascl,sdc,d[v,[d,vsdcaaxasx]]\",\"lv,sldc,sdc ;,d;d\"]},{\"index\":2,\"previousHash\":\"9204ca3bc9ca2716f5a0a3ed866c9fb5b15a292c0ea53bc2e3e145b94933f393\",\"proof\":22976,\"timestamp\":1629723151.057186,\"transactions\":[{\"comissionAmount\":1.0,\"contract\":null,\"price\":0.0,\"recieveAmount\":null,\"recipient\":\"d32902ea13e44d3a9f905d99620d0892\",\"sendAmount\":1,\"sender\":\"z01x0000000000000000000000000000000000000000000000000000000000\",\"symbol\":\"zsh\",\"timestamp\":1629723151.043912,\"tradeTxId\":null},{\"comissionAmount\":2.0,\"contract\":\"btc\",\"price\":30000.0,\"recieveAmount\":60000.0,\"recipient\":\"z01x00daba2c45b077691c1ada65fb07f5e740e455d4463c59028b37055900\",\"sendAmount\":2.0,\"sender\":\"z01x00daba2c45b077691c1ada65fb07f5e740e455d4463c59028b37055900\",\"symbol\":\"btc/usdt\",\"timestamp\":1629723151.057158,\"tradeTxId\":\"8e85b87e9298b3d39259884f5edc56eb516ec865d96333783cc2c4e6cc53f22e\"},{\"comissionAmount\":2.0,\"contract\":\"usdt\",\"price\":30000.0,\"recieveAmount\":2.0,\"recipient\":\"z01x00daba2c45b077691c1ada65fb07f5e740e455d4463c59028b37055900\",\"sendAmount\":60000.0,\"sender\":\"z01x00daba2c45b077691c1ada65fb07f5e740e455d4463c59028b37055900\",\"symbol\":\"btc/usdt\",\"timestamp\":1629723151.057167,\"tradeTxId\":\"ff4f6d0db4cb0753f60e402dbfa9e8595c983fe03906a695d904966f8b99b3b8\"}]},{\"index\":3,\"previousHash\":\"49c4fa4aada5dec35ce6f03f9de1465628b9513738ce8d3dd1f18cb17d0f2a8f\",\"proof\":119240,\"timestamp\":1629723377.440542,\"transactions\":[{\"comissionAmount\":1.0,\"contract\":null,\"price\":0.0,\"recieveAmount\":null,\"recipient\":\"895cc4a0852d41a9a9c4f7f0ad55d296\",\"sendAmount\":1,\"sender\":\"z01x0000000000000000000000000000000000000000000000000000000000\",\"symbol\":\"zsh\",\"timestamp\":1629723377.434202,\"tradeTxId\":null},{\"comissionAmount\":2.0,\"contract\":\"btc\",\"price\":3.0,\"recieveAmount\":6.0,\"recipient\":\"z01x0011c451ec98668981d667349895f26de90940f0b55a2843eabab0ebc7\",\"sendAmount\":2.0,\"sender\":\"z01x0011c451ec98668981d667349895f26de90940f0b55a2843eabab0ebc7\",\"symbol\":\"btc/usdt\",\"timestamp\":1629723377.440518,\"tradeTxId\":\"fb7456550faa82f198c6026e488ce59602ae9a013ad08fa808e2b6bdff76e856\"},{\"comissionAmount\":2.0,\"contract\":\"usdt\",\"price\":3.0,\"recieveAmount\":2.0,\"recipient\":\"z01x0011c451ec98668981d667349895f26de90940f0b55a2843eabab0ebc7\",\"sendAmount\":6.0,\"sender\":\"z01x0011c451ec98668981d667349895f26de90940f0b55a2843eabab0ebc7\",\"symbol\":\"btc/usdt\",\"timestamp\":1629723377.440526,\"tradeTxId\":\"43fd5abe90609c230698a44803fd474eb96d75e401a35133f039d6976fc34555\"}]}],\"length\":3}\\n'"
      ]
     },
     "execution_count": 274,
     "metadata": {},
     "output_type": "execute_result"
    }
   ],
   "source": [
    "chain = requests.get(host+'/chain').content\n",
    "chain"
   ]
  },
  {
   "cell_type": "markdown",
   "metadata": {},
   "source": [
    "### NODE 1"
   ]
  },
  {
   "cell_type": "code",
   "execution_count": 71,
   "metadata": {},
   "outputs": [],
   "source": [
    "# host1 = 'http://0.0.0.0:5001'\n",
    "host1 = 'http://178.176.120.241:5000'"
   ]
  },
  {
   "cell_type": "code",
   "execution_count": 74,
   "metadata": {},
   "outputs": [
    {
     "data": {
      "text/plain": [
       "b'{\"ADDRESS\":\"z01x001ddb88cc07c6d9179c51b370128d07109a650cba29c5889c078e6bb0\"}\\n'"
      ]
     },
     "execution_count": 74,
     "metadata": {},
     "output_type": "execute_result"
    }
   ],
   "source": [
    "wallet1 = requests.post(host1+'/wallet/new', json={'password': 'lalalend'}).content\n",
    "wallet1"
   ]
  },
  {
   "cell_type": "code",
   "execution_count": 266,
   "metadata": {},
   "outputs": [
    {
     "data": {
      "text/plain": [
       "b'{\"ADDRESS\":\"z01x0011c451ec98668981d667349895f26de90940f0b55a2843eabab0ebc7\",\"MSG\":true}\\n'"
      ]
     },
     "execution_count": 266,
     "metadata": {},
     "output_type": "execute_result"
    }
   ],
   "source": [
    "login1 = requests.post(host1+'/wallet/login', json={'password': 'lalalend'}).content\n",
    "login1"
   ]
  },
  {
   "cell_type": "code",
   "execution_count": 267,
   "metadata": {},
   "outputs": [
    {
     "data": {
      "text/plain": [
       "b'{\"MSG\":[3,\"Tx pool synced among 1 nodes\"]}\\n'"
      ]
     },
     "execution_count": 267,
     "metadata": {},
     "output_type": "execute_result"
    }
   ],
   "source": [
    "tradeTx1 = {\n",
    "    'type': 'trade',\n",
    "    'sender': json.loads(login1)['ADDRESS'],\n",
    "    'symbol': 'btc/usdt',\n",
    "    'price': 3.0,\n",
    "    'send': 'btc',\n",
    "    'sendVol': 2.0,\n",
    "    'get': 'usdt',\n",
    "    'getVol': 6.0,\n",
    "    'comissionAmount':2\n",
    "}\n",
    "\n",
    "txReq1 = requests.post(host1+'/transactions/new', json=tradeTx1).content\n",
    "txReq1"
   ]
  },
  {
   "cell_type": "code",
   "execution_count": 268,
   "metadata": {},
   "outputs": [
    {
     "data": {
      "text/plain": [
       "b'{\"MSG\":[3,\"Tx pool synced among 1 nodes\"]}\\n'"
      ]
     },
     "execution_count": 268,
     "metadata": {},
     "output_type": "execute_result"
    }
   ],
   "source": [
    "tradeTx1 = {\n",
    "    'type': 'trade',\n",
    "    'sender': json.loads(login1)['ADDRESS'],\n",
    "    'symbol': 'btc/usdt',\n",
    "    'price': 3.0,\n",
    "    'send': 'usdt',\n",
    "    'sendVol': 6.0,\n",
    "    'get': 'btc',\n",
    "    'getVol': 2.0,\n",
    "    'comissionAmount':2\n",
    "}\n",
    "\n",
    "txReq1 = requests.post(host1+'/transactions/new', json=tradeTx1).content\n",
    "txReq1"
   ]
  },
  {
   "cell_type": "code",
   "execution_count": 72,
   "metadata": {},
   "outputs": [
    {
     "data": {
      "text/plain": [
       "b'{\"tradeOrders\":[{\"comissionAmount\":2.0,\"get\":\"usdt\",\"getVol\":49010.0,\"price\":49010.0,\"send\":\"btc\",\"sendVol\":1.0,\"sender\":\"z01x0030dfc2c4736a6ecaa2362cb65f7fb313934b33283f51caa765e3745e\",\"symbol\":\"btc/usdt\",\"timestamp\":1629785450.250563,\"tradeTxId\":\"097e6811fd1bb472cf2acc15bbcf773e224b10cf4c5a814201075b48eb455a1e\"},{\"comissionAmount\":2.0,\"get\":\"usdt\",\"getVol\":49020.0,\"price\":49020.0,\"send\":\"btc\",\"sendVol\":1.0,\"sender\":\"z01x0030dfc2c4736a6ecaa2362cb65f7fb313934b33283f51caa765e3745e\",\"symbol\":\"btc/usdt\",\"timestamp\":1629785451.023485,\"tradeTxId\":\"c31a89faee68430c5dbc117c60d35a45080e842b591b76a80e1fe1d32376f628\"},{\"comissionAmount\":2.0,\"get\":\"usdt\",\"getVol\":49030.0,\"price\":49030.0,\"send\":\"btc\",\"sendVol\":1.0,\"sender\":\"z01x0030dfc2c4736a6ecaa2362cb65f7fb313934b33283f51caa765e3745e\",\"symbol\":\"btc/usdt\",\"timestamp\":1629785451.748514,\"tradeTxId\":\"ba171caf3e650036595ee8432cb0627ceb1c2c0267fb03f9ac4a0218ac2679eb\"},{\"comissionAmount\":2.0,\"get\":\"btc\",\"getVol\":1.0,\"price\":48980.0,\"send\":\"usdt\",\"sendVol\":48980.0,\"sender\":\"z01x0030dfc2c4736a6ecaa2362cb65f7fb313934b33283f51caa765e3745e\",\"symbol\":\"btc/usdt\",\"timestamp\":1629785456.066063,\"tradeTxId\":\"5c63a413cbe72d73bdb4f6f59bbd157a6ada4bad4c829f7214a3d156b90e27d0\"},{\"comissionAmount\":2.0,\"get\":\"btc\",\"getVol\":1.0,\"price\":48970.0,\"send\":\"usdt\",\"sendVol\":48970.0,\"sender\":\"z01x0030dfc2c4736a6ecaa2362cb65f7fb313934b33283f51caa765e3745e\",\"symbol\":\"btc/usdt\",\"timestamp\":1629785456.808713,\"tradeTxId\":\"38d302fce84d1f625b169a13c6291864e18115cd8cc16ef48ead3dc6ef034e0a\"},{\"comissionAmount\":2.0,\"get\":\"btc\",\"getVol\":1.0,\"price\":48960.0,\"send\":\"usdt\",\"sendVol\":48960.0,\"sender\":\"z01x0030dfc2c4736a6ecaa2362cb65f7fb313934b33283f51caa765e3745e\",\"symbol\":\"btc/usdt\",\"timestamp\":1629785457.525857,\"tradeTxId\":\"bdc50ed2c308e3f46734c124ac5634b0b0b5bd73c4cb8f6392f71a587f7e9d83\"}]}\\n'"
      ]
     },
     "execution_count": 72,
     "metadata": {},
     "output_type": "execute_result"
    }
   ],
   "source": [
    "ordersPool1 = requests.get(host1+'/getTradeOrders').content\n",
    "ordersPool1"
   ]
  },
  {
   "cell_type": "code",
   "execution_count": 272,
   "metadata": {},
   "outputs": [
    {
     "data": {
      "text/plain": [
       "b'{\"index\":3,\"message\":\"New Block Forged\",\"pool_syncing\":\"Tx pool synced among 1 nodes\",\"previous_hash\":\"49c4fa4aada5dec35ce6f03f9de1465628b9513738ce8d3dd1f18cb17d0f2a8f\",\"proof\":119240,\"transactions\":[{\"comissionAmount\":1.0,\"contract\":null,\"price\":0.0,\"recieveAmount\":null,\"recipient\":\"895cc4a0852d41a9a9c4f7f0ad55d296\",\"sendAmount\":1,\"sender\":\"z01x0000000000000000000000000000000000000000000000000000000000\",\"symbol\":\"zsh\",\"timestamp\":1629723377.434202,\"tradeTxId\":null},{\"comissionAmount\":2.0,\"contract\":\"btc\",\"price\":3.0,\"recieveAmount\":6.0,\"recipient\":\"z01x0011c451ec98668981d667349895f26de90940f0b55a2843eabab0ebc7\",\"sendAmount\":2.0,\"sender\":\"z01x0011c451ec98668981d667349895f26de90940f0b55a2843eabab0ebc7\",\"symbol\":\"btc/usdt\",\"timestamp\":1629723377.440518,\"tradeTxId\":\"fb7456550faa82f198c6026e488ce59602ae9a013ad08fa808e2b6bdff76e856\"},{\"comissionAmount\":2.0,\"contract\":\"usdt\",\"price\":3.0,\"recieveAmount\":2.0,\"recipient\":\"z01x0011c451ec98668981d667349895f26de90940f0b55a2843eabab0ebc7\",\"sendAmount\":6.0,\"sender\":\"z01x0011c451ec98668981d667349895f26de90940f0b55a2843eabab0ebc7\",\"symbol\":\"btc/usdt\",\"timestamp\":1629723377.440526,\"tradeTxId\":\"43fd5abe90609c230698a44803fd474eb96d75e401a35133f039d6976fc34555\"}]}\\n'"
      ]
     },
     "execution_count": 272,
     "metadata": {},
     "output_type": "execute_result"
    }
   ],
   "source": [
    "mineReq1 = requests.get(host1+'/mine').content\n",
    "mineReq1"
   ]
  },
  {
   "cell_type": "code",
   "execution_count": 177,
   "metadata": {},
   "outputs": [
    {
     "data": {
      "text/plain": [
       "b'{\"txPool\":[]}\\n'"
      ]
     },
     "execution_count": 177,
     "metadata": {},
     "output_type": "execute_result"
    }
   ],
   "source": [
    "txPool1 = requests.get(host1+'/getTxPool').content\n",
    "txPool1"
   ]
  },
  {
   "cell_type": "code",
   "execution_count": 273,
   "metadata": {},
   "outputs": [
    {
     "data": {
      "text/plain": [
       "b'{\"chain\":[{\"index\":1,\"previousHash\":\"9c3b78de7eb0066418a682aec7d0e6841cd5cbe70d71ae65309d4917cd1c5681\",\"proof\":42,\"timestamp\":1629032178.368946,\"transactions\":[\"ascl,sdc,d[v,[d,vsdcaaxasx]]\",\"lv,sldc,sdc ;,d;d\"]},{\"index\":2,\"previousHash\":\"9204ca3bc9ca2716f5a0a3ed866c9fb5b15a292c0ea53bc2e3e145b94933f393\",\"proof\":22976,\"timestamp\":1629723151.057186,\"transactions\":[{\"comissionAmount\":1.0,\"contract\":null,\"price\":0.0,\"recieveAmount\":null,\"recipient\":\"d32902ea13e44d3a9f905d99620d0892\",\"sendAmount\":1,\"sender\":\"z01x0000000000000000000000000000000000000000000000000000000000\",\"symbol\":\"zsh\",\"timestamp\":1629723151.043912,\"tradeTxId\":null},{\"comissionAmount\":2.0,\"contract\":\"btc\",\"price\":30000.0,\"recieveAmount\":60000.0,\"recipient\":\"z01x00daba2c45b077691c1ada65fb07f5e740e455d4463c59028b37055900\",\"sendAmount\":2.0,\"sender\":\"z01x00daba2c45b077691c1ada65fb07f5e740e455d4463c59028b37055900\",\"symbol\":\"btc/usdt\",\"timestamp\":1629723151.057158,\"tradeTxId\":\"8e85b87e9298b3d39259884f5edc56eb516ec865d96333783cc2c4e6cc53f22e\"},{\"comissionAmount\":2.0,\"contract\":\"usdt\",\"price\":30000.0,\"recieveAmount\":2.0,\"recipient\":\"z01x00daba2c45b077691c1ada65fb07f5e740e455d4463c59028b37055900\",\"sendAmount\":60000.0,\"sender\":\"z01x00daba2c45b077691c1ada65fb07f5e740e455d4463c59028b37055900\",\"symbol\":\"btc/usdt\",\"timestamp\":1629723151.057167,\"tradeTxId\":\"ff4f6d0db4cb0753f60e402dbfa9e8595c983fe03906a695d904966f8b99b3b8\"}]},{\"index\":3,\"previousHash\":\"49c4fa4aada5dec35ce6f03f9de1465628b9513738ce8d3dd1f18cb17d0f2a8f\",\"proof\":119240,\"timestamp\":1629723377.440542,\"transactions\":[{\"comissionAmount\":1.0,\"contract\":null,\"price\":0.0,\"recieveAmount\":null,\"recipient\":\"895cc4a0852d41a9a9c4f7f0ad55d296\",\"sendAmount\":1,\"sender\":\"z01x0000000000000000000000000000000000000000000000000000000000\",\"symbol\":\"zsh\",\"timestamp\":1629723377.434202,\"tradeTxId\":null},{\"comissionAmount\":2.0,\"contract\":\"btc\",\"price\":3.0,\"recieveAmount\":6.0,\"recipient\":\"z01x0011c451ec98668981d667349895f26de90940f0b55a2843eabab0ebc7\",\"sendAmount\":2.0,\"sender\":\"z01x0011c451ec98668981d667349895f26de90940f0b55a2843eabab0ebc7\",\"symbol\":\"btc/usdt\",\"timestamp\":1629723377.440518,\"tradeTxId\":\"fb7456550faa82f198c6026e488ce59602ae9a013ad08fa808e2b6bdff76e856\"},{\"comissionAmount\":2.0,\"contract\":\"usdt\",\"price\":3.0,\"recieveAmount\":2.0,\"recipient\":\"z01x0011c451ec98668981d667349895f26de90940f0b55a2843eabab0ebc7\",\"sendAmount\":6.0,\"sender\":\"z01x0011c451ec98668981d667349895f26de90940f0b55a2843eabab0ebc7\",\"symbol\":\"btc/usdt\",\"timestamp\":1629723377.440526,\"tradeTxId\":\"43fd5abe90609c230698a44803fd474eb96d75e401a35133f039d6976fc34555\"}]}],\"length\":3}\\n'"
      ]
     },
     "execution_count": 273,
     "metadata": {},
     "output_type": "execute_result"
    }
   ],
   "source": [
    "chain1 = requests.get(host1+'/chain').content\n",
    "chain1"
   ]
  },
  {
   "cell_type": "code",
   "execution_count": null,
   "metadata": {},
   "outputs": [],
   "source": []
  }
 ],
 "metadata": {
  "kernelspec": {
   "display_name": "Python 3",
   "language": "python",
   "name": "python3"
  },
  "language_info": {
   "codemirror_mode": {
    "name": "ipython",
    "version": 3
   },
   "file_extension": ".py",
   "mimetype": "text/x-python",
   "name": "python",
   "nbconvert_exporter": "python",
   "pygments_lexer": "ipython3",
   "version": "3.7.2"
  }
 },
 "nbformat": 4,
 "nbformat_minor": 2
}

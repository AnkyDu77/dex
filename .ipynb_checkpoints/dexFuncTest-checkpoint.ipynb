{
 "cells": [
  {
   "cell_type": "markdown",
   "metadata": {},
   "source": [
    "# DEX Functions"
   ]
  },
  {
   "cell_type": "code",
   "execution_count": 20,
   "metadata": {},
   "outputs": [],
   "source": [
    "import os\n",
    "import re\n",
    "import sys\n",
    "import hashlib\n",
    "import requests\n",
    "import json\n",
    "from time import time\n",
    "from operator import itemgetter\n",
    "from datetime import datetime, timezone\n",
    "\n",
    "from config import Config\n",
    "\n",
    "# from blockchain import Blockchain"
   ]
  },
  {
   "cell_type": "code",
   "execution_count": 22,
   "metadata": {},
   "outputs": [
    {
     "data": {
      "text/plain": [
       "[{'index': 0,\n",
       "  'timestamp': 1629032178.368786,\n",
       "  'transactions': ['ascl,sdc,d[v,[d,vsdcaaxasx]]', 'lv,sldc,sdc ;,d;d'],\n",
       "  'proof': 12,\n",
       "  'previousHash': 0},\n",
       " {'index': 1,\n",
       "  'timestamp': 1629032178.368946,\n",
       "  'transactions': ['ascl,sdc,d[v,[d,vsdcaaxasx]]', 'lv,sldc,sdc ;,d;d'],\n",
       "  'proof': 42,\n",
       "  'previousHash': '9c3b78de7eb0066418a682aec7d0e6841cd5cbe70d71ae65309d4917cd1c5681'}]"
      ]
     },
     "execution_count": 22,
     "metadata": {},
     "output_type": "execute_result"
    }
   ],
   "source": [
    "chain = []\n",
    "block1 ={\n",
    "            'index': 0,\n",
    "            'timestamp': datetime.now(timezone.utc).timestamp(),\n",
    "            'transactions': ['ascl,sdc,d[v,[d,vsdcaaxasx]]', 'lv,sldc,sdc ;,d;d'],\n",
    "            'proof': 12,\n",
    "            'previousHash': 0\n",
    "        }\n",
    "\n",
    "block2 ={\n",
    "            'index': 1,\n",
    "            'timestamp': datetime.now(timezone.utc).timestamp(),\n",
    "            'transactions': ['ascl,sdc,d[v,[d,vsdcaaxasx]]', 'lv,sldc,sdc ;,d;d'],\n",
    "            'proof': 42,\n",
    "            'previousHash': hashlib.sha256(json.dumps(block1, sort_keys=True).encode()).hexdigest()\n",
    "        }\n",
    "\n",
    "\n",
    "chain.append(block1)\n",
    "chain.append(block2)\n",
    "chain"
   ]
  },
  {
   "cell_type": "code",
   "execution_count": 23,
   "metadata": {},
   "outputs": [],
   "source": [
    "if chainSize >= 90:\n",
    "    chainJson = json.dumps(chain)\n",
    "    with open(f'./chain/{int(datetime.now(timezone.utc).timestamp())}.json', 'w') as file:\n",
    "        json.dump(chain, file)"
   ]
  },
  {
   "cell_type": "code",
   "execution_count": 26,
   "metadata": {},
   "outputs": [
    {
     "data": {
      "text/plain": [
       "[{'index': 0,\n",
       "  'timestamp': 1629030808.33522,\n",
       "  'transactions': ['ascl,sdc,d[v,[d,vsdcaaxasx]]', 'lv,sldc,sdc ;,d;d'],\n",
       "  'proof': 12,\n",
       "  'previousHash': 0},\n",
       " {'index': 1,\n",
       "  'timestamp': 1629030808.33655,\n",
       "  'transactions': ['ascl,sdc,d[v,[d,vsdcaaxasx]]', 'lv,sldc,sdc ;,d;d'],\n",
       "  'proof': 42,\n",
       "  'previousHash': 'f83a705b9b1e7a0f75259b67397e2eb801fd47c6c6cb4daac37a2d9c1634b8ed'}]"
      ]
     },
     "execution_count": 26,
     "metadata": {},
     "output_type": "execute_result"
    }
   ],
   "source": [
    "with open('./chain/1629031331.json', 'r') as chainFile:\n",
    "    loadedChain = json.load(chainFile)\n",
    "    \n",
    "loadedChain"
   ]
  },
  {
   "cell_type": "code",
   "execution_count": 27,
   "metadata": {},
   "outputs": [
    {
     "data": {
      "text/plain": [
       "[{'index': 1,\n",
       "  'timestamp': 1629030808.33655,\n",
       "  'transactions': ['ascl,sdc,d[v,[d,vsdcaaxasx]]', 'lv,sldc,sdc ;,d;d'],\n",
       "  'proof': 42,\n",
       "  'previousHash': 'f83a705b9b1e7a0f75259b67397e2eb801fd47c6c6cb4daac37a2d9c1634b8ed'}]"
      ]
     },
     "execution_count": 27,
     "metadata": {},
     "output_type": "execute_result"
    }
   ],
   "source": [
    "loadedChain = [loadedChain[-1]]\n",
    "loadedChain"
   ]
  },
  {
   "cell_type": "code",
   "execution_count": 40,
   "metadata": {},
   "outputs": [
    {
     "data": {
      "text/plain": [
       "['1629031331.json', '1629032179.json']"
      ]
     },
     "execution_count": 40,
     "metadata": {},
     "output_type": "execute_result"
    }
   ],
   "source": [
    "chainFiles = os.listdir('./chain')\n",
    "chainFiles = [file for file in chainFiles if re.split(r'\\.', file)[1] == 'json']\n",
    "chainFiles"
   ]
  },
  {
   "cell_type": "code",
   "execution_count": 39,
   "metadata": {},
   "outputs": [
    {
     "data": {
      "text/plain": [
       "[]"
      ]
     },
     "execution_count": 39,
     "metadata": {},
     "output_type": "execute_result"
    }
   ],
   "source": [
    "chainFiles = []\n",
    "chainFiles = [file for file in chainFiles if re.split(r'\\.', file)[1] == 'json']\n",
    "chainFiles"
   ]
  },
  {
   "cell_type": "code",
   "execution_count": 33,
   "metadata": {},
   "outputs": [
    {
     "name": "stdout",
     "output_type": "stream",
     "text": [
      "not a mac\n",
      "you good\n"
     ]
    }
   ],
   "source": [
    "try:\n",
    "    chainFiles.remove('1')\n",
    "except:\n",
    "    print('not a mac')\n",
    "print('you good')"
   ]
  },
  {
   "cell_type": "code",
   "execution_count": 28,
   "metadata": {},
   "outputs": [
    {
     "data": {
      "text/plain": [
       "[{'index': 1,\n",
       "  'timestamp': 1629032178.368946,\n",
       "  'transactions': ['ascl,sdc,d[v,[d,vsdcaaxasx]]', 'lv,sldc,sdc ;,d;d'],\n",
       "  'proof': 42,\n",
       "  'previousHash': '9c3b78de7eb0066418a682aec7d0e6841cd5cbe70d71ae65309d4917cd1c5681'}]"
      ]
     },
     "execution_count": 28,
     "metadata": {},
     "output_type": "execute_result"
    }
   ],
   "source": [
    "with open(f'./chain/{chainFiles[-1]}', 'r') as file:\n",
    "    chainWithLastBlock = [json.load(file)[-1]]\n",
    "    \n",
    "chainWithLastBlock"
   ]
  },
  {
   "cell_type": "code",
   "execution_count": null,
   "metadata": {},
   "outputs": [],
   "source": []
  },
  {
   "cell_type": "code",
   "execution_count": null,
   "metadata": {},
   "outputs": [],
   "source": []
  },
  {
   "cell_type": "code",
   "execution_count": 134,
   "metadata": {},
   "outputs": [
    {
     "data": {
      "text/plain": [
       "b'{\"msg\":\"Transaction will be added to Block 2\"}\\n'"
      ]
     },
     "execution_count": 134,
     "metadata": {},
     "output_type": "execute_result"
    }
   ],
   "source": [
    "tx = {\n",
    "    'type': 'common',\n",
    "    'symbol': 'btc',\n",
    "    'contract': 'btc',\n",
    "    'sender': 'Selderey',\n",
    "    'recipient': 'Makovka',\n",
    "    'sendAmount':6.22,\n",
    "    'comissionAmount': 3 \n",
    "}\n",
    "\n",
    "request = requests.post('http://0.0.0.0:5000/transactions/new', json=tx).content\n",
    "request"
   ]
  },
  {
   "cell_type": "code",
   "execution_count": 158,
   "metadata": {},
   "outputs": [
    {
     "data": {
      "text/plain": [
       "b'{\"txPool\":[]}\\n'"
      ]
     },
     "execution_count": 158,
     "metadata": {},
     "output_type": "execute_result"
    }
   ],
   "source": [
    "txPool = requests.get('http://0.0.0.0:5000/getTxPool').content\n",
    "txPool"
   ]
  },
  {
   "cell_type": "code",
   "execution_count": 175,
   "metadata": {},
   "outputs": [
    {
     "data": {
      "text/plain": [
       "b'{\"index\":2,\"message\":\"New Block Forged\",\"previous_hash\":\"468095a1151ef337794e03ec6ad360fcc305b24a32bd1ea01a1b0fb9267ff712\",\"proof\":35293,\"transactions\":[{\"comissionAmount\":1.0,\"contract\":null,\"price\":0.0,\"recieveAmount\":null,\"recipient\":\"6257bc266e88480cbcd6418ab0dfa39d\",\"sendAmount\":1,\"sender\":\"0\",\"symbol\":\"zsh\",\"timestamp\":1628685557.224318,\"tradeTxId\":null},{\"comissionAmount\":1.0,\"contract\":\"btc\",\"price\":30000.0,\"recieveAmount\":30000.0,\"recipient\":\"him\",\"sendAmount\":1.0,\"sender\":\"me\",\"symbol\":\"btc/usdt\",\"timestamp\":1628685557.224583,\"tradeTxId\":\"59af6324d5a53eba8a56243530ea2c25f1ca224a65eed04c0644f74e7347c38e\"},{\"comissionAmount\":0.9090909090909091,\"contract\":\"usdt\",\"price\":30000.0,\"recieveAmount\":1.0,\"recipient\":\"me\",\"sendAmount\":30000.0,\"sender\":\"him\",\"symbol\":\"btc/usdt\",\"timestamp\":1628685557.22459,\"tradeTxId\":\"f3f99e129e2e1691c7e7eeb8f0e4f1df4b5592e9f82d935f8d36f62cd3009c06\"}]}\\n'"
      ]
     },
     "execution_count": 175,
     "metadata": {},
     "output_type": "execute_result"
    }
   ],
   "source": [
    "mineRequest = requests.get('http://0.0.0.0:5000/mine').content\n",
    "mineRequest"
   ]
  },
  {
   "cell_type": "code",
   "execution_count": 173,
   "metadata": {},
   "outputs": [
    {
     "data": {
      "text/plain": [
       "b'{\"msg\":\"Transaction will be added to Block 2\"}\\n'"
      ]
     },
     "execution_count": 173,
     "metadata": {},
     "output_type": "execute_result"
    }
   ],
   "source": [
    "tradeTx = {\n",
    "    'type': 'trade',\n",
    "    'sender': 'me',\n",
    "    'symbol': 'btc/usdt',\n",
    "    'price': 30000.0,\n",
    "    'send': 'btc',\n",
    "    'sendVol': 2.0,\n",
    "    'get': 'usdt',\n",
    "    'getVol': 60000.0,\n",
    "    'comissionAmount':2\n",
    "}\n",
    "\n",
    "request = requests.post('http://0.0.0.0:5000/transactions/new', json=tradeTx).content\n",
    "request"
   ]
  },
  {
   "cell_type": "code",
   "execution_count": 174,
   "metadata": {},
   "outputs": [
    {
     "data": {
      "text/plain": [
       "b'{\"msg\":\"Transaction will be added to Block 2\"}\\n'"
      ]
     },
     "execution_count": 174,
     "metadata": {},
     "output_type": "execute_result"
    }
   ],
   "source": [
    "tradeTx = {\n",
    "    'type': 'trade',\n",
    "    'sender': 'him',\n",
    "    'symbol': 'btc/usdt',\n",
    "    'price': 33000.0,\n",
    "    'send': 'usdt',\n",
    "    'sendVol': 33000.0,\n",
    "    'get': 'btc',\n",
    "    'getVol': 1.0,\n",
    "    'comissionAmount':1\n",
    "}\n",
    "\n",
    "request = requests.post('http://0.0.0.0:5000/transactions/new', json=tradeTx).content\n",
    "request"
   ]
  },
  {
   "cell_type": "code",
   "execution_count": 176,
   "metadata": {},
   "outputs": [
    {
     "data": {
      "text/plain": [
       "b'{\"tradeOrders\":[{\"comissionAmount\":2.0,\"get\":\"usdt\",\"getVol\":30000.0,\"price\":30000.0,\"send\":\"btc\",\"sendVol\":1.0,\"sender\":\"me\",\"symbol\":\"btc/usdt\",\"timestamp\":1628685550.766065,\"tradeTxId\":\"59af6324d5a53eba8a56243530ea2c25f1ca224a65eed04c0644f74e7347c38e\"}]}\\n'"
      ]
     },
     "execution_count": 176,
     "metadata": {},
     "output_type": "execute_result"
    }
   ],
   "source": [
    "ordersPool = requests.get('http://0.0.0.0:5000/getTradeOrders').content\n",
    "ordersPool"
   ]
  },
  {
   "cell_type": "code",
   "execution_count": null,
   "metadata": {},
   "outputs": [],
   "source": []
  },
  {
   "cell_type": "markdown",
   "metadata": {},
   "source": [
    "### Orders Pool"
   ]
  },
  {
   "cell_type": "code",
   "execution_count": 53,
   "metadata": {
    "scrolled": true
   },
   "outputs": [
    {
     "data": {
      "text/plain": [
       "[{'sender': 'boy',\n",
       "  'symbol': 'btc/dai',\n",
       "  'price': 30000.0,\n",
       "  'send': 'btc',\n",
       "  'sendVol': 1.0,\n",
       "  'get': 'dai',\n",
       "  'getVol': 30000.0},\n",
       " {'sender': 'man',\n",
       "  'symbol': 'btc/dai',\n",
       "  'price': 33333.33,\n",
       "  'send': 'dai',\n",
       "  'sendVol': 15000.0,\n",
       "  'get': 'btc',\n",
       "  'getVol': 0.45},\n",
       " {'sender': 'girl',\n",
       "  'symbol': 'eth/dai',\n",
       "  'price': 2600.0,\n",
       "  'send': 'eth',\n",
       "  'sendVol': 1.0,\n",
       "  'get': 'dai',\n",
       "  'getVol': 2600.0},\n",
       " {'sender': 'woman',\n",
       "  'symbol': 'eth/dai',\n",
       "  'price': 2750.0,\n",
       "  'send': 'dai',\n",
       "  'sendVol': 1650.0,\n",
       "  'get': 'eth',\n",
       "  'getVol': 0.6},\n",
       " {'sender': 'oldlady',\n",
       "  'symbol': 'zcash/dai',\n",
       "  'price': 500.0,\n",
       "  'send': 'zcash',\n",
       "  'sendVol': 1.0,\n",
       "  'get': 'dai',\n",
       "  'getVol': 500.0},\n",
       " {'sender': 'bug',\n",
       "  'symbol': 'uni/dai',\n",
       "  'price': 24.0,\n",
       "  'send': 'uni',\n",
       "  'sendVol': 1.0,\n",
       "  'get': 'dai',\n",
       "  'getVol': 24.0},\n",
       " {'sender': 'loft',\n",
       "  'symbol': 'uni/usdt',\n",
       "  'price': 24.0,\n",
       "  'send': 'usdt',\n",
       "  'sendVol': 24.0,\n",
       "  'get': 'uni',\n",
       "  'getVol': 1.0}]"
      ]
     },
     "execution_count": 53,
     "metadata": {},
     "output_type": "execute_result"
    }
   ],
   "source": [
    "testLst = [ {\n",
    "    'sender': 'boy',\n",
    "    'symbol': 'btc/dai',\n",
    "    'price': 30000.0,\n",
    "    'send': 'btc',\n",
    "    'sendVol': 1.0,\n",
    "    'get': 'dai',\n",
    "    'getVol': 30000.0,\n",
    "   \n",
    "},\n",
    "\n",
    " {\n",
    "    'sender':'man',\n",
    "     'symbol': 'btc/dai',\n",
    "     'price': 33333.33,\n",
    "    'send': 'dai',\n",
    "    'sendVol': 15000.0,\n",
    "    'get': 'btc',\n",
    "    'getVol': 0.45,\n",
    "   \n",
    "},\n",
    "\n",
    " {\n",
    "    'sender':'girl',\n",
    "     'symbol': 'eth/dai',\n",
    "     'price': 2600.0,\n",
    "    'send': 'eth',\n",
    "    'sendVol': 1.0,\n",
    "    'get': 'dai',\n",
    "    'getVol': 2600.0,\n",
    "   \n",
    "},\n",
    "\n",
    " {\n",
    "    'sender':'woman',\n",
    "     'symbol': 'eth/dai',\n",
    "     'price': 2750.0,\n",
    "    'send': 'dai',\n",
    "    'sendVol': 1650.0,\n",
    "    'get': 'eth',\n",
    "    'getVol': 0.6,\n",
    "   \n",
    "},\n",
    "{\n",
    "    'sender':'oldlady',\n",
    "    'symbol': 'zcash/dai',\n",
    "    'price': 500.0,\n",
    "    'send': 'zcash',\n",
    "    'sendVol': 1.0,\n",
    "    'get': 'dai',\n",
    "    'getVol': 500.0,\n",
    "   \n",
    "},\n",
    "{\n",
    "    'sender':'bug',\n",
    "    'symbol': 'uni/dai',\n",
    "    'price': 24.0,\n",
    "    'send': 'uni',\n",
    "    'sendVol': 1.0,\n",
    "    'get': 'dai',\n",
    "    'getVol': 24.0,\n",
    "},\n",
    "{\n",
    "    'sender':'loft',\n",
    "    'symbol': 'uni/usdt',\n",
    "    'price': 24.0,\n",
    "    'send': 'usdt',\n",
    "    'sendVol': 24.0,\n",
    "    'get': 'uni',\n",
    "    'getVol': 1.0,\n",
    "}\n",
    "]\n",
    "\n",
    "testLst"
   ]
  },
  {
   "cell_type": "markdown",
   "metadata": {},
   "source": [
    "### Matching System"
   ]
  },
  {
   "cell_type": "code",
   "execution_count": 54,
   "metadata": {},
   "outputs": [
    {
     "data": {
      "text/plain": [
       "[('boy', 'btc/dai', 'btc', 'dai', 30000.0),\n",
       " ('man', 'btc/dai', 'dai', 'btc', 33333.33),\n",
       " ('woman', 'eth/dai', 'dai', 'eth', 2750.0),\n",
       " ('girl', 'eth/dai', 'eth', 'dai', 2600.0),\n",
       " ('bug', 'uni/dai', 'uni', 'dai', 24.0),\n",
       " ('loft', 'uni/usdt', 'usdt', 'uni', 24.0),\n",
       " ('oldlady', 'zcash/dai', 'zcash', 'dai', 500.0)]"
      ]
     },
     "execution_count": 54,
     "metadata": {},
     "output_type": "execute_result"
    }
   ],
   "source": [
    "sybmolSortedLst = sorted([(testLst[i]['sender'],testLst[i]['symbol'],testLst[i]['send'],testLst[i]['get'],\\\n",
    "                           testLst[i]['price'],)\\\n",
    "                          for i in range(len(testLst))], key=itemgetter(1, 2))\n",
    "\n",
    "sybmolSortedLst"
   ]
  },
  {
   "cell_type": "code",
   "execution_count": 55,
   "metadata": {},
   "outputs": [
    {
     "data": {
      "text/plain": [
       "[(('boy', 'btc/dai', 'btc', 'dai', 30000.0),\n",
       "  ('man', 'btc/dai', 'dai', 'btc', 33333.33)),\n",
       " (('woman', 'eth/dai', 'dai', 'eth', 2750.0),\n",
       "  ('girl', 'eth/dai', 'eth', 'dai', 2600.0))]"
      ]
     },
     "execution_count": 55,
     "metadata": {},
     "output_type": "execute_result"
    }
   ],
   "source": [
    "mathchedOrders = []\n",
    "for i in range(len(sybmolSortedLst)-1):\n",
    "    if (sybmolSortedLst[i][2] == sybmolSortedLst[i+1][3]) and (sybmolSortedLst[i][3] == sybmolSortedLst[i+1][2]) :\n",
    "        \n",
    "        # Split symbol and define direction and price matching\n",
    "        splittedSymbol1 = re.split(r'/', sybmolSortedLst[i][1])[0]\n",
    "        splittedSymbol2 = re.split(r'/', sybmolSortedLst[i+1][1])[0]\n",
    "        \n",
    "        if ((splittedSymbol1 == sybmolSortedLst[i][2] and splittedSymbol2 == sybmolSortedLst[i+1][3]) \\\n",
    "            and (sybmolSortedLst[i][-1] <= sybmolSortedLst[i+1][-1])) \\\n",
    "            or ((splittedSymbol1 == sybmolSortedLst[i][3] and splittedSymbol2 == sybmolSortedLst[i+1][2])\\\n",
    "               and (sybmolSortedLst[i][-1] >= sybmolSortedLst[i+1][-1])):\n",
    "        \n",
    "            mathchedOrders.append((sybmolSortedLst[i], sybmolSortedLst[i+1],))\n",
    "\n",
    "mathchedOrders"
   ]
  },
  {
   "cell_type": "markdown",
   "metadata": {},
   "source": [
    "### Transaction System"
   ]
  },
  {
   "cell_type": "code",
   "execution_count": 56,
   "metadata": {},
   "outputs": [
    {
     "data": {
      "text/plain": [
       "[{'timestamp': 1628673995.017817,\n",
       "  'symbol': 'btc/dai',\n",
       "  'contract': 'btc',\n",
       "  'sender': 'boy',\n",
       "  'recipient': 'man',\n",
       "  'sendAmount': 0.45,\n",
       "  'recieveAmount': 13500.0,\n",
       "  'price': 30000.0},\n",
       " {'timestamp': 1628673995.017819,\n",
       "  'symbol': 'btc/dai',\n",
       "  'contract': 'dai',\n",
       "  'sender': 'man',\n",
       "  'recipient': 'boy',\n",
       "  'sendAmount': 13500.0,\n",
       "  'recieveAmount': 0.45,\n",
       "  'price': 30000.0},\n",
       " {'timestamp': 1628673995.0178308,\n",
       "  'symbol': 'eth/dai',\n",
       "  'contract': 'eth',\n",
       "  'sender': 'girl',\n",
       "  'recipient': 'woman',\n",
       "  'sendAmount': 0.6,\n",
       "  'recieveAmount': 1560.0,\n",
       "  'price': 2600.0},\n",
       " {'timestamp': 1628673995.017832,\n",
       "  'symbol': 'eth/dai',\n",
       "  'contract': 'dai',\n",
       "  'sender': 'woman',\n",
       "  'recipient': 'girl',\n",
       "  'sendAmount': 1560.0,\n",
       "  'recieveAmount': 0.6,\n",
       "  'price': 2600.0}]"
      ]
     },
     "execution_count": 56,
     "metadata": {},
     "output_type": "execute_result"
    }
   ],
   "source": [
    "commonTxs = []\n",
    "\n",
    "# Get matched orders\n",
    "txDir = {}\n",
    "for i in range(len(mathchedOrders)):\n",
    "    tempLst = [mathchedOrders[i][0][0], mathchedOrders[i][1][0]]\n",
    "    txTempLst=[order for order in testLst if order['sender'] in tempLst]\n",
    "    txDir[f'tx_{i}'] = txTempLst\n",
    "    \n",
    "# Calculate txs amount\n",
    "txKeys = list(txDir.keys())\n",
    "for j in range(len(txKeys)):\n",
    "    tradeTxs = txDir[txKeys[j]]\n",
    "    \n",
    "    symbolSplitted = re.split(r'/', tradeTxs[0]['symbol'])[0]\n",
    "\n",
    "    if tradeTxs[0]['send'] == symbolSplitted:\n",
    "\n",
    "        tradePrice = tradeTxs[0]['price']\n",
    "        seller = tradeTxs[0]\n",
    "        buyer = tradeTxs[1]\n",
    "\n",
    "        sellSendAddress = seller['sender']\n",
    "        sellRecieveAddress = buyer['sender']\n",
    "        sellSendToken = seller['send']\n",
    "        sellSendAmount = min(seller['sendVol'], buyer['getVol'])\n",
    "\n",
    "        buySendAddress = buyer['sender']\n",
    "        buyRecieveAddress = seller['sender']\n",
    "        buySendToken = seller['get']\n",
    "        buySendAmount = sellSendAmount*tradePrice\n",
    "\n",
    "        tradeSellTx = {\n",
    "            'timestamp': time(),\n",
    "            'symbol': seller['symbol'],\n",
    "            'contract': symbolSplitted,\n",
    "            'sender': sellSendAddress,\n",
    "            'recipient': buySendAddress,\n",
    "            'sendAmount': sellSendAmount,\n",
    "            'recieveAmount': buySendAmount,\n",
    "            'price': tradePrice\n",
    "        }\n",
    "\n",
    "\n",
    "        tradeBuyTx = {\n",
    "            'timestamp': time(),\n",
    "            'symbol': seller['symbol'],\n",
    "            'contract': re.split(r'/', seller['symbol'])[1],\n",
    "            'sender': buySendAddress,\n",
    "            'recipient': sellSendAddress,\n",
    "            'sendAmount': buySendAmount,\n",
    "            'recieveAmount': sellSendAmount,\n",
    "            'price': tradePrice\n",
    "        }\n",
    "        \n",
    "        # Decrease order vols; Fill (aka delete from trade pool) order if vols == 0\n",
    "        txDir[txKeys[j]][0]['sendVol'] -= sellSendAmount\n",
    "        txDir[txKeys[j]][0]['getVol'] -= buySendAmount\n",
    "        \n",
    "        txDir[txKeys[j]][1]['sendVol'] -= buySendAmount\n",
    "        txDir[txKeys[j]][1]['getVol'] -= sellSendAmount\n",
    "        \n",
    "        \n",
    "\n",
    "    elif tradeTxs[0]['get'] == symbolSplitted:\n",
    "\n",
    "        tradePrice = tradeTxs[0]['price']\n",
    "        seller = tradeTxs[1]\n",
    "        buyer = tradeTxs[0]\n",
    "\n",
    "        sellSendAddress = seller['sender']\n",
    "        sellRecieveAddress = buyer['sender']\n",
    "        sellSendToken = seller['send']\n",
    "        sellSendAmount = min(seller['sendVol'], buyer['getVol'])\n",
    "\n",
    "        buySendAddress = buyer['sender']\n",
    "        buyRecieveAddress = seller['sender']\n",
    "        buySendToken = seller['get']\n",
    "        buySendAmount = sellSendAmount*tradePrice\n",
    "\n",
    "        tradeSellTx = {\n",
    "            'timestamp': time(),\n",
    "            'symbol': seller['symbol'],\n",
    "            'contract': symbolSplitted,\n",
    "            'sender': sellSendAddress,\n",
    "            'recipient': buySendAddress,\n",
    "            'sendAmount': sellSendAmount,\n",
    "            'recieveAmount': buySendAmount,\n",
    "            'price': tradePrice\n",
    "        }\n",
    "\n",
    "\n",
    "        tradeBuyTx = {\n",
    "            'timestamp': time(),\n",
    "            'symbol': seller['symbol'],\n",
    "            'contract': re.split(r'/', seller['symbol'])[1],\n",
    "            'sender': buySendAddress,\n",
    "            'recipient': sellSendAddress,\n",
    "            'sendAmount': buySendAmount,\n",
    "            'recieveAmount': sellSendAmount,\n",
    "            'price': tradePrice\n",
    "        }\n",
    "        \n",
    "        # Decrease order vols; Fill (aka delete from trade pool) order if vols == 0\n",
    "        txDir[txKeys[j]][1]['sendVol'] -= sellSendAmount\n",
    "        txDir[txKeys[j]][1]['getVol'] -= buySendAmount\n",
    "        \n",
    "        txDir[txKeys[j]][0]['sendVol'] -= buySendAmount\n",
    "        txDir[txKeys[j]][0]['getVol'] -= sellSendAmount\n",
    "                 \n",
    "       \n",
    "    # Form tx and send it to common pool\n",
    "    commonTxs.append(tradeSellTx)\n",
    "    commonTxs.append(tradeBuyTx)\n",
    "    \n",
    "# Remove zero getVol transactions from tradeTxs pool  \n",
    "txDirKeys = list(txDir.keys())\n",
    "toRemove = []\n",
    "\n",
    "for key in txDirKeys:\n",
    "    toRemoveTemp = [order for i,order in enumerate(txDir[key]) if order['getVol']==0]\n",
    "    if len(toRemoveTemp) > 0:\n",
    "        toRemove.append(toRemoveTemp[0])\n",
    "\n",
    "for removeOrder in toRemove:\n",
    "    testLst.remove(removeOrder)\n",
    "\n",
    "commonTxs\n"
   ]
  },
  {
   "cell_type": "code",
   "execution_count": 32,
   "metadata": {},
   "outputs": [
    {
     "data": {
      "text/plain": [
       "{'tx_0': [{'sender': 'boy',\n",
       "   'symbol': 'btc/dai',\n",
       "   'price': 30000.0,\n",
       "   'send': 'btc',\n",
       "   'sendVol': 0.55,\n",
       "   'get': 'dai',\n",
       "   'getVol': 16500.0},\n",
       "  {'sender': 'man',\n",
       "   'symbol': 'btc/dai',\n",
       "   'price': 33333.33,\n",
       "   'send': 'dai',\n",
       "   'sendVol': 1500.0,\n",
       "   'get': 'btc',\n",
       "   'getVol': 0.0}],\n",
       " 'tx_1': [{'sender': 'girl',\n",
       "   'symbol': 'eth/dai',\n",
       "   'price': 2600.0,\n",
       "   'send': 'eth',\n",
       "   'sendVol': 0.4,\n",
       "   'get': 'dai',\n",
       "   'getVol': 1040.0},\n",
       "  {'sender': 'woman',\n",
       "   'symbol': 'eth/dai',\n",
       "   'price': 2750.0,\n",
       "   'send': 'dai',\n",
       "   'sendVol': 90.0,\n",
       "   'get': 'eth',\n",
       "   'getVol': 0.0}]}"
      ]
     },
     "execution_count": 32,
     "metadata": {},
     "output_type": "execute_result"
    }
   ],
   "source": [
    "txDir"
   ]
  },
  {
   "cell_type": "code",
   "execution_count": 57,
   "metadata": {},
   "outputs": [
    {
     "data": {
      "text/plain": [
       "[{'sender': 'boy',\n",
       "  'symbol': 'btc/dai',\n",
       "  'price': 30000.0,\n",
       "  'send': 'btc',\n",
       "  'sendVol': 0.55,\n",
       "  'get': 'dai',\n",
       "  'getVol': 16500.0},\n",
       " {'sender': 'girl',\n",
       "  'symbol': 'eth/dai',\n",
       "  'price': 2600.0,\n",
       "  'send': 'eth',\n",
       "  'sendVol': 0.4,\n",
       "  'get': 'dai',\n",
       "  'getVol': 1040.0},\n",
       " {'sender': 'oldlady',\n",
       "  'symbol': 'zcash/dai',\n",
       "  'price': 500.0,\n",
       "  'send': 'zcash',\n",
       "  'sendVol': 1.0,\n",
       "  'get': 'dai',\n",
       "  'getVol': 500.0},\n",
       " {'sender': 'bug',\n",
       "  'symbol': 'uni/dai',\n",
       "  'price': 24.0,\n",
       "  'send': 'uni',\n",
       "  'sendVol': 1.0,\n",
       "  'get': 'dai',\n",
       "  'getVol': 24.0},\n",
       " {'sender': 'loft',\n",
       "  'symbol': 'uni/usdt',\n",
       "  'price': 24.0,\n",
       "  'send': 'usdt',\n",
       "  'sendVol': 24.0,\n",
       "  'get': 'uni',\n",
       "  'getVol': 1.0}]"
      ]
     },
     "execution_count": 57,
     "metadata": {},
     "output_type": "execute_result"
    }
   ],
   "source": [
    "testLst"
   ]
  },
  {
   "cell_type": "code",
   "execution_count": null,
   "metadata": {},
   "outputs": [],
   "source": [
    "for tx in txDir:\n",
    "\n",
    "    toRemove = [order for i,order in enumerate(tx) if order['getVol']==0]\n",
    "\n",
    "    for removeDict in toRemove:\n",
    "        aList.remove(removeDict)\n",
    "\n",
    "    aList"
   ]
  },
  {
   "cell_type": "code",
   "execution_count": 18,
   "metadata": {},
   "outputs": [
    {
     "data": {
      "text/plain": [
       "[{'id': 'boy',\n",
       "  'symbol': 'btc/dai',\n",
       "  'price': 30000.0,\n",
       "  'send': 'btc',\n",
       "  'sendVol': 0.55,\n",
       "  'get': 'dai',\n",
       "  'getVol': 16500.0},\n",
       " {'id': 'girl',\n",
       "  'symbol': 'eth/dai',\n",
       "  'price': 2600.0,\n",
       "  'send': 'eth',\n",
       "  'sendVol': 0.4,\n",
       "  'get': 'dai',\n",
       "  'getVol': 1040.0},\n",
       " {'id': 'oldlady',\n",
       "  'symbol': 'zcash/dai',\n",
       "  'price': 500.0,\n",
       "  'send': 'zcash',\n",
       "  'sendVol': 1.0,\n",
       "  'get': 'dai',\n",
       "  'getVol': 500.0},\n",
       " {'id': 'bug',\n",
       "  'symbol': 'uni/dai',\n",
       "  'price': 24.0,\n",
       "  'send': 'uni',\n",
       "  'sendVol': 1.0,\n",
       "  'get': 'dai',\n",
       "  'getVol': 24.0},\n",
       " {'id': 'loft',\n",
       "  'symbol': 'uni/usdt',\n",
       "  'price': 24.0,\n",
       "  'send': 'usdt',\n",
       "  'sendVol': 24.0,\n",
       "  'get': 'uni',\n",
       "  'getVol': 1.0}]"
      ]
     },
     "execution_count": 18,
     "metadata": {},
     "output_type": "execute_result"
    }
   ],
   "source": [
    "txDirKeys = list(txDir.keys())\n",
    "toRemove = []\n",
    "\n",
    "for key in txDirKeys:\n",
    "    toRemoveTemp = [order for i,order in enumerate(txDir[key]) if order['getVol']==0]\n",
    "    toRemove.append(toRemoveTemp[0])\n",
    "\n",
    "for removeOrder in toRemove:\n",
    "    testLst.remove(removeOrder)\n",
    "    \n",
    "testLst"
   ]
  },
  {
   "cell_type": "code",
   "execution_count": null,
   "metadata": {},
   "outputs": [],
   "source": []
  },
  {
   "cell_type": "code",
   "execution_count": 7,
   "metadata": {},
   "outputs": [
    {
     "data": {
      "text/plain": [
       "{'timestamp': 1628665190.98132,\n",
       " 'symbol': 'eth/dai',\n",
       " 'contract': 'dai',\n",
       " 'sender': 'woman',\n",
       " 'receiver': 'girl',\n",
       " 'sentAmount': 1560.0,\n",
       " 'recieveAmount': 0.6,\n",
       " 'price': 2600.0}"
      ]
     },
     "execution_count": 7,
     "metadata": {},
     "output_type": "execute_result"
    }
   ],
   "source": [
    "tradeBuyTx"
   ]
  },
  {
   "cell_type": "code",
   "execution_count": 8,
   "metadata": {},
   "outputs": [
    {
     "data": {
      "text/plain": [
       "{'timestamp': 1628418258.835157,\n",
       " 'symbol': 'eth/dai',\n",
       " 'contract': 'eth',\n",
       " 'sender': 'girl',\n",
       " 'receiver': 'woman',\n",
       " 'sentAmount': 0.0,\n",
       " 'recieveAmount': 0.0,\n",
       " 'price': 2600.0}"
      ]
     },
     "execution_count": 8,
     "metadata": {},
     "output_type": "execute_result"
    }
   ],
   "source": [
    "tradeSellTx"
   ]
  },
  {
   "cell_type": "code",
   "execution_count": null,
   "metadata": {},
   "outputs": [],
   "source": []
  },
  {
   "cell_type": "code",
   "execution_count": 111,
   "metadata": {},
   "outputs": [
    {
     "data": {
      "text/plain": [
       "{'tx_0': [{'id': 'boy',\n",
       "   'symbol': 'btc/dai',\n",
       "   'price': 30000.0,\n",
       "   'send': 'btc',\n",
       "   'sendVol': 1.0,\n",
       "   'get': 'dai',\n",
       "   'getVol': 30000.0},\n",
       "  {'id': 'man',\n",
       "   'symbol': 'btc/dai',\n",
       "   'price': 33333.33,\n",
       "   'send': 'dai',\n",
       "   'sendVol': 15000.0,\n",
       "   'get': 'btc',\n",
       "   'getVol': 0.45}],\n",
       " 'tx_1': [{'id': 'girl',\n",
       "   'symbol': 'eth/dai',\n",
       "   'price': 2600.0,\n",
       "   'send': 'eth',\n",
       "   'sendVol': 1.0,\n",
       "   'get': 'dai',\n",
       "   'getVol': 2600.0},\n",
       "  {'id': 'woman',\n",
       "   'symbol': 'eth/dai',\n",
       "   'price': 2750.0,\n",
       "   'send': 'dai',\n",
       "   'sendVol': 1650.0,\n",
       "   'get': 'eth',\n",
       "   'getVol': 0.6}]}"
      ]
     },
     "execution_count": 111,
     "metadata": {},
     "output_type": "execute_result"
    }
   ],
   "source": [
    "txDir = {}\n",
    "for i in range(len(mathchedOrders)):\n",
    "    tempLst = [mathchedOrders[i][0][0], mathchedOrders[i][1][0]]\n",
    "    txTempLst=[order for order in testLst if order['id'] in tempLst]\n",
    "    txDir[f'tx_{i}'] = txTempLst\n",
    "\n",
    "txDir"
   ]
  },
  {
   "cell_type": "code",
   "execution_count": 112,
   "metadata": {},
   "outputs": [
    {
     "data": {
      "text/plain": [
       "[{'id': 'girl',\n",
       "  'symbol': 'eth/dai',\n",
       "  'price': 2600.0,\n",
       "  'send': 'eth',\n",
       "  'sendVol': 1.0,\n",
       "  'get': 'dai',\n",
       "  'getVol': 2600.0},\n",
       " {'id': 'woman',\n",
       "  'symbol': 'eth/dai',\n",
       "  'price': 2750.0,\n",
       "  'send': 'dai',\n",
       "  'sendVol': 1650.0,\n",
       "  'get': 'eth',\n",
       "  'getVol': 0.6}]"
      ]
     },
     "execution_count": 112,
     "metadata": {},
     "output_type": "execute_result"
    }
   ],
   "source": [
    "txKeys = list(txDir.keys())\n",
    "firstTx = txDir[txKeys[1]]\n",
    "firstTx"
   ]
  },
  {
   "cell_type": "code",
   "execution_count": 113,
   "metadata": {},
   "outputs": [
    {
     "data": {
      "text/plain": [
       "{'timestamp': 1628253892.8598552,\n",
       " 'symbol': 'eth/dai',\n",
       " 'contract': 'eth',\n",
       " 'sender': 'girl',\n",
       " 'receiver': 'woman',\n",
       " 'sentAmount': 0.6,\n",
       " 'recieveAmount': 1560.0,\n",
       " 'price': 2600.0}"
      ]
     },
     "execution_count": 113,
     "metadata": {},
     "output_type": "execute_result"
    }
   ],
   "source": [
    "symbolSplitted = re.split(r'/', firstTx[0]['symbol'])[0]\n",
    "\n",
    "if firstTx[0]['send'] == symbolSplitted:\n",
    "    \n",
    "    tradePrice = firstTx[0]['price']\n",
    "    seller = firstTx[0]\n",
    "    buyer = firstTx[1]\n",
    "    \n",
    "    sellSendAddress = seller['id']\n",
    "    sellRecieveAddress = buyer['id']\n",
    "    sellSendToken = seller['send']\n",
    "    sellSendAmount = min(seller['sendVol'], buyer['getVol'])\n",
    "    \n",
    "    buySendAddress = buyer['id']\n",
    "    buyRecieveAddress = seller['id']\n",
    "    buySendToken = seller['get']\n",
    "    buySendAmount = sellSendAmount*tradePrice\n",
    "    \n",
    "    tradeSellTx = {\n",
    "        'timestamp': time(),\n",
    "        'symbol': seller['symbol'],\n",
    "        'contract': symbolSplitted,\n",
    "        'sender': sellSendAddress,\n",
    "        'receiver': buySendAddress,\n",
    "        'sentAmount': sellSendAmount,\n",
    "        'recieveAmount': buySendAmount,\n",
    "        'price': tradePrice\n",
    "    }\n",
    "    \n",
    "    \n",
    "    tradeBuyTx = {\n",
    "        'timestamp': time(),\n",
    "        'symbol': seller['symbol'],\n",
    "        'contract': re.split(r'/', seller['symbol'])[1],\n",
    "        'sender': buySendAddress,\n",
    "        'receiver': sellSendAddress,\n",
    "        'sentAmount': buySendAmount,\n",
    "        'recieveAmount': sellSendAmount,\n",
    "        'price': tradePrice\n",
    "    }\n",
    "    \n",
    "    seller['sendVol'] -= sellSendAmount\n",
    "    seller['getVol'] -= buySendAmount\n",
    "    \n",
    "    buyer['sendVol'] -= buySendAmount\n",
    "    buyer['getVol'] -= sellSendAmount\n",
    "    \n",
    "\n",
    "    \n",
    "elif firstTx[0]['get'] == symbolSplitted:\n",
    "    \n",
    "    tradePrice = firstTx[0]['price']\n",
    "    seller = firstTx[1]\n",
    "    buyer = firstTx[0]\n",
    "    \n",
    "    sellSendAddress = seller['id']\n",
    "    sellRecieveAddress = buyer['id']\n",
    "    sellSendToken = seller['send']\n",
    "    sellSendAmount = min(seller['sendVol'], buyer['getVol'])\n",
    "    \n",
    "    buySendAddress = buyer['id']\n",
    "    buyRecieveAddress = seller['id']\n",
    "    buySendToken = seller['get']\n",
    "    buySendAmount = sellSendAmount*tradePrice\n",
    "    \n",
    "    tradeSellTx = {\n",
    "        'timestamp': time(),\n",
    "        'symbol': seller['symbol'],\n",
    "        'contract': symbolSplitted,\n",
    "        'sender': sellSendAddress,\n",
    "        'receiver': buySendAddress,\n",
    "        'sentAmount': sellSendAmount,\n",
    "        'recieveAmount': buySendAmount,\n",
    "        'price': tradePrice\n",
    "    }\n",
    "    \n",
    "    \n",
    "    tradeBuyTx = {\n",
    "        'timestamp': time(),\n",
    "        'symbol': seller['symbol'],\n",
    "        'contract': re.split(r'/', seller['symbol'])[1],\n",
    "        'sender': buySendAddress,\n",
    "        'receiver': sellSendAddress,\n",
    "        'sentAmount': buySendAmount,\n",
    "        'recieveAmount': sellSendAmount,\n",
    "        'price': tradePrice\n",
    "    }\n",
    "    \n",
    "    seller['sendVol'] -= sellSendAmount\n",
    "    seller['getVol'] -= buySendAmount\n",
    "    \n",
    "    buyer['sendVol'] -= buySendAmount\n",
    "    buyer['getVol'] -= sellSendAmount\n",
    "    \n",
    "tradeSellTx"
   ]
  },
  {
   "cell_type": "code",
   "execution_count": 114,
   "metadata": {},
   "outputs": [
    {
     "data": {
      "text/plain": [
       "{'timestamp': 1628253892.8598568,\n",
       " 'symbol': 'eth/dai',\n",
       " 'contract': 'dai',\n",
       " 'sender': 'woman',\n",
       " 'receiver': 'girl',\n",
       " 'sentAmount': 1560.0,\n",
       " 'recieveAmount': 0.6,\n",
       " 'price': 2600.0}"
      ]
     },
     "execution_count": 114,
     "metadata": {},
     "output_type": "execute_result"
    }
   ],
   "source": [
    "tradeBuyTx"
   ]
  },
  {
   "cell_type": "code",
   "execution_count": 115,
   "metadata": {},
   "outputs": [
    {
     "data": {
      "text/plain": [
       "[{'id': 'girl',\n",
       "  'symbol': 'eth/dai',\n",
       "  'price': 2600.0,\n",
       "  'send': 'eth',\n",
       "  'sendVol': 0.4,\n",
       "  'get': 'dai',\n",
       "  'getVol': 1040.0},\n",
       " {'id': 'woman',\n",
       "  'symbol': 'eth/dai',\n",
       "  'price': 2750.0,\n",
       "  'send': 'dai',\n",
       "  'sendVol': 90.0,\n",
       "  'get': 'eth',\n",
       "  'getVol': 0.0}]"
      ]
     },
     "execution_count": 115,
     "metadata": {},
     "output_type": "execute_result"
    }
   ],
   "source": [
    "firstTx"
   ]
  },
  {
   "cell_type": "code",
   "execution_count": 116,
   "metadata": {},
   "outputs": [
    {
     "data": {
      "text/plain": [
       "[{'id': 'girl',\n",
       "  'symbol': 'eth/dai',\n",
       "  'price': 2600.0,\n",
       "  'send': 'eth',\n",
       "  'sendVol': 0.4,\n",
       "  'get': 'dai',\n",
       "  'getVol': 1040.0},\n",
       " {'id': 'woman',\n",
       "  'symbol': 'eth/dai',\n",
       "  'price': 2750.0,\n",
       "  'send': 'dai',\n",
       "  'sendVol': 90.0,\n",
       "  'get': 'eth',\n",
       "  'getVol': 0.0,\n",
       "  'status': 'filled'}]"
      ]
     },
     "execution_count": 116,
     "metadata": {},
     "output_type": "execute_result"
    }
   ],
   "source": [
    "# Check orders fullfillment\n",
    "for order in firstTx:\n",
    "    if order['sendVol'] == 0 or order['getVol'] == 0:\n",
    "        order['status'] = 'filled'\n",
    "        \n",
    "firstTx"
   ]
  },
  {
   "cell_type": "code",
   "execution_count": null,
   "metadata": {},
   "outputs": [],
   "source": []
  },
  {
   "cell_type": "code",
   "execution_count": null,
   "metadata": {},
   "outputs": [],
   "source": []
  },
  {
   "cell_type": "code",
   "execution_count": 14,
   "metadata": {},
   "outputs": [
    {
     "data": {
      "text/plain": [
       "[('man', 'all', 'yel'),\n",
       " ('boy', 'bal', 'salt'),\n",
       " ('oldlady', 'moon', 'salt'),\n",
       " ('woman', 'salt', 'moon'),\n",
       " ('girl', 'yel', 'all'),\n",
       " ('bug', 'yel', 'all')]"
      ]
     },
     "execution_count": 14,
     "metadata": {},
     "output_type": "execute_result"
    }
   ],
   "source": [
    "tstAsk = sorted([(testLst[i]['id'],testLst[i]['ask'],testLst[i]['bid'],) for i in range(len(testLst))], key=itemgetter(1,2))\n",
    "tstAsk"
   ]
  },
  {
   "cell_type": "code",
   "execution_count": 9,
   "metadata": {},
   "outputs": [
    {
     "data": {
      "text/plain": [
       "[(3, 'all', 'yel'),\n",
       " (6, 'all', 'yel'),\n",
       " (4, 'moon', 'salt'),\n",
       " (1, 'salt', 'bal'),\n",
       " (5, 'salt', 'moon'),\n",
       " (2, 'yel', 'all')]"
      ]
     },
     "execution_count": 9,
     "metadata": {},
     "output_type": "execute_result"
    }
   ],
   "source": [
    "tstBid = sorted([(testLst[i]['id'],testLst[i]['bid'],testLst[i]['ask'],) for i in range(len(testLst))], key=itemgetter(1,2))\n",
    "tstBid"
   ]
  },
  {
   "cell_type": "code",
   "execution_count": null,
   "metadata": {},
   "outputs": [],
   "source": []
  },
  {
   "cell_type": "code",
   "execution_count": null,
   "metadata": {},
   "outputs": [],
   "source": []
  },
  {
   "cell_type": "code",
   "execution_count": 10,
   "metadata": {},
   "outputs": [
    {
     "data": {
      "text/plain": [
       "[[(3, 'all', 'yel'), (2, 'all', 'yel')],\n",
       " [(4, 'moon', 'salt'), (5, 'moon', 'salt')],\n",
       " [(2, 'yel', 'all'), (6, 'yel', 'all')]]"
      ]
     },
     "execution_count": 10,
     "metadata": {},
     "output_type": "execute_result"
    }
   ],
   "source": [
    "mathchedOrders = []\n",
    "c = 0\n",
    "for getOrders, sendOrders in zip(tstToGet,tstToSend):\n",
    "    if getOrders[1] == sendOrders[1] and getOrders[2] == sendOrders[2]:\n",
    "        match = [getOrders, sendOrders]\n",
    "        mathchedOrders.append(match)\n",
    "        \n",
    "mathchedOrders"
   ]
  },
  {
   "cell_type": "code",
   "execution_count": 12,
   "metadata": {},
   "outputs": [
    {
     "data": {
      "text/plain": [
       "[[(2, 'yel', 'all'), (6, 'yel', 'all')],\n",
       " [(3, 'all', 'yel'), (2, 'all', 'yel')],\n",
       " [(4, 'moon', 'salt'), (5, 'moon', 'salt')]]"
      ]
     },
     "execution_count": 12,
     "metadata": {},
     "output_type": "execute_result"
    }
   ],
   "source": [
    "toProcess = sorted([orders for orders in mathchedOrders], key=itemgetter(0,1))\n",
    "toProcess"
   ]
  },
  {
   "cell_type": "code",
   "execution_count": null,
   "metadata": {},
   "outputs": [],
   "source": []
  },
  {
   "cell_type": "code",
   "execution_count": null,
   "metadata": {},
   "outputs": [],
   "source": []
  },
  {
   "cell_type": "code",
   "execution_count": 69,
   "metadata": {},
   "outputs": [
    {
     "data": {
      "text/plain": [
       "[[(3, 'all', 'yel'), (2, 'all', 'yel')]]"
      ]
     },
     "execution_count": 69,
     "metadata": {},
     "output_type": "execute_result"
    }
   ],
   "source": [
    "toPool = []\n",
    "\n",
    "for i in range(len(mathchedOrders)-1):\n",
    "    if mathchedOrders[i+1][1][0]==mathchedOrders[i][0][0]:\n",
    "        toPool.append(mathchedOrders[i])\n",
    "        \n",
    "toPool"
   ]
  },
  {
   "cell_type": "code",
   "execution_count": 67,
   "metadata": {},
   "outputs": [
    {
     "data": {
      "text/plain": [
       "True"
      ]
     },
     "execution_count": 67,
     "metadata": {},
     "output_type": "execute_result"
    }
   ],
   "source": [
    "mathchedOrders[0][0][0]==mathchedOrders[1][1][0]"
   ]
  },
  {
   "cell_type": "code",
   "execution_count": 23,
   "metadata": {},
   "outputs": [
    {
     "data": {
      "text/plain": [
       "[{'a': 'bal', 'b': 'salt'},\n",
       " {'a': 'all', 'b': 'yel'},\n",
       " {'a': 'yel', 'b': 'all'},\n",
       " {'a': 'salt', 'b': 'bal'}]"
      ]
     },
     "execution_count": 23,
     "metadata": {},
     "output_type": "execute_result"
    }
   ],
   "source": [
    "tstSort = sorted(testLst, key=lambda k: k['a'] == k['b'])\n",
    "tstSort"
   ]
  },
  {
   "cell_type": "code",
   "execution_count": 33,
   "metadata": {},
   "outputs": [
    {
     "data": {
      "text/plain": [
       "[{'id': 1, 'a': 'bal', 'b': 'salt'},\n",
       " {'id': 2, 'a': 'all', 'b': 'yel'},\n",
       " {'id': 3, 'a': 'yel', 'b': 'all'},\n",
       " {'id': 4, 'a': 'salt', 'b': 'bal'}]"
      ]
     },
     "execution_count": 33,
     "metadata": {},
     "output_type": "execute_result"
    }
   ],
   "source": [
    "testLst"
   ]
  },
  {
   "cell_type": "code",
   "execution_count": 58,
   "metadata": {},
   "outputs": [
    {
     "data": {
      "text/plain": [
       "b'{\"nodes\": []}'"
      ]
     },
     "execution_count": 58,
     "metadata": {},
     "output_type": "execute_result"
    }
   ],
   "source": [
    "nodes = requests.get('http://localhost:5000/nodes/getNodes').content\n",
    "nodes"
   ]
  },
  {
   "cell_type": "code",
   "execution_count": 56,
   "metadata": {},
   "outputs": [
    {
     "data": {
      "text/plain": [
       "b'{\"chain\":[{\"index\":1,\"previousHash\":1,\"proof\":100,\"timestamp\":1628086698.873197,\"transactions\":[]}],\"message\":\"Our chain is authoritative\"}\\n'"
      ]
     },
     "execution_count": 56,
     "metadata": {},
     "output_type": "execute_result"
    }
   ],
   "source": [
    "chain = requests.get('http://localhost:5000/nodes/resolve').content\n",
    "# chainTrue = json.loads(chain)\n",
    "# chainTrue\n",
    "chain"
   ]
  },
  {
   "cell_type": "code",
   "execution_count": 53,
   "metadata": {},
   "outputs": [
    {
     "data": {
      "text/plain": [
       "b'{\"message\":\"New nodes have been added\",\"total_nodes\":[\"localhost:5000\",\"localhost:5001\"]}\\n'"
      ]
     },
     "execution_count": 53,
     "metadata": {},
     "output_type": "execute_result"
    }
   ],
   "source": [
    "regResult = requests.post('http://localhost:5000/nodes/register', json={'nodes': ('http://localhost:5000/', 'http://localhost:5001/',)}).content\n",
    "regResult"
   ]
  },
  {
   "cell_type": "code",
   "execution_count": null,
   "metadata": {},
   "outputs": [],
   "source": []
  },
  {
   "cell_type": "code",
   "execution_count": 35,
   "metadata": {},
   "outputs": [
    {
     "data": {
      "text/plain": [
       "b'{\"chain\":[{\"index\":1,\"previousHash\":1,\"proof\":100,\"timestamp\":1628084880.8870988,\"transactions\":[]},{\"index\":2,\"previousHash\":\"653ad21073662fe7a06fdbb9e21a826076706f90556d2d66c56fe81bfa3d2145\",\"proof\":35293,\"timestamp\":1628085644.59333,\"transactions\":[{\"amount\":7,\"recipient\":\"someone-other-address\",\"sender\":\"lalalala\"},{\"amount\":1,\"recipient\":\"20a1f73aa3ba468dba631ddf901846e1\",\"sender\":\"0\"}]},{\"index\":3,\"previousHash\":\"8d3b6a2ed7e2e91528035019185348775b148e3e4aad5a94de7c4068ae513611\",\"proof\":35089,\"timestamp\":1628085819.22687,\"transactions\":[{\"amount\":7,\"recipient\":\"someone-other-address\",\"sender\":\"lalalala\"},{\"amount\":7,\"recipient\":\"someone-other-address\",\"sender\":\"lalalala\"},{\"amount\":7,\"recipient\":\"someone-other-address\",\"sender\":\"lalalala\"},{\"amount\":7,\"recipient\":\"someone-other-address\",\"sender\":\"lalalala\"},{\"amount\":1,\"recipient\":\"20a1f73aa3ba468dba631ddf901846e1\",\"sender\":\"0\"}]},{\"index\":4,\"previousHash\":\"bbe0ad89914d2d99f9b640db2406e0696a44d5bcf63f05a8f25163e3df83d32d\",\"proof\":119678,\"timestamp\":1628085825.938227,\"transactions\":[{\"amount\":1,\"recipient\":\"someone-other-address\",\"sender\":\"lalalala\"},{\"amount\":1,\"recipient\":\"20a1f73aa3ba468dba631ddf901846e1\",\"sender\":\"0\"}]},{\"index\":5,\"previousHash\":\"33ee8eb4af929eca2057cd0a207e17da1c6d0804235e3637de39de3035106710\",\"proof\":146502,\"timestamp\":1628085829.615207,\"transactions\":[{\"amount\":3,\"recipient\":\"someone-other-address\",\"sender\":\"lalalala\"},{\"amount\":1,\"recipient\":\"20a1f73aa3ba468dba631ddf901846e1\",\"sender\":\"0\"}]},{\"index\":6,\"previousHash\":\"2ff99d3e69ae8bee2661a23f9a990bf33d867e1c7430fbae0a86bf6c0ee578d5\",\"proof\":43538,\"timestamp\":1628085832.945429,\"transactions\":[{\"amount\":6,\"recipient\":\"someone-other-address\",\"sender\":\"lalalala\"},{\"amount\":1,\"recipient\":\"20a1f73aa3ba468dba631ddf901846e1\",\"sender\":\"0\"}]}],\"message\":\"Our chain is authoritative\"}\\n'"
      ]
     },
     "execution_count": 35,
     "metadata": {},
     "output_type": "execute_result"
    }
   ],
   "source": [
    "chain = requests.get('http://localhost:5001/nodes/resolve').content\n",
    "chain"
   ]
  },
  {
   "cell_type": "code",
   "execution_count": 14,
   "metadata": {},
   "outputs": [
    {
     "data": {
      "text/plain": [
       "b'{\"msg\":\"Transaction will be added to Block 2\"}\\n'"
      ]
     },
     "execution_count": 14,
     "metadata": {},
     "output_type": "execute_result"
    }
   ],
   "source": [
    "tx = {\n",
    "    \"sender\": \"d4ee26eee15148ee92c6cd394edd974e\",\n",
    "     \"recipient\": \"someone-other-address\",\n",
    "     \"amount\": 19\n",
    "}\n",
    "\n",
    "txSent = requests.post(\"http://localhost:5000/transactions/new\", json=tx).content\n",
    "txSent"
   ]
  },
  {
   "cell_type": "code",
   "execution_count": 15,
   "metadata": {},
   "outputs": [
    {
     "data": {
      "text/plain": [
       "b'{\"index\":2,\"message\":\"New Block Forged\",\"previous_hash\":\"5f0c3e03f04104c30131974c6fd4a0e970cf1506191b2bed6552ed2da5c8e091\",\"proof\":35293,\"transactions\":[{\"amount\":19,\"recipient\":\"someone-other-address\",\"sender\":\"d4ee26eee15148ee92c6cd394edd974e\"},{\"amount\":19,\"recipient\":\"someone-other-address\",\"sender\":\"d4ee26eee15148ee92c6cd394edd974e\"},{\"amount\":1,\"recipient\":\"a05764f3f7014a54bc4c1a0ea4d83f37\",\"sender\":\"0\"}]}\\n'"
      ]
     },
     "execution_count": 15,
     "metadata": {},
     "output_type": "execute_result"
    }
   ],
   "source": [
    "mining = requests.get('http://localhost:5000/mine').content\n",
    "mining"
   ]
  },
  {
   "cell_type": "code",
   "execution_count": null,
   "metadata": {},
   "outputs": [],
   "source": []
  },
  {
   "cell_type": "code",
   "execution_count": 33,
   "metadata": {},
   "outputs": [
    {
     "data": {
      "text/plain": [
       "b'{\"msg\":\"Transaction will be added to Block 6\"}\\n'"
      ]
     },
     "execution_count": 33,
     "metadata": {},
     "output_type": "execute_result"
    }
   ],
   "source": [
    "tx = {\n",
    "    \"sender\": \"lalalala\",\n",
    "     \"recipient\": \"someone-other-address\",\n",
    "     \"amount\": 6\n",
    "}\n",
    "\n",
    "txSent = requests.post(\"http://localhost:5001/transactions/new\", json=tx).content\n",
    "txSent"
   ]
  },
  {
   "cell_type": "code",
   "execution_count": 34,
   "metadata": {},
   "outputs": [
    {
     "data": {
      "text/plain": [
       "b'{\"index\":6,\"message\":\"New Block Forged\",\"previous_hash\":\"2ff99d3e69ae8bee2661a23f9a990bf33d867e1c7430fbae0a86bf6c0ee578d5\",\"proof\":43538,\"transactions\":[{\"amount\":6,\"recipient\":\"someone-other-address\",\"sender\":\"lalalala\"},{\"amount\":1,\"recipient\":\"20a1f73aa3ba468dba631ddf901846e1\",\"sender\":\"0\"}]}\\n'"
      ]
     },
     "execution_count": 34,
     "metadata": {},
     "output_type": "execute_result"
    }
   ],
   "source": [
    "mining = requests.get('http://localhost:5001/mine').content\n",
    "mining"
   ]
  },
  {
   "cell_type": "code",
   "execution_count": null,
   "metadata": {},
   "outputs": [],
   "source": []
  },
  {
   "cell_type": "code",
   "execution_count": null,
   "metadata": {},
   "outputs": [],
   "source": []
  }
 ],
 "metadata": {
  "kernelspec": {
   "display_name": "Python 3",
   "language": "python",
   "name": "python3"
  },
  "language_info": {
   "codemirror_mode": {
    "name": "ipython",
    "version": 3
   },
   "file_extension": ".py",
   "mimetype": "text/x-python",
   "name": "python",
   "nbconvert_exporter": "python",
   "pygments_lexer": "ipython3",
   "version": "3.7.2"
  }
 },
 "nbformat": 4,
 "nbformat_minor": 2
}

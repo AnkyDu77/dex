{
 "cells": [
  {
   "cell_type": "code",
   "execution_count": 3,
   "metadata": {},
   "outputs": [],
   "source": [
    "import re\n",
    "import uuid #= uuid.uuid4().hex\n",
    "from operator import itemgetter"
   ]
  },
  {
   "cell_type": "code",
   "execution_count": 51,
   "metadata": {},
   "outputs": [
    {
     "data": {
      "text/plain": [
       "[{'symbol': 'zsh/usdt',\n",
       "  'price': 10.0,\n",
       "  'send': 'usdt',\n",
       "  'sendVol': 10.0,\n",
       "  'get': 'zsh',\n",
       "  'getVol': 1,\n",
       "  'tradeTxId': '7ab27b338dac49dcbe3c85e3a5ad6615'},\n",
       " {'symbol': 'zsh/usdt',\n",
       "  'price': 12.0,\n",
       "  'send': 'usdt',\n",
       "  'sendVol': 12.0,\n",
       "  'get': 'zsh',\n",
       "  'getVol': 1,\n",
       "  'tradeTxId': '089d20692d9e4fd29218e6a56541ff74'},\n",
       " {'symbol': 'zsh/usdt',\n",
       "  'price': 13.0,\n",
       "  'send': 'usdt',\n",
       "  'sendVol': 13.0,\n",
       "  'get': 'zsh',\n",
       "  'getVol': 1,\n",
       "  'tradeTxId': 'd97f25cdf60c4af8b2f5da24cff4d815'},\n",
       " {'symbol': 'zsh/usdt',\n",
       "  'price': 14.0,\n",
       "  'send': 'usdt',\n",
       "  'sendVol': 14.0,\n",
       "  'get': 'zsh',\n",
       "  'getVol': 1,\n",
       "  'tradeTxId': 'c8fdae6de53449c7b9eb14347aa41a7e'},\n",
       " {'symbol': 'zsh/usdt',\n",
       "  'price': 9.0,\n",
       "  'send': 'zsh',\n",
       "  'sendVol': 3.0,\n",
       "  'get': 'usdt',\n",
       "  'getVol': 27.0,\n",
       "  'tradeTxId': '2eb9f12ba03f4be1894f624c2b1d137f'}]"
      ]
     },
     "execution_count": 51,
     "metadata": {},
     "output_type": "execute_result"
    }
   ],
   "source": [
    "buyOrder1 = {\n",
    "    'symbol': 'zsh/usdt',\n",
    "    'price': 10.0,\n",
    "    'send': 'usdt',\n",
    "    'sendVol': 10.0,\n",
    "    'get': 'zsh',\n",
    "    'getVol': 1,\n",
    "    'tradeTxId': uuid.uuid4().hex\n",
    "}\n",
    "\n",
    "buyOrder2 = {\n",
    "    'symbol': 'zsh/usdt',\n",
    "    'price': 12.0,\n",
    "    'send': 'usdt',\n",
    "    'sendVol': 12.0,\n",
    "    'get': 'zsh',\n",
    "    'getVol': 1,\n",
    "    'tradeTxId': uuid.uuid4().hex\n",
    "}\n",
    "\n",
    "buyOrder3 = {\n",
    "    'symbol': 'zsh/usdt',\n",
    "    'price': 13.0,\n",
    "    'send': 'usdt',\n",
    "    'sendVol': 13.0,\n",
    "    'get': 'zsh',\n",
    "    'getVol': 1,\n",
    "    'tradeTxId': uuid.uuid4().hex\n",
    "}\n",
    "\n",
    "buyOrder4 = {\n",
    "    'symbol': 'zsh/usdt',\n",
    "    'price': 14.0,\n",
    "    'send': 'usdt',\n",
    "    'sendVol': 14.0,\n",
    "    'get': 'zsh',\n",
    "    'getVol': 1,\n",
    "    'tradeTxId': uuid.uuid4().hex\n",
    "}\n",
    "\n",
    "sellOrder = {\n",
    "    'symbol': 'zsh/usdt',\n",
    "    'price': 9.0,\n",
    "    'send': 'zsh',\n",
    "    'sendVol': 3.0,\n",
    "    'get': 'usdt',\n",
    "    'getVol': 27.0,\n",
    "    'tradeTxId': uuid.uuid4().hex\n",
    "}\n",
    "\n",
    "oprderPool = [buyOrder1,buyOrder2,buyOrder3,buyOrder4,sellOrder]\n",
    "oprderPool"
   ]
  },
  {
   "cell_type": "code",
   "execution_count": 52,
   "metadata": {},
   "outputs": [
    {
     "data": {
      "text/plain": [
       "[{'symbol': 'zsh/usdt',\n",
       "  'price': 9.0,\n",
       "  'send': 'zsh',\n",
       "  'sendVol': 3.0,\n",
       "  'get': 'usdt',\n",
       "  'getVol': 27.0,\n",
       "  'tradeTxId': '2eb9f12ba03f4be1894f624c2b1d137f'}]"
      ]
     },
     "execution_count": 52,
     "metadata": {},
     "output_type": "execute_result"
    }
   ],
   "source": [
    "symbol = 'zsh/usdt'\n",
    "tradebleAsset = re.split(r'/', symbol)[0]\n",
    "\n",
    "buyOrders = []\n",
    "for i in range(len(oprderPool)):\n",
    "    if oprderPool[i]['get'] == tradebleAsset:\n",
    "        buyOrders.append(oprderPool[i])\n",
    "        \n",
    "sellOrders = []\n",
    "for j in range(len(oprderPool)):\n",
    "    if oprderPool[j]['send'] == tradebleAsset:\n",
    "        sellOrders.append(oprderPool[i])\n",
    "sellOrders"
   ]
  },
  {
   "cell_type": "code",
   "execution_count": 53,
   "metadata": {},
   "outputs": [
    {
     "data": {
      "text/plain": [
       "[{'symbol': 'zsh/usdt',\n",
       "  'price': 14.0,\n",
       "  'send': 'usdt',\n",
       "  'sendVol': 14.0,\n",
       "  'get': 'zsh',\n",
       "  'getVol': 1,\n",
       "  'tradeTxId': 'c8fdae6de53449c7b9eb14347aa41a7e'},\n",
       " {'symbol': 'zsh/usdt',\n",
       "  'price': 13.0,\n",
       "  'send': 'usdt',\n",
       "  'sendVol': 13.0,\n",
       "  'get': 'zsh',\n",
       "  'getVol': 1,\n",
       "  'tradeTxId': 'd97f25cdf60c4af8b2f5da24cff4d815'},\n",
       " {'symbol': 'zsh/usdt',\n",
       "  'price': 12.0,\n",
       "  'send': 'usdt',\n",
       "  'sendVol': 12.0,\n",
       "  'get': 'zsh',\n",
       "  'getVol': 1,\n",
       "  'tradeTxId': '089d20692d9e4fd29218e6a56541ff74'},\n",
       " {'symbol': 'zsh/usdt',\n",
       "  'price': 10.0,\n",
       "  'send': 'usdt',\n",
       "  'sendVol': 10.0,\n",
       "  'get': 'zsh',\n",
       "  'getVol': 1,\n",
       "  'tradeTxId': '7ab27b338dac49dcbe3c85e3a5ad6615'}]"
      ]
     },
     "execution_count": 53,
     "metadata": {},
     "output_type": "execute_result"
    }
   ],
   "source": [
    "import operator\n",
    "\n",
    "buyOrders.sort(key=operator.itemgetter('price'), reverse=True)\n",
    "buyOrders"
   ]
  },
  {
   "cell_type": "code",
   "execution_count": 54,
   "metadata": {},
   "outputs": [
    {
     "data": {
      "text/plain": [
       "[{'symbol': 'zsh/usdt',\n",
       "  'price': 9.0,\n",
       "  'send': 'zsh',\n",
       "  'sendVol': 3.0,\n",
       "  'get': 'usdt',\n",
       "  'getVol': 27.0,\n",
       "  'tradeTxId': '2eb9f12ba03f4be1894f624c2b1d137f'}]"
      ]
     },
     "execution_count": 54,
     "metadata": {},
     "output_type": "execute_result"
    }
   ],
   "source": [
    "sellOrders.sort(key=operator.itemgetter('price'))\n",
    "sellOrders"
   ]
  },
  {
   "cell_type": "code",
   "execution_count": 56,
   "metadata": {},
   "outputs": [
    {
     "name": "stdout",
     "output_type": "stream",
     "text": [
      "sellOrders[c][\"sendVol\"]: 3.0\n",
      "buyOrders[i][\"getVol\"]: 1\n",
      "2.0\n",
      "sellOrders[c][\"sendVol\"]: 2.0\n",
      "buyOrders[i][\"getVol\"]: 1\n",
      "1.0\n",
      "sellOrders[c][\"sendVol\"]: 1.0\n",
      "buyOrders[i][\"getVol\"]: 1\n",
      "0.0\n",
      "sellOrders[c][\"sendVol\"]: 0.0\n",
      "buyOrders[i][\"getVol\"]: 1\n",
      "-1.0\n"
     ]
    },
    {
     "data": {
      "text/plain": [
       "{'tx_0': {'sellId': ['2eb9f12ba03f4be1894f624c2b1d137f'],\n",
       "  'buyId': ['c8fdae6de53449c7b9eb14347aa41a7e',\n",
       "   'd97f25cdf60c4af8b2f5da24cff4d815',\n",
       "   '089d20692d9e4fd29218e6a56541ff74',\n",
       "   '7ab27b338dac49dcbe3c85e3a5ad6615']}}"
      ]
     },
     "execution_count": 56,
     "metadata": {},
     "output_type": "execute_result"
    }
   ],
   "source": [
    "matchedOrders = {}\n",
    "\n",
    "if len(buyOrders) >= len(sellOrders):\n",
    "    c = 0\n",
    "    volFullfillment = sellOrders[c]['sendVol']\n",
    "    matchedOrders[f'tx_{c}'] = {'sellId': [sellOrders[c]['tradeTxId']], 'buyId': []}\n",
    "    \n",
    "    for i in range(len(buyOrders)):\n",
    "        \n",
    "        \n",
    "        if buyOrders[i]['price'] >= sellOrders[c]['price']:\n",
    "            if (volFullfillment <= 0) and (c+1 <= len(sellOrders)-1):\n",
    "                c+=1\n",
    "                matchedOrders[f'tx_{c}'] = {'sellId': [sellOrders[c]['tradeTxId']], 'buyId': []}\n",
    "                \n",
    "                \n",
    "            volFullfillment = sellOrders[c]['sendVol'] - buyOrders[i]['getVol']\n",
    "            print(f'sellOrders[c][\"sendVol\"]: {sellOrders[c][\"sendVol\"]}')\n",
    "            print(f'buyOrders[i][\"getVol\"]: {buyOrders[i][\"getVol\"]}')\n",
    "            sellOrders[c]['sendVol'] -= buyOrders[i]['getVol']\n",
    "            print(volFullfillment)\n",
    "            matchedOrders[f'tx_{c}']['buyId'].append(buyOrders[i]['tradeTxId'])\n",
    "            \n",
    "            \n",
    "            if (volFullfillment <= 0) and (c+1 <= len(sellOrders)-1):\n",
    "                c+=1\n",
    "                matchedOrders[f'tx_{c}'] = {'sellId': [sellOrders[c]['tradeTxId']], 'buyId': []}\n",
    "            \n",
    "matchedOrders       "
   ]
  },
  {
   "cell_type": "code",
   "execution_count": null,
   "metadata": {},
   "outputs": [],
   "source": []
  },
  {
   "cell_type": "code",
   "execution_count": null,
   "metadata": {},
   "outputs": [],
   "source": []
  }
 ],
 "metadata": {
  "kernelspec": {
   "display_name": "Python 3",
   "language": "python",
   "name": "python3"
  },
  "language_info": {
   "codemirror_mode": {
    "name": "ipython",
    "version": 3
   },
   "file_extension": ".py",
   "mimetype": "text/x-python",
   "name": "python",
   "nbconvert_exporter": "python",
   "pygments_lexer": "ipython3",
   "version": "3.7.2"
  }
 },
 "nbformat": 4,
 "nbformat_minor": 2
}

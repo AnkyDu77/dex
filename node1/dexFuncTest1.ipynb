{
 "cells": [
  {
   "cell_type": "code",
   "execution_count": 1,
   "metadata": {},
   "outputs": [],
   "source": [
    "import os\n",
    "import re\n",
    "import sys\n",
    "import uuid\n",
    "import hashlib\n",
    "import socket\n",
    "import requests\n",
    "import json\n",
    "import time\n",
    "import cProfile\n",
    "from Crypto.PublicKey import RSA\n",
    "from Crypto.Cipher import PKCS1_v1_5\n",
    "from time import time\n",
    "from urllib.parse import urlparse\n",
    "from flask import request\n",
    "from operator import itemgetter\n",
    "from datetime import datetime, timezone\n",
    "from pyp2p.net import *\n",
    "\n",
    "from config import Config"
   ]
  },
  {
   "cell_type": "code",
   "execution_count": 2,
   "metadata": {},
   "outputs": [],
   "source": [
    "host = 'http://0.0.0.0:5000'\n",
    "\n",
    "# # Coinbase\n",
    "# wallet = requests.post(host+'/wallet/new', json={'password': '12345'}).content\n",
    "# wallet"
   ]
  },
  {
   "cell_type": "code",
   "execution_count": 12,
   "metadata": {},
   "outputs": [
    {
     "data": {
      "text/plain": [
       "b'{\"ACCOUNTS:\":\"80035d710063626c6f636b636861696e0a4163636f756e740a7101298171027d7103285807000000616464726573737104583e0000007a303178303031383730303263353462316431653465333936376132613561653364636361633239663133303063386336363832626333623932326535637105580700000062616c616e636571064700000000000000005809000000626c6f636b4861736871075840000000643833376631303663636637323935663732323033396339636138356237336337623361393635326536313438613466626131353735356237633438663964637108580900000076616c696448617368710958380000003062393231333665363134623365613231633435383164663138366432343132353630363862323363316433653735363236383631626338710a5803000000736c74710b58200000003034333737316561363239323463663438323062613665333161393562626335710c7562612e\"}\\n'"
      ]
     },
     "execution_count": 12,
     "metadata": {},
     "output_type": "execute_result"
    }
   ],
   "source": [
    "host = 'http://0.0.0.0:5001'\n",
    "accounts = requests.get(host+'/wallet/getAccounts').content\n",
    "accounts"
   ]
  },
  {
   "cell_type": "code",
   "execution_count": 13,
   "metadata": {},
   "outputs": [
    {
     "data": {
      "text/plain": [
       "[<blockchain.Account at 0x7fcdbebf7898>]"
      ]
     },
     "execution_count": 13,
     "metadata": {},
     "output_type": "execute_result"
    }
   ],
   "source": [
    "import pickle\n",
    "accounts = json.loads(accounts)['ACCOUNTS:']\n",
    "accounts = pickle.loads(bytes.fromhex(accounts))\n",
    "accounts"
   ]
  },
  {
   "cell_type": "code",
   "execution_count": 14,
   "metadata": {},
   "outputs": [
    {
     "data": {
      "text/plain": [
       "'z01x00187002c54b1d1e4e3967a2a5ae3dccac29f1300c8c6682bc3b922e5c'"
      ]
     },
     "execution_count": 14,
     "metadata": {},
     "output_type": "execute_result"
    }
   ],
   "source": [
    "account = accounts[0]\n",
    "account.address"
   ]
  },
  {
   "cell_type": "code",
   "execution_count": 3,
   "metadata": {},
   "outputs": [],
   "source": [
    "wallet = requests.post(host+'/wallet/new', json={'password': 'qwerty'}).content"
   ]
  },
  {
   "cell_type": "code",
   "execution_count": 6,
   "metadata": {},
   "outputs": [
    {
     "data": {
      "text/plain": [
       "b'{\"ADDRESS\":\"z01x00acae0943989d5aed79a4cb334f940ec673dfe8a338986d91d821e569\"}\\n'"
      ]
     },
     "execution_count": 6,
     "metadata": {},
     "output_type": "execute_result"
    }
   ],
   "source": [
    "wallet"
   ]
  },
  {
   "cell_type": "code",
   "execution_count": 4,
   "metadata": {},
   "outputs": [
    {
     "ename": "NameError",
     "evalue": "name 'login' is not defined",
     "output_type": "error",
     "traceback": [
      "\u001b[0;31m---------------------------------------------------------------------------\u001b[0m",
      "\u001b[0;31mNameError\u001b[0m                                 Traceback (most recent call last)",
      "\u001b[0;32m<ipython-input-4-b5b78b2126bb>\u001b[0m in \u001b[0;36m<module>\u001b[0;34m\u001b[0m\n\u001b[0;32m----> 1\u001b[0;31m \u001b[0mbalances\u001b[0m \u001b[0;34m=\u001b[0m \u001b[0mjson\u001b[0m\u001b[0;34m.\u001b[0m\u001b[0mloads\u001b[0m\u001b[0;34m(\u001b[0m\u001b[0mrequests\u001b[0m\u001b[0;34m.\u001b[0m\u001b[0mpost\u001b[0m\u001b[0;34m(\u001b[0m\u001b[0mhost\u001b[0m\u001b[0;34m+\u001b[0m\u001b[0;34m'/wallet/getBalance'\u001b[0m\u001b[0;34m,\u001b[0m \u001b[0mjson\u001b[0m\u001b[0;34m=\u001b[0m\u001b[0;34m{\u001b[0m\u001b[0;34m'address'\u001b[0m\u001b[0;34m:\u001b[0m \u001b[0mjson\u001b[0m\u001b[0;34m.\u001b[0m\u001b[0mloads\u001b[0m\u001b[0;34m(\u001b[0m\u001b[0mlogin\u001b[0m\u001b[0;34m)\u001b[0m\u001b[0;34m[\u001b[0m\u001b[0;34m'ADDRESS'\u001b[0m\u001b[0;34m]\u001b[0m\u001b[0;34m}\u001b[0m\u001b[0;34m)\u001b[0m\u001b[0;34m.\u001b[0m\u001b[0mcontent\u001b[0m\u001b[0;34m)\u001b[0m\u001b[0;34m[\u001b[0m\u001b[0;34m'BALACNES'\u001b[0m\u001b[0;34m]\u001b[0m\u001b[0;34m\u001b[0m\u001b[0;34m\u001b[0m\u001b[0m\n\u001b[0m\u001b[1;32m      2\u001b[0m \u001b[0;31m# remainBalance = [balance['balance'] for balance in balances if balance['token']=='USDT'][0]\u001b[0m\u001b[0;34m\u001b[0m\u001b[0;34m\u001b[0m\u001b[0;34m\u001b[0m\u001b[0m\n\u001b[1;32m      3\u001b[0m \u001b[0;31m# remainBalance\u001b[0m\u001b[0;34m\u001b[0m\u001b[0;34m\u001b[0m\u001b[0;34m\u001b[0m\u001b[0m\n\u001b[1;32m      4\u001b[0m \u001b[0mbalances\u001b[0m\u001b[0;34m\u001b[0m\u001b[0;34m\u001b[0m\u001b[0m\n",
      "\u001b[0;31mNameError\u001b[0m: name 'login' is not defined"
     ]
    }
   ],
   "source": [
    "balances = json.loads(requests.post(host+'/wallet/getBalance', json={'address': json.loads(login)['ADDRESS']}).content)['BALACNES']\n",
    "# remainBalance = [balance['balance'] for balance in balances if balance['token']=='USDT'][0]\n",
    "# remainBalance\n",
    "balances"
   ]
  },
  {
   "cell_type": "code",
   "execution_count": 4,
   "metadata": {},
   "outputs": [
    {
     "data": {
      "text/plain": [
       "b'{\"MSG\": [{\"name\": \"Tether\", \"symbol\": \"USDT\", \"poolAddress\": \"z01x006538614d4e85b942bf093d9b4e3543713f447771e5c6d0d4c2980b42\", \"poolBalance\": 5731.300000000002, \"accounts\": {\"z01x008de7af2b8b9f4bfc0b989897b4ec564ab776812c00861f613d6333a6\": 998181.5900000003, \"z01x00ea64f3ad8569afc06bce1b72a2aa8201204f70f2c3c2f416edf5ec3e\": 996087.1100000001}, \"blockHash\": \"94c3439baa95fc878320ac8648e933f23d68640de0ce27304a94e1d9c1562deb\", \"validHash\": \"49d9c16ff61273594e01bc6035f74fb99510b7bb0fe79d7771fb5513\"}]}'"
      ]
     },
     "execution_count": 4,
     "metadata": {},
     "output_type": "execute_result"
    }
   ],
   "source": [
    "pools = requests.get(host+'/pools/getPools').content\n",
    "pools\n"
   ]
  },
  {
   "cell_type": "code",
   "execution_count": null,
   "metadata": {},
   "outputs": [],
   "source": []
  },
  {
   "cell_type": "code",
   "execution_count": 2,
   "metadata": {},
   "outputs": [],
   "source": [
    "host = 'http://0.0.0.0:5000'\n",
    "\n",
    "name = 'Tether' #Tether Ether\n",
    "symbol = 'usdt' #usdt eth\n",
    "pool = requests.post(host+'/pools/createPool', json={'name': name, 'symbol': symbol}).content\n",
    "\n",
    "login = requests.post(host+'/wallet/login', json={'password': '12345'}).content\n",
    "# mineReq = requests.get(host+'/mine').content\n",
    "# mineReq = requests.get(host+'/mine').content\n",
    "# mineReq = requests.get(host+'/mine').content\n",
    "# mineReq = requests.get(host+'/mine').content\n",
    "# mineReq = requests.get(host+'/mine').content\n",
    "# mineReq = requests.get(host+'/mine').content\n",
    "# mineReq = requests.get(host+'/mine').content\n",
    "# mineReq = requests.get(host+'/mine').content\n",
    "# mineReq = requests.get(host+'/mine').content\n",
    "# mineReq = requests.get(host+'/mine').content"
   ]
  },
  {
   "cell_type": "code",
   "execution_count": 78,
   "metadata": {},
   "outputs": [
    {
     "data": {
      "text/plain": [
       "b'{\"index\":12,\"message\":\"New Block Forged\",\"pool_syncing\":\"Tx pool synced among 0 nodes\",\"previous_hash\":\"a2e90700e04b659d4cd87b61402873fcf88ec655294123955dc861d3c2295bd8\",\"proof\":62,\"transactions\":[{\"comissionAmount\":2.0,\"contract\":null,\"price\":0.0,\"recieveAmount\":null,\"recipient\":\"z01x00bc5a3262dc9f9537e4950761a40b30a51055be4bed6b62df7f01f369\",\"sendAmount\":5,\"sender\":\"z01x00017cb4893e68be741543c24527d36d8838f89dbd8152f0405f632c2d\",\"symbol\":\"zsh\",\"timestamp\":1630578549.890106,\"tradeTxId\":null},{\"comissionAmount\":1.0,\"contract\":null,\"price\":0.0,\"recieveAmount\":null,\"recipient\":\"z01x00017cb4893e68be741543c24527d36d8838f89dbd8152f0405f632c2d\",\"sendAmount\":1,\"sender\":\"z01x0000000000000000000000000000000000000000000000000000000000\",\"symbol\":\"zsh\",\"timestamp\":1630578554.680469,\"tradeTxId\":null}]}\\n'"
      ]
     },
     "execution_count": 78,
     "metadata": {},
     "output_type": "execute_result"
    }
   ],
   "source": [
    "mineReq = requests.get(host+'/mine').content\n",
    "mineReq"
   ]
  },
  {
   "cell_type": "code",
   "execution_count": 33,
   "metadata": {},
   "outputs": [
    {
     "data": {
      "text/plain": [
       "[{'comissionAmount': 2.0,\n",
       "  'get': 'zsh',\n",
       "  'getVol': 0.5,\n",
       "  'price': 12,\n",
       "  'send': 'usdt',\n",
       "  'sendVol': 6.600000000000001,\n",
       "  'sender': 'z01x00631e4f56fed99ce386725ada1ac2d17087481e2cc961f8a57dc34e0e',\n",
       "  'symbol': 'zsh/usdt',\n",
       "  'timestamp': 1630564084.443995,\n",
       "  'tradeTxId': '1285345b45d974234efb7e9426b7da06f395b4937c56b917f3aed7507477a23c'},\n",
       " {'comissionAmount': 2.0,\n",
       "  'get': 'zsh',\n",
       "  'getVol': 6.5,\n",
       "  'price': 13,\n",
       "  'send': 'usdt',\n",
       "  'sendVol': 84.65,\n",
       "  'sender': 'z01x0082c3cabb3899b24010a542ce9018d0141c0126c642f1bca12add505a',\n",
       "  'symbol': 'zsh/usdt',\n",
       "  'timestamp': 1630564678.976997,\n",
       "  'tradeTxId': '706abbbbed47629d065a5e992de4d7f985ccb24f4a58f182c04ad3e27974805c'}]"
      ]
     },
     "execution_count": 33,
     "metadata": {},
     "output_type": "execute_result"
    }
   ],
   "source": [
    "ordersList = json.loads(requests.get(host+'/getTradeOrders').content)['tradeOrders']\n",
    "ordersList"
   ]
  },
  {
   "cell_type": "code",
   "execution_count": 16,
   "metadata": {},
   "outputs": [
    {
     "data": {
      "text/plain": [
       "b'{\"index\":6,\"message\":\"New Block Forged\",\"pool_syncing\":\"Tx pool synced among 0 nodes\",\"previous_hash\":\"cad857bc8304c5094d4818999c7f4a89aab407d9f7fd9438e84e9d58598ee586\",\"proof\":33,\"transactions\":[{\"comissionAmount\":1.0,\"contract\":null,\"price\":0.0,\"recieveAmount\":null,\"recipient\":\"z01x00bcfd3c8de490ead704dc4610efb6b7894cc84ce10cb697c493462d33\",\"sendAmount\":1,\"sender\":\"z01x0000000000000000000000000000000000000000000000000000000000\",\"symbol\":\"zsh\",\"timestamp\":1630516708.377076,\"tradeTxId\":null},{\"comissionAmount\":0.02,\"contract\":\"zsh\",\"price\":10,\"recieveAmount\":10,\"recipient\":\"z01x00bcfd3c8de490ead704dc4610efb6b7894cc84ce10cb697c493462d33\",\"sendAmount\":1,\"sender\":\"z01x00bcfd3c8de490ead704dc4610efb6b7894cc84ce10cb697c493462d33\",\"symbol\":\"zsh/usdt\",\"timestamp\":1630516708.377131,\"tradeTxId\":\"2cb6946ebe22e78c392b336fff01e75988888a811ce8d8990e105c3890e49939\"},{\"comissionAmount\":0.02,\"contract\":\"usdt\",\"price\":10,\"recieveAmount\":1,\"recipient\":\"z01x00bcfd3c8de490ead704dc4610efb6b7894cc84ce10cb697c493462d33\",\"sendAmount\":10,\"sender\":\"z01x00bcfd3c8de490ead704dc4610efb6b7894cc84ce10cb697c493462d33\",\"symbol\":\"zsh/usdt\",\"timestamp\":1630516708.377136,\"tradeTxId\":\"26d5060028f06eb5ad7fa683fd6f4ed86761c6bfdca1d107e9992987a0277d7b\"}]}\\n'"
      ]
     },
     "execution_count": 16,
     "metadata": {},
     "output_type": "execute_result"
    }
   ],
   "source": [
    "mineReq = requests.get(host+'/mine').content\n",
    "mineReq"
   ]
  },
  {
   "cell_type": "code",
   "execution_count": 9,
   "metadata": {},
   "outputs": [],
   "source": [
    "buyTx = {\n",
    "        'type': 'trade',\n",
    "        'sender': json.loads(wallet)['ADDRESS'],\n",
    "        'symbol': 'zsh/usdt',\n",
    "        'price': 9.93,\n",
    "        'send': 'usdt',\n",
    "        'sendVol': 9.93,\n",
    "        'get': 'zsh',\n",
    "        'getVol': 1.0,\n",
    "        'comissionAmount':2\n",
    "    }\n",
    "txReq = requests.post(host+'/transactions/new', json=buyTx).content"
   ]
  },
  {
   "cell_type": "code",
   "execution_count": 27,
   "metadata": {},
   "outputs": [
    {
     "data": {
      "text/plain": [
       "b'{\"tradeOrders\":[{\"comissionAmount\":2.0,\"get\":\"usdt\",\"getVol\":6.467049118441537e-17,\"price\":9.67,\"send\":\"zsh\",\"sendVol\":0.0,\"sender\":\"z01x00c307e4731e05816fccbd36ee630babc8c04c85485396e0a4d7c183d7\",\"symbol\":\"zsh/usdt\",\"timestamp\":1630403036.819795,\"tradeTxId\":\"a8854ba574cdd145b8eb1038e32de1d6b1aef544c601e7bfd94b8e00617a84e8\"},{\"comissionAmount\":2.0,\"get\":\"zsh\",\"getVol\":0.09999999999999998,\"price\":9.68,\"send\":\"usdt\",\"sendVol\":0.9679999999999997,\"sender\":\"z01x00c307e4731e05816fccbd36ee630babc8c04c85485396e0a4d7c183d7\",\"symbol\":\"zsh/usdt\",\"timestamp\":1630403093.317493,\"tradeTxId\":\"7701340acf546157cf44cf782702ad4405c1cd71fba2387a26ab6dcf115a2c23\"},{\"comissionAmount\":2.0,\"get\":\"zsh\",\"getVol\":0.2,\"price\":9.87,\"send\":\"usdt\",\"sendVol\":1.974,\"sender\":\"z01x00c307e4731e05816fccbd36ee630babc8c04c85485396e0a4d7c183d7\",\"symbol\":\"zsh/usdt\",\"timestamp\":1630403129.486398,\"tradeTxId\":\"a03fecb39f744d6bc261ca2b076521c14989acdd407eb935abb9475a1d13c492\"},{\"comissionAmount\":2.0,\"get\":\"usdt\",\"getVol\":1.974,\"price\":9.87,\"send\":\"zsh\",\"sendVol\":0.2,\"sender\":\"z01x00c307e4731e05816fccbd36ee630babc8c04c85485396e0a4d7c183d7\",\"symbol\":\"zsh/usdt\",\"timestamp\":1630403138.395174,\"tradeTxId\":\"c6ab3144d226ea8854a8cdca77e20f9f070833f1c601dfecbed4a16c188b0dcc\"}]}\\n'"
      ]
     },
     "execution_count": 27,
     "metadata": {},
     "output_type": "execute_result"
    }
   ],
   "source": [
    "ordersList = requests.get(host+'/getTradeOrders').content\n",
    "ordersList"
   ]
  },
  {
   "cell_type": "code",
   "execution_count": 30,
   "metadata": {},
   "outputs": [
    {
     "data": {
      "text/plain": [
       "6.467049118441537e-17"
      ]
     },
     "execution_count": 30,
     "metadata": {},
     "output_type": "execute_result"
    }
   ],
   "source": [
    "olist = json.loads(ordersList)['tradeOrders']\n",
    "getVol = olist[0]['getVol']\n",
    "getVol"
   ]
  },
  {
   "cell_type": "code",
   "execution_count": 32,
   "metadata": {},
   "outputs": [
    {
     "data": {
      "text/plain": [
       "True"
      ]
     },
     "execution_count": 32,
     "metadata": {},
     "output_type": "execute_result"
    }
   ],
   "source": [
    "getVol < 0.000099"
   ]
  },
  {
   "cell_type": "markdown",
   "metadata": {},
   "source": [
    "### Full non-native tokens transaction Test"
   ]
  },
  {
   "cell_type": "code",
   "execution_count": 25,
   "metadata": {
    "scrolled": true
   },
   "outputs": [
    {
     "data": {
      "text/plain": [
       "b'{\"index\":12,\"message\":\"New Block Forged\",\"pool_syncing\":\"Tx pool synced among 0 nodes\",\"previous_hash\":\"82dea2a9c4ac776e716a92a825190417125f5e7e14f9c078e4ae0ac70881dbb0\",\"proof\":62,\"transactions\":[{\"comissionAmount\":1.0,\"contract\":null,\"price\":0.0,\"recieveAmount\":null,\"recipient\":\"z01x0081ca38a9e3270c25897ce76b2eed56e58d59dd9b4f82860551ecff52\",\"sendAmount\":1,\"sender\":\"z01x0000000000000000000000000000000000000000000000000000000000\",\"symbol\":\"zsh\",\"timestamp\":1630498714.360835,\"tradeTxId\":null},{\"comissionAmount\":0.02,\"contract\":\"zsh\",\"price\":10.93,\"recieveAmount\":10.93,\"recipient\":\"z01x005ea5ca02a87f2dcf8685c8ae053d2cafb4c1e8b7f0519fb6676e1921\",\"sendAmount\":1.0,\"sender\":\"z01x0081ca38a9e3270c25897ce76b2eed56e58d59dd9b4f82860551ecff52\",\"symbol\":\"zsh/usdt\",\"timestamp\":1630498714.36091,\"tradeTxId\":\"bb17ecdb897ed8d7252e470f8a44632c9ca15459ac954aa32e99d1f95257f162\"},{\"comissionAmount\":0.0008096296296296297,\"contract\":\"usdt\",\"price\":10.93,\"recieveAmount\":1.0,\"recipient\":\"z01x0081ca38a9e3270c25897ce76b2eed56e58d59dd9b4f82860551ecff52\",\"sendAmount\":10.93,\"sender\":\"z01x005ea5ca02a87f2dcf8685c8ae053d2cafb4c1e8b7f0519fb6676e1921\",\"symbol\":\"zsh/usdt\",\"timestamp\":1630498714.360918,\"tradeTxId\":\"d13ad49d6286fd7d298122b527010ae4709a57dd1736953e266943748ef8602f\"},{\"comissionAmount\":0.02,\"contract\":\"zsh\",\"price\":11.93,\"recieveAmount\":11.93,\"recipient\":\"z01x005ea5ca02a87f2dcf8685c8ae053d2cafb4c1e8b7f0519fb6676e1921\",\"sendAmount\":1.0,\"sender\":\"z01x0081ca38a9e3270c25897ce76b2eed56e58d59dd9b4f82860551ecff52\",\"symbol\":\"zsh/usdt\",\"timestamp\":1630498714.360934,\"tradeTxId\":\"bc2f5c839775dcd8111760cebe37787a81bd7f3353977c116b7b1f0aa83a94f1\"},{\"comissionAmount\":0.0009209866059366195,\"contract\":\"usdt\",\"price\":11.93,\"recieveAmount\":1.0,\"recipient\":\"z01x0081ca38a9e3270c25897ce76b2eed56e58d59dd9b4f82860551ecff52\",\"sendAmount\":11.93,\"sender\":\"z01x005ea5ca02a87f2dcf8685c8ae053d2cafb4c1e8b7f0519fb6676e1921\",\"symbol\":\"zsh/usdt\",\"timestamp\":1630498714.360938,\"tradeTxId\":\"d13ad49d6286fd7d298122b527010ae4709a57dd1736953e266943748ef8602f\"},{\"comissionAmount\":0.02,\"contract\":\"zsh\",\"price\":12.93,\"recieveAmount\":12.93,\"recipient\":\"z01x005ea5ca02a87f2dcf8685c8ae053d2cafb4c1e8b7f0519fb6676e1921\",\"sendAmount\":1.0,\"sender\":\"z01x0081ca38a9e3270c25897ce76b2eed56e58d59dd9b4f82860551ecff52\",\"symbol\":\"zsh/usdt\",\"timestamp\":1630498714.361045,\"tradeTxId\":\"9bbd56507bf541c97d4ba144750736c65eb75b58f2882dcfe0b38229bcbf6d37\"},{\"comissionAmount\":0.0010463704782714253,\"contract\":\"usdt\",\"price\":12.93,\"recieveAmount\":1.0,\"recipient\":\"z01x0081ca38a9e3270c25897ce76b2eed56e58d59dd9b4f82860551ecff52\",\"sendAmount\":12.93,\"sender\":\"z01x005ea5ca02a87f2dcf8685c8ae053d2cafb4c1e8b7f0519fb6676e1921\",\"symbol\":\"zsh/usdt\",\"timestamp\":1630498714.361062,\"tradeTxId\":\"d13ad49d6286fd7d298122b527010ae4709a57dd1736953e266943748ef8602f\"},{\"comissionAmount\":0.02,\"contract\":\"zsh\",\"price\":13.93,\"recieveAmount\":13.93,\"recipient\":\"z01x005ea5ca02a87f2dcf8685c8ae053d2cafb4c1e8b7f0519fb6676e1921\",\"sendAmount\":1.0,\"sender\":\"z01x0081ca38a9e3270c25897ce76b2eed56e58d59dd9b4f82860551ecff52\",\"symbol\":\"zsh/usdt\",\"timestamp\":1630498714.361092,\"tradeTxId\":\"eea703c1d5ef835d547bdb492ec872cc15d020ae095901123de079a65f85ada1\"},{\"comissionAmount\":0.0011895307629904788,\"contract\":\"usdt\",\"price\":13.93,\"recieveAmount\":1.0,\"recipient\":\"z01x0081ca38a9e3270c25897ce76b2eed56e58d59dd9b4f82860551ecff52\",\"sendAmount\":13.93,\"sender\":\"z01x005ea5ca02a87f2dcf8685c8ae053d2cafb4c1e8b7f0519fb6676e1921\",\"symbol\":\"zsh/usdt\",\"timestamp\":1630498714.3611,\"tradeTxId\":\"d13ad49d6286fd7d298122b527010ae4709a57dd1736953e266943748ef8602f\"},{\"comissionAmount\":0.02,\"contract\":\"zsh\",\"price\":14.93,\"recieveAmount\":14.93,\"recipient\":\"z01x005ea5ca02a87f2dcf8685c8ae053d2cafb4c1e8b7f0519fb6676e1921\",\"sendAmount\":1.0,\"sender\":\"z01x0081ca38a9e3270c25897ce76b2eed56e58d59dd9b4f82860551ecff52\",\"symbol\":\"zsh/usdt\",\"timestamp\":1630498714.361115,\"tradeTxId\":\"a7c492705947fbb5359b2d30e18467423b71b6d589e1d1be037126b4018d4efe\"},{\"comissionAmount\":0.001355547485019067,\"contract\":\"usdt\",\"price\":14.93,\"recieveAmount\":1.0,\"recipient\":\"z01x0081ca38a9e3270c25897ce76b2eed56e58d59dd9b4f82860551ecff52\",\"sendAmount\":14.93,\"sender\":\"z01x005ea5ca02a87f2dcf8685c8ae053d2cafb4c1e8b7f0519fb6676e1921\",\"symbol\":\"zsh/usdt\",\"timestamp\":1630498714.361121,\"tradeTxId\":\"d13ad49d6286fd7d298122b527010ae4709a57dd1736953e266943748ef8602f\"},{\"comissionAmount\":0.02,\"contract\":\"zsh\",\"price\":15.93,\"recieveAmount\":15.93,\"recipient\":\"z01x005ea5ca02a87f2dcf8685c8ae053d2cafb4c1e8b7f0519fb6676e1921\",\"sendAmount\":1.0,\"sender\":\"z01x0081ca38a9e3270c25897ce76b2eed56e58d59dd9b4f82860551ecff52\",\"symbol\":\"zsh/usdt\",\"timestamp\":1630498714.361135,\"tradeTxId\":\"7af75537b29bf9c8feea233895cce5e0fd0e1e7c8bb8ae7b75933c0b419c27e8\"},{\"comissionAmount\":0.0015514974433893357,\"contract\":\"usdt\",\"price\":15.93,\"recieveAmount\":1.0,\"recipient\":\"z01x0081ca38a9e3270c25897ce76b2eed56e58d59dd9b4f82860551ecff52\",\"sendAmount\":15.93,\"sender\":\"z01x005ea5ca02a87f2dcf8685c8ae053d2cafb4c1e8b7f0519fb6676e1921\",\"symbol\":\"zsh/usdt\",\"timestamp\":1630498714.36114,\"tradeTxId\":\"d13ad49d6286fd7d298122b527010ae4709a57dd1736953e266943748ef8602f\"},{\"comissionAmount\":0.02,\"contract\":\"zsh\",\"price\":16.93,\"recieveAmount\":16.93,\"recipient\":\"z01x005ea5ca02a87f2dcf8685c8ae053d2cafb4c1e8b7f0519fb6676e1921\",\"sendAmount\":1.0,\"sender\":\"z01x0081ca38a9e3270c25897ce76b2eed56e58d59dd9b4f82860551ecff52\",\"symbol\":\"zsh/usdt\",\"timestamp\":1630498714.361153,\"tradeTxId\":\"e4582d1dae21e9e9ee37d46689f979c6686d25d777a956679078dac7f5e24940\"},{\"comissionAmount\":0.001787562031464471,\"contract\":\"usdt\",\"price\":16.93,\"recieveAmount\":1.0,\"recipient\":\"z01x0081ca38a9e3270c25897ce76b2eed56e58d59dd9b4f82860551ecff52\",\"sendAmount\":16.93,\"sender\":\"z01x005ea5ca02a87f2dcf8685c8ae053d2cafb4c1e8b7f0519fb6676e1921\",\"symbol\":\"zsh/usdt\",\"timestamp\":1630498714.361158,\"tradeTxId\":\"d13ad49d6286fd7d298122b527010ae4709a57dd1736953e266943748ef8602f\"},{\"comissionAmount\":0.02,\"contract\":\"zsh\",\"price\":17.93,\"recieveAmount\":17.93,\"recipient\":\"z01x005ea5ca02a87f2dcf8685c8ae053d2cafb4c1e8b7f0519fb6676e1921\",\"sendAmount\":1.0,\"sender\":\"z01x0081ca38a9e3270c25897ce76b2eed56e58d59dd9b4f82860551ecff52\",\"symbol\":\"zsh/usdt\",\"timestamp\":1630498714.361172,\"tradeTxId\":\"dbb6bc5ec72eb98da6ca9862cee39fab744b7417ae7ea357a11c79b924dbdd4b\"},{\"comissionAmount\":0.0020789610991941566,\"contract\":\"usdt\",\"price\":17.93,\"recieveAmount\":1.0,\"recipient\":\"z01x0081ca38a9e3270c25897ce76b2eed56e58d59dd9b4f82860551ecff52\",\"sendAmount\":17.93,\"sender\":\"z01x005ea5ca02a87f2dcf8685c8ae053d2cafb4c1e8b7f0519fb6676e1921\",\"symbol\":\"zsh/usdt\",\"timestamp\":1630498714.361177,\"tradeTxId\":\"d13ad49d6286fd7d298122b527010ae4709a57dd1736953e266943748ef8602f\"},{\"comissionAmount\":0.02,\"contract\":\"zsh\",\"price\":18.93,\"recieveAmount\":18.93,\"recipient\":\"z01x005ea5ca02a87f2dcf8685c8ae053d2cafb4c1e8b7f0519fb6676e1921\",\"sendAmount\":1.0,\"sender\":\"z01x0081ca38a9e3270c25897ce76b2eed56e58d59dd9b4f82860551ecff52\",\"symbol\":\"zsh/usdt\",\"timestamp\":1630498714.361191,\"tradeTxId\":\"81be77cc5b788968ad59a5d1dd6ff16e710d75029a67017f46c99482d09daccc\"},{\"comissionAmount\":0.0024495341614906843,\"contract\":\"usdt\",\"price\":18.93,\"recieveAmount\":1.0,\"recipient\":\"z01x0081ca38a9e3270c25897ce76b2eed56e58d59dd9b4f82860551ecff52\",\"sendAmount\":18.93,\"sender\":\"z01x005ea5ca02a87f2dcf8685c8ae053d2cafb4c1e8b7f0519fb6676e1921\",\"symbol\":\"zsh/usdt\",\"timestamp\":1630498714.361196,\"tradeTxId\":\"d13ad49d6286fd7d298122b527010ae4709a57dd1736953e266943748ef8602f\"},{\"comissionAmount\":0.02,\"contract\":\"zsh\",\"price\":19.93,\"recieveAmount\":19.93,\"recipient\":\"z01x005ea5ca02a87f2dcf8685c8ae053d2cafb4c1e8b7f0519fb6676e1921\",\"sendAmount\":1.0,\"sender\":\"z01x0081ca38a9e3270c25897ce76b2eed56e58d59dd9b4f82860551ecff52\",\"symbol\":\"zsh/usdt\",\"timestamp\":1630498714.361211,\"tradeTxId\":\"66fd681fc44508f9c28877f926f26fa59c5b6ab3efbd586ceb8cfff19b6ab5e3\"},{\"comissionAmount\":0.0029388778293887798,\"contract\":\"usdt\",\"price\":19.93,\"recieveAmount\":1.0,\"recipient\":\"z01x0081ca38a9e3270c25897ce76b2eed56e58d59dd9b4f82860551ecff52\",\"sendAmount\":19.93,\"sender\":\"z01x005ea5ca02a87f2dcf8685c8ae053d2cafb4c1e8b7f0519fb6676e1921\",\"symbol\":\"zsh/usdt\",\"timestamp\":1630498714.361217,\"tradeTxId\":\"d13ad49d6286fd7d298122b527010ae4709a57dd1736953e266943748ef8602f\"}]}\\n'"
      ]
     },
     "execution_count": 25,
     "metadata": {},
     "output_type": "execute_result"
    }
   ],
   "source": [
    "host = 'http://0.0.0.0:5000'\n",
    "\n",
    "# Coinbase\n",
    "wallet = requests.post(host+'/wallet/new', json={'password': '12345'}).content\n",
    "wallet = requests.post(host+'/wallet/new', json={'password': 'qwerty'}).content\n",
    "\n",
    "name = 'Tether' #Tether Ether\n",
    "symbol = 'usdt' #usdt eth\n",
    "pool = requests.post(host+'/pools/createPool', json={'name': name, 'symbol': symbol}).content\n",
    "\n",
    "login = requests.post(host+'/wallet/login', json={'password': '12345'}).content\n",
    "mineReq = requests.get(host+'/mine').content\n",
    "mineReq = requests.get(host+'/mine').content\n",
    "mineReq = requests.get(host+'/mine').content\n",
    "mineReq = requests.get(host+'/mine').content\n",
    "mineReq = requests.get(host+'/mine').content\n",
    "mineReq = requests.get(host+'/mine').content\n",
    "mineReq = requests.get(host+'/mine').content\n",
    "mineReq = requests.get(host+'/mine').content\n",
    "mineReq = requests.get(host+'/mine').content\n",
    "mineReq = requests.get(host+'/mine').content\n",
    "\n",
    "с = 0\n",
    "sellTx = {\n",
    "        'type': 'trade',\n",
    "        'sender': json.loads(login)['ADDRESS'],\n",
    "        'symbol': 'zsh/usdt',\n",
    "        'price': 10.93+с,\n",
    "        'send': 'zsh',\n",
    "        'sendVol': 1.0,\n",
    "        'get': 'usdt',\n",
    "        'getVol': 10.93+с,\n",
    "        'comissionAmount':2\n",
    "    }\n",
    "txReq = requests.post(host+'/transactions/new', json=sellTx).content\n",
    "с+=1\n",
    "sellTx = {\n",
    "        'type': 'trade',\n",
    "        'sender': json.loads(login)['ADDRESS'],\n",
    "        'symbol': 'zsh/usdt',\n",
    "        'price': 10.93+с,\n",
    "        'send': 'zsh',\n",
    "        'sendVol': 1.0,\n",
    "        'get': 'usdt',\n",
    "        'getVol': 10.93+с,\n",
    "        'comissionAmount':2\n",
    "    }\n",
    "txReq = requests.post(host+'/transactions/new', json=sellTx).content\n",
    "с+=1\n",
    "sellTx = {\n",
    "        'type': 'trade',\n",
    "        'sender': json.loads(login)['ADDRESS'],\n",
    "        'symbol': 'zsh/usdt',\n",
    "        'price': 10.93+с,\n",
    "        'send': 'zsh',\n",
    "        'sendVol': 1.0,\n",
    "        'get': 'usdt',\n",
    "        'getVol': 10.93+с,\n",
    "        'comissionAmount':2\n",
    "    }\n",
    "txReq = requests.post(host+'/transactions/new', json=sellTx).content\n",
    "с+=1\n",
    "sellTx = {\n",
    "        'type': 'trade',\n",
    "        'sender': json.loads(login)['ADDRESS'],\n",
    "        'symbol': 'zsh/usdt',\n",
    "        'price': 10.93+с,\n",
    "        'send': 'zsh',\n",
    "        'sendVol': 1.0,\n",
    "        'get': 'usdt',\n",
    "        'getVol': 10.93+с,\n",
    "        'comissionAmount':2\n",
    "    }\n",
    "txReq = requests.post(host+'/transactions/new', json=sellTx).content\n",
    "с+=1\n",
    "sellTx = {\n",
    "        'type': 'trade',\n",
    "        'sender': json.loads(login)['ADDRESS'],\n",
    "        'symbol': 'zsh/usdt',\n",
    "        'price': 10.93+с,\n",
    "        'send': 'zsh',\n",
    "        'sendVol': 1.0,\n",
    "        'get': 'usdt',\n",
    "        'getVol': 10.93+с,\n",
    "        'comissionAmount':2\n",
    "    }\n",
    "txReq = requests.post(host+'/transactions/new', json=sellTx).content\n",
    "с+=1\n",
    "sellTx = {\n",
    "        'type': 'trade',\n",
    "        'sender': json.loads(login)['ADDRESS'],\n",
    "        'symbol': 'zsh/usdt',\n",
    "        'price': 10.93+с,\n",
    "        'send': 'zsh',\n",
    "        'sendVol': 1.0,\n",
    "        'get': 'usdt',\n",
    "        'getVol': 10.93+с,\n",
    "        'comissionAmount':2\n",
    "    }\n",
    "txReq = requests.post(host+'/transactions/new', json=sellTx).content\n",
    "с+=1\n",
    "sellTx = {\n",
    "        'type': 'trade',\n",
    "        'sender': json.loads(login)['ADDRESS'],\n",
    "        'symbol': 'zsh/usdt',\n",
    "        'price': 10.93+с,\n",
    "        'send': 'zsh',\n",
    "        'sendVol': 1.0,\n",
    "        'get': 'usdt',\n",
    "        'getVol': 10.93+с,\n",
    "        'comissionAmount':2\n",
    "    }\n",
    "txReq = requests.post(host+'/transactions/new', json=sellTx).content\n",
    "с+=1\n",
    "sellTx = {\n",
    "        'type': 'trade',\n",
    "        'sender': json.loads(login)['ADDRESS'],\n",
    "        'symbol': 'zsh/usdt',\n",
    "        'price': 10.93+с,\n",
    "        'send': 'zsh',\n",
    "        'sendVol': 1.0,\n",
    "        'get': 'usdt',\n",
    "        'getVol': 10.93+с,\n",
    "        'comissionAmount':2\n",
    "    }\n",
    "txReq = requests.post(host+'/transactions/new', json=sellTx).content\n",
    "с+=1\n",
    "sellTx = {\n",
    "        'type': 'trade',\n",
    "        'sender': json.loads(login)['ADDRESS'],\n",
    "        'symbol': 'zsh/usdt',\n",
    "        'price': 10.93+с,\n",
    "        'send': 'zsh',\n",
    "        'sendVol': 1.0,\n",
    "        'get': 'usdt',\n",
    "        'getVol': 10.93+с,\n",
    "        'comissionAmount':2\n",
    "    }\n",
    "txReq = requests.post(host+'/transactions/new', json=sellTx).content\n",
    "с+=1\n",
    "sellTx = {\n",
    "        'type': 'trade',\n",
    "        'sender': json.loads(login)['ADDRESS'],\n",
    "        'symbol': 'zsh/usdt',\n",
    "        'price': 10.93+с,\n",
    "        'send': 'zsh',\n",
    "        'sendVol': 1.0,\n",
    "        'get': 'usdt',\n",
    "        'getVol': 10.93+с,\n",
    "        'comissionAmount':2\n",
    "    }\n",
    "txReq = requests.post(host+'/transactions/new', json=sellTx).content\n",
    "\n",
    "\n",
    "с=0\n",
    "login = requests.post(host+'/wallet/login', json={'password': 'qwerty'}).content\n",
    "\n",
    "buyTx = {\n",
    "        'type': 'trade',\n",
    "        'sender': json.loads(login)['ADDRESS'],\n",
    "        'symbol': 'zsh/usdt',\n",
    "        'price': 25.25+с,\n",
    "        'send': 'usdt',\n",
    "        'sendVol': 252.5+с,\n",
    "        'get': 'zsh',\n",
    "        'getVol': 10.0,\n",
    "        'comissionAmount':2\n",
    "    }\n",
    "txReq = requests.post(host+'/transactions/new', json=buyTx).content\n",
    "с-=1\n",
    "buyTx = {\n",
    "        'type': 'trade',\n",
    "        'sender': json.loads(login)['ADDRESS'],\n",
    "        'symbol': 'zsh/usdt',\n",
    "        'price': 27,\n",
    "        'send': 'usdt',\n",
    "        'sendVol': 270,\n",
    "        'get': 'zsh',\n",
    "        'getVol': 10.0,\n",
    "        'comissionAmount':2\n",
    "    }\n",
    "txReq = requests.post(host+'/transactions/new', json=buyTx).content\n",
    "# с-=1\n",
    "# buyTx = {\n",
    "#         'type': 'trade',\n",
    "#         'sender': json.loads(login)['ADDRESS'],\n",
    "#         'symbol': 'zsh/usdt',\n",
    "#         'price': 9.93+с,\n",
    "#         'send': 'usdt',\n",
    "#         'sendVol': 9.93+с,\n",
    "#         'get': 'zsh',\n",
    "#         'getVol': 1.0,\n",
    "#         'comissionAmount':2\n",
    "#     }\n",
    "# txReq = requests.post(host+'/transactions/new', json=buyTx).content\n",
    "# с-=1\n",
    "# buyTx = {\n",
    "#         'type': 'trade',\n",
    "#         'sender': json.loads(login)['ADDRESS'],\n",
    "#         'symbol': 'zsh/usdt',\n",
    "#         'price': 9.93+с,\n",
    "#         'send': 'usdt',\n",
    "#         'sendVol': 9.93+с,\n",
    "#         'get': 'zsh',\n",
    "#         'getVol': 1.0,\n",
    "#         'comissionAmount':2\n",
    "#     }\n",
    "# txReq = requests.post(host+'/transactions/new', json=buyTx).content\n",
    "# с-=1\n",
    "# buyTx = {\n",
    "#         'type': 'trade',\n",
    "#         'sender': json.loads(login)['ADDRESS'],\n",
    "#         'symbol': 'zsh/usdt',\n",
    "#         'price': 9.93+с,\n",
    "#         'send': 'usdt',\n",
    "#         'sendVol': 9.93+с,\n",
    "#         'get': 'zsh',\n",
    "#         'getVol': 1.0,\n",
    "#         'comissionAmount':2\n",
    "#     }\n",
    "# txReq = requests.post(host+'/transactions/new', json=buyTx).content\n",
    "# с-=1\n",
    "# buyTx = {\n",
    "#         'type': 'trade',\n",
    "#         'sender': json.loads(login)['ADDRESS'],\n",
    "#         'symbol': 'zsh/usdt',\n",
    "#         'price': 9.93+с,\n",
    "#         'send': 'usdt',\n",
    "#         'sendVol': 9.93+с,\n",
    "#         'get': 'zsh',\n",
    "#         'getVol': 1.0,\n",
    "#         'comissionAmount':2\n",
    "#     }\n",
    "# txReq = requests.post(host+'/transactions/new', json=buyTx).content\n",
    "# с-=1\n",
    "# buyTx = {\n",
    "#         'type': 'trade',\n",
    "#         'sender': json.loads(login)['ADDRESS'],\n",
    "#         'symbol': 'zsh/usdt',\n",
    "#         'price': 9.93+с,\n",
    "#         'send': 'usdt',\n",
    "#         'sendVol': 9.93+с,\n",
    "#         'get': 'zsh',\n",
    "#         'getVol': 1.0,\n",
    "#         'comissionAmount':2\n",
    "#     }\n",
    "# txReq = requests.post(host+'/transactions/new', json=buyTx).content\n",
    "# с-=1\n",
    "# buyTx = {\n",
    "#         'type': 'trade',\n",
    "#         'sender': json.loads(login)['ADDRESS'],\n",
    "#         'symbol': 'zsh/usdt',\n",
    "#         'price': 9.93+с,\n",
    "#         'send': 'usdt',\n",
    "#         'sendVol': 9.93+с,\n",
    "#         'get': 'zsh',\n",
    "#         'getVol': 1.0,\n",
    "#         'comissionAmount':2\n",
    "#     }\n",
    "# txReq = requests.post(host+'/transactions/new', json=buyTx).content\n",
    "# с-=1\n",
    "# buyTx = {\n",
    "#         'type': 'trade',\n",
    "#         'sender': json.loads(login)['ADDRESS'],\n",
    "#         'symbol': 'zsh/usdt',\n",
    "#         'price': 9.93+с,\n",
    "#         'send': 'usdt',\n",
    "#         'sendVol': 9.93+с,\n",
    "#         'get': 'zsh',\n",
    "#         'getVol': 1.0,\n",
    "#         'comissionAmount':2\n",
    "#     }\n",
    "# txReq = requests.post(host+'/transactions/new', json=buyTx).content\n",
    "# с-=1\n",
    "# buyTx = {\n",
    "#         'type': 'trade',\n",
    "#         'sender': json.loads(login)['ADDRESS'],\n",
    "#         'symbol': 'zsh/usdt',\n",
    "#         'price': 9.93+с,\n",
    "#         'send': 'usdt',\n",
    "#         'sendVol': 9.93+с,\n",
    "#         'get': 'zsh',\n",
    "#         'getVol': 1.0,\n",
    "#         'comissionAmount':2\n",
    "#     }\n",
    "# txReq = requests.post(host+'/transactions/new', json=buyTx).content\n",
    "\n",
    "\n",
    "mineReq = requests.get(host+'/mine').content\n",
    "mineReq"
   ]
  },
  {
   "cell_type": "code",
   "execution_count": null,
   "metadata": {},
   "outputs": [],
   "source": []
  },
  {
   "cell_type": "code",
   "execution_count": 26,
   "metadata": {
    "scrolled": true
   },
   "outputs": [
    {
     "data": {
      "text/plain": [
       "[{'comissionAmount': 2.0,\n",
       "  'get': 'zsh',\n",
       "  'getVol': 10.0,\n",
       "  'price': 25.25,\n",
       "  'send': 'usdt',\n",
       "  'sendVol': 252.5,\n",
       "  'sender': 'z01x005ea5ca02a87f2dcf8685c8ae053d2cafb4c1e8b7f0519fb6676e1921',\n",
       "  'symbol': 'zsh/usdt',\n",
       "  'timestamp': 1630498714.252787,\n",
       "  'tradeTxId': '9b998ddead8d4349bdb776b89e8274309602dea347c814ad8f6c5bfe10b40806'}]"
      ]
     },
     "execution_count": 26,
     "metadata": {},
     "output_type": "execute_result"
    }
   ],
   "source": [
    "ordersList = json.loads(requests.get(host+'/getTradeOrders').content)['tradeOrders']\n",
    "ordersList"
   ]
  },
  {
   "cell_type": "code",
   "execution_count": 15,
   "metadata": {},
   "outputs": [],
   "source": [
    "login = requests.post(host+'/wallet/login', json={'password': '12345'}).content"
   ]
  },
  {
   "cell_type": "code",
   "execution_count": 23,
   "metadata": {},
   "outputs": [
    {
     "data": {
      "text/plain": [
       "b'{\"index\":37,\"message\":\"New Block Forged\",\"pool_syncing\":\"Tx pool synced among 0 nodes\",\"previous_hash\":\"375773c14fa6dc452f506b7387b4dbb6d22357b93efac7c8cfa70a882c65fd6d\",\"proof\":11,\"transactions\":[{\"comissionAmount\":1.0,\"contract\":null,\"price\":0.0,\"recieveAmount\":null,\"recipient\":\"z01x008d58f8df5963a8bf0790264c612280987253dc0af0cb55897423f832\",\"sendAmount\":1,\"sender\":\"z01x0000000000000000000000000000000000000000000000000000000000\",\"symbol\":\"zsh\",\"timestamp\":1630498353.197109,\"tradeTxId\":null},{\"comissionAmount\":0.003333333333333333,\"contract\":\"zsh\",\"price\":2.0,\"recieveAmount\":2.0,\"recipient\":\"z01x00489ed1c516130d5021eb8d4582828bee0ec861b0f97febd73c66ecef\",\"sendAmount\":1.0,\"sender\":\"z01x008d58f8df5963a8bf0790264c612280987253dc0af0cb55897423f832\",\"symbol\":\"zsh/usdt\",\"timestamp\":1630498353.197181,\"tradeTxId\":\"5183cdea4821883677ef4671e5351ec902cf5108c10b0afd0bf4323bfcb79686\"},{\"comissionAmount\":0.004479283314669653,\"contract\":\"usdt\",\"price\":2.0,\"recieveAmount\":1.0,\"recipient\":\"z01x008d58f8df5963a8bf0790264c612280987253dc0af0cb55897423f832\",\"sendAmount\":2.0,\"sender\":\"z01x00489ed1c516130d5021eb8d4582828bee0ec861b0f97febd73c66ecef\",\"symbol\":\"zsh/usdt\",\"timestamp\":1630498353.197188,\"tradeTxId\":\"853447c462a323a2d07f05ff975a931a5656550e7eb8bd2905d88450c6605722\"},{\"comissionAmount\":0.004,\"contract\":\"zsh\",\"price\":2.0,\"recieveAmount\":2.0,\"recipient\":\"z01x00489ed1c516130d5021eb8d4582828bee0ec861b0f97febd73c66ecef\",\"sendAmount\":1.0,\"sender\":\"z01x008d58f8df5963a8bf0790264c612280987253dc0af0cb55897423f832\",\"symbol\":\"zsh/usdt\",\"timestamp\":1630498353.197199,\"tradeTxId\":\"5183cdea4821883677ef4671e5351ec902cf5108c10b0afd0bf4323bfcb79686\"},{\"comissionAmount\":0.005044136191677175,\"contract\":\"usdt\",\"price\":2.0,\"recieveAmount\":1.0,\"recipient\":\"z01x008d58f8df5963a8bf0790264c612280987253dc0af0cb55897423f832\",\"sendAmount\":2.0,\"sender\":\"z01x00489ed1c516130d5021eb8d4582828bee0ec861b0f97febd73c66ecef\",\"symbol\":\"zsh/usdt\",\"timestamp\":1630498353.197203,\"tradeTxId\":\"9c3de68036b023ce472cd13f240b0e39c6119265309bc272f20b2f8fdfcf8852\"},{\"comissionAmount\":0.005,\"contract\":\"zsh\",\"price\":2.0,\"recieveAmount\":2.0,\"recipient\":\"z01x00489ed1c516130d5021eb8d4582828bee0ec861b0f97febd73c66ecef\",\"sendAmount\":1.0,\"sender\":\"z01x008d58f8df5963a8bf0790264c612280987253dc0af0cb55897423f832\",\"symbol\":\"zsh/usdt\",\"timestamp\":1630498353.197211,\"tradeTxId\":\"5183cdea4821883677ef4671e5351ec902cf5108c10b0afd0bf4323bfcb79686\"},{\"comissionAmount\":0.005772005772005773,\"contract\":\"usdt\",\"price\":2.0,\"recieveAmount\":1.0,\"recipient\":\"z01x008d58f8df5963a8bf0790264c612280987253dc0af0cb55897423f832\",\"sendAmount\":2.0,\"sender\":\"z01x00489ed1c516130d5021eb8d4582828bee0ec861b0f97febd73c66ecef\",\"symbol\":\"zsh/usdt\",\"timestamp\":1630498353.197214,\"tradeTxId\":\"c75b5b1dfb9a8527de5ae67af0d89005ef5393b390e5133339cacfae75def4e0\"},{\"comissionAmount\":0.006666666666666666,\"contract\":\"zsh\",\"price\":2.0,\"recieveAmount\":2.0,\"recipient\":\"z01x00489ed1c516130d5021eb8d4582828bee0ec861b0f97febd73c66ecef\",\"sendAmount\":1.0,\"sender\":\"z01x008d58f8df5963a8bf0790264c612280987253dc0af0cb55897423f832\",\"symbol\":\"zsh/usdt\",\"timestamp\":1630498353.197221,\"tradeTxId\":\"5183cdea4821883677ef4671e5351ec902cf5108c10b0afd0bf4323bfcb79686\"},{\"comissionAmount\":0.0067453625632377745,\"contract\":\"usdt\",\"price\":2.0,\"recieveAmount\":1.0,\"recipient\":\"z01x008d58f8df5963a8bf0790264c612280987253dc0af0cb55897423f832\",\"sendAmount\":2.0,\"sender\":\"z01x00489ed1c516130d5021eb8d4582828bee0ec861b0f97febd73c66ecef\",\"symbol\":\"zsh/usdt\",\"timestamp\":1630498353.197223,\"tradeTxId\":\"e10cc26ae4f09237dac2a2e7dc4db6d1d5bd6c9bfe8e11385c6294c338bb467c\"},{\"comissionAmount\":0.01,\"contract\":\"zsh\",\"price\":2.0,\"recieveAmount\":2.0,\"recipient\":\"z01x00489ed1c516130d5021eb8d4582828bee0ec861b0f97febd73c66ecef\",\"sendAmount\":1.0,\"sender\":\"z01x008d58f8df5963a8bf0790264c612280987253dc0af0cb55897423f832\",\"symbol\":\"zsh/usdt\",\"timestamp\":1630498353.19723,\"tradeTxId\":\"5183cdea4821883677ef4671e5351ec902cf5108c10b0afd0bf4323bfcb79686\"},{\"comissionAmount\":0.008113590263691685,\"contract\":\"usdt\",\"price\":2.0,\"recieveAmount\":1.0,\"recipient\":\"z01x008d58f8df5963a8bf0790264c612280987253dc0af0cb55897423f832\",\"sendAmount\":2.0,\"sender\":\"z01x00489ed1c516130d5021eb8d4582828bee0ec861b0f97febd73c66ecef\",\"symbol\":\"zsh/usdt\",\"timestamp\":1630498353.197233,\"tradeTxId\":\"fd9ee2133a073a546f200353e8680658ff3910d5ae449ff5b8f359f5db7763e4\"},{\"comissionAmount\":0.02,\"contract\":\"zsh\",\"price\":2.0,\"recieveAmount\":2.0,\"recipient\":\"z01x00489ed1c516130d5021eb8d4582828bee0ec861b0f97febd73c66ecef\",\"sendAmount\":1.0,\"sender\":\"z01x008d58f8df5963a8bf0790264c612280987253dc0af0cb55897423f832\",\"symbol\":\"zsh/usdt\",\"timestamp\":1630498353.197239,\"tradeTxId\":\"5183cdea4821883677ef4671e5351ec902cf5108c10b0afd0bf4323bfcb79686\"},{\"comissionAmount\":0.010178117048346057,\"contract\":\"usdt\",\"price\":2.0,\"recieveAmount\":1.0,\"recipient\":\"z01x008d58f8df5963a8bf0790264c612280987253dc0af0cb55897423f832\",\"sendAmount\":2.0,\"sender\":\"z01x00489ed1c516130d5021eb8d4582828bee0ec861b0f97febd73c66ecef\",\"symbol\":\"zsh/usdt\",\"timestamp\":1630498353.197242,\"tradeTxId\":\"bb2118b9068c5eeb2ace29dba226c24240b4bfde801f21d7631a87e0d8ca65c6\"}]}\\n'"
      ]
     },
     "execution_count": 23,
     "metadata": {},
     "output_type": "execute_result"
    }
   ],
   "source": [
    "sellTx = {\n",
    "        'type': 'trade',\n",
    "        'sender': json.loads(login)['ADDRESS'],\n",
    "        'symbol': 'zsh/usdt',\n",
    "        'price': 2.0,\n",
    "        'send': 'zsh',\n",
    "        'sendVol': 6.0,\n",
    "        'get': 'usdt',\n",
    "        'getVol': 12.0,\n",
    "        'comissionAmount':2\n",
    "    }\n",
    "txReq = requests.post(host+'/transactions/new', json=sellTx).content\n",
    "\n",
    "\n",
    "mineReq = requests.get(host+'/mine').content\n",
    "mineReq"
   ]
  },
  {
   "cell_type": "code",
   "execution_count": null,
   "metadata": {},
   "outputs": [],
   "source": []
  },
  {
   "cell_type": "code",
   "execution_count": 67,
   "metadata": {},
   "outputs": [
    {
     "data": {
      "text/plain": [
       "20"
      ]
     },
     "execution_count": 67,
     "metadata": {},
     "output_type": "execute_result"
    }
   ],
   "source": [
    "sybmolSortedLst = sorted([(ordersList[i]['sender'],ordersList[i]['symbol'],\\\n",
    "                            ordersList[i]['send'],ordersList[i]['get'],\\\n",
    "                           ordersList[i]['price'],ordersList[i]['tradeTxId'],)\\\n",
    "                          for i in range(len(ordersList))], key=itemgetter(4, 2, 1))\n",
    "len(sybmolSortedLst)"
   ]
  },
  {
   "cell_type": "code",
   "execution_count": 65,
   "metadata": {},
   "outputs": [],
   "source": [
    "import re\n",
    "from operator import itemgetter\n",
    "\n",
    "def matchOrders(ordersPool):\n",
    "\n",
    "\n",
    "    sybmolSortedLst = sorted([(ordersPool[i]['sender'],ordersPool[i]['symbol'],\\\n",
    "                            ordersPool[i]['send'],ordersPool[i]['get'],\\\n",
    "                           ordersPool[i]['price'],ordersPool[i]['tradeTxId'],)\\\n",
    "                          for i in range(len(ordersPool))], key=itemgetter(4, 2, 1))\n",
    "\n",
    "    mathchedOrders = []\n",
    "    c = 0\n",
    "    for i in range(int(len(sybmolSortedLst)/2)):\n",
    "        if (sybmolSortedLst[c][2] == sybmolSortedLst[c+1][3]) and (sybmolSortedLst[c][3] == sybmolSortedLst[c+1][2]) :\n",
    "\n",
    "            # Split symbol and define direction and price matching\n",
    "            splittedSymbol1 = re.split(r'/', sybmolSortedLst[c][1])[0]\n",
    "            splittedSymbol2 = re.split(r'/', sybmolSortedLst[c+1][1])[0]\n",
    "\n",
    "            if ((splittedSymbol1 == sybmolSortedLst[c][2] and splittedSymbol2 == sybmolSortedLst[c+1][3]) \\\n",
    "                and (sybmolSortedLst[c][4] <= sybmolSortedLst[c+1][4])) \\\n",
    "                or ((splittedSymbol1 == sybmolSortedLst[c][3] and splittedSymbol2 == sybmolSortedLst[c+1][2])\\\n",
    "                   and (sybmolSortedLst[c][4] >= sybmolSortedLst[c+1][4])):\n",
    "\n",
    "                mathchedOrders.append((sybmolSortedLst[c], sybmolSortedLst[c+1],))\n",
    "                c+=2\n",
    "\n",
    "    return mathchedOrders\n"
   ]
  },
  {
   "cell_type": "code",
   "execution_count": null,
   "metadata": {},
   "outputs": [],
   "source": []
  },
  {
   "cell_type": "code",
   "execution_count": 69,
   "metadata": {},
   "outputs": [
    {
     "data": {
      "text/plain": [
       "[(('z01x004899db1c170b7eda76a739b24998936afe833edb17c0f0f83a7ee756',\n",
       "   'zsh/usdt',\n",
       "   'usdt',\n",
       "   'zsh',\n",
       "   9.93,\n",
       "   '2472f804b268232fd836642a5e3aef6212ba00727aed730ef358b244f2d82fea'),\n",
       "  ('z01x000cfb7e8773487fe02d9c9ecac125c29e95a4f2a64e19ffb17225f7e5',\n",
       "   'zsh/usdt',\n",
       "   'zsh',\n",
       "   'usdt',\n",
       "   9.93,\n",
       "   '70e7ae90ae2559a1d93fb9d02bf835d3944a6bc346b948a198008bc3e7d0f916')),\n",
       " (('z01x004899db1c170b7eda76a739b24998936afe833edb17c0f0f83a7ee756',\n",
       "   'zsh/usdt',\n",
       "   'usdt',\n",
       "   'zsh',\n",
       "   10.93,\n",
       "   'c510fa4bd53d5c6181d680bbc8a67be1a7430ff5f6643a5e2c4465774c8d618f'),\n",
       "  ('z01x000cfb7e8773487fe02d9c9ecac125c29e95a4f2a64e19ffb17225f7e5',\n",
       "   'zsh/usdt',\n",
       "   'zsh',\n",
       "   'usdt',\n",
       "   10.93,\n",
       "   '89fb43e19e27203df6e1fc159d5f4c28d818f96f2fa5e527146cb345ea031622')),\n",
       " (('z01x004899db1c170b7eda76a739b24998936afe833edb17c0f0f83a7ee756',\n",
       "   'zsh/usdt',\n",
       "   'usdt',\n",
       "   'zsh',\n",
       "   11.93,\n",
       "   'db3f7b04943d911a39f4b78a1af5f127a78d50d3b2e276e8bce9ea6390a8d84a'),\n",
       "  ('z01x000cfb7e8773487fe02d9c9ecac125c29e95a4f2a64e19ffb17225f7e5',\n",
       "   'zsh/usdt',\n",
       "   'zsh',\n",
       "   'usdt',\n",
       "   11.93,\n",
       "   '93028616d4f7dad3020e83cbabf1b4c8baf975e1a78c50a5f8964955b20dca78')),\n",
       " (('z01x004899db1c170b7eda76a739b24998936afe833edb17c0f0f83a7ee756',\n",
       "   'zsh/usdt',\n",
       "   'usdt',\n",
       "   'zsh',\n",
       "   12.93,\n",
       "   '4fa3d0c963971386f2d96daba809fb4ca65fadf2271829f7b9da03e6c973b5b5'),\n",
       "  ('z01x000cfb7e8773487fe02d9c9ecac125c29e95a4f2a64e19ffb17225f7e5',\n",
       "   'zsh/usdt',\n",
       "   'zsh',\n",
       "   'usdt',\n",
       "   12.93,\n",
       "   'ca5bc3497dfa7b04ff6065109a342c5dbebb61d309d6b566f845052d20b2b785')),\n",
       " (('z01x004899db1c170b7eda76a739b24998936afe833edb17c0f0f83a7ee756',\n",
       "   'zsh/usdt',\n",
       "   'usdt',\n",
       "   'zsh',\n",
       "   13.93,\n",
       "   'f020456c22d26202313bdef0b61d2c3325ca4701e7a492a2f465a481c844a14a'),\n",
       "  ('z01x000cfb7e8773487fe02d9c9ecac125c29e95a4f2a64e19ffb17225f7e5',\n",
       "   'zsh/usdt',\n",
       "   'zsh',\n",
       "   'usdt',\n",
       "   13.93,\n",
       "   '2e3e0e239503c99e666329ffe02b08d41a90f0f85fd783c54bf904c4ccdccc32')),\n",
       " (('z01x004899db1c170b7eda76a739b24998936afe833edb17c0f0f83a7ee756',\n",
       "   'zsh/usdt',\n",
       "   'usdt',\n",
       "   'zsh',\n",
       "   14.93,\n",
       "   'a2b51c3ad35988c83f6f20f2e03a65bf802e1dc6b5b0c7b5f254fa04027d8414'),\n",
       "  ('z01x000cfb7e8773487fe02d9c9ecac125c29e95a4f2a64e19ffb17225f7e5',\n",
       "   'zsh/usdt',\n",
       "   'zsh',\n",
       "   'usdt',\n",
       "   14.93,\n",
       "   '6ce06e3744a04331d6c3c396c11a40a9eed8a0025d1cd4d27dcd02893455dc6e')),\n",
       " (('z01x004899db1c170b7eda76a739b24998936afe833edb17c0f0f83a7ee756',\n",
       "   'zsh/usdt',\n",
       "   'usdt',\n",
       "   'zsh',\n",
       "   15.93,\n",
       "   '81f67313d58f7cd1fff3a5ba7455268fb24b56116ba833f61d1d6513270b72b8'),\n",
       "  ('z01x000cfb7e8773487fe02d9c9ecac125c29e95a4f2a64e19ffb17225f7e5',\n",
       "   'zsh/usdt',\n",
       "   'zsh',\n",
       "   'usdt',\n",
       "   15.93,\n",
       "   '4b2b7a37ac56adcc5ec8249800f2b135424b29c4f8388e2b3591ab3998997a53')),\n",
       " (('z01x004899db1c170b7eda76a739b24998936afe833edb17c0f0f83a7ee756',\n",
       "   'zsh/usdt',\n",
       "   'usdt',\n",
       "   'zsh',\n",
       "   16.93,\n",
       "   '92530681ffde4da9666a9aa81a7ac270b3f5d9a2d6a4c596b792755f76d83cad'),\n",
       "  ('z01x000cfb7e8773487fe02d9c9ecac125c29e95a4f2a64e19ffb17225f7e5',\n",
       "   'zsh/usdt',\n",
       "   'zsh',\n",
       "   'usdt',\n",
       "   16.93,\n",
       "   'e4baca60d6234acb4dbc46e0ebd433aa6bb7f78c402895658df5a4b687bb0322')),\n",
       " (('z01x004899db1c170b7eda76a739b24998936afe833edb17c0f0f83a7ee756',\n",
       "   'zsh/usdt',\n",
       "   'usdt',\n",
       "   'zsh',\n",
       "   17.93,\n",
       "   'e554201d76c28e143876601f52e1098c358273f3fe96e2b470a0c37afe80e45a'),\n",
       "  ('z01x000cfb7e8773487fe02d9c9ecac125c29e95a4f2a64e19ffb17225f7e5',\n",
       "   'zsh/usdt',\n",
       "   'zsh',\n",
       "   'usdt',\n",
       "   17.93,\n",
       "   '8643a17368da24c14b7d33e195f471dd1c1cee8a52ae77e63b5925636f00acdc')),\n",
       " (('z01x004899db1c170b7eda76a739b24998936afe833edb17c0f0f83a7ee756',\n",
       "   'zsh/usdt',\n",
       "   'usdt',\n",
       "   'zsh',\n",
       "   18.93,\n",
       "   '4166f1b22f6cb432851731007b383a8b221b57f4dd50c6d1f0e7aa32957f35eb'),\n",
       "  ('z01x000cfb7e8773487fe02d9c9ecac125c29e95a4f2a64e19ffb17225f7e5',\n",
       "   'zsh/usdt',\n",
       "   'zsh',\n",
       "   'usdt',\n",
       "   18.93,\n",
       "   '77300bd86c4d82cf41477d5a130eb2c6b93c702c97b9d8c4e344b8b0e6a96a0b'))]"
      ]
     },
     "execution_count": 69,
     "metadata": {},
     "output_type": "execute_result"
    }
   ],
   "source": [
    "mathchedOrders = matchOrders(ordersList)\n",
    "mathchedOrders"
   ]
  },
  {
   "cell_type": "code",
   "execution_count": 61,
   "metadata": {},
   "outputs": [
    {
     "data": {
      "text/plain": [
       "['70e7ae90ae2559a1d93fb9d02bf835d3944a6bc346b948a198008bc3e7d0f916',\n",
       " 'c510fa4bd53d5c6181d680bbc8a67be1a7430ff5f6643a5e2c4465774c8d618f']"
      ]
     },
     "execution_count": 61,
     "metadata": {},
     "output_type": "execute_result"
    }
   ],
   "source": [
    "tempLst = [mathchedOrders[1][0][-1], mathchedOrders[1][1][-1]]\n",
    "tempLst"
   ]
  },
  {
   "cell_type": "code",
   "execution_count": 59,
   "metadata": {},
   "outputs": [
    {
     "name": "stdout",
     "output_type": "stream",
     "text": [
      "['2472f804b268232fd836642a5e3aef6212ba00727aed730ef358b244f2d82fea', '70e7ae90ae2559a1d93fb9d02bf835d3944a6bc346b948a198008bc3e7d0f916']\n",
      "['70e7ae90ae2559a1d93fb9d02bf835d3944a6bc346b948a198008bc3e7d0f916', 'c510fa4bd53d5c6181d680bbc8a67be1a7430ff5f6643a5e2c4465774c8d618f']\n",
      "['c510fa4bd53d5c6181d680bbc8a67be1a7430ff5f6643a5e2c4465774c8d618f', '89fb43e19e27203df6e1fc159d5f4c28d818f96f2fa5e527146cb345ea031622']\n",
      "['89fb43e19e27203df6e1fc159d5f4c28d818f96f2fa5e527146cb345ea031622', 'db3f7b04943d911a39f4b78a1af5f127a78d50d3b2e276e8bce9ea6390a8d84a']\n",
      "['db3f7b04943d911a39f4b78a1af5f127a78d50d3b2e276e8bce9ea6390a8d84a', '93028616d4f7dad3020e83cbabf1b4c8baf975e1a78c50a5f8964955b20dca78']\n",
      "['93028616d4f7dad3020e83cbabf1b4c8baf975e1a78c50a5f8964955b20dca78', '4fa3d0c963971386f2d96daba809fb4ca65fadf2271829f7b9da03e6c973b5b5']\n",
      "['4fa3d0c963971386f2d96daba809fb4ca65fadf2271829f7b9da03e6c973b5b5', 'ca5bc3497dfa7b04ff6065109a342c5dbebb61d309d6b566f845052d20b2b785']\n",
      "['ca5bc3497dfa7b04ff6065109a342c5dbebb61d309d6b566f845052d20b2b785', 'f020456c22d26202313bdef0b61d2c3325ca4701e7a492a2f465a481c844a14a']\n",
      "['f020456c22d26202313bdef0b61d2c3325ca4701e7a492a2f465a481c844a14a', '2e3e0e239503c99e666329ffe02b08d41a90f0f85fd783c54bf904c4ccdccc32']\n",
      "['2e3e0e239503c99e666329ffe02b08d41a90f0f85fd783c54bf904c4ccdccc32', 'a2b51c3ad35988c83f6f20f2e03a65bf802e1dc6b5b0c7b5f254fa04027d8414']\n",
      "['a2b51c3ad35988c83f6f20f2e03a65bf802e1dc6b5b0c7b5f254fa04027d8414', '6ce06e3744a04331d6c3c396c11a40a9eed8a0025d1cd4d27dcd02893455dc6e']\n",
      "['6ce06e3744a04331d6c3c396c11a40a9eed8a0025d1cd4d27dcd02893455dc6e', '81f67313d58f7cd1fff3a5ba7455268fb24b56116ba833f61d1d6513270b72b8']\n",
      "['81f67313d58f7cd1fff3a5ba7455268fb24b56116ba833f61d1d6513270b72b8', '4b2b7a37ac56adcc5ec8249800f2b135424b29c4f8388e2b3591ab3998997a53']\n",
      "['4b2b7a37ac56adcc5ec8249800f2b135424b29c4f8388e2b3591ab3998997a53', '92530681ffde4da9666a9aa81a7ac270b3f5d9a2d6a4c596b792755f76d83cad']\n",
      "['92530681ffde4da9666a9aa81a7ac270b3f5d9a2d6a4c596b792755f76d83cad', 'e4baca60d6234acb4dbc46e0ebd433aa6bb7f78c402895658df5a4b687bb0322']\n",
      "['e4baca60d6234acb4dbc46e0ebd433aa6bb7f78c402895658df5a4b687bb0322', 'e554201d76c28e143876601f52e1098c358273f3fe96e2b470a0c37afe80e45a']\n",
      "['e554201d76c28e143876601f52e1098c358273f3fe96e2b470a0c37afe80e45a', '8643a17368da24c14b7d33e195f471dd1c1cee8a52ae77e63b5925636f00acdc']\n",
      "['8643a17368da24c14b7d33e195f471dd1c1cee8a52ae77e63b5925636f00acdc', '4166f1b22f6cb432851731007b383a8b221b57f4dd50c6d1f0e7aa32957f35eb']\n",
      "['4166f1b22f6cb432851731007b383a8b221b57f4dd50c6d1f0e7aa32957f35eb', '77300bd86c4d82cf41477d5a130eb2c6b93c702c97b9d8c4e344b8b0e6a96a0b']\n"
     ]
    },
    {
     "data": {
      "text/plain": [
       "{'tx_0': [{'comissionAmount': 2.0,\n",
       "   'get': 'usdt',\n",
       "   'getVol': 9.93,\n",
       "   'price': 9.93,\n",
       "   'send': 'zsh',\n",
       "   'sendVol': 1.0,\n",
       "   'sender': 'z01x000cfb7e8773487fe02d9c9ecac125c29e95a4f2a64e19ffb17225f7e5',\n",
       "   'symbol': 'zsh/usdt',\n",
       "   'timestamp': 1630408730.301943,\n",
       "   'tradeTxId': '70e7ae90ae2559a1d93fb9d02bf835d3944a6bc346b948a198008bc3e7d0f916'},\n",
       "  {'comissionAmount': 2.0,\n",
       "   'get': 'zsh',\n",
       "   'getVol': 1.0,\n",
       "   'price': 9.93,\n",
       "   'send': 'usdt',\n",
       "   'sendVol': 9.93,\n",
       "   'sender': 'z01x004899db1c170b7eda76a739b24998936afe833edb17c0f0f83a7ee756',\n",
       "   'symbol': 'zsh/usdt',\n",
       "   'timestamp': 1630408730.942023,\n",
       "   'tradeTxId': '2472f804b268232fd836642a5e3aef6212ba00727aed730ef358b244f2d82fea'}],\n",
       " 'tx_1': [{'comissionAmount': 2.0,\n",
       "   'get': 'usdt',\n",
       "   'getVol': 9.93,\n",
       "   'price': 9.93,\n",
       "   'send': 'zsh',\n",
       "   'sendVol': 1.0,\n",
       "   'sender': 'z01x000cfb7e8773487fe02d9c9ecac125c29e95a4f2a64e19ffb17225f7e5',\n",
       "   'symbol': 'zsh/usdt',\n",
       "   'timestamp': 1630408730.301943,\n",
       "   'tradeTxId': '70e7ae90ae2559a1d93fb9d02bf835d3944a6bc346b948a198008bc3e7d0f916'},\n",
       "  {'comissionAmount': 2.0,\n",
       "   'get': 'zsh',\n",
       "   'getVol': 1.0,\n",
       "   'price': 10.93,\n",
       "   'send': 'usdt',\n",
       "   'sendVol': 10.93,\n",
       "   'sender': 'z01x004899db1c170b7eda76a739b24998936afe833edb17c0f0f83a7ee756',\n",
       "   'symbol': 'zsh/usdt',\n",
       "   'timestamp': 1630408730.986259,\n",
       "   'tradeTxId': 'c510fa4bd53d5c6181d680bbc8a67be1a7430ff5f6643a5e2c4465774c8d618f'}],\n",
       " 'tx_2': [{'comissionAmount': 2.0,\n",
       "   'get': 'usdt',\n",
       "   'getVol': 10.93,\n",
       "   'price': 10.93,\n",
       "   'send': 'zsh',\n",
       "   'sendVol': 1.0,\n",
       "   'sender': 'z01x000cfb7e8773487fe02d9c9ecac125c29e95a4f2a64e19ffb17225f7e5',\n",
       "   'symbol': 'zsh/usdt',\n",
       "   'timestamp': 1630408730.347812,\n",
       "   'tradeTxId': '89fb43e19e27203df6e1fc159d5f4c28d818f96f2fa5e527146cb345ea031622'},\n",
       "  {'comissionAmount': 2.0,\n",
       "   'get': 'zsh',\n",
       "   'getVol': 1.0,\n",
       "   'price': 10.93,\n",
       "   'send': 'usdt',\n",
       "   'sendVol': 10.93,\n",
       "   'sender': 'z01x004899db1c170b7eda76a739b24998936afe833edb17c0f0f83a7ee756',\n",
       "   'symbol': 'zsh/usdt',\n",
       "   'timestamp': 1630408730.986259,\n",
       "   'tradeTxId': 'c510fa4bd53d5c6181d680bbc8a67be1a7430ff5f6643a5e2c4465774c8d618f'}],\n",
       " 'tx_3': [{'comissionAmount': 2.0,\n",
       "   'get': 'usdt',\n",
       "   'getVol': 10.93,\n",
       "   'price': 10.93,\n",
       "   'send': 'zsh',\n",
       "   'sendVol': 1.0,\n",
       "   'sender': 'z01x000cfb7e8773487fe02d9c9ecac125c29e95a4f2a64e19ffb17225f7e5',\n",
       "   'symbol': 'zsh/usdt',\n",
       "   'timestamp': 1630408730.347812,\n",
       "   'tradeTxId': '89fb43e19e27203df6e1fc159d5f4c28d818f96f2fa5e527146cb345ea031622'},\n",
       "  {'comissionAmount': 2.0,\n",
       "   'get': 'zsh',\n",
       "   'getVol': 1.0,\n",
       "   'price': 11.93,\n",
       "   'send': 'usdt',\n",
       "   'sendVol': 11.93,\n",
       "   'sender': 'z01x004899db1c170b7eda76a739b24998936afe833edb17c0f0f83a7ee756',\n",
       "   'symbol': 'zsh/usdt',\n",
       "   'timestamp': 1630408731.040836,\n",
       "   'tradeTxId': 'db3f7b04943d911a39f4b78a1af5f127a78d50d3b2e276e8bce9ea6390a8d84a'}],\n",
       " 'tx_4': [{'comissionAmount': 2.0,\n",
       "   'get': 'usdt',\n",
       "   'getVol': 11.93,\n",
       "   'price': 11.93,\n",
       "   'send': 'zsh',\n",
       "   'sendVol': 1.0,\n",
       "   'sender': 'z01x000cfb7e8773487fe02d9c9ecac125c29e95a4f2a64e19ffb17225f7e5',\n",
       "   'symbol': 'zsh/usdt',\n",
       "   'timestamp': 1630408730.391247,\n",
       "   'tradeTxId': '93028616d4f7dad3020e83cbabf1b4c8baf975e1a78c50a5f8964955b20dca78'},\n",
       "  {'comissionAmount': 2.0,\n",
       "   'get': 'zsh',\n",
       "   'getVol': 1.0,\n",
       "   'price': 11.93,\n",
       "   'send': 'usdt',\n",
       "   'sendVol': 11.93,\n",
       "   'sender': 'z01x004899db1c170b7eda76a739b24998936afe833edb17c0f0f83a7ee756',\n",
       "   'symbol': 'zsh/usdt',\n",
       "   'timestamp': 1630408731.040836,\n",
       "   'tradeTxId': 'db3f7b04943d911a39f4b78a1af5f127a78d50d3b2e276e8bce9ea6390a8d84a'}],\n",
       " 'tx_5': [{'comissionAmount': 2.0,\n",
       "   'get': 'usdt',\n",
       "   'getVol': 11.93,\n",
       "   'price': 11.93,\n",
       "   'send': 'zsh',\n",
       "   'sendVol': 1.0,\n",
       "   'sender': 'z01x000cfb7e8773487fe02d9c9ecac125c29e95a4f2a64e19ffb17225f7e5',\n",
       "   'symbol': 'zsh/usdt',\n",
       "   'timestamp': 1630408730.391247,\n",
       "   'tradeTxId': '93028616d4f7dad3020e83cbabf1b4c8baf975e1a78c50a5f8964955b20dca78'},\n",
       "  {'comissionAmount': 2.0,\n",
       "   'get': 'zsh',\n",
       "   'getVol': 1.0,\n",
       "   'price': 12.93,\n",
       "   'send': 'usdt',\n",
       "   'sendVol': 12.93,\n",
       "   'sender': 'z01x004899db1c170b7eda76a739b24998936afe833edb17c0f0f83a7ee756',\n",
       "   'symbol': 'zsh/usdt',\n",
       "   'timestamp': 1630408731.086303,\n",
       "   'tradeTxId': '4fa3d0c963971386f2d96daba809fb4ca65fadf2271829f7b9da03e6c973b5b5'}],\n",
       " 'tx_6': [{'comissionAmount': 2.0,\n",
       "   'get': 'usdt',\n",
       "   'getVol': 12.93,\n",
       "   'price': 12.93,\n",
       "   'send': 'zsh',\n",
       "   'sendVol': 1.0,\n",
       "   'sender': 'z01x000cfb7e8773487fe02d9c9ecac125c29e95a4f2a64e19ffb17225f7e5',\n",
       "   'symbol': 'zsh/usdt',\n",
       "   'timestamp': 1630408730.494093,\n",
       "   'tradeTxId': 'ca5bc3497dfa7b04ff6065109a342c5dbebb61d309d6b566f845052d20b2b785'},\n",
       "  {'comissionAmount': 2.0,\n",
       "   'get': 'zsh',\n",
       "   'getVol': 1.0,\n",
       "   'price': 12.93,\n",
       "   'send': 'usdt',\n",
       "   'sendVol': 12.93,\n",
       "   'sender': 'z01x004899db1c170b7eda76a739b24998936afe833edb17c0f0f83a7ee756',\n",
       "   'symbol': 'zsh/usdt',\n",
       "   'timestamp': 1630408731.086303,\n",
       "   'tradeTxId': '4fa3d0c963971386f2d96daba809fb4ca65fadf2271829f7b9da03e6c973b5b5'}],\n",
       " 'tx_7': [{'comissionAmount': 2.0,\n",
       "   'get': 'usdt',\n",
       "   'getVol': 12.93,\n",
       "   'price': 12.93,\n",
       "   'send': 'zsh',\n",
       "   'sendVol': 1.0,\n",
       "   'sender': 'z01x000cfb7e8773487fe02d9c9ecac125c29e95a4f2a64e19ffb17225f7e5',\n",
       "   'symbol': 'zsh/usdt',\n",
       "   'timestamp': 1630408730.494093,\n",
       "   'tradeTxId': 'ca5bc3497dfa7b04ff6065109a342c5dbebb61d309d6b566f845052d20b2b785'},\n",
       "  {'comissionAmount': 2.0,\n",
       "   'get': 'zsh',\n",
       "   'getVol': 1.0,\n",
       "   'price': 13.93,\n",
       "   'send': 'usdt',\n",
       "   'sendVol': 13.93,\n",
       "   'sender': 'z01x004899db1c170b7eda76a739b24998936afe833edb17c0f0f83a7ee756',\n",
       "   'symbol': 'zsh/usdt',\n",
       "   'timestamp': 1630408731.156189,\n",
       "   'tradeTxId': 'f020456c22d26202313bdef0b61d2c3325ca4701e7a492a2f465a481c844a14a'}],\n",
       " 'tx_8': [{'comissionAmount': 2.0,\n",
       "   'get': 'usdt',\n",
       "   'getVol': 13.93,\n",
       "   'price': 13.93,\n",
       "   'send': 'zsh',\n",
       "   'sendVol': 1.0,\n",
       "   'sender': 'z01x000cfb7e8773487fe02d9c9ecac125c29e95a4f2a64e19ffb17225f7e5',\n",
       "   'symbol': 'zsh/usdt',\n",
       "   'timestamp': 1630408730.550022,\n",
       "   'tradeTxId': '2e3e0e239503c99e666329ffe02b08d41a90f0f85fd783c54bf904c4ccdccc32'},\n",
       "  {'comissionAmount': 2.0,\n",
       "   'get': 'zsh',\n",
       "   'getVol': 1.0,\n",
       "   'price': 13.93,\n",
       "   'send': 'usdt',\n",
       "   'sendVol': 13.93,\n",
       "   'sender': 'z01x004899db1c170b7eda76a739b24998936afe833edb17c0f0f83a7ee756',\n",
       "   'symbol': 'zsh/usdt',\n",
       "   'timestamp': 1630408731.156189,\n",
       "   'tradeTxId': 'f020456c22d26202313bdef0b61d2c3325ca4701e7a492a2f465a481c844a14a'}],\n",
       " 'tx_9': [{'comissionAmount': 2.0,\n",
       "   'get': 'usdt',\n",
       "   'getVol': 13.93,\n",
       "   'price': 13.93,\n",
       "   'send': 'zsh',\n",
       "   'sendVol': 1.0,\n",
       "   'sender': 'z01x000cfb7e8773487fe02d9c9ecac125c29e95a4f2a64e19ffb17225f7e5',\n",
       "   'symbol': 'zsh/usdt',\n",
       "   'timestamp': 1630408730.550022,\n",
       "   'tradeTxId': '2e3e0e239503c99e666329ffe02b08d41a90f0f85fd783c54bf904c4ccdccc32'},\n",
       "  {'comissionAmount': 2.0,\n",
       "   'get': 'zsh',\n",
       "   'getVol': 1.0,\n",
       "   'price': 14.93,\n",
       "   'send': 'usdt',\n",
       "   'sendVol': 14.93,\n",
       "   'sender': 'z01x004899db1c170b7eda76a739b24998936afe833edb17c0f0f83a7ee756',\n",
       "   'symbol': 'zsh/usdt',\n",
       "   'timestamp': 1630408731.202074,\n",
       "   'tradeTxId': 'a2b51c3ad35988c83f6f20f2e03a65bf802e1dc6b5b0c7b5f254fa04027d8414'}],\n",
       " 'tx_10': [{'comissionAmount': 2.0,\n",
       "   'get': 'usdt',\n",
       "   'getVol': 14.93,\n",
       "   'price': 14.93,\n",
       "   'send': 'zsh',\n",
       "   'sendVol': 1.0,\n",
       "   'sender': 'z01x000cfb7e8773487fe02d9c9ecac125c29e95a4f2a64e19ffb17225f7e5',\n",
       "   'symbol': 'zsh/usdt',\n",
       "   'timestamp': 1630408730.594994,\n",
       "   'tradeTxId': '6ce06e3744a04331d6c3c396c11a40a9eed8a0025d1cd4d27dcd02893455dc6e'},\n",
       "  {'comissionAmount': 2.0,\n",
       "   'get': 'zsh',\n",
       "   'getVol': 1.0,\n",
       "   'price': 14.93,\n",
       "   'send': 'usdt',\n",
       "   'sendVol': 14.93,\n",
       "   'sender': 'z01x004899db1c170b7eda76a739b24998936afe833edb17c0f0f83a7ee756',\n",
       "   'symbol': 'zsh/usdt',\n",
       "   'timestamp': 1630408731.202074,\n",
       "   'tradeTxId': 'a2b51c3ad35988c83f6f20f2e03a65bf802e1dc6b5b0c7b5f254fa04027d8414'}],\n",
       " 'tx_11': [{'comissionAmount': 2.0,\n",
       "   'get': 'usdt',\n",
       "   'getVol': 14.93,\n",
       "   'price': 14.93,\n",
       "   'send': 'zsh',\n",
       "   'sendVol': 1.0,\n",
       "   'sender': 'z01x000cfb7e8773487fe02d9c9ecac125c29e95a4f2a64e19ffb17225f7e5',\n",
       "   'symbol': 'zsh/usdt',\n",
       "   'timestamp': 1630408730.594994,\n",
       "   'tradeTxId': '6ce06e3744a04331d6c3c396c11a40a9eed8a0025d1cd4d27dcd02893455dc6e'},\n",
       "  {'comissionAmount': 2.0,\n",
       "   'get': 'zsh',\n",
       "   'getVol': 1.0,\n",
       "   'price': 15.93,\n",
       "   'send': 'usdt',\n",
       "   'sendVol': 15.93,\n",
       "   'sender': 'z01x004899db1c170b7eda76a739b24998936afe833edb17c0f0f83a7ee756',\n",
       "   'symbol': 'zsh/usdt',\n",
       "   'timestamp': 1630408731.246949,\n",
       "   'tradeTxId': '81f67313d58f7cd1fff3a5ba7455268fb24b56116ba833f61d1d6513270b72b8'}],\n",
       " 'tx_12': [{'comissionAmount': 2.0,\n",
       "   'get': 'usdt',\n",
       "   'getVol': 15.93,\n",
       "   'price': 15.93,\n",
       "   'send': 'zsh',\n",
       "   'sendVol': 1.0,\n",
       "   'sender': 'z01x000cfb7e8773487fe02d9c9ecac125c29e95a4f2a64e19ffb17225f7e5',\n",
       "   'symbol': 'zsh/usdt',\n",
       "   'timestamp': 1630408730.650533,\n",
       "   'tradeTxId': '4b2b7a37ac56adcc5ec8249800f2b135424b29c4f8388e2b3591ab3998997a53'},\n",
       "  {'comissionAmount': 2.0,\n",
       "   'get': 'zsh',\n",
       "   'getVol': 1.0,\n",
       "   'price': 15.93,\n",
       "   'send': 'usdt',\n",
       "   'sendVol': 15.93,\n",
       "   'sender': 'z01x004899db1c170b7eda76a739b24998936afe833edb17c0f0f83a7ee756',\n",
       "   'symbol': 'zsh/usdt',\n",
       "   'timestamp': 1630408731.246949,\n",
       "   'tradeTxId': '81f67313d58f7cd1fff3a5ba7455268fb24b56116ba833f61d1d6513270b72b8'}],\n",
       " 'tx_13': [{'comissionAmount': 2.0,\n",
       "   'get': 'usdt',\n",
       "   'getVol': 15.93,\n",
       "   'price': 15.93,\n",
       "   'send': 'zsh',\n",
       "   'sendVol': 1.0,\n",
       "   'sender': 'z01x000cfb7e8773487fe02d9c9ecac125c29e95a4f2a64e19ffb17225f7e5',\n",
       "   'symbol': 'zsh/usdt',\n",
       "   'timestamp': 1630408730.650533,\n",
       "   'tradeTxId': '4b2b7a37ac56adcc5ec8249800f2b135424b29c4f8388e2b3591ab3998997a53'},\n",
       "  {'comissionAmount': 2.0,\n",
       "   'get': 'zsh',\n",
       "   'getVol': 1.0,\n",
       "   'price': 16.93,\n",
       "   'send': 'usdt',\n",
       "   'sendVol': 16.93,\n",
       "   'sender': 'z01x004899db1c170b7eda76a739b24998936afe833edb17c0f0f83a7ee756',\n",
       "   'symbol': 'zsh/usdt',\n",
       "   'timestamp': 1630408731.292838,\n",
       "   'tradeTxId': '92530681ffde4da9666a9aa81a7ac270b3f5d9a2d6a4c596b792755f76d83cad'}],\n",
       " 'tx_14': [{'comissionAmount': 2.0,\n",
       "   'get': 'usdt',\n",
       "   'getVol': 16.93,\n",
       "   'price': 16.93,\n",
       "   'send': 'zsh',\n",
       "   'sendVol': 1.0,\n",
       "   'sender': 'z01x000cfb7e8773487fe02d9c9ecac125c29e95a4f2a64e19ffb17225f7e5',\n",
       "   'symbol': 'zsh/usdt',\n",
       "   'timestamp': 1630408730.693608,\n",
       "   'tradeTxId': 'e4baca60d6234acb4dbc46e0ebd433aa6bb7f78c402895658df5a4b687bb0322'},\n",
       "  {'comissionAmount': 2.0,\n",
       "   'get': 'zsh',\n",
       "   'getVol': 1.0,\n",
       "   'price': 16.93,\n",
       "   'send': 'usdt',\n",
       "   'sendVol': 16.93,\n",
       "   'sender': 'z01x004899db1c170b7eda76a739b24998936afe833edb17c0f0f83a7ee756',\n",
       "   'symbol': 'zsh/usdt',\n",
       "   'timestamp': 1630408731.292838,\n",
       "   'tradeTxId': '92530681ffde4da9666a9aa81a7ac270b3f5d9a2d6a4c596b792755f76d83cad'}],\n",
       " 'tx_15': [{'comissionAmount': 2.0,\n",
       "   'get': 'usdt',\n",
       "   'getVol': 16.93,\n",
       "   'price': 16.93,\n",
       "   'send': 'zsh',\n",
       "   'sendVol': 1.0,\n",
       "   'sender': 'z01x000cfb7e8773487fe02d9c9ecac125c29e95a4f2a64e19ffb17225f7e5',\n",
       "   'symbol': 'zsh/usdt',\n",
       "   'timestamp': 1630408730.693608,\n",
       "   'tradeTxId': 'e4baca60d6234acb4dbc46e0ebd433aa6bb7f78c402895658df5a4b687bb0322'},\n",
       "  {'comissionAmount': 2.0,\n",
       "   'get': 'zsh',\n",
       "   'getVol': 1.0,\n",
       "   'price': 17.93,\n",
       "   'send': 'usdt',\n",
       "   'sendVol': 17.93,\n",
       "   'sender': 'z01x004899db1c170b7eda76a739b24998936afe833edb17c0f0f83a7ee756',\n",
       "   'symbol': 'zsh/usdt',\n",
       "   'timestamp': 1630408731.335958,\n",
       "   'tradeTxId': 'e554201d76c28e143876601f52e1098c358273f3fe96e2b470a0c37afe80e45a'}],\n",
       " 'tx_16': [{'comissionAmount': 2.0,\n",
       "   'get': 'usdt',\n",
       "   'getVol': 17.93,\n",
       "   'price': 17.93,\n",
       "   'send': 'zsh',\n",
       "   'sendVol': 1.0,\n",
       "   'sender': 'z01x000cfb7e8773487fe02d9c9ecac125c29e95a4f2a64e19ffb17225f7e5',\n",
       "   'symbol': 'zsh/usdt',\n",
       "   'timestamp': 1630408730.740936,\n",
       "   'tradeTxId': '8643a17368da24c14b7d33e195f471dd1c1cee8a52ae77e63b5925636f00acdc'},\n",
       "  {'comissionAmount': 2.0,\n",
       "   'get': 'zsh',\n",
       "   'getVol': 1.0,\n",
       "   'price': 17.93,\n",
       "   'send': 'usdt',\n",
       "   'sendVol': 17.93,\n",
       "   'sender': 'z01x004899db1c170b7eda76a739b24998936afe833edb17c0f0f83a7ee756',\n",
       "   'symbol': 'zsh/usdt',\n",
       "   'timestamp': 1630408731.335958,\n",
       "   'tradeTxId': 'e554201d76c28e143876601f52e1098c358273f3fe96e2b470a0c37afe80e45a'}],\n",
       " 'tx_17': [{'comissionAmount': 2.0,\n",
       "   'get': 'usdt',\n",
       "   'getVol': 17.93,\n",
       "   'price': 17.93,\n",
       "   'send': 'zsh',\n",
       "   'sendVol': 1.0,\n",
       "   'sender': 'z01x000cfb7e8773487fe02d9c9ecac125c29e95a4f2a64e19ffb17225f7e5',\n",
       "   'symbol': 'zsh/usdt',\n",
       "   'timestamp': 1630408730.740936,\n",
       "   'tradeTxId': '8643a17368da24c14b7d33e195f471dd1c1cee8a52ae77e63b5925636f00acdc'},\n",
       "  {'comissionAmount': 2.0,\n",
       "   'get': 'zsh',\n",
       "   'getVol': 1.0,\n",
       "   'price': 18.93,\n",
       "   'send': 'usdt',\n",
       "   'sendVol': 18.93,\n",
       "   'sender': 'z01x004899db1c170b7eda76a739b24998936afe833edb17c0f0f83a7ee756',\n",
       "   'symbol': 'zsh/usdt',\n",
       "   'timestamp': 1630408731.379775,\n",
       "   'tradeTxId': '4166f1b22f6cb432851731007b383a8b221b57f4dd50c6d1f0e7aa32957f35eb'}],\n",
       " 'tx_18': [{'comissionAmount': 2.0,\n",
       "   'get': 'usdt',\n",
       "   'getVol': 18.93,\n",
       "   'price': 18.93,\n",
       "   'send': 'zsh',\n",
       "   'sendVol': 1.0,\n",
       "   'sender': 'z01x000cfb7e8773487fe02d9c9ecac125c29e95a4f2a64e19ffb17225f7e5',\n",
       "   'symbol': 'zsh/usdt',\n",
       "   'timestamp': 1630408730.782948,\n",
       "   'tradeTxId': '77300bd86c4d82cf41477d5a130eb2c6b93c702c97b9d8c4e344b8b0e6a96a0b'},\n",
       "  {'comissionAmount': 2.0,\n",
       "   'get': 'zsh',\n",
       "   'getVol': 1.0,\n",
       "   'price': 18.93,\n",
       "   'send': 'usdt',\n",
       "   'sendVol': 18.93,\n",
       "   'sender': 'z01x004899db1c170b7eda76a739b24998936afe833edb17c0f0f83a7ee756',\n",
       "   'symbol': 'zsh/usdt',\n",
       "   'timestamp': 1630408731.379775,\n",
       "   'tradeTxId': '4166f1b22f6cb432851731007b383a8b221b57f4dd50c6d1f0e7aa32957f35eb'}]}"
      ]
     },
     "execution_count": 59,
     "metadata": {},
     "output_type": "execute_result"
    }
   ],
   "source": [
    "txDir = {}\n",
    "for i in range(len(mathchedOrders)):\n",
    "    tempLst = [mathchedOrders[i][0][-1], mathchedOrders[i][1][-1]]\n",
    "    print(tempLst)\n",
    "    txTempLst=[order for order in ordersList if order['tradeTxId'] in tempLst]\n",
    "    txDir[f'tx_{i}'] = txTempLst\n",
    "txDir"
   ]
  },
  {
   "cell_type": "code",
   "execution_count": 49,
   "metadata": {},
   "outputs": [
    {
     "data": {
      "text/plain": [
       "'[{\"comissionAmount\": 2.0, \"get\": \"usdt\", \"getVol\": 9.93, \"price\": 9.93, \"send\": \"zsh\", \"sendVol\": 1.0, \"sender\": \"z01x000cfb7e8773487fe02d9c9ecac125c29e95a4f2a64e19ffb17225f7e5\", \"symbol\": \"zsh/usdt\", \"timestamp\": 1630408730.301943, \"tradeTxId\": \"70e7ae90ae2559a1d93fb9d02bf835d3944a6bc346b948a198008bc3e7d0f916\"}, {\"comissionAmount\": 2.0, \"get\": \"zsh\", \"getVol\": 1.0, \"price\": 9.93, \"send\": \"usdt\", \"sendVol\": 9.93, \"sender\": \"z01x004899db1c170b7eda76a739b24998936afe833edb17c0f0f83a7ee756\", \"symbol\": \"zsh/usdt\", \"timestamp\": 1630408730.942023, \"tradeTxId\": \"2472f804b268232fd836642a5e3aef6212ba00727aed730ef358b244f2d82fea\"}]'"
      ]
     },
     "execution_count": 49,
     "metadata": {},
     "output_type": "execute_result"
    }
   ],
   "source": [
    "jTxDir0 = json.dumps(txDir['tx_0'])\n",
    "jTxDir1 = json.dumps(txDir['tx_1'])\n",
    "jTxDir0"
   ]
  },
  {
   "cell_type": "code",
   "execution_count": 52,
   "metadata": {},
   "outputs": [
    {
     "data": {
      "text/plain": [
       "'[{\"comissionAmount\": 2.0, \"get\": \"usdt\", \"getVol\": 9.93, \"price\": 9.93, \"send\": \"zsh\", \"sendVol\": 1.0, \"sender\": \"z01x000cfb7e8773487fe02d9c9ecac125c29e95a4f2a64e19ffb17225f7e5\", \"symbol\": \"zsh/usdt\", \"timestamp\": 1630408730.301943, \"tradeTxId\": \"70e7ae90ae2559a1d93fb9d02bf835d3944a6bc346b948a198008bc3e7d0f916\"}, {\"comissionAmount\": 2.0, \"get\": \"zsh\", \"getVol\": 1.0, \"price\": 10.93, \"send\": \"usdt\", \"sendVol\": 10.93, \"sender\": \"z01x004899db1c170b7eda76a739b24998936afe833edb17c0f0f83a7ee756\", \"symbol\": \"zsh/usdt\", \"timestamp\": 1630408730.986259, \"tradeTxId\": \"c510fa4bd53d5c6181d680bbc8a67be1a7430ff5f6643a5e2c4465774c8d618f\"}]'"
      ]
     },
     "execution_count": 52,
     "metadata": {},
     "output_type": "execute_result"
    }
   ],
   "source": [
    "jTxDir1"
   ]
  },
  {
   "cell_type": "code",
   "execution_count": 58,
   "metadata": {},
   "outputs": [
    {
     "name": "stdout",
     "output_type": "stream",
     "text": [
      "yep\n"
     ]
    }
   ],
   "source": [
    "if txDir['tx_2'][0]['tradeTxId'] != txDir['tx_4'][0]['tradeTxId']:\n",
    "    print('yep')"
   ]
  },
  {
   "cell_type": "code",
   "execution_count": null,
   "metadata": {},
   "outputs": [],
   "source": []
  },
  {
   "cell_type": "code",
   "execution_count": 62,
   "metadata": {},
   "outputs": [
    {
     "data": {
      "text/plain": [
       "[{'comissionAmount': 2.0,\n",
       "  'get': 'usdt',\n",
       "  'getVol': 18.93,\n",
       "  'price': 18.93,\n",
       "  'send': 'zsh',\n",
       "  'sendVol': 1.0,\n",
       "  'sender': 'z01x00798156877de01429deab82ed8fdf10c75d9fd97a3da7f8dd3dcbb15e',\n",
       "  'symbol': 'zsh/usdt',\n",
       "  'timestamp': 1630343483.237646,\n",
       "  'tradeTxId': '4a9b37f8364e92088bd9fb98806b728127334b2fb72ed677002f3c2aef64eb61'},\n",
       " {'comissionAmount': 2.0,\n",
       "  'get': 'zsh',\n",
       "  'getVol': 1.0,\n",
       "  'price': 18.93,\n",
       "  'send': 'usdt',\n",
       "  'sendVol': 18.93,\n",
       "  'sender': 'z01x009056545cc1a516f2598268ef8f8067e153d476b61aa77273b5b725b2',\n",
       "  'symbol': 'zsh/usdt',\n",
       "  'timestamp': 1630343483.803811,\n",
       "  'tradeTxId': '5275827ca03986ce1da80f79e86f93c56e5991aaab8df029aa078c7b0a12f4c7'}]"
      ]
     },
     "execution_count": 62,
     "metadata": {},
     "output_type": "execute_result"
    }
   ],
   "source": [
    "commonTxs = []\n",
    "# Get matched orders\n",
    "txDir = {}\n",
    "for i in range(len(mathchedOrders)):\n",
    "    tempLst = [mathchedOrders[i][0][-1], mathchedOrders[i][1][-1]]\n",
    "    txTempLst=[order for order in ordersList if order['tradeTxId'] in tempLst]\n",
    "    txDir[f'tx_{i}'] = txTempLst\n",
    "    \n",
    "txTempLst"
   ]
  },
  {
   "cell_type": "code",
   "execution_count": 64,
   "metadata": {},
   "outputs": [
    {
     "data": {
      "text/plain": [
       "{'tx_0': [{'comissionAmount': 2.0,\n",
       "   'get': 'usdt',\n",
       "   'getVol': 9.93,\n",
       "   'price': 9.93,\n",
       "   'send': 'zsh',\n",
       "   'sendVol': 1.0,\n",
       "   'sender': 'z01x00798156877de01429deab82ed8fdf10c75d9fd97a3da7f8dd3dcbb15e',\n",
       "   'symbol': 'zsh/usdt',\n",
       "   'timestamp': 1630343482.831313,\n",
       "   'tradeTxId': '2c13357a160db5e52b4f0b686e3ad47311a2c73407521017f6324c65df36e92b'},\n",
       "  {'comissionAmount': 2.0,\n",
       "   'get': 'zsh',\n",
       "   'getVol': 1.0,\n",
       "   'price': 9.93,\n",
       "   'send': 'usdt',\n",
       "   'sendVol': 9.93,\n",
       "   'sender': 'z01x009056545cc1a516f2598268ef8f8067e153d476b61aa77273b5b725b2',\n",
       "   'symbol': 'zsh/usdt',\n",
       "   'timestamp': 1630343483.399211,\n",
       "   'tradeTxId': '71d4ee13d94c461cf50dcf9f438181c98fa9ad0ca5b2f34c350b2b4e819534ee'}],\n",
       " 'tx_1': [{'comissionAmount': 2.0,\n",
       "   'get': 'usdt',\n",
       "   'getVol': 9.93,\n",
       "   'price': 9.93,\n",
       "   'send': 'zsh',\n",
       "   'sendVol': 1.0,\n",
       "   'sender': 'z01x00798156877de01429deab82ed8fdf10c75d9fd97a3da7f8dd3dcbb15e',\n",
       "   'symbol': 'zsh/usdt',\n",
       "   'timestamp': 1630343482.831313,\n",
       "   'tradeTxId': '2c13357a160db5e52b4f0b686e3ad47311a2c73407521017f6324c65df36e92b'},\n",
       "  {'comissionAmount': 2.0,\n",
       "   'get': 'zsh',\n",
       "   'getVol': 1.0,\n",
       "   'price': 10.93,\n",
       "   'send': 'usdt',\n",
       "   'sendVol': 10.93,\n",
       "   'sender': 'z01x009056545cc1a516f2598268ef8f8067e153d476b61aa77273b5b725b2',\n",
       "   'symbol': 'zsh/usdt',\n",
       "   'timestamp': 1630343483.441283,\n",
       "   'tradeTxId': 'fe226676d7bfbcc4fdada2f2747e3204140e3e60bdd24e2b5876a40030f2b98e'}],\n",
       " 'tx_2': [{'comissionAmount': 2.0,\n",
       "   'get': 'usdt',\n",
       "   'getVol': 10.93,\n",
       "   'price': 10.93,\n",
       "   'send': 'zsh',\n",
       "   'sendVol': 1.0,\n",
       "   'sender': 'z01x00798156877de01429deab82ed8fdf10c75d9fd97a3da7f8dd3dcbb15e',\n",
       "   'symbol': 'zsh/usdt',\n",
       "   'timestamp': 1630343482.876234,\n",
       "   'tradeTxId': '0b4dfafeea940d0e164d83827558355d9808e255174d39a159077a6e9f6b20eb'},\n",
       "  {'comissionAmount': 2.0,\n",
       "   'get': 'zsh',\n",
       "   'getVol': 1.0,\n",
       "   'price': 10.93,\n",
       "   'send': 'usdt',\n",
       "   'sendVol': 10.93,\n",
       "   'sender': 'z01x009056545cc1a516f2598268ef8f8067e153d476b61aa77273b5b725b2',\n",
       "   'symbol': 'zsh/usdt',\n",
       "   'timestamp': 1630343483.441283,\n",
       "   'tradeTxId': 'fe226676d7bfbcc4fdada2f2747e3204140e3e60bdd24e2b5876a40030f2b98e'}],\n",
       " 'tx_3': [{'comissionAmount': 2.0,\n",
       "   'get': 'usdt',\n",
       "   'getVol': 10.93,\n",
       "   'price': 10.93,\n",
       "   'send': 'zsh',\n",
       "   'sendVol': 1.0,\n",
       "   'sender': 'z01x00798156877de01429deab82ed8fdf10c75d9fd97a3da7f8dd3dcbb15e',\n",
       "   'symbol': 'zsh/usdt',\n",
       "   'timestamp': 1630343482.876234,\n",
       "   'tradeTxId': '0b4dfafeea940d0e164d83827558355d9808e255174d39a159077a6e9f6b20eb'},\n",
       "  {'comissionAmount': 2.0,\n",
       "   'get': 'zsh',\n",
       "   'getVol': 1.0,\n",
       "   'price': 11.93,\n",
       "   'send': 'usdt',\n",
       "   'sendVol': 11.93,\n",
       "   'sender': 'z01x009056545cc1a516f2598268ef8f8067e153d476b61aa77273b5b725b2',\n",
       "   'symbol': 'zsh/usdt',\n",
       "   'timestamp': 1630343483.486754,\n",
       "   'tradeTxId': '3a49edcc085d5a6dde4d4b4bf922876ab36520765b8265add3f9de5c6f58c029'}],\n",
       " 'tx_4': [{'comissionAmount': 2.0,\n",
       "   'get': 'usdt',\n",
       "   'getVol': 11.93,\n",
       "   'price': 11.93,\n",
       "   'send': 'zsh',\n",
       "   'sendVol': 1.0,\n",
       "   'sender': 'z01x00798156877de01429deab82ed8fdf10c75d9fd97a3da7f8dd3dcbb15e',\n",
       "   'symbol': 'zsh/usdt',\n",
       "   'timestamp': 1630343482.92393,\n",
       "   'tradeTxId': '69d2e83fc42f9838cd32f5d12fa2400ddd2eb0dcd9eb42e1780d33875c904a63'},\n",
       "  {'comissionAmount': 2.0,\n",
       "   'get': 'zsh',\n",
       "   'getVol': 1.0,\n",
       "   'price': 11.93,\n",
       "   'send': 'usdt',\n",
       "   'sendVol': 11.93,\n",
       "   'sender': 'z01x009056545cc1a516f2598268ef8f8067e153d476b61aa77273b5b725b2',\n",
       "   'symbol': 'zsh/usdt',\n",
       "   'timestamp': 1630343483.486754,\n",
       "   'tradeTxId': '3a49edcc085d5a6dde4d4b4bf922876ab36520765b8265add3f9de5c6f58c029'}],\n",
       " 'tx_5': [{'comissionAmount': 2.0,\n",
       "   'get': 'usdt',\n",
       "   'getVol': 11.93,\n",
       "   'price': 11.93,\n",
       "   'send': 'zsh',\n",
       "   'sendVol': 1.0,\n",
       "   'sender': 'z01x00798156877de01429deab82ed8fdf10c75d9fd97a3da7f8dd3dcbb15e',\n",
       "   'symbol': 'zsh/usdt',\n",
       "   'timestamp': 1630343482.92393,\n",
       "   'tradeTxId': '69d2e83fc42f9838cd32f5d12fa2400ddd2eb0dcd9eb42e1780d33875c904a63'},\n",
       "  {'comissionAmount': 2.0,\n",
       "   'get': 'zsh',\n",
       "   'getVol': 1.0,\n",
       "   'price': 12.93,\n",
       "   'send': 'usdt',\n",
       "   'sendVol': 12.93,\n",
       "   'sender': 'z01x009056545cc1a516f2598268ef8f8067e153d476b61aa77273b5b725b2',\n",
       "   'symbol': 'zsh/usdt',\n",
       "   'timestamp': 1630343483.534115,\n",
       "   'tradeTxId': '6517dc0bf9870576b4c367fc2919855d2064055d94bd7b150de5640578bfe6dc'}],\n",
       " 'tx_6': [{'comissionAmount': 2.0,\n",
       "   'get': 'usdt',\n",
       "   'getVol': 12.93,\n",
       "   'price': 12.93,\n",
       "   'send': 'zsh',\n",
       "   'sendVol': 1.0,\n",
       "   'sender': 'z01x00798156877de01429deab82ed8fdf10c75d9fd97a3da7f8dd3dcbb15e',\n",
       "   'symbol': 'zsh/usdt',\n",
       "   'timestamp': 1630343482.968758,\n",
       "   'tradeTxId': 'd2992f5bd8b96af424fbf39327f99a74524f613826ee56ae8a514991a1e6fcf3'},\n",
       "  {'comissionAmount': 2.0,\n",
       "   'get': 'zsh',\n",
       "   'getVol': 1.0,\n",
       "   'price': 12.93,\n",
       "   'send': 'usdt',\n",
       "   'sendVol': 12.93,\n",
       "   'sender': 'z01x009056545cc1a516f2598268ef8f8067e153d476b61aa77273b5b725b2',\n",
       "   'symbol': 'zsh/usdt',\n",
       "   'timestamp': 1630343483.534115,\n",
       "   'tradeTxId': '6517dc0bf9870576b4c367fc2919855d2064055d94bd7b150de5640578bfe6dc'}],\n",
       " 'tx_7': [{'comissionAmount': 2.0,\n",
       "   'get': 'usdt',\n",
       "   'getVol': 12.93,\n",
       "   'price': 12.93,\n",
       "   'send': 'zsh',\n",
       "   'sendVol': 1.0,\n",
       "   'sender': 'z01x00798156877de01429deab82ed8fdf10c75d9fd97a3da7f8dd3dcbb15e',\n",
       "   'symbol': 'zsh/usdt',\n",
       "   'timestamp': 1630343482.968758,\n",
       "   'tradeTxId': 'd2992f5bd8b96af424fbf39327f99a74524f613826ee56ae8a514991a1e6fcf3'},\n",
       "  {'comissionAmount': 2.0,\n",
       "   'get': 'zsh',\n",
       "   'getVol': 1.0,\n",
       "   'price': 13.93,\n",
       "   'send': 'usdt',\n",
       "   'sendVol': 13.93,\n",
       "   'sender': 'z01x009056545cc1a516f2598268ef8f8067e153d476b61aa77273b5b725b2',\n",
       "   'symbol': 'zsh/usdt',\n",
       "   'timestamp': 1630343483.577736,\n",
       "   'tradeTxId': '4e91deb55151b187b4e16e955e1b7832d4b7513663e1dad6c0a82c63376dfcfe'}],\n",
       " 'tx_8': [{'comissionAmount': 2.0,\n",
       "   'get': 'usdt',\n",
       "   'getVol': 13.93,\n",
       "   'price': 13.93,\n",
       "   'send': 'zsh',\n",
       "   'sendVol': 1.0,\n",
       "   'sender': 'z01x00798156877de01429deab82ed8fdf10c75d9fd97a3da7f8dd3dcbb15e',\n",
       "   'symbol': 'zsh/usdt',\n",
       "   'timestamp': 1630343483.01404,\n",
       "   'tradeTxId': '6f0307f5e718555b7adfe8e7ebb8e565142cf31cba42da06ba49dca15891ee22'},\n",
       "  {'comissionAmount': 2.0,\n",
       "   'get': 'zsh',\n",
       "   'getVol': 1.0,\n",
       "   'price': 13.93,\n",
       "   'send': 'usdt',\n",
       "   'sendVol': 13.93,\n",
       "   'sender': 'z01x009056545cc1a516f2598268ef8f8067e153d476b61aa77273b5b725b2',\n",
       "   'symbol': 'zsh/usdt',\n",
       "   'timestamp': 1630343483.577736,\n",
       "   'tradeTxId': '4e91deb55151b187b4e16e955e1b7832d4b7513663e1dad6c0a82c63376dfcfe'}],\n",
       " 'tx_9': [{'comissionAmount': 2.0,\n",
       "   'get': 'usdt',\n",
       "   'getVol': 13.93,\n",
       "   'price': 13.93,\n",
       "   'send': 'zsh',\n",
       "   'sendVol': 1.0,\n",
       "   'sender': 'z01x00798156877de01429deab82ed8fdf10c75d9fd97a3da7f8dd3dcbb15e',\n",
       "   'symbol': 'zsh/usdt',\n",
       "   'timestamp': 1630343483.01404,\n",
       "   'tradeTxId': '6f0307f5e718555b7adfe8e7ebb8e565142cf31cba42da06ba49dca15891ee22'},\n",
       "  {'comissionAmount': 2.0,\n",
       "   'get': 'zsh',\n",
       "   'getVol': 1.0,\n",
       "   'price': 14.93,\n",
       "   'send': 'usdt',\n",
       "   'sendVol': 14.93,\n",
       "   'sender': 'z01x009056545cc1a516f2598268ef8f8067e153d476b61aa77273b5b725b2',\n",
       "   'symbol': 'zsh/usdt',\n",
       "   'timestamp': 1630343483.620577,\n",
       "   'tradeTxId': '6ed1e4b9d96344c51ebd70d33e0d4569c73f1c11de7a0258b0b85f8baef17beb'}],\n",
       " 'tx_10': [{'comissionAmount': 2.0,\n",
       "   'get': 'usdt',\n",
       "   'getVol': 14.93,\n",
       "   'price': 14.93,\n",
       "   'send': 'zsh',\n",
       "   'sendVol': 1.0,\n",
       "   'sender': 'z01x00798156877de01429deab82ed8fdf10c75d9fd97a3da7f8dd3dcbb15e',\n",
       "   'symbol': 'zsh/usdt',\n",
       "   'timestamp': 1630343483.058234,\n",
       "   'tradeTxId': 'fd026f09c306f2c0aa53179a2c1f1a2090b9d0f467822e1e0033c04e0d1e31e7'},\n",
       "  {'comissionAmount': 2.0,\n",
       "   'get': 'zsh',\n",
       "   'getVol': 1.0,\n",
       "   'price': 14.93,\n",
       "   'send': 'usdt',\n",
       "   'sendVol': 14.93,\n",
       "   'sender': 'z01x009056545cc1a516f2598268ef8f8067e153d476b61aa77273b5b725b2',\n",
       "   'symbol': 'zsh/usdt',\n",
       "   'timestamp': 1630343483.620577,\n",
       "   'tradeTxId': '6ed1e4b9d96344c51ebd70d33e0d4569c73f1c11de7a0258b0b85f8baef17beb'}],\n",
       " 'tx_11': [{'comissionAmount': 2.0,\n",
       "   'get': 'usdt',\n",
       "   'getVol': 14.93,\n",
       "   'price': 14.93,\n",
       "   'send': 'zsh',\n",
       "   'sendVol': 1.0,\n",
       "   'sender': 'z01x00798156877de01429deab82ed8fdf10c75d9fd97a3da7f8dd3dcbb15e',\n",
       "   'symbol': 'zsh/usdt',\n",
       "   'timestamp': 1630343483.058234,\n",
       "   'tradeTxId': 'fd026f09c306f2c0aa53179a2c1f1a2090b9d0f467822e1e0033c04e0d1e31e7'},\n",
       "  {'comissionAmount': 2.0,\n",
       "   'get': 'zsh',\n",
       "   'getVol': 1.0,\n",
       "   'price': 15.93,\n",
       "   'send': 'usdt',\n",
       "   'sendVol': 15.93,\n",
       "   'sender': 'z01x009056545cc1a516f2598268ef8f8067e153d476b61aa77273b5b725b2',\n",
       "   'symbol': 'zsh/usdt',\n",
       "   'timestamp': 1630343483.667606,\n",
       "   'tradeTxId': '9b987b5011e22e47564b921265cb761cfac4cb7cc2cfc6e1a98109aa78d3bad0'}],\n",
       " 'tx_12': [{'comissionAmount': 2.0,\n",
       "   'get': 'usdt',\n",
       "   'getVol': 15.93,\n",
       "   'price': 15.93,\n",
       "   'send': 'zsh',\n",
       "   'sendVol': 1.0,\n",
       "   'sender': 'z01x00798156877de01429deab82ed8fdf10c75d9fd97a3da7f8dd3dcbb15e',\n",
       "   'symbol': 'zsh/usdt',\n",
       "   'timestamp': 1630343483.102167,\n",
       "   'tradeTxId': '4f774291830c0664760ff45234d97098dec3e588f64c1c8a23af2fd31c60bce4'},\n",
       "  {'comissionAmount': 2.0,\n",
       "   'get': 'zsh',\n",
       "   'getVol': 1.0,\n",
       "   'price': 15.93,\n",
       "   'send': 'usdt',\n",
       "   'sendVol': 15.93,\n",
       "   'sender': 'z01x009056545cc1a516f2598268ef8f8067e153d476b61aa77273b5b725b2',\n",
       "   'symbol': 'zsh/usdt',\n",
       "   'timestamp': 1630343483.667606,\n",
       "   'tradeTxId': '9b987b5011e22e47564b921265cb761cfac4cb7cc2cfc6e1a98109aa78d3bad0'}],\n",
       " 'tx_13': [{'comissionAmount': 2.0,\n",
       "   'get': 'usdt',\n",
       "   'getVol': 15.93,\n",
       "   'price': 15.93,\n",
       "   'send': 'zsh',\n",
       "   'sendVol': 1.0,\n",
       "   'sender': 'z01x00798156877de01429deab82ed8fdf10c75d9fd97a3da7f8dd3dcbb15e',\n",
       "   'symbol': 'zsh/usdt',\n",
       "   'timestamp': 1630343483.102167,\n",
       "   'tradeTxId': '4f774291830c0664760ff45234d97098dec3e588f64c1c8a23af2fd31c60bce4'},\n",
       "  {'comissionAmount': 2.0,\n",
       "   'get': 'zsh',\n",
       "   'getVol': 1.0,\n",
       "   'price': 16.93,\n",
       "   'send': 'usdt',\n",
       "   'sendVol': 16.93,\n",
       "   'sender': 'z01x009056545cc1a516f2598268ef8f8067e153d476b61aa77273b5b725b2',\n",
       "   'symbol': 'zsh/usdt',\n",
       "   'timestamp': 1630343483.713727,\n",
       "   'tradeTxId': 'df0f26d8b5f89bbbd6c246e1f16414149f3ea7e7180152e4bee0993905454541'}],\n",
       " 'tx_14': [{'comissionAmount': 2.0,\n",
       "   'get': 'usdt',\n",
       "   'getVol': 16.93,\n",
       "   'price': 16.93,\n",
       "   'send': 'zsh',\n",
       "   'sendVol': 1.0,\n",
       "   'sender': 'z01x00798156877de01429deab82ed8fdf10c75d9fd97a3da7f8dd3dcbb15e',\n",
       "   'symbol': 'zsh/usdt',\n",
       "   'timestamp': 1630343483.148643,\n",
       "   'tradeTxId': 'c7a8db743b099c4b1fdca392f75de3cc3343aa04762678b197d99d7e1c775d3e'},\n",
       "  {'comissionAmount': 2.0,\n",
       "   'get': 'zsh',\n",
       "   'getVol': 1.0,\n",
       "   'price': 16.93,\n",
       "   'send': 'usdt',\n",
       "   'sendVol': 16.93,\n",
       "   'sender': 'z01x009056545cc1a516f2598268ef8f8067e153d476b61aa77273b5b725b2',\n",
       "   'symbol': 'zsh/usdt',\n",
       "   'timestamp': 1630343483.713727,\n",
       "   'tradeTxId': 'df0f26d8b5f89bbbd6c246e1f16414149f3ea7e7180152e4bee0993905454541'}],\n",
       " 'tx_15': [{'comissionAmount': 2.0,\n",
       "   'get': 'usdt',\n",
       "   'getVol': 16.93,\n",
       "   'price': 16.93,\n",
       "   'send': 'zsh',\n",
       "   'sendVol': 1.0,\n",
       "   'sender': 'z01x00798156877de01429deab82ed8fdf10c75d9fd97a3da7f8dd3dcbb15e',\n",
       "   'symbol': 'zsh/usdt',\n",
       "   'timestamp': 1630343483.148643,\n",
       "   'tradeTxId': 'c7a8db743b099c4b1fdca392f75de3cc3343aa04762678b197d99d7e1c775d3e'},\n",
       "  {'comissionAmount': 2.0,\n",
       "   'get': 'zsh',\n",
       "   'getVol': 1.0,\n",
       "   'price': 17.93,\n",
       "   'send': 'usdt',\n",
       "   'sendVol': 17.93,\n",
       "   'sender': 'z01x009056545cc1a516f2598268ef8f8067e153d476b61aa77273b5b725b2',\n",
       "   'symbol': 'zsh/usdt',\n",
       "   'timestamp': 1630343483.757588,\n",
       "   'tradeTxId': '39550ca50034d536beccee857dc8932ab6f13844b7093ff58db9002d6b99a0d0'}],\n",
       " 'tx_16': [{'comissionAmount': 2.0,\n",
       "   'get': 'usdt',\n",
       "   'getVol': 17.93,\n",
       "   'price': 17.93,\n",
       "   'send': 'zsh',\n",
       "   'sendVol': 1.0,\n",
       "   'sender': 'z01x00798156877de01429deab82ed8fdf10c75d9fd97a3da7f8dd3dcbb15e',\n",
       "   'symbol': 'zsh/usdt',\n",
       "   'timestamp': 1630343483.193167,\n",
       "   'tradeTxId': '29fc1671f49b79c5be822726a7251a4b73bc6a622879cf699698b7f9e89346e1'},\n",
       "  {'comissionAmount': 2.0,\n",
       "   'get': 'zsh',\n",
       "   'getVol': 1.0,\n",
       "   'price': 17.93,\n",
       "   'send': 'usdt',\n",
       "   'sendVol': 17.93,\n",
       "   'sender': 'z01x009056545cc1a516f2598268ef8f8067e153d476b61aa77273b5b725b2',\n",
       "   'symbol': 'zsh/usdt',\n",
       "   'timestamp': 1630343483.757588,\n",
       "   'tradeTxId': '39550ca50034d536beccee857dc8932ab6f13844b7093ff58db9002d6b99a0d0'}],\n",
       " 'tx_17': [{'comissionAmount': 2.0,\n",
       "   'get': 'usdt',\n",
       "   'getVol': 17.93,\n",
       "   'price': 17.93,\n",
       "   'send': 'zsh',\n",
       "   'sendVol': 1.0,\n",
       "   'sender': 'z01x00798156877de01429deab82ed8fdf10c75d9fd97a3da7f8dd3dcbb15e',\n",
       "   'symbol': 'zsh/usdt',\n",
       "   'timestamp': 1630343483.193167,\n",
       "   'tradeTxId': '29fc1671f49b79c5be822726a7251a4b73bc6a622879cf699698b7f9e89346e1'},\n",
       "  {'comissionAmount': 2.0,\n",
       "   'get': 'zsh',\n",
       "   'getVol': 1.0,\n",
       "   'price': 18.93,\n",
       "   'send': 'usdt',\n",
       "   'sendVol': 18.93,\n",
       "   'sender': 'z01x009056545cc1a516f2598268ef8f8067e153d476b61aa77273b5b725b2',\n",
       "   'symbol': 'zsh/usdt',\n",
       "   'timestamp': 1630343483.803811,\n",
       "   'tradeTxId': '5275827ca03986ce1da80f79e86f93c56e5991aaab8df029aa078c7b0a12f4c7'}],\n",
       " 'tx_18': [{'comissionAmount': 2.0,\n",
       "   'get': 'usdt',\n",
       "   'getVol': 18.93,\n",
       "   'price': 18.93,\n",
       "   'send': 'zsh',\n",
       "   'sendVol': 1.0,\n",
       "   'sender': 'z01x00798156877de01429deab82ed8fdf10c75d9fd97a3da7f8dd3dcbb15e',\n",
       "   'symbol': 'zsh/usdt',\n",
       "   'timestamp': 1630343483.237646,\n",
       "   'tradeTxId': '4a9b37f8364e92088bd9fb98806b728127334b2fb72ed677002f3c2aef64eb61'},\n",
       "  {'comissionAmount': 2.0,\n",
       "   'get': 'zsh',\n",
       "   'getVol': 1.0,\n",
       "   'price': 18.93,\n",
       "   'send': 'usdt',\n",
       "   'sendVol': 18.93,\n",
       "   'sender': 'z01x009056545cc1a516f2598268ef8f8067e153d476b61aa77273b5b725b2',\n",
       "   'symbol': 'zsh/usdt',\n",
       "   'timestamp': 1630343483.803811,\n",
       "   'tradeTxId': '5275827ca03986ce1da80f79e86f93c56e5991aaab8df029aa078c7b0a12f4c7'}]}"
      ]
     },
     "execution_count": 64,
     "metadata": {},
     "output_type": "execute_result"
    }
   ],
   "source": [
    "txDir"
   ]
  },
  {
   "cell_type": "code",
   "execution_count": 63,
   "metadata": {
    "scrolled": true
   },
   "outputs": [
    {
     "data": {
      "text/plain": [
       "['tx_0',\n",
       " 'tx_1',\n",
       " 'tx_2',\n",
       " 'tx_3',\n",
       " 'tx_4',\n",
       " 'tx_5',\n",
       " 'tx_6',\n",
       " 'tx_7',\n",
       " 'tx_8',\n",
       " 'tx_9',\n",
       " 'tx_10',\n",
       " 'tx_11',\n",
       " 'tx_12',\n",
       " 'tx_13',\n",
       " 'tx_14',\n",
       " 'tx_15',\n",
       " 'tx_16',\n",
       " 'tx_17',\n",
       " 'tx_18']"
      ]
     },
     "execution_count": 63,
     "metadata": {},
     "output_type": "execute_result"
    }
   ],
   "source": [
    "txKeys = list(txDir.keys())\n",
    "txKeys"
   ]
  },
  {
   "cell_type": "code",
   "execution_count": 65,
   "metadata": {},
   "outputs": [
    {
     "ename": "NameError",
     "evalue": "name 'sellSendAmount' is not defined",
     "output_type": "error",
     "traceback": [
      "\u001b[0;31m---------------------------------------------------------------------------\u001b[0m",
      "\u001b[0;31mNameError\u001b[0m                                 Traceback (most recent call last)",
      "\u001b[0;32m<ipython-input-65-f91c68e69be3>\u001b[0m in \u001b[0;36m<module>\u001b[0;34m\u001b[0m\n\u001b[0;32m----> 1\u001b[0;31m \u001b[0mtxDir\u001b[0m\u001b[0;34m[\u001b[0m\u001b[0mtxKeys\u001b[0m\u001b[0;34m[\u001b[0m\u001b[0;36m0\u001b[0m\u001b[0;34m]\u001b[0m\u001b[0;34m]\u001b[0m\u001b[0;34m[\u001b[0m\u001b[0;36m0\u001b[0m\u001b[0;34m]\u001b[0m\u001b[0;34m[\u001b[0m\u001b[0;34m'sendVol'\u001b[0m\u001b[0;34m]\u001b[0m \u001b[0;34m-=\u001b[0m \u001b[0msellSendAmount\u001b[0m\u001b[0;34m\u001b[0m\u001b[0;34m\u001b[0m\u001b[0m\n\u001b[0m\u001b[1;32m      2\u001b[0m \u001b[0mtxDir\u001b[0m\u001b[0;34m[\u001b[0m\u001b[0mtxKeys\u001b[0m\u001b[0;34m[\u001b[0m\u001b[0;36m0\u001b[0m\u001b[0;34m]\u001b[0m\u001b[0;34m]\u001b[0m\u001b[0;34m[\u001b[0m\u001b[0;36m0\u001b[0m\u001b[0;34m]\u001b[0m\u001b[0;34m[\u001b[0m\u001b[0;34m'getVol'\u001b[0m\u001b[0;34m]\u001b[0m \u001b[0;34m-=\u001b[0m \u001b[0mbuySendAmount\u001b[0m\u001b[0;34m\u001b[0m\u001b[0;34m\u001b[0m\u001b[0m\n\u001b[1;32m      3\u001b[0m \u001b[0mtxDir\u001b[0m\u001b[0;34m[\u001b[0m\u001b[0mtxKeys\u001b[0m\u001b[0;34m[\u001b[0m\u001b[0;36m0\u001b[0m\u001b[0;34m]\u001b[0m\u001b[0;34m]\u001b[0m\u001b[0;34m[\u001b[0m\u001b[0;36m1\u001b[0m\u001b[0;34m]\u001b[0m\u001b[0;34m[\u001b[0m\u001b[0;34m'sendVol'\u001b[0m\u001b[0;34m]\u001b[0m \u001b[0;34m-=\u001b[0m \u001b[0mbuySendAmount\u001b[0m\u001b[0;34m\u001b[0m\u001b[0;34m\u001b[0m\u001b[0m\n\u001b[1;32m      4\u001b[0m \u001b[0mtxDir\u001b[0m\u001b[0;34m[\u001b[0m\u001b[0mtxKeys\u001b[0m\u001b[0;34m[\u001b[0m\u001b[0;36m0\u001b[0m\u001b[0;34m]\u001b[0m\u001b[0;34m]\u001b[0m\u001b[0;34m[\u001b[0m\u001b[0;36m1\u001b[0m\u001b[0;34m]\u001b[0m\u001b[0;34m[\u001b[0m\u001b[0;34m'getVol'\u001b[0m\u001b[0;34m]\u001b[0m \u001b[0;34m-=\u001b[0m \u001b[0msellSendAmount\u001b[0m\u001b[0;34m\u001b[0m\u001b[0;34m\u001b[0m\u001b[0m\n",
      "\u001b[0;31mNameError\u001b[0m: name 'sellSendAmount' is not defined"
     ]
    }
   ],
   "source": [
    "txDir[txKeys[0]][0]['sendVol'] -= sellSendAmount\n",
    "txDir[txKeys[0]][0]['getVol'] -= buySendAmount\n",
    "txDir[txKeys[0]][1]['sendVol'] -= buySendAmount\n",
    "txDir[txKeys[0]][1]['getVol'] -= sellSendAmount"
   ]
  },
  {
   "cell_type": "code",
   "execution_count": null,
   "metadata": {},
   "outputs": [],
   "source": []
  },
  {
   "cell_type": "code",
   "execution_count": null,
   "metadata": {},
   "outputs": [],
   "source": []
  },
  {
   "cell_type": "code",
   "execution_count": 18,
   "metadata": {},
   "outputs": [
    {
     "data": {
      "text/plain": [
       "b'<!DOCTYPE HTML PUBLIC \"-//W3C//DTD HTML 3.2 Final//EN\">\\n<title>500 Internal Server Error</title>\\n<h1>Internal Server Error</h1>\\n<p>The server encountered an internal error and was unable to complete your request. Either the server is overloaded or there is an error in the application.</p>\\n'"
      ]
     },
     "execution_count": 18,
     "metadata": {},
     "output_type": "execute_result"
    }
   ],
   "source": [
    "mineReq = requests.get(host+'/mine').content\n",
    "mineReq"
   ]
  },
  {
   "cell_type": "code",
   "execution_count": 37,
   "metadata": {},
   "outputs": [
    {
     "data": {
      "text/plain": [
       "b'{\"index\":22,\"message\":\"New Block Forged\",\"pool_syncing\":\"Tx pool synced among 0 nodes\",\"previous_hash\":\"0bc6bc4871f7d9547d8c0793fa09436c5c64ce1477b4a856ec880ce74a73701a\",\"proof\":25,\"transactions\":[{\"comissionAmount\":1.0,\"contract\":null,\"price\":0.0,\"recieveAmount\":null,\"recipient\":\"z01x00b3f5f21363fd6583cb158ba2a53b38b9786651d41a781cdb7a257e96\",\"sendAmount\":1,\"sender\":\"z01x0000000000000000000000000000000000000000000000000000000000\",\"symbol\":\"zsh\",\"timestamp\":1630165671.514097,\"tradeTxId\":null}]}\\n'"
      ]
     },
     "execution_count": 37,
     "metadata": {},
     "output_type": "execute_result"
    }
   ],
   "source": [
    "mineReq = requests.get(host+'/mine').content\n",
    "mineReq"
   ]
  },
  {
   "cell_type": "markdown",
   "metadata": {},
   "source": [
    "### Minig speed testing"
   ]
  },
  {
   "cell_type": "code",
   "execution_count": 35,
   "metadata": {},
   "outputs": [],
   "source": [
    "def miningSpeedTest():\n",
    "    for i in range(10):\n",
    "        requests.get('http://0.0.0.0:5000/mine')"
   ]
  },
  {
   "cell_type": "code",
   "execution_count": 36,
   "metadata": {},
   "outputs": [
    {
     "name": "stdout",
     "output_type": "stream",
     "text": [
      "         52704 function calls (52694 primitive calls) in 19.547 seconds\n",
      "\n",
      "   Ordered by: internal time\n",
      "\n",
      "   ncalls  tottime  percall  cumtime  percall filename:lineno(function)\n",
      "       28   19.483    0.696   19.483    0.696 {method 'recv_into' of '_socket.socket' objects}\n",
      "      130    0.004    0.000    0.005    0.000 shlex.py:129(read_token)\n",
      "       10    0.003    0.000    0.003    0.000 {built-in method _scproxy._get_proxy_settings}\n",
      "     3000    0.003    0.000    0.008    0.000 os.py:673(__getitem__)\n",
      "     3160    0.002    0.000    0.013    0.000 _collections_abc.py:742(__iter__)\n",
      "       10    0.002    0.000    0.002    0.000 {built-in method _scproxy._get_proxies}\n",
      "     5900    0.002    0.000    0.002    0.000 {method 'decode' of 'bytes' objects}\n",
      "       10    0.002    0.000    0.002    0.000 {method 'connect' of '_socket.socket' objects}\n",
      "       20    0.002    0.000    0.015    0.001 request.py:2456(getproxies_environment)\n",
      "     3000    0.002    0.000    0.003    0.000 os.py:751(encode)\n",
      "     5860    0.002    0.000    0.004    0.000 os.py:755(decode)\n",
      "     1990    0.002    0.000    0.002    0.000 {method 'read' of '_io.TextIOWrapper' objects}\n",
      "       10    0.001    0.000    0.001    0.000 {built-in method io.open}\n",
      "     2960    0.001    0.000    0.003    0.000 os.py:696(__iter__)\n",
      "     4390    0.001    0.000    0.001    0.000 {built-in method builtins.isinstance}\n",
      "       10    0.001    0.000    0.001    0.000 models.py:339(prepare_method)\n",
      "     3280    0.001    0.000    0.001    0.000 {method 'encode' of 'str' objects}\n",
      "     3060    0.001    0.000    0.001    0.000 {method 'lower' of 'str' objects}\n",
      "        1    0.001    0.001   19.547   19.547 <ipython-input-35-2440417261da>:1(miningSpeedTest)\n",
      "       10    0.001    0.000    0.001    0.000 {built-in method posix.stat}\n",
      "       10    0.000    0.000    0.000    0.000 socket.py:139(__init__)\n",
      "       80    0.000    0.000    0.001    0.000 _collections_abc.py:824(update)\n",
      "      110    0.000    0.000    0.001    0.000 parse.py:361(urlparse)\n",
      "       28    0.000    0.000   19.483    0.696 socket.py:575(readinto)\n",
      "      120    0.000    0.000    0.001    0.000 queue.py:153(get)\n",
      "      110    0.000    0.000    0.001    0.000 queue.py:121(put)\n",
      "      270    0.000    0.000    0.000    0.000 parse.py:109(_coerce_args)\n",
      "       70    0.000    0.000   19.484    0.278 {method 'readline' of '_io.BufferedReader' objects}\n",
      "       10    0.000    0.000    0.005    0.000 client.py:193(parse_headers)\n",
      "      120    0.000    0.000    0.001    0.000 parse.py:394(urlsplit)\n",
      "       10    0.000    0.000   19.494    1.949 connectionpool.py:319(_make_request)\n",
      "       10    0.000    0.000    0.002    0.000 response.py:404(read)\n",
      "      220    0.000    0.000    0.001    0.000 threading.py:335(notify)\n",
      "       10    0.000    0.000    0.006    0.001 netrc.py:32(_parse)\n",
      "       10    0.000    0.000    0.000    0.000 {method 'sendall' of '_socket.socket' objects}\n",
      "       20    0.000    0.000    0.002    0.000 feedparser.py:218(_parsegen)\n",
      "       10    0.000    0.000   19.505    1.951 sessions.py:617(send)\n",
      "      150    0.000    0.000    0.000    0.000 {method 'match' of 're.Pattern' objects}\n",
      "       10    0.000    0.000   19.497    1.950 connectionpool.py:446(urlopen)\n",
      "       10    0.000    0.000    0.008    0.001 netrc.py:23(__init__)\n",
      "       10    0.000    0.000   19.483    1.948 client.py:256(_read_status)\n",
      "       10    0.000    0.000    0.009    0.001 utils.py:168(get_netrc_auth)\n",
      "       50    0.000    0.000    0.000    0.000 client.py:1185(putheader)\n",
      "      110    0.000    0.000    0.001    0.000 message.py:462(get)\n",
      "       10    0.000    0.000    0.001    0.000 feedparser.py:471(_parse_headers)\n",
      "      300    0.000    0.000    0.000    0.000 {built-in method builtins.hasattr}\n",
      "       70    0.000    0.000    0.001    0.000 utils.py:284(to_key_val_list)\n",
      "       70    0.000    0.000    0.001    0.000 sessions.py:49(merge_setting)\n",
      "       10    0.000    0.000   19.488    1.949 client.py:289(begin)\n",
      "      270    0.000    0.000    0.000    0.000 {built-in method _abc._abc_instancecheck}\n",
      "       10    0.000    0.000    0.000    0.000 {function socket.close at 0x7f94ff9b0378}\n",
      "       10    0.000    0.000    0.001    0.000 request.py:2522(_proxy_bypass_macosx_sysconf)\n",
      "       10    0.000    0.000    0.001    0.000 connectionpool.py:159(__init__)\n",
      "       10    0.000    0.000   19.502    1.950 adapters.py:394(send)\n",
      "       10    0.000    0.000    0.000    0.000 poolmanager.py:59(_default_key_normalizer)\n",
      "       10    0.000    0.000    0.000    0.000 feedparser.py:139(__init__)\n",
      "       20    0.000    0.000    0.001    0.000 url.py:132(parse_url)\n",
      "       10    0.000    0.000    0.015    0.002 sessions.py:426(prepare_request)\n",
      "       10    0.000    0.000    0.005    0.000 client.py:1231(_send_request)\n",
      "       10    0.000    0.000    0.000    0.000 socket.py:221(makefile)\n",
      "  750/740    0.000    0.000    0.000    0.000 {built-in method builtins.len}\n",
      "      100    0.000    0.000    0.001    0.000 _collections_abc.py:657(get)\n",
      "       10    0.000    0.000    0.000    0.000 {built-in method _socket.getaddrinfo}\n",
      "       60    0.000    0.000    0.001    0.000 structures.py:40(__init__)\n",
      "      150    0.000    0.000    0.006    0.000 shlex.py:97(get_token)\n",
      "      210    0.000    0.000    0.000    0.000 structures.py:46(__setitem__)\n",
      "       10    0.000    0.000   19.543    1.954 sessions.py:466(request)\n",
      "       10    0.000    0.000    0.000    0.000 response.py:160(__init__)\n",
      "      200    0.000    0.000    0.000    0.000 {method 'split' of 'str' objects}\n",
      "       20    0.000    0.000    0.000    0.000 cookiejar.py:1654(extract_cookies)\n",
      "       10    0.000    0.000    0.001    0.000 models.py:596(__init__)\n",
      "       10    0.000    0.000    0.001    0.000 models.py:355(prepare_url)\n",
      "       10    0.000    0.000   19.547    1.955 api.py:63(get)\n",
      "       10    0.000    0.000    0.001    0.000 response.py:499(from_httplib)\n",
      "      180    0.000    0.000    0.000    0.000 structures.py:51(__getitem__)\n",
      "      230    0.000    0.000    0.000    0.000 threading.py:240(__enter__)\n",
      "       20    0.000    0.000    0.001    0.000 _collections.py:87(clear)\n",
      "       10    0.000    0.000    0.001    0.000 models.py:441(prepare_headers)\n",
      "       90    0.000    0.000    0.000    0.000 _collections.py:151(__getitem__)\n",
      "       80    0.000    0.000    0.000    0.000 parse.py:154(hostname)\n",
      "       30    0.000    0.000    0.000    0.000 threading.py:216(__init__)\n",
      "       40    0.000    0.000    0.000    0.000 cookiejar.py:1236(__init__)\n",
      "       10    0.000    0.000    0.002    0.000 adapters.py:255(build_response)\n",
      "      270    0.000    0.000    0.000    0.000 abc.py:137(__instancecheck__)\n",
      "      230    0.000    0.000    0.000    0.000 {method 'startswith' of 'str' objects}\n",
      "       50    0.000    0.000    0.000    0.000 _policybase.py:293(header_source_parse)\n",
      "       10    0.000    0.000    0.003    0.000 connection.py:33(create_connection)\n",
      "       80    0.000    0.000    0.000    0.000 parse.py:190(_hostinfo)\n",
      "       20    0.000    0.000    0.001    0.000 adapters.py:113(__init__)\n",
      "       10    0.000    0.000    0.001    0.000 sessions.py:365(__init__)\n",
      "       10    0.000    0.000    0.003    0.000 parser.py:60(parsestr)\n",
      "       40    0.000    0.000    0.001    0.000 message.py:564(get_content_type)\n",
      "       10    0.000    0.000    0.001    0.000 client.py:468(readinto)\n",
      "       10    0.000    0.000    0.022    0.002 sessions.py:690(merge_environment_settings)\n",
      "       10    0.000    0.000   19.546    1.955 api.py:16(request)\n",
      "       10    0.000    0.000    0.003    0.000 parser.py:42(parse)\n",
      "      100    0.000    0.000    0.000    0.000 _policybase.py:281(_sanitize_header)\n",
      "       10    0.000    0.000    0.000    0.000 client.py:1061(putrequest)\n",
      "       20    0.000    0.000    0.001    0.000 contextlib.py:116(__exit__)\n",
      "       20    0.000    0.000    0.000    0.000 request.py:2538(ip2num)\n",
      "      220    0.000    0.000    0.000    0.000 threading.py:255(_is_owned)\n",
      "      220    0.000    0.000    0.000    0.000 {method 'get' of 'dict' objects}\n",
      "       10    0.000    0.000    0.001    0.000 connectionpool.py:407(close)\n",
      "       60    0.000    0.000    0.000    0.000 cookiejar.py:1197(vals_sorted_by_key)\n",
      "       30    0.000    0.000    0.001    0.000 cookies.py:508(cookiejar_from_dict)\n",
      "       10    0.000    0.000    0.000    0.000 posixpath.py:232(expanduser)\n",
      "       20    0.000    0.000    0.001    0.000 utils.py:767(select_proxy)\n",
      "       10    0.000    0.000    0.000    0.000 cookiejar.py:1331(add_cookie_header)\n",
      "       10    0.000    0.000    0.000    0.000 {built-in method _socket.gethostbyname}\n",
      "      230    0.000    0.000    0.000    0.000 threading.py:243(__exit__)\n",
      "       80    0.000    0.000    0.000    0.000 feedparser.py:78(readline)\n",
      "       10    0.000    0.000    0.000    0.000 feedparser.py:101(push)\n",
      "       20    0.000    0.000    0.000    0.000 retry.py:159(__init__)\n",
      "       20    0.000    0.000    0.000    0.000 idna.py:147(encode)\n",
      "       10    0.000    0.000    0.012    0.001 utils.py:694(should_bypass_proxies)\n",
      "       40    0.000    0.000    0.000    0.000 message.py:497(get_all)\n",
      "       20    0.000    0.000    0.000    0.000 poolmanager.py:153(__init__)\n",
      "       10    0.000    0.000   19.489    1.949 client.py:1277(getresponse)\n",
      "       40    0.000    0.000    0.000    0.000 cookiejar.py:870(__init__)\n",
      "       40    0.000    0.000    0.001    0.000 {built-in method builtins.next}\n",
      "       80    0.000    0.000    0.000    0.000 _collections_abc.py:676(items)\n",
      "       30    0.000    0.000    0.001    0.000 cookies.py:37(__init__)\n",
      "       10    0.000    0.000    0.004    0.000 models.py:307(prepare)\n",
      "      230    0.000    0.000    0.000    0.000 queue.py:14(_qsize)\n",
      "      250    0.000    0.000    0.000    0.000 structures.py:58(<genexpr>)\n",
      "       40    0.000    0.000    0.000    0.000 timeout.py:93(__init__)\n",
      "       10    0.000    0.000    0.000    0.000 _collections.py:136(__init__)\n",
      "       10    0.000    0.000    0.001    0.000 client.py:436(read)\n",
      "       20    0.000    0.000    0.001    0.000 cookies.py:118(extract_cookies_to_jar)\n",
      "       20    0.000    0.000    0.000    0.000 {method 'readlines' of '_io._IOBase' objects}\n",
      "       10    0.000    0.000    0.000    0.000 feedparser.py:53(__init__)\n",
      "       80    0.000    0.000    0.000    0.000 feedparser.py:128(__next__)\n",
      "      140    0.000    0.000    0.000    0.000 {built-in method __new__ of type object at 0x1047316b8}\n",
      "       10    0.000    0.000    0.000    0.000 shlex.py:21(__init__)\n",
      "       20    0.000    0.000    0.000    0.000 url.py:22(__new__)\n",
      "      220    0.000    0.000    0.000    0.000 {method 'acquire' of '_thread.lock' objects}\n",
      "       10    0.000    0.000    0.004    0.000 client.py:948(send)\n",
      "       10    0.000    0.000    0.000    0.000 _collections.py:225(extend)\n",
      "       10    0.000    0.000    0.000    0.000 queue.py:33(__init__)\n",
      "       10    0.000    0.000    0.000    0.000 connectionpool.py:199(_new_conn)\n",
      "       60    0.000    0.000    0.000    0.000 threading.py:75(RLock)\n",
      "      100    0.000    0.000    0.000    0.000 {method 'values' of 'collections.OrderedDict' objects}\n",
      "       60    0.000    0.000    0.000    0.000 cookiejar.py:1201(deepvalues)\n",
      "       50    0.000    0.000    0.000    0.000 structures.py:57(__iter__)\n",
      "       20    0.000    0.000    0.000    0.000 {method 'settimeout' of '_socket.socket' objects}\n",
      "       20    0.000    0.000    0.000    0.000 contextlib.py:81(__init__)\n",
      "       10    0.000    0.000    0.000    0.000 response.py:255(_init_length)\n",
      "      280    0.000    0.000    0.000    0.000 {method 'partition' of 'str' objects}\n",
      "       10    0.000    0.000    0.000    0.000 client.py:226(__init__)\n",
      "      110    0.000    0.000    0.000    0.000 queue.py:17(_put)\n",
      "       10    0.000    0.000    0.002    0.000 poolmanager.py:172(_new_pool)\n",
      "      130    0.000    0.000    0.000    0.000 {method 'find' of 'str' objects}\n",
      "       50    0.000    0.000    0.000    0.000 {method 'fullmatch' of 're.Pattern' objects}\n",
      "       10    0.000    0.000    0.000    0.000 connection.py:103(__init__)\n",
      "       20    0.000    0.000    0.000    0.000 url.py:99(split_first)\n",
      "       10    0.000    0.000    0.000    0.000 socket.py:652(close)\n",
      "       10    0.000    0.000    0.000    0.000 client.py:827(__init__)\n",
      "       40    0.000    0.000    0.000    0.000 message.py:29(_splitparam)\n",
      "       20    0.000    0.000    0.000    0.000 adapters.py:146(init_poolmanager)\n",
      "       20    0.000    0.000    0.000    0.000 message.py:120(__init__)\n",
      "       40    0.000    0.000    0.000    0.000 utils.py:927(check_header_validity)\n",
      "       20    0.000    0.000    0.000    0.000 parse.py:460(urlunsplit)\n",
      "       20    0.000    0.000    0.001    0.000 adapters.py:319(close)\n",
      "      230    0.000    0.000    0.000    0.000 {method '__enter__' of '_thread.lock' objects}\n",
      "       20    0.000    0.000    0.000    0.000 cookiejar.py:1574(make_cookies)\n",
      "      250    0.000    0.000    0.000    0.000 {method 'append' of 'list' objects}\n",
      "      190    0.000    0.000    0.000    0.000 {method 'pop' of 'dict' objects}\n",
      "       10    0.000    0.000    0.000    0.000 response.py:38(assert_header_parsing)\n",
      "       10    0.000    0.000    0.000    0.000 models.py:452(prepare_body)\n",
      "       50    0.000    0.000    0.000    0.000 _collections.py:209(add)\n",
      "      110    0.000    0.000    0.000    0.000 utils.py:51(_has_surrogates)\n",
      "       80    0.000    0.000    0.002    0.000 {method 'join' of 'bytes' objects}\n",
      "       10    0.000    0.000    0.000    0.000 models.py:226(__init__)\n",
      "       60    0.000    0.000    0.000    0.000 {built-in method builtins.sorted}\n",
      "       40    0.000    0.000    0.000    0.000 _collections_abc.py:664(__contains__)\n",
      "      100    0.000    0.000    0.000    0.000 _policybase.py:311(header_fetch_parse)\n",
      "      110    0.000    0.000    0.000    0.000 queue.py:20(_get)\n",
      "       10    0.000    0.000    0.000    0.000 socket.py:563(__init__)\n",
      "       10    0.000    0.000    0.002    0.000 poolmanager.py:244(connection_from_pool_key)\n",
      "       10    0.000    0.000    0.002    0.000 models.py:815(content)\n",
      "      100    0.000    0.000    0.000    0.000 {built-in method builtins.getattr}\n",
      "       20    0.000    0.000    0.002    0.000 response.py:473(stream)\n",
      "       10    0.000    0.000    0.003    0.000 adapters.py:292(get_connection)\n",
      "       20    0.000    0.000    0.000    0.000 codecs.py:319(decode)\n",
      "      270    0.000    0.000    0.000    0.000 parse.py:98(_noop)\n",
      "       20    0.000    0.000    0.000    0.000 parse.py:449(urlunparse)\n",
      "       20    0.000    0.000    0.000    0.000 client.py:934(close)\n",
      "       10    0.000    0.000    0.000    0.000 utils.py:906(get_auth_from_url)\n",
      "       10    0.000    0.000    0.000    0.000 {method 'close' of '_io.BufferedReader' objects}\n",
      "       10    0.000    0.000    0.003    0.000 connection.py:145(_new_conn)\n",
      "       10    0.000    0.000    0.002    0.000 poolmanager.py:231(connection_from_context)\n",
      "       10    0.000    0.000    0.000    0.000 socket.py:731(getaddrinfo)\n",
      "       10    0.000    0.000    0.000    0.000 parse.py:826(quote_from_bytes)\n",
      "       20    0.000    0.000    0.002    0.000 feedparser.py:178(_call_parse)\n",
      "       10    0.000    0.000    0.002    0.000 sessions.py:733(close)\n",
      "       10    0.000    0.000    0.000    0.000 utils.py:802(default_headers)\n",
      "       10    0.000    0.000    0.000    0.000 models.py:82(_encode_params)\n",
      "       10    0.000    0.000    0.002    0.000 poolmanager.py:268(connection_from_url)\n",
      "       20    0.000    0.000    0.002    0.000 models.py:746(generate)\n",
      "       10    0.000    0.000    0.000    0.000 {built-in method _locale.nl_langinfo}\n",
      "       10    0.000    0.000    0.001    0.000 adapters.py:329(request_url)\n",
      "      230    0.000    0.000    0.000    0.000 {method '__exit__' of '_thread.lock' objects}\n",
      "       10    0.000    0.000    0.004    0.000 client.py:1007(_send_output)\n",
      "       10    0.000    0.000    0.000    0.000 message.py:213(get_payload)\n",
      "       20    0.000    0.000    0.000    0.000 _collections.py:44(__init__)\n",
      "       10    0.000    0.000    0.000    0.000 feedparser.py:70(close)\n",
      "       10    0.000    0.000    0.000    0.000 connection.py:85(_set_socket_options)\n",
      "       10    0.000    0.000    0.000    0.000 {method 'setsockopt' of '_socket.socket' objects}\n",
      "       20    0.000    0.000    0.000    0.000 cookies.py:529(merge_cookies)\n",
      "       20    0.000    0.000    0.000    0.000 sessions.py:738(mount)\n",
      "       30    0.000    0.000    0.000    0.000 message.py:588(get_content_maintype)\n",
      "       10    0.000    0.000    0.000    0.000 utils.py:565(unquote_unreserved)\n",
      "       60    0.000    0.000    0.000    0.000 cookiejar.py:1729(__iter__)\n",
      "       10    0.000    0.000    0.001    0.000 cookies.py:135(get_cookie_header)\n",
      "       38    0.000    0.000    0.000    0.000 socket.py:614(readable)\n",
      "       10    0.000    0.000    0.003    0.000 connection.py:180(connect)\n",
      "       10    0.000    0.000    0.000    0.000 _collections.py:58(__setitem__)\n",
      "       20    0.000    0.000    0.000    0.000 enum.py:283(__call__)\n",
      "       60    0.000    0.000    0.000    0.000 _collections.py:181(__iter__)\n",
      "       20    0.000    0.000    0.001    0.000 poolmanager.py:199(clear)\n",
      "       80    0.000    0.000    0.000    0.000 _collections_abc.py:698(__init__)\n",
      "       20    0.000    0.000    0.000    0.000 __init__.py:1361(debug)\n",
      "      160    0.000    0.000    0.000    0.000 {method 'join' of 'str' objects}\n",
      "       28    0.000    0.000    0.000    0.000 {method '_checkReadable' of '_io._IOBase' objects}\n",
      "       10    0.000    0.000    0.000    0.000 _bootlocale.py:33(getpreferredencoding)\n",
      "       10    0.000    0.000    0.001    0.000 poolmanager.py:157(<lambda>)\n",
      "      120    0.000    0.000    0.000    0.000 timeout.py:103(_validate_timeout)\n",
      "       10    0.000    0.000    0.000    0.000 sessions.py:143(resolve_redirects)\n",
      "       70    0.000    0.000    0.000    0.000 {method 'rstrip' of 'str' objects}\n",
      "       20    0.000    0.000    0.000    0.000 re.py:271(_compile)\n",
      "       10    0.000    0.000    0.000    0.000 response.py:224(release_conn)\n",
      "       10    0.000    0.000    0.000    0.000 cookiejar.py:1710(clear_expired_cookies)\n",
      "       20    0.000    0.000    0.000    0.000 cookies.py:348(update)\n",
      "       10    0.000    0.000    0.000    0.000 models.py:175(register_hook)\n",
      "       30    0.000    0.000    0.000    0.000 sessions.py:73(<listcomp>)\n",
      "       10    0.000    0.000    0.000    0.000 models.py:290(__init__)\n",
      "      160    0.000    0.000    0.000    0.000 {method 'items' of 'dict' objects}\n",
      "       10    0.000    0.000    0.000    0.000 fnmatch.py:19(fnmatch)\n",
      "       10    0.000    0.000    0.000    0.000 utils.py:702(<lambda>)\n",
      "       20    0.000    0.000    0.000    0.000 socket.py:416(close)\n",
      "       10    0.000    0.000    0.000    0.000 feedparser.py:184(close)\n",
      "       30    0.000    0.000    0.000    0.000 hooks.py:17(default_hooks)\n",
      "       50    0.000    0.000    0.000    0.000 {method 'setdefault' of 'collections.OrderedDict' objects}\n",
      "       20    0.000    0.000    0.000    0.000 contextlib.py:237(helper)\n",
      "       10    0.000    0.000    0.004    0.000 request.py:2585(proxy_bypass_macosx_sysconf)\n",
      "       60    0.000    0.000    0.000    0.000 client.py:986(_output)\n",
      "       10    0.000    0.000    0.000    0.000 feedparser.py:197(_new_message)\n",
      "       10    0.000    0.000    0.000    0.000 connectionpool.py:250(_put_conn)\n",
      "       10    0.000    0.000    0.000    0.000 response.py:303(_init_decoder)\n",
      "       10    0.000    0.000    0.000    0.000 utils.py:475(get_encoding_from_headers)\n",
      "        1    0.000    0.000   19.547   19.547 {built-in method builtins.exec}\n",
      "       50    0.000    0.000    0.000    0.000 {method 'search' of 're.Pattern' objects}\n",
      "       20    0.000    0.000    0.000    0.000 contextlib.py:107(__enter__)\n",
      "       10    0.000    0.000    0.000    0.000 client.py:369(_check_close)\n",
      "       20    0.000    0.000    0.000    0.000 response.py:347(_error_catcher)\n",
      "       10    0.000    0.000    0.000    0.000 sessions.py:719(get_adapter)\n",
      "       20    0.000    0.000    0.000    0.000 enum.py:525(__new__)\n",
      "       10    0.000    0.000    0.012    0.001 request.py:2599(proxy_bypass)\n",
      "       50    0.000    0.000    0.000    0.000 client.py:1233(<genexpr>)\n",
      "       10    0.000    0.000    0.000    0.000 message.py:459(<listcomp>)\n",
      "       20    0.000    0.000    0.000    0.000 timeout.py:156(clone)\n",
      "       10    0.000    0.000    0.022    0.002 utils.py:755(get_environ_proxies)\n",
      "       30    0.000    0.000    0.000    0.000 cookies.py:521(<listcomp>)\n",
      "       10    0.000    0.000    0.000    0.000 models.py:729(iter_content)\n",
      "       20    0.000    0.000    0.000    0.000 response.py:7(is_fp_closed)\n"
     ]
    },
    {
     "name": "stdout",
     "output_type": "stream",
     "text": [
      "       10    0.000    0.000    0.000    0.000 models.py:61(path_url)\n",
      "       20    0.000    0.000    0.000    0.000 {function SocketIO.close at 0x7f94ff9b0c80}\n",
      "       50    0.000    0.000    0.000    0.000 message.py:479(set_raw)\n",
      "       10    0.000    0.000    0.002    0.000 poolmanager.py:208(connection_from_host)\n",
      "       50    0.000    0.000    0.000    0.000 _internal_utils.py:14(to_native_string)\n",
      "       10    0.000    0.000    0.000    0.000 {method 'readinto' of '_io.BufferedReader' objects}\n",
      "       10    0.000    0.000    0.000    0.000 parse.py:599(unquote)\n",
      "       10    0.000    0.000    0.000    0.000 parse.py:762(quote)\n",
      "       10    0.000    0.000    0.002    0.000 feedparser.py:173(feed)\n",
      "       60    0.000    0.000    0.000    0.000 {method 'lstrip' of 'str' objects}\n",
      "       20    0.000    0.000    0.000    0.000 socket.py:97(_intenum_converter)\n",
      "       10    0.000    0.000    0.000    0.000 connectionpool.py:64(__init__)\n",
      "       10    0.000    0.000    0.000    0.000 connectionpool.py:212(_get_conn)\n",
      "       10    0.000    0.000    0.000    0.000 _collections.py:51(__getitem__)\n",
      "       10    0.000    0.000    0.000    0.000 utils.py:589(requote_uri)\n",
      "       40    0.000    0.000    0.000    0.000 {method 'acquire' of '_thread.RLock' objects}\n",
      "       20    0.000    0.000    0.000    0.000 connectionpool.py:290(_get_timeout)\n",
      "       10    0.000    0.000    0.001    0.000 models.py:556(prepare_cookies)\n",
      "       20    0.000    0.000    0.000    0.000 sessions.py:744(<listcomp>)\n",
      "       20    0.000    0.000    0.000    0.000 {built-in method _codecs.utf_8_decode}\n",
      "      110    0.000    0.000    0.000    0.000 {method 'pop' of 'collections.deque' objects}\n",
      "       10    0.000    0.000    0.001    0.000 genericpath.py:16(exists)\n",
      "       20    0.000    0.000    0.000    0.000 six.py:577(itervalues)\n",
      "       10    0.000    0.000    0.000    0.000 retry.py:305(is_retry)\n",
      "       10    0.000    0.000    0.000    0.000 utils.py:107(super_len)\n",
      "       70    0.000    0.000    0.000    0.000 {method 'strip' of 'str' objects}\n",
      "       20    0.000    0.000    0.000    0.000 posixpath.py:52(normcase)\n",
      "       10    0.000    0.000    0.000    0.000 parse.py:848(urlencode)\n",
      "       10    0.000    0.000    0.004    0.000 client.py:1213(endheaders)\n",
      "       10    0.000    0.000    0.000    0.000 utils.py:793(default_user_agent)\n",
      "       30    0.000    0.000    0.000    0.000 hooks.py:18(<dictcomp>)\n",
      "       20    0.000    0.000    0.000    0.000 adapters.py:58(__init__)\n",
      "       30    0.000    0.000    0.000    0.000 request.py:41(__init__)\n",
      "       10    0.000    0.000    0.000    0.000 models.py:576(prepare_hooks)\n",
      "       60    0.000    0.000    0.000    0.000 {built-in method time.time}\n",
      "       10    0.000    0.000    0.000    0.000 client.py:403(close)\n",
      "       10    0.000    0.000    0.000    0.000 retry.py:296(_is_method_retryable)\n",
      "       10    0.000    0.000    0.000    0.000 codecs.py:309(__init__)\n",
      "       10    0.000    0.000    0.005    0.000 client.py:1226(request)\n",
      "       10    0.000    0.000    0.000    0.000 timeout.py:140(from_float)\n",
      "       10    0.000    0.000    0.000    0.000 structures.py:80(copy)\n",
      "       40    0.000    0.000    0.000    0.000 client.py:426(isclosed)\n",
      "       10    0.000    0.000    0.000    0.000 message.py:451(items)\n",
      "       10    0.000    0.000    0.000    0.000 cookiejar.py:1272(_cookie_attrs)\n",
      "       10    0.000    0.000    0.000    0.000 models.py:534(prepare_auth)\n",
      "       20    0.000    0.000    0.000    0.000 {method 'read' of '_io.StringIO' objects}\n",
      "       20    0.000    0.000    0.000    0.000 shlex.py:68(push_token)\n",
      "       10    0.000    0.000    0.010    0.001 request.py:2612(getproxies)\n",
      "       10    0.000    0.000    0.000    0.000 utils.py:450(_parse_content_type_header)\n",
      "       10    0.000    0.000    0.000    0.000 models.py:707(is_redirect)\n",
      "       40    0.000    0.000    0.000    0.000 {method 'count' of 'str' objects}\n",
      "       90    0.000    0.000    0.000    0.000 {method 'rpartition' of 'str' objects}\n",
      "       20    0.000    0.000    0.000    0.000 {method 'truncate' of '_io.StringIO' objects}\n",
      "       10    0.000    0.000    0.000    0.000 fnmatch.py:64(fnmatchcase)\n",
      "       10    0.000    0.000    0.000    0.000 client.py:415(flush)\n",
      "       20    0.000    0.000    0.000    0.000 feedparser.py:122(pushlines)\n",
      "       10    0.000    0.000    0.000    0.000 feedparser.py:210(_pop_message)\n",
      "      110    0.000    0.000    0.000    0.000 {method 'append' of 'collections.deque' objects}\n",
      "       20    0.000    0.000    0.000    0.000 re.py:170(match)\n",
      "       10    0.000    0.000    0.000    0.000 parse.py:989(splitport)\n",
      "       20    0.000    0.000    0.000    0.000 retry.py:183(<listcomp>)\n",
      "       10    0.000    0.000    0.000    0.000 adapters.py:203(cert_verify)\n",
      "       10    0.000    0.000    0.000    0.000 {method 'format' of 'str' objects}\n",
      "       20    0.000    0.000    0.000    0.000 <frozen importlib._bootstrap>:1009(_handle_fromlist)\n",
      "       20    0.000    0.000    0.000    0.000 __init__.py:1619(isEnabledFor)\n",
      "       10    0.000    0.000    0.000    0.000 parser.py:18(__init__)\n",
      "       80    0.000    0.000    0.000    0.000 {method 'keys' of 'dict' objects}\n",
      "       60    0.000    0.000    0.000    0.000 {method 'upper' of 'str' objects}\n",
      "       10    0.000    0.000    0.000    0.000 parse.py:178(_userinfo)\n",
      "       10    0.000    0.000    0.000    0.000 socket.py:406(_decref_socketios)\n",
      "       10    0.000    0.000    0.002    0.000 request.py:2589(getproxies_macosx_sysconf)\n",
      "       10    0.000    0.000    0.000    0.000 response.py:547(closed)\n",
      "       28    0.000    0.000    0.000    0.000 {method '_checkClosed' of '_io._IOBase' objects}\n",
      "       10    0.000    0.000    0.000    0.000 parse.py:146(username)\n",
      "       10    0.000    0.000    0.000    0.000 timeout.py:171(start_connect)\n",
      "       30    0.000    0.000    0.000    0.000 timeout.py:195(connect_timeout)\n",
      "       10    0.000    0.000    0.000    0.000 queue.py:11(_init)\n",
      "       10    0.000    0.000    0.000    0.000 _internal_utils.py:30(unicode_is_ascii)\n",
      "       10    0.000    0.000    0.002    0.000 sessions.py:423(__exit__)\n",
      "       50    0.000    0.000    0.000    0.000 {method 'setdefault' of 'dict' objects}\n",
      "       30    0.000    0.000    0.000    0.000 {built-in method posix.fspath}\n",
      "       10    0.000    0.000    0.000    0.000 socket.py:412(_real_close)\n",
      "       20    0.000    0.000    0.000    0.000 message.py:181(is_multipart)\n",
      "       10    0.000    0.000    0.000    0.000 connection.py:172(_prepare_conn)\n",
      "       20    0.000    0.000    0.000    0.000 response.py:200(<genexpr>)\n",
      "       10    0.000    0.000    0.000    0.000 poolmanager.py:283(_merge_pool_kwargs)\n",
      "       10    0.000    0.000    0.000    0.000 {method 'update' of 'dict' objects}\n",
      "       20    0.000    0.000    0.000    0.000 {built-in method builtins.iter}\n",
      "       20    0.000    0.000    0.000    0.000 {method 'extend' of 'collections.deque' objects}\n",
      "       40    0.000    0.000    0.000    0.000 {method 'release' of '_thread.RLock' objects}\n",
      "       40    0.000    0.000    0.000    0.000 {method 'seek' of '_io.StringIO' objects}\n",
      "       10    0.000    0.000    0.000    0.000 client.py:398(_close_conn)\n",
      "       10    0.000    0.000    0.000    0.000 response.py:279(<listcomp>)\n",
      "       10    0.000    0.000    0.000    0.000 response.py:318(_decode)\n",
      "       20    0.000    0.000    0.000    0.000 structures.py:60(__len__)\n",
      "       10    0.000    0.000    0.000    0.000 sessions.py:80(merge_hooks)\n",
      "       10    0.000    0.000    0.000    0.000 sessions.py:97(get_redirect_target)\n",
      "       10    0.000    0.000    0.000    0.000 netrc.py:113(authenticators)\n",
      "       10    0.000    0.000    0.000    0.000 {method 'pop' of 'collections.OrderedDict' objects}\n",
      "       40    0.000    0.000    0.000    0.000 {method 'items' of 'collections.OrderedDict' objects}\n",
      "       80    0.000    0.000    0.000    0.000 {method 'popleft' of 'collections.deque' objects}\n",
      "       10    0.000    0.000    0.000    0.000 message.py:303(set_payload)\n",
      "       20    0.000    0.000    0.000    0.000 cookies.py:104(__init__)\n",
      "       10    0.000    0.000    0.000    0.000 connection.py:93(allowed_gai_family)\n",
      "       10    0.000    0.000    0.000    0.000 sessions.py:668(<listcomp>)\n",
      "       20    0.000    0.000    0.000    0.000 {method 'split' of 'bytes' objects}\n",
      "       20    0.000    0.000    0.000    0.000 {method 'extend' of 'list' objects}\n",
      "       20    0.000    0.000    0.000    0.000 codecs.py:331(getstate)\n",
      "       10    0.000    0.000    0.000    0.000 <string>:1(__new__)\n",
      "       10    0.000    0.000    0.000    0.000 client.py:795(_get_content_length)\n",
      "       10    0.000    0.000    0.000    0.000 timeout.py:213(read_timeout)\n",
      "       10    0.000    0.000    0.000    0.000 response.py:532(getheader)\n",
      "       10    0.000    0.000    0.000    0.000 cookiejar.py:1265(_cookies_for_request)\n",
      "       30    0.000    0.000    0.000    0.000 cookiejar.py:43(_debug)\n",
      "       10    0.000    0.000    0.000    0.000 {method 'rstrip' of 'bytes' objects}\n",
      "       40    0.000    0.000    0.000    0.000 {method 'copy' of 'dict' objects}\n",
      "       10    0.000    0.000    0.000    0.000 {method 'tobytes' of 'memoryview' objects}\n",
      "       10    0.000    0.000    0.000    0.000 {method 'endswith' of 'str' objects}\n",
      "       10    0.000    0.000    0.000    0.000 {built-in method builtins.max}\n",
      "       10    0.000    0.000    0.000    0.000 {built-in method _thread.allocate_lock}\n",
      "       10    0.000    0.000    0.000    0.000 {method 'write' of '_io.StringIO' objects}\n",
      "       10    0.000    0.000    0.000    0.000 connectionpool.py:878(_ipv6_host)\n",
      "       10    0.000    0.000    0.000    0.000 hooks.py:23(dispatch_hook)\n",
      "       20    0.000    0.000    0.000    0.000 {method 'update' of 'collections.OrderedDict' objects}\n",
      "       10    0.000    0.000    0.000    0.000 {method 'replace' of 'str' objects}\n",
      "       20    0.000    0.000    0.000    0.000 {method 'isdigit' of 'str' objects}\n",
      "       20    0.000    0.000    0.000    0.000 {method 'group' of 're.Match' objects}\n",
      "       10    0.000    0.000    0.000    0.000 codecs.py:260(__init__)\n",
      "       10    0.000    0.000    0.000    0.000 connection.py:116(host)\n",
      "       10    0.000    0.000    0.000    0.000 request.py:77(set_file_position)\n",
      "       10    0.000    0.000    0.000    0.000 {method 'sort' of 'list' objects}\n",
      "       20    0.000    0.000    0.000    0.000 {method 'clear' of 'collections.OrderedDict' objects}\n",
      "       10    0.000    0.000    0.000    0.000 parse.py:325(geturl)\n",
      "       20    0.000    0.000    0.000    0.000 utils.py:672(set_environ)\n",
      "       10    0.000    0.000    0.000    0.000 _collections_abc.py:701(__len__)\n",
      "       10    0.000    0.000    0.000    0.000 utils.py:514(iter_slices)\n",
      "       10    0.000    0.000    0.000    0.000 models.py:521(prepare_content_length)\n",
      "       20    0.000    0.000    0.000    0.000 {method 'appendleft' of 'collections.deque' objects}\n",
      "       10    0.000    0.000    0.000    0.000 posixpath.py:41(_get_sep)\n",
      "       20    0.000    0.000    0.000    0.000 feedparser.py:125(__iter__)\n",
      "       10    0.000    0.000    0.000    0.000 adapters.py:358(add_headers)\n",
      "       10    0.000    0.000    0.000    0.000 {method 'pop' of 'list' objects}\n",
      "       10    0.000    0.000    0.000    0.000 {built-in method builtins.any}\n",
      "       10    0.000    0.000    0.000    0.000 connection.py:135(host)\n",
      "       40    0.000    0.000    0.000    0.000 cookies.py:111(info)\n",
      "       20    0.000    0.000    0.000    0.000 {method 'values' of 'dict' objects}\n",
      "       10    0.000    0.000    0.000    0.000 {built-in method builtins.all}\n",
      "       10    0.000    0.000    0.000    0.000 {built-in method time.monotonic}\n",
      "       10    0.000    0.000    0.000    0.000 {method 'pop' of 'set' objects}\n",
      "       10    0.000    0.000    0.000    0.000 client.py:871(_get_hostport)\n",
      "       10    0.000    0.000    0.000    0.000 models.py:184(<genexpr>)\n",
      "       10    0.000    0.000    0.000    0.000 connectionpool.py:280(_validate_conn)\n",
      "       10    0.000    0.000    0.000    0.000 cookies.py:81(get_new_headers)\n",
      "       10    0.000    0.000    0.000    0.000 {function HTTPResponse.flush at 0x7f9500573840}\n",
      "       10    0.000    0.000    0.000    0.000 sessions.py:420(__enter__)\n",
      "        1    0.000    0.000   19.547   19.547 <string>:1(<module>)\n",
      "        1    0.000    0.000    0.000    0.000 {method 'disable' of '_lsprof.Profiler' objects}\n",
      "\n",
      "\n"
     ]
    }
   ],
   "source": [
    "cProfile.run('miningSpeedTest()', sort='time')"
   ]
  },
  {
   "cell_type": "code",
   "execution_count": null,
   "metadata": {},
   "outputs": [],
   "source": []
  },
  {
   "cell_type": "markdown",
   "metadata": {},
   "source": [
    "### Test new pool creation  \n",
    "Pool creation has to be a transaction with some zsh spenditure!"
   ]
  },
  {
   "cell_type": "code",
   "execution_count": 232,
   "metadata": {},
   "outputs": [
    {
     "data": {
      "text/plain": [
       "b'{\"ADDRESS\":\"z01x00677ed3eb9789e5405d94e59129389ffae05b41027ffc8af28942d89a\"}\\n'"
      ]
     },
     "execution_count": 232,
     "metadata": {},
     "output_type": "execute_result"
    }
   ],
   "source": [
    "# Coinbase\n",
    "wallet = requests.post(host+'/wallet/new', json={'password': '12345'}).content\n",
    "wallet"
   ]
  },
  {
   "cell_type": "code",
   "execution_count": 233,
   "metadata": {},
   "outputs": [
    {
     "data": {
      "text/plain": [
       "b'{\"ADDRESS\":\"z01x00d6718ba1a1de9f995d9f6d7802089438a6e72cb9f5324a684c41be3c\"}\\n'"
      ]
     },
     "execution_count": 233,
     "metadata": {},
     "output_type": "execute_result"
    }
   ],
   "source": [
    "wallet = requests.post(host+'/wallet/new', json={'password': 'qwerty'}).content\n",
    "wallet"
   ]
  },
  {
   "cell_type": "code",
   "execution_count": 234,
   "metadata": {},
   "outputs": [
    {
     "data": {
      "text/plain": [
       "b'{\"MSG\":\"New pool was created! Name: Tether, Symbol: USDT\"}\\n'"
      ]
     },
     "execution_count": 234,
     "metadata": {},
     "output_type": "execute_result"
    }
   ],
   "source": [
    "name = 'Tether' #Tether Ether\n",
    "symbol = 'usdt' #usdt eth\n",
    "pool = requests.post(host+'/pools/createPool', json={'name': name, 'symbol': symbol}).content\n",
    "pool"
   ]
  },
  {
   "cell_type": "code",
   "execution_count": 38,
   "metadata": {},
   "outputs": [
    {
     "data": {
      "text/plain": [
       "b'{\"MSG\": [{\"name\": \"Tether\", \"symbol\": \"USDT\", \"poolBalance\": 0.0, \"accounts\": {\"z01x00b3f5f21363fd6583cb158ba2a53b38b9786651d41a781cdb7a257e96\": 10099.300000000003, \"z01x00d546826798ee17af7f35f83ffe27d7b714414925471837326de9dd48\": 9900.699999999997}, \"blockHash\": \"136bfbb1d6476de0599b67d37b329af9590723a711ccd16565b0c60b1efed9c8\", \"validHash\": \"4d6e6149c371d4f73033aaa8832e00beb693d2b76a18a28d2377a8b9\"}]}'"
      ]
     },
     "execution_count": 38,
     "metadata": {},
     "output_type": "execute_result"
    }
   ],
   "source": [
    "pools = requests.get(host+'/pools/getPools').content\n",
    "pools"
   ]
  },
  {
   "cell_type": "code",
   "execution_count": null,
   "metadata": {},
   "outputs": [],
   "source": []
  },
  {
   "cell_type": "code",
   "execution_count": null,
   "metadata": {},
   "outputs": [],
   "source": []
  },
  {
   "cell_type": "code",
   "execution_count": 2,
   "metadata": {},
   "outputs": [
    {
     "data": {
      "text/plain": [
       "'2f1d2c396fe1aeec398cee910d55c44f254e470ee7a927e4890bcd7a'"
      ]
     },
     "execution_count": 2,
     "metadata": {},
     "output_type": "execute_result"
    }
   ],
   "source": [
    "uid = uuid.uuid4().hex\n",
    "password = 'lalalend'\n",
    "passHashed = hashlib.sha3_224((password+uid).encode()).hexdigest()\n",
    "passHashed"
   ]
  },
  {
   "cell_type": "code",
   "execution_count": 28,
   "metadata": {},
   "outputs": [
    {
     "data": {
      "text/plain": [
       "'82.151.196.144'"
      ]
     },
     "execution_count": 28,
     "metadata": {},
     "output_type": "execute_result"
    }
   ],
   "source": [
    "whiteIp = requests.get('https://api.ipify.org').content\n",
    "whiteIp.decode()"
   ]
  },
  {
   "cell_type": "code",
   "execution_count": 27,
   "metadata": {},
   "outputs": [
    {
     "data": {
      "text/plain": [
       "b'{\"MSG\":\"Working\"}\\n'"
      ]
     },
     "execution_count": 27,
     "metadata": {},
     "output_type": "execute_result"
    }
   ],
   "source": [
    "requests.get('http://178.176.120.241:5000').content"
   ]
  },
  {
   "cell_type": "code",
   "execution_count": null,
   "metadata": {},
   "outputs": [],
   "source": []
  },
  {
   "cell_type": "markdown",
   "metadata": {},
   "source": [
    "## Test Blockchain Endpoints"
   ]
  },
  {
   "cell_type": "code",
   "execution_count": 2,
   "metadata": {},
   "outputs": [],
   "source": [
    "host = 'http://0.0.0.0:5000'"
   ]
  },
  {
   "cell_type": "code",
   "execution_count": 3,
   "metadata": {},
   "outputs": [
    {
     "data": {
      "text/plain": [
       "b'{\"nodes\": [\"178.176.120.241:5000\"]}'"
      ]
     },
     "execution_count": 3,
     "metadata": {},
     "output_type": "execute_result"
    }
   ],
   "source": [
    "nodes = requests.get(host+\"/nodes/getNodes\").content\n",
    "nodes"
   ]
  },
  {
   "cell_type": "code",
   "execution_count": 277,
   "metadata": {},
   "outputs": [
    {
     "data": {
      "text/plain": [
       "b'{\"nodes\": [\"82.151.196.144:5000\"]}'"
      ]
     },
     "execution_count": 277,
     "metadata": {},
     "output_type": "execute_result"
    }
   ],
   "source": [
    "host1 = 'http://178.176.120.241:5000'\n",
    "nodes1 = requests.get(host1+\"/nodes/getNodes\").content\n",
    "nodes1"
   ]
  },
  {
   "cell_type": "code",
   "execution_count": 115,
   "metadata": {},
   "outputs": [
    {
     "data": {
      "text/plain": [
       "'z01x006cd240bb549be12078aa8cf76dac965060dd2b6ba2f4151b6b0fe680'"
      ]
     },
     "execution_count": 115,
     "metadata": {},
     "output_type": "execute_result"
    }
   ],
   "source": [
    "wallet = json.loads(wallet)['ADDRESS']\n",
    "wallet"
   ]
  },
  {
   "cell_type": "code",
   "execution_count": null,
   "metadata": {},
   "outputs": [],
   "source": []
  },
  {
   "cell_type": "code",
   "execution_count": null,
   "metadata": {},
   "outputs": [],
   "source": []
  },
  {
   "cell_type": "code",
   "execution_count": null,
   "metadata": {},
   "outputs": [],
   "source": []
  },
  {
   "cell_type": "code",
   "execution_count": 12,
   "metadata": {},
   "outputs": [],
   "source": [
    "regNode = requests.post(host+\"/nodes/register\", json={\"nodes\": ['http://0.0.0.0:5001']}).content\n",
    "regNode"
   ]
  },
  {
   "cell_type": "code",
   "execution_count": 69,
   "metadata": {},
   "outputs": [
    {
     "data": {
      "text/plain": [
       "b'{\"MSG\":true}\\n'"
      ]
     },
     "execution_count": 69,
     "metadata": {},
     "output_type": "execute_result"
    }
   ],
   "source": [
    "# logout = requests.get(host+'/wallet/logout').content\n",
    "# logout"
   ]
  },
  {
   "cell_type": "code",
   "execution_count": 7,
   "metadata": {},
   "outputs": [
    {
     "data": {
      "text/plain": [
       "b'{\"ADDRESS\":\"z01x00bbf722aaa7c08bef5f20ca5e7afa62560a7ea3dcf68bd9d7745fbadc\"}\\n'"
      ]
     },
     "execution_count": 7,
     "metadata": {},
     "output_type": "execute_result"
    }
   ],
   "source": [
    "# Coinbase\n",
    "wallet = requests.post(host+'/wallet/new', json={'password': '12345'}).content\n",
    "wallet"
   ]
  },
  {
   "cell_type": "code",
   "execution_count": 12,
   "metadata": {},
   "outputs": [
    {
     "data": {
      "text/plain": [
       "b'{\"ADDRESS\":\"z01x0011b6b1f87a66cf63d8e61d59429468dcb67d1324aebfd3f7bb51cc92\"}\\n'"
      ]
     },
     "execution_count": 12,
     "metadata": {},
     "output_type": "execute_result"
    }
   ],
   "source": [
    "wallet = requests.post(host+'/wallet/new', json={'password': 'qwerty'}).content\n",
    "wallet"
   ]
  },
  {
   "cell_type": "code",
   "execution_count": 8,
   "metadata": {},
   "outputs": [
    {
     "data": {
      "text/plain": [
       "b'{\"ADDRESS\":\"z01x00bbf722aaa7c08bef5f20ca5e7afa62560a7ea3dcf68bd9d7745fbadc\",\"MSG\":true}\\n'"
      ]
     },
     "execution_count": 8,
     "metadata": {},
     "output_type": "execute_result"
    }
   ],
   "source": [
    "login = requests.post(host+'/wallet/login', json={'password': '12345'}).content\n",
    "login"
   ]
  },
  {
   "cell_type": "code",
   "execution_count": 9,
   "metadata": {},
   "outputs": [
    {
     "data": {
      "text/plain": [
       "b'{\"index\":2,\"message\":\"New Block Forged\",\"pool_syncing\":\"Tx pool synced among 1 nodes\",\"previous_hash\":\"f64dedb7482a62da9fb55f718474f55a518f57cefa0e5b84014abc8a1290c316\",\"proof\":16,\"transactions\":[{\"comissionAmount\":1.0,\"contract\":null,\"price\":0.0,\"recieveAmount\":null,\"recipient\":\"z01x00bbf722aaa7c08bef5f20ca5e7afa62560a7ea3dcf68bd9d7745fbadc\",\"sendAmount\":1,\"sender\":\"z01x0000000000000000000000000000000000000000000000000000000000\",\"symbol\":\"zsh\",\"timestamp\":1630303668.51556,\"tradeTxId\":null}]}\\n'"
      ]
     },
     "execution_count": 9,
     "metadata": {},
     "output_type": "execute_result"
    }
   ],
   "source": [
    "mineReq = requests.get(host+'/mine').content\n",
    "mineReq"
   ]
  },
  {
   "cell_type": "code",
   "execution_count": 238,
   "metadata": {},
   "outputs": [
    {
     "data": {
      "text/plain": [
       "b'{\"BALACNE\":{\"balance\":1.0,\"token\":\"ZSH\"}}\\n'"
      ]
     },
     "execution_count": 238,
     "metadata": {},
     "output_type": "execute_result"
    }
   ],
   "source": [
    "accountBalance = requests.post(host+'/wallet/getBalance', json={'address': json.loads(login)['ADDRESS']}).content\n",
    "accountBalance"
   ]
  },
  {
   "cell_type": "code",
   "execution_count": null,
   "metadata": {},
   "outputs": [],
   "source": []
  },
  {
   "cell_type": "code",
   "execution_count": 239,
   "metadata": {},
   "outputs": [
    {
     "data": {
      "text/plain": [
       "b'{\"MSG\":3,\"SYNC\":\"Tx pool synced among 0 nodes\"}\\n'"
      ]
     },
     "execution_count": 239,
     "metadata": {},
     "output_type": "execute_result"
    }
   ],
   "source": [
    "sellTx = {\n",
    "        'type': 'trade',\n",
    "        'sender': json.loads(login)['ADDRESS'],\n",
    "        'symbol': 'zsh/usdt',\n",
    "        'price': 9.93,\n",
    "        'send': 'zsh',\n",
    "        'sendVol': 1.0,\n",
    "        'get': 'usdt',\n",
    "        'getVol': 9.93,\n",
    "        'comissionAmount':2\n",
    "    }\n",
    "txReq = requests.post(host+'/transactions/new', json=sellTx).content\n",
    "txReq"
   ]
  },
  {
   "cell_type": "code",
   "execution_count": 240,
   "metadata": {},
   "outputs": [
    {
     "data": {
      "text/plain": [
       "b'{\"ADDRESS\":\"z01x00d6718ba1a1de9f995d9f6d7802089438a6e72cb9f5324a684c41be3c\",\"MSG\":true}\\n'"
      ]
     },
     "execution_count": 240,
     "metadata": {},
     "output_type": "execute_result"
    }
   ],
   "source": [
    "login = requests.post(host+'/wallet/login', json={'password': 'qwerty'}).content\n",
    "login"
   ]
  },
  {
   "cell_type": "code",
   "execution_count": 241,
   "metadata": {},
   "outputs": [
    {
     "data": {
      "text/plain": [
       "b'{\"BALACNE\":{\"balance\":0.0,\"token\":\"ZSH\"}}\\n'"
      ]
     },
     "execution_count": 241,
     "metadata": {},
     "output_type": "execute_result"
    }
   ],
   "source": [
    "accountBalance = requests.post(host+'/wallet/getBalance', json={'address': json.loads(login)['ADDRESS']}).content\n",
    "accountBalance"
   ]
  },
  {
   "cell_type": "code",
   "execution_count": 242,
   "metadata": {},
   "outputs": [
    {
     "data": {
      "text/plain": [
       "b'{\"MSG\":3,\"SYNC\":\"Tx pool synced among 0 nodes\"}\\n'"
      ]
     },
     "execution_count": 242,
     "metadata": {},
     "output_type": "execute_result"
    }
   ],
   "source": [
    "buyTx = {\n",
    "        'type': 'trade',\n",
    "        'sender': json.loads(login)['ADDRESS'],\n",
    "        'symbol': 'zsh/usdt',\n",
    "        'price': 9.93,\n",
    "        'send': 'usdt',\n",
    "        'sendVol': 9.93,\n",
    "        'get': 'zsh',\n",
    "        'getVol': 1.0,\n",
    "        'comissionAmount':2\n",
    "    }\n",
    "txReq = requests.post(host+'/transactions/new', json=buyTx).content\n",
    "\n",
    "txReq"
   ]
  },
  {
   "cell_type": "code",
   "execution_count": 243,
   "metadata": {},
   "outputs": [
    {
     "data": {
      "text/plain": [
       "b'<!DOCTYPE HTML PUBLIC \"-//W3C//DTD HTML 3.2 Final//EN\">\\n<title>500 Internal Server Error</title>\\n<h1>Internal Server Error</h1>\\n<p>The server encountered an internal error and was unable to complete your request. Either the server is overloaded or there is an error in the application.</p>\\n'"
      ]
     },
     "execution_count": 243,
     "metadata": {},
     "output_type": "execute_result"
    }
   ],
   "source": [
    "mineReq = requests.get(host+'/mine').content\n",
    "mineReq"
   ]
  },
  {
   "cell_type": "code",
   "execution_count": 190,
   "metadata": {},
   "outputs": [
    {
     "data": {
      "text/plain": [
       "b'{\"BALACNE\":{\"balance\":2.0,\"token\":\"ZSH\"}}\\n'"
      ]
     },
     "execution_count": 190,
     "metadata": {},
     "output_type": "execute_result"
    }
   ],
   "source": [
    "accountBalance = requests.post(host+'/wallet/getBalance', json={'address': json.loads(login)['ADDRESS']}).content\n",
    "accountBalance"
   ]
  },
  {
   "cell_type": "code",
   "execution_count": 130,
   "metadata": {},
   "outputs": [
    {
     "data": {
      "text/plain": [
       "b'{\"MSG\":4,\"SYNC\":\"Tx pool synced among 1 nodes\"}\\n'"
      ]
     },
     "execution_count": 130,
     "metadata": {},
     "output_type": "execute_result"
    }
   ],
   "source": [
    "step=0.1\n",
    "for i in range(3):\n",
    "    \n",
    "    tradeTx = {\n",
    "        'type': 'trade',\n",
    "        'sender': json.loads(login)['ADDRESS'],\n",
    "        'symbol': 'zsh/usdt',\n",
    "        'price': 10.0+step,\n",
    "        'send': 'zsh',\n",
    "        'sendVol': 1.0,\n",
    "        'get': 'usdt',\n",
    "        'getVol': 10.0+step,\n",
    "        'comissionAmount':2\n",
    "    }\n",
    "\n",
    "    txReq = requests.post(host+'/transactions/new', json=tradeTx).content\n",
    "    step += 0.1\n",
    "\n",
    "txReq"
   ]
  },
  {
   "cell_type": "code",
   "execution_count": 131,
   "metadata": {},
   "outputs": [
    {
     "data": {
      "text/plain": [
       "b'{\"MSG\":4,\"SYNC\":\"Tx pool synced among 1 nodes\"}\\n'"
      ]
     },
     "execution_count": 131,
     "metadata": {},
     "output_type": "execute_result"
    }
   ],
   "source": [
    "step = 0.1\n",
    "for i in range(3):\n",
    "    tradeTx = {\n",
    "        'type': 'trade',\n",
    "        'sender': json.loads(login)['ADDRESS'],\n",
    "        'symbol': 'zsh/usdt',\n",
    "        'price': 9.8+step,\n",
    "        'send': 'usdt',\n",
    "        'sendVol': 9.8+step,\n",
    "        'get': 'zsh',\n",
    "        'getVol': 1.0,\n",
    "        'comissionAmount':2\n",
    "    }\n",
    "    \n",
    "    txReq = requests.post(host+'/transactions/new', json=tradeTx).content\n",
    "    step -= 0.1\n",
    "txReq"
   ]
  },
  {
   "cell_type": "code",
   "execution_count": null,
   "metadata": {},
   "outputs": [],
   "source": []
  },
  {
   "cell_type": "code",
   "execution_count": null,
   "metadata": {},
   "outputs": [],
   "source": []
  },
  {
   "cell_type": "code",
   "execution_count": 36,
   "metadata": {},
   "outputs": [
    {
     "data": {
      "text/plain": [
       "[{'comissionAmount': 2.0,\n",
       "  'get': 'usdt',\n",
       "  'getVol': 10.1,\n",
       "  'price': 10.1,\n",
       "  'send': 'zsh',\n",
       "  'sendVol': 1.0,\n",
       "  'sender': 'z01x006cd240bb549be12078aa8cf76dac965060dd2b6ba2f4151b6b0fe680',\n",
       "  'symbol': 'zsh/usdt',\n",
       "  'timestamp': 1629980429.780089,\n",
       "  'tradeTxId': 'cc9828d5acda1758fc2435ad279c436213bd5d65a6767e557d9b0f9c88794a9c'},\n",
       " {'comissionAmount': 2.0,\n",
       "  'get': 'usdt',\n",
       "  'getVol': 10.2,\n",
       "  'price': 10.2,\n",
       "  'send': 'zsh',\n",
       "  'sendVol': 1.0,\n",
       "  'sender': 'z01x006cd240bb549be12078aa8cf76dac965060dd2b6ba2f4151b6b0fe680',\n",
       "  'symbol': 'zsh/usdt',\n",
       "  'timestamp': 1629980430.591604,\n",
       "  'tradeTxId': 'f82a51ea6f4e22fd10c4984a9b20965774e4f308eeae3d039dea659034c03d41'},\n",
       " {'comissionAmount': 2.0,\n",
       "  'get': 'usdt',\n",
       "  'getVol': 10.3,\n",
       "  'price': 10.3,\n",
       "  'send': 'zsh',\n",
       "  'sendVol': 1.0,\n",
       "  'sender': 'z01x006cd240bb549be12078aa8cf76dac965060dd2b6ba2f4151b6b0fe680',\n",
       "  'symbol': 'zsh/usdt',\n",
       "  'timestamp': 1629980431.33705,\n",
       "  'tradeTxId': '040d642e897cf24f6784de7ccdc1700bcf8f56881aa1d80751f65c2da2105573'},\n",
       " {'comissionAmount': 2.0,\n",
       "  'get': 'zsh',\n",
       "  'getVol': 1.0,\n",
       "  'price': 9.9,\n",
       "  'send': 'usdt',\n",
       "  'sendVol': 9.9,\n",
       "  'sender': 'z01x006cd240bb549be12078aa8cf76dac965060dd2b6ba2f4151b6b0fe680',\n",
       "  'symbol': 'zsh/usdt',\n",
       "  'timestamp': 1629980434.055874,\n",
       "  'tradeTxId': 'c657a8138676ea2926fd832102470dcae0b8133bff768b979bdaffa41ac91a30'},\n",
       " {'comissionAmount': 2.0,\n",
       "  'get': 'zsh',\n",
       "  'getVol': 1.0,\n",
       "  'price': 9.8,\n",
       "  'send': 'usdt',\n",
       "  'sendVol': 9.8,\n",
       "  'sender': 'z01x006cd240bb549be12078aa8cf76dac965060dd2b6ba2f4151b6b0fe680',\n",
       "  'symbol': 'zsh/usdt',\n",
       "  'timestamp': 1629980434.800877,\n",
       "  'tradeTxId': '3970013a35a8466f7ea666d188db891d1c8811926cf1709d6c87f5fdb4f47dd7'},\n",
       " {'comissionAmount': 2.0,\n",
       "  'get': 'zsh',\n",
       "  'getVol': 1.0,\n",
       "  'price': 9.700000000000001,\n",
       "  'send': 'usdt',\n",
       "  'sendVol': 9.700000000000001,\n",
       "  'sender': 'z01x006cd240bb549be12078aa8cf76dac965060dd2b6ba2f4151b6b0fe680',\n",
       "  'symbol': 'zsh/usdt',\n",
       "  'timestamp': 1629980435.500672,\n",
       "  'tradeTxId': '04f0977dd84510cae828b00e6e4f3db05dcd15dd43493dbd4f40523a30b5fed1'}]"
      ]
     },
     "execution_count": 36,
     "metadata": {},
     "output_type": "execute_result"
    }
   ],
   "source": [
    "ordersPool = json.loads(requests.get(host+'/getTradeOrders').content)['tradeOrders']\n",
    "ordersPool"
   ]
  },
  {
   "cell_type": "code",
   "execution_count": 132,
   "metadata": {},
   "outputs": [
    {
     "data": {
      "text/plain": [
       "[{'index': 1,\n",
       "  'previousHash': '9c3b78de7eb0066418a682aec7d0e6841cd5cbe70d71ae65309d4917cd1c5681',\n",
       "  'proof': 42,\n",
       "  'timestamp': 1629032178.368946,\n",
       "  'transactions': ['ascl,sdc,d[v,[d,vsdcaaxasx]]', 'lv,sldc,sdc ;,d;d']},\n",
       " {'index': 2,\n",
       "  'previousHash': '9204ca3bc9ca2716f5a0a3ed866c9fb5b15a292c0ea53bc2e3e145b94933f393',\n",
       "  'proof': 22976,\n",
       "  'timestamp': 1630062487.100557,\n",
       "  'transactions': [{'comissionAmount': 1.0,\n",
       "    'contract': None,\n",
       "    'price': 0.0,\n",
       "    'recieveAmount': None,\n",
       "    'recipient': 'z01x0028f3a682c732e293aad870ea7ed6bdd79b0fca340cf6927cf9e9c10a',\n",
       "    'sendAmount': 1,\n",
       "    'sender': 'z01x0000000000000000000000000000000000000000000000000000000000',\n",
       "    'symbol': 'zsh',\n",
       "    'timestamp': 1630062486.249603,\n",
       "    'tradeTxId': None}]},\n",
       " {'index': 3,\n",
       "  'previousHash': '422699de7eaf9da0437a4e67a69bbc18192eef6d4d145112fac4caaa8c72826b',\n",
       "  'proof': 119240,\n",
       "  'timestamp': 1630062491.103936,\n",
       "  'transactions': [{'comissionAmount': 1.0,\n",
       "    'contract': None,\n",
       "    'price': 0.0,\n",
       "    'recieveAmount': None,\n",
       "    'recipient': 'z01x0028f3a682c732e293aad870ea7ed6bdd79b0fca340cf6927cf9e9c10a',\n",
       "    'sendAmount': 1,\n",
       "    'sender': 'z01x0000000000000000000000000000000000000000000000000000000000',\n",
       "    'symbol': 'zsh',\n",
       "    'timestamp': 1630062490.456663,\n",
       "    'tradeTxId': None}]}]"
      ]
     },
     "execution_count": 132,
     "metadata": {},
     "output_type": "execute_result"
    }
   ],
   "source": [
    "chain = json.loads(requests.get(host+'/chain').content)['chain']\n",
    "chain"
   ]
  },
  {
   "cell_type": "code",
   "execution_count": null,
   "metadata": {},
   "outputs": [],
   "source": []
  },
  {
   "cell_type": "code",
   "execution_count": 71,
   "metadata": {},
   "outputs": [
    {
     "data": {
      "text/plain": [
       "b'{\"MSG\":4,\"SYNC\":\"Tx pool synced among 1 nodes\"}\\n'"
      ]
     },
     "execution_count": 71,
     "metadata": {},
     "output_type": "execute_result"
    }
   ],
   "source": [
    "# 'comissionAmount': 2.0,\n",
    "#   'get': 'usdt',\n",
    "#   'getVol': 1030.0,\n",
    "#   'price': 1030.0,\n",
    "#   'send': 'uni',\n",
    "#   'sendVol': 1.0,\n",
    "#   'sender': 'z01x0030dfc2c4736a6ecaa2362cb65f7fb313934b33283f51caa765e3745e',\n",
    "#   'symbol': 'uni/usdt',\n",
    "#   'timestamp': 1629813262.264664,\n",
    "#   'tradeTxId': 'd648507f2b334c965c3e616f6d06fb1e987e820453385b8e65183c2f994265c3'}\n",
    "\n",
    "\n",
    "buyTx = {\n",
    "        'type': 'trade',\n",
    "        'sender': json.loads(login)['ADDRESS'],\n",
    "        'symbol': 'uni/usdt',\n",
    "        'price': 1000.0,\n",
    "        'send': 'usdt',\n",
    "        'sendVol': 1000.0,\n",
    "        'get': 'uni',\n",
    "        'getVol': 1.0,\n",
    "        'comissionAmount':2\n",
    "    }\n",
    "txReq = requests.post(host+'/transactions/new', json=buyTx).content\n",
    "\n",
    "\n",
    "# {'comissionAmount': 2.0,\n",
    "#   'get': 'usdt',\n",
    "#   'getVol': 49010.0,\n",
    "#   'price': 49010.0,\n",
    "#   'send': 'btc',\n",
    "#   'sendVol': 1.0,\n",
    "#   'sender': 'z01x0030dfc2c4736a6ecaa2362cb65f7fb313934b33283f51caa765e3745e',\n",
    "#   'symbol': 'btc/usdt',\n",
    "#   'timestamp': 1629813003.165863,\n",
    "#   'tradeTxId': 'b0c04cc31ff140a01b7bacaad8dd8b866b93861edc74e4e2be28e0327e31c139'}\n",
    "\n",
    "# buyTx = {\n",
    "#         'type': 'trade',\n",
    "#         'sender': json.loads(login)['ADDRESS'],\n",
    "#         'symbol': 'btc/usdt',\n",
    "#         'price': 49010.1,\n",
    "#         'send': 'usdt',\n",
    "#         'sendVol': 49010.1,\n",
    "#         'get': 'btc',\n",
    "#         'getVol': 1.0,\n",
    "#         'comissionAmount':2\n",
    "#     }\n",
    "txReq = requests.post(host+'/transactions/new', json=buyTx).content\n",
    "txReq"
   ]
  },
  {
   "cell_type": "code",
   "execution_count": 48,
   "metadata": {
    "scrolled": true
   },
   "outputs": [
    {
     "data": {
      "text/plain": [
       "[{'comissionAmount': 2.0,\n",
       "  'get': 'usdt',\n",
       "  'getVol': 1010.0,\n",
       "  'price': 1010.0,\n",
       "  'send': 'uni',\n",
       "  'sendVol': 1.0,\n",
       "  'sender': 'z01x0030dfc2c4736a6ecaa2362cb65f7fb313934b33283f51caa765e3745e',\n",
       "  'symbol': 'uni/usdt',\n",
       "  'timestamp': 1629891726.53693,\n",
       "  'tradeTxId': '562bea1978aa9504102791d5b466ea68e40cf62605659248170a5ed150e53857'},\n",
       " {'comissionAmount': 2.0,\n",
       "  'get': 'usdt',\n",
       "  'getVol': 1020.0,\n",
       "  'price': 1020.0,\n",
       "  'send': 'uni',\n",
       "  'sendVol': 1.0,\n",
       "  'sender': 'z01x0030dfc2c4736a6ecaa2362cb65f7fb313934b33283f51caa765e3745e',\n",
       "  'symbol': 'uni/usdt',\n",
       "  'timestamp': 1629891727.30612,\n",
       "  'tradeTxId': 'cdbb497b923da5f1e8c473e2e4d74e0f78ff0b7897c728798c4c0b7ae36218c0'},\n",
       " {'comissionAmount': 2.0,\n",
       "  'get': 'usdt',\n",
       "  'getVol': 1030.0,\n",
       "  'price': 1030.0,\n",
       "  'send': 'uni',\n",
       "  'sendVol': 1.0,\n",
       "  'sender': 'z01x0030dfc2c4736a6ecaa2362cb65f7fb313934b33283f51caa765e3745e',\n",
       "  'symbol': 'uni/usdt',\n",
       "  'timestamp': 1629891728.041295,\n",
       "  'tradeTxId': '5209e1a8ebe118fe1f25b27fcca9a03bca2012d81f5f40046ac992111380aa4e'},\n",
       " {'comissionAmount': 2.0,\n",
       "  'get': 'uni',\n",
       "  'getVol': 1.0,\n",
       "  'price': 980.0,\n",
       "  'send': 'usdt',\n",
       "  'sendVol': 980.0,\n",
       "  'sender': 'z01x0030dfc2c4736a6ecaa2362cb65f7fb313934b33283f51caa765e3745e',\n",
       "  'symbol': 'uni/usdt',\n",
       "  'timestamp': 1629891732.675759,\n",
       "  'tradeTxId': '0dd163a143528b6618728d8cbc6f74204b43a583dd2a58c6b6a738f6a68f2eca'},\n",
       " {'comissionAmount': 2.0,\n",
       "  'get': 'uni',\n",
       "  'getVol': 1.0,\n",
       "  'price': 970.0,\n",
       "  'send': 'usdt',\n",
       "  'sendVol': 970.0,\n",
       "  'sender': 'z01x0030dfc2c4736a6ecaa2362cb65f7fb313934b33283f51caa765e3745e',\n",
       "  'symbol': 'uni/usdt',\n",
       "  'timestamp': 1629891733.420516,\n",
       "  'tradeTxId': '7fe359cd2d6b1566340a1c14ce181652357eca225e2d69a3ae287018076cc0d2'},\n",
       " {'comissionAmount': 2.0,\n",
       "  'get': 'uni',\n",
       "  'getVol': 1.0,\n",
       "  'price': 960.0,\n",
       "  'send': 'usdt',\n",
       "  'sendVol': 960.0,\n",
       "  'sender': 'z01x0030dfc2c4736a6ecaa2362cb65f7fb313934b33283f51caa765e3745e',\n",
       "  'symbol': 'uni/usdt',\n",
       "  'timestamp': 1629891734.132669,\n",
       "  'tradeTxId': 'b8e0024409c538cfeeb22aedbb2a3cf79254662fb50dd9e4ad0b76a0ace438ee'},\n",
       " {'comissionAmount': 2.0,\n",
       "  'get': 'usdt',\n",
       "  'getVol': 1008.0,\n",
       "  'price': 1008.0,\n",
       "  'send': 'uni',\n",
       "  'sendVol': 1.0,\n",
       "  'sender': 'z01x0030dfc2c4736a6ecaa2362cb65f7fb313934b33283f51caa765e3745e',\n",
       "  'symbol': 'uni/usdt',\n",
       "  'timestamp': 1629893795.800789,\n",
       "  'tradeTxId': '2b7b0ae515c7dab2cfe8b985e71cad9c1e61d9be558b31018ed40dae8145f68e'}]"
      ]
     },
     "execution_count": 48,
     "metadata": {},
     "output_type": "execute_result"
    }
   ],
   "source": [
    "ordersPool = json.loads(requests.get(host+'/getTradeOrders').content)['tradeOrders']\n",
    "ordersPool"
   ]
  },
  {
   "cell_type": "code",
   "execution_count": 26,
   "metadata": {},
   "outputs": [
    {
     "data": {
      "text/plain": [
       "[{'index': 1,\n",
       "  'previousHash': '9c3b78de7eb0066418a682aec7d0e6841cd5cbe70d71ae65309d4917cd1c5681',\n",
       "  'proof': 42,\n",
       "  'timestamp': 1629032178.368946,\n",
       "  'transactions': ['ascl,sdc,d[v,[d,vsdcaaxasx]]', 'lv,sldc,sdc ;,d;d']}]"
      ]
     },
     "execution_count": 26,
     "metadata": {},
     "output_type": "execute_result"
    }
   ],
   "source": [
    "chain = json.loads(requests.get(host+'/chain').content)['chain']\n",
    "chain"
   ]
  },
  {
   "cell_type": "code",
   "execution_count": null,
   "metadata": {},
   "outputs": [],
   "source": []
  },
  {
   "cell_type": "code",
   "execution_count": 38,
   "metadata": {},
   "outputs": [
    {
     "data": {
      "text/plain": [
       "[('z01x0030dfc2c4736a6ecaa2362cb65f7fb313934b33283f51caa765e3745e',\n",
       "  'btc/usdt',\n",
       "  'usdt',\n",
       "  'btc',\n",
       "  48960.0,\n",
       "  '86e46974fdd63dd773da36f3724e91ec782e62110b44637fde6322f39d4101ce'),\n",
       " ('z01x0030dfc2c4736a6ecaa2362cb65f7fb313934b33283f51caa765e3745e',\n",
       "  'btc/usdt',\n",
       "  'usdt',\n",
       "  'btc',\n",
       "  48970.0,\n",
       "  'fd782f8c14c710d1e33ca276961e9cb7a61fff371ead383dac2d81ddb15af1a0'),\n",
       " ('z01x0030dfc2c4736a6ecaa2362cb65f7fb313934b33283f51caa765e3745e',\n",
       "  'btc/usdt',\n",
       "  'usdt',\n",
       "  'btc',\n",
       "  48980.0,\n",
       "  '6aab946489976021faff63a985d37243a65b1ec0c3c837bc0d92c6b1154aae3f'),\n",
       " ('z01x0030dfc2c4736a6ecaa2362cb65f7fb313934b33283f51caa765e3745e',\n",
       "  'btc/usdt',\n",
       "  'btc',\n",
       "  'usdt',\n",
       "  49000.0,\n",
       "  '6d348eea99de4b9a0999f1b252cdf1c28d8bba0bdecf3184c17f64291e2ab4e3'),\n",
       " ('z01x0030dfc2c4736a6ecaa2362cb65f7fb313934b33283f51caa765e3745e',\n",
       "  'btc/usdt',\n",
       "  'usdt',\n",
       "  'btc',\n",
       "  49000.0,\n",
       "  '6356596306c008b19dee84b58701b0d93bdd07b17160c6caf24ce4314082b511'),\n",
       " ('z01x0030dfc2c4736a6ecaa2362cb65f7fb313934b33283f51caa765e3745e',\n",
       "  'btc/usdt',\n",
       "  'btc',\n",
       "  'usdt',\n",
       "  49010.0,\n",
       "  'a52d682742d1a2f1aaa85c79af25a871e92a2ff8be550d88336d4e5052d87e19'),\n",
       " ('z01x0030dfc2c4736a6ecaa2362cb65f7fb313934b33283f51caa765e3745e',\n",
       "  'btc/usdt',\n",
       "  'btc',\n",
       "  'usdt',\n",
       "  49020.0,\n",
       "  '5bf8ba8eb92b8da3c91a9f19047b97b5f4daa6971fb8bedc417aa16255bb3a87'),\n",
       " ('z01x0030dfc2c4736a6ecaa2362cb65f7fb313934b33283f51caa765e3745e',\n",
       "  'btc/usdt',\n",
       "  'btc',\n",
       "  'usdt',\n",
       "  49030.0,\n",
       "  'fa145471de6058bde3a3eb019f9f62dc89ad37628faf81c6692aa0721c7d37bd')]"
      ]
     },
     "execution_count": 38,
     "metadata": {},
     "output_type": "execute_result"
    }
   ],
   "source": [
    "sybmolSortedLst = sorted([(ordersPool[i]['sender'],ordersPool[i]['symbol'],\\\n",
    "                            ordersPool[i]['send'],ordersPool[i]['get'],\\\n",
    "                           ordersPool[i]['price'],ordersPool[i]['tradeTxId'],)\\\n",
    "                          for i in range(len(ordersPool))], key=itemgetter(4, 2, 1))\n",
    "\n",
    "sybmolSortedLst"
   ]
  },
  {
   "cell_type": "code",
   "execution_count": 39,
   "metadata": {},
   "outputs": [
    {
     "data": {
      "text/plain": [
       "[(('z01x0030dfc2c4736a6ecaa2362cb65f7fb313934b33283f51caa765e3745e',\n",
       "   'btc/usdt',\n",
       "   'btc',\n",
       "   'usdt',\n",
       "   49000.0,\n",
       "   '6d348eea99de4b9a0999f1b252cdf1c28d8bba0bdecf3184c17f64291e2ab4e3'),\n",
       "  ('z01x0030dfc2c4736a6ecaa2362cb65f7fb313934b33283f51caa765e3745e',\n",
       "   'btc/usdt',\n",
       "   'usdt',\n",
       "   'btc',\n",
       "   49000.0,\n",
       "   '6356596306c008b19dee84b58701b0d93bdd07b17160c6caf24ce4314082b511'))]"
      ]
     },
     "execution_count": 39,
     "metadata": {},
     "output_type": "execute_result"
    }
   ],
   "source": [
    "mathchedOrders=[]\n",
    "for i in range(len(sybmolSortedLst)-1):\n",
    "    if (sybmolSortedLst[i][2] == sybmolSortedLst[i+1][3]) and (sybmolSortedLst[i][3] == sybmolSortedLst[i+1][2]) :\n",
    "\n",
    "        # Split symbol and define direction and price matching\n",
    "        splittedSymbol1 = re.split(r'/', sybmolSortedLst[i][1])[0]\n",
    "        splittedSymbol2 = re.split(r'/', sybmolSortedLst[i+1][1])[0]\n",
    "\n",
    "        if ((splittedSymbol1 == sybmolSortedLst[i][2] and splittedSymbol2 == sybmolSortedLst[i+1][3]) \\\n",
    "            and (sybmolSortedLst[i][4] <= sybmolSortedLst[i+1][4])) \\\n",
    "            or ((splittedSymbol1 == sybmolSortedLst[i][3] and splittedSymbol2 == sybmolSortedLst[i+1][2])\\\n",
    "               and (sybmolSortedLst[i][4] >= sybmolSortedLst[i+1][4])):\n",
    "\n",
    "            mathchedOrders.append((sybmolSortedLst[i], sybmolSortedLst[i+1],))\n",
    "mathchedOrders"
   ]
  },
  {
   "cell_type": "code",
   "execution_count": 56,
   "metadata": {},
   "outputs": [
    {
     "data": {
      "text/plain": [
       "'6356596306c008b19dee84b58701b0d93bdd07b17160c6caf24ce4314082b511'"
      ]
     },
     "execution_count": 56,
     "metadata": {},
     "output_type": "execute_result"
    }
   ],
   "source": [
    "mathchedOrders[0][1][-1]"
   ]
  },
  {
   "cell_type": "code",
   "execution_count": null,
   "metadata": {},
   "outputs": [],
   "source": []
  },
  {
   "cell_type": "code",
   "execution_count": null,
   "metadata": {},
   "outputs": [],
   "source": [
    "commonTxs = []\n",
    "# Get matched orders\n",
    "txDir = {}\n",
    "for i in range(len(mathchedOrders)):\n",
    "    tempLst = [mathchedOrders[i][0][0], mathchedOrders[i][1][0]]\n",
    "    txTempLst=[order for order in ordersList if order['tradeTxId'] in tempLst]\n",
    "    txDir[f'tx_{i}'] = txTempLst"
   ]
  },
  {
   "cell_type": "code",
   "execution_count": null,
   "metadata": {},
   "outputs": [],
   "source": []
  },
  {
   "cell_type": "code",
   "execution_count": null,
   "metadata": {},
   "outputs": [],
   "source": []
  },
  {
   "cell_type": "code",
   "execution_count": 270,
   "metadata": {},
   "outputs": [
    {
     "data": {
      "text/plain": [
       "b'{\"txPool\":[]}\\n'"
      ]
     },
     "execution_count": 270,
     "metadata": {},
     "output_type": "execute_result"
    }
   ],
   "source": [
    "txPool = requests.get(host+'/getTxPool').content\n",
    "txPool"
   ]
  },
  {
   "cell_type": "code",
   "execution_count": 67,
   "metadata": {},
   "outputs": [
    {
     "data": {
      "text/plain": [
       "[{'index': 1,\n",
       "  'previousHash': '9c3b78de7eb0066418a682aec7d0e6841cd5cbe70d71ae65309d4917cd1c5681',\n",
       "  'proof': 42,\n",
       "  'timestamp': 1629032178.368946,\n",
       "  'transactions': ['ascl,sdc,d[v,[d,vsdcaaxasx]]', 'lv,sldc,sdc ;,d;d']},\n",
       " {'index': 2,\n",
       "  'previousHash': '9204ca3bc9ca2716f5a0a3ed866c9fb5b15a292c0ea53bc2e3e145b94933f393',\n",
       "  'proof': 22976,\n",
       "  'timestamp': 1629891791.715504,\n",
       "  'transactions': [{'comissionAmount': 1.0,\n",
       "    'contract': None,\n",
       "    'price': 0.0,\n",
       "    'recieveAmount': None,\n",
       "    'recipient': '97c3a1fcdbad4085b059b22735c74faf',\n",
       "    'sendAmount': 1,\n",
       "    'sender': 'z01x0000000000000000000000000000000000000000000000000000000000',\n",
       "    'symbol': 'zsh',\n",
       "    'timestamp': 1629891791.043628,\n",
       "    'tradeTxId': None},\n",
       "   {'comissionAmount': 0.02,\n",
       "    'contract': 'uni',\n",
       "    'price': 1001.0,\n",
       "    'recieveAmount': 1001.0,\n",
       "    'recipient': 'z01x0030dfc2c4736a6ecaa2362cb65f7fb313934b33283f51caa765e3745e',\n",
       "    'sendAmount': 1.0,\n",
       "    'sender': 'z01x0030dfc2c4736a6ecaa2362cb65f7fb313934b33283f51caa765e3745e',\n",
       "    'symbol': 'uni/usdt',\n",
       "    'timestamp': 1629891791.715456,\n",
       "    'tradeTxId': 'f08fc1beaabd2939b7d88f1d240c0c532337608bb2899e7d02c3d796656388f7'},\n",
       "   {'comissionAmount': 0.02,\n",
       "    'contract': 'usdt',\n",
       "    'price': 1001.0,\n",
       "    'recieveAmount': 1.0,\n",
       "    'recipient': 'z01x0030dfc2c4736a6ecaa2362cb65f7fb313934b33283f51caa765e3745e',\n",
       "    'sendAmount': 1001.0,\n",
       "    'sender': 'z01x0030dfc2c4736a6ecaa2362cb65f7fb313934b33283f51caa765e3745e',\n",
       "    'symbol': 'uni/usdt',\n",
       "    'timestamp': 1629891791.715467,\n",
       "    'tradeTxId': '3802ce964760f8b31751ac79fcb39c3d0652632880264effaf704884089b26cf'},\n",
       "   {'comissionAmount': 0.02,\n",
       "    'contract': 'uni',\n",
       "    'price': 1009.0,\n",
       "    'recieveAmount': 1009.0,\n",
       "    'recipient': 'z01x0030dfc2c4736a6ecaa2362cb65f7fb313934b33283f51caa765e3745e',\n",
       "    'sendAmount': 1.0,\n",
       "    'sender': 'z01x0030dfc2c4736a6ecaa2362cb65f7fb313934b33283f51caa765e3745e',\n",
       "    'symbol': 'uni/usdt',\n",
       "    'timestamp': 1629891791.715478,\n",
       "    'tradeTxId': 'eb36e9aab981b5feadd9abb213e1a41260bace08d1e55fec3266dc608dc97d53'},\n",
       "   {'comissionAmount': 0.02,\n",
       "    'contract': 'usdt',\n",
       "    'price': 1009.0,\n",
       "    'recieveAmount': 1.0,\n",
       "    'recipient': 'z01x0030dfc2c4736a6ecaa2362cb65f7fb313934b33283f51caa765e3745e',\n",
       "    'sendAmount': 1009.0,\n",
       "    'sender': 'z01x0030dfc2c4736a6ecaa2362cb65f7fb313934b33283f51caa765e3745e',\n",
       "    'symbol': 'uni/usdt',\n",
       "    'timestamp': 1629891791.71548,\n",
       "    'tradeTxId': 'b5c78bb54ea2e826467e6a95a010d09e44bd401dfd47ae435ccb181b13ebf235'}]},\n",
       " {'index': 3,\n",
       "  'previousHash': '5316de6b4e90f9174b31672c82fdb0f575e3f16d86e2f1fca0733a964e5b19e5',\n",
       "  'proof': 119240,\n",
       "  'timestamp': 1629891815.00987,\n",
       "  'transactions': [{'comissionAmount': 1.0,\n",
       "    'contract': None,\n",
       "    'price': 0.0,\n",
       "    'recieveAmount': None,\n",
       "    'recipient': '97c3a1fcdbad4085b059b22735c74faf',\n",
       "    'sendAmount': 1,\n",
       "    'sender': 'z01x0000000000000000000000000000000000000000000000000000000000',\n",
       "    'symbol': 'zsh',\n",
       "    'timestamp': 1629891814.308184,\n",
       "    'tradeTxId': None},\n",
       "   {'comissionAmount': 0.02,\n",
       "    'contract': 'uni',\n",
       "    'price': 1000.0,\n",
       "    'recieveAmount': 1000.0,\n",
       "    'recipient': 'z01x0030dfc2c4736a6ecaa2362cb65f7fb313934b33283f51caa765e3745e',\n",
       "    'sendAmount': 1.0,\n",
       "    'sender': 'z01x0030dfc2c4736a6ecaa2362cb65f7fb313934b33283f51caa765e3745e',\n",
       "    'symbol': 'uni/usdt',\n",
       "    'timestamp': 1629891815.009819,\n",
       "    'tradeTxId': '28f46fc914ddcf4239f9bfbf6120d5beebfbdeaba0300e0943ad12d60cee0fe9'},\n",
       "   {'comissionAmount': 0.02,\n",
       "    'contract': 'usdt',\n",
       "    'price': 1000.0,\n",
       "    'recieveAmount': 1.0,\n",
       "    'recipient': 'z01x0030dfc2c4736a6ecaa2362cb65f7fb313934b33283f51caa765e3745e',\n",
       "    'sendAmount': 1000.0,\n",
       "    'sender': 'z01x0030dfc2c4736a6ecaa2362cb65f7fb313934b33283f51caa765e3745e',\n",
       "    'symbol': 'uni/usdt',\n",
       "    'timestamp': 1629891815.009833,\n",
       "    'tradeTxId': '173178e0b114fac10085ea955a04befd371bd0749296cbe0456d0a42c37c6c25'}]},\n",
       " {'index': 4,\n",
       "  'previousHash': '78dd8f698a2512481a38329a7676cbfac925bfe692a3779845ee4a25ee955fe7',\n",
       "  'proof': 26333,\n",
       "  'timestamp': 1629891840.563551,\n",
       "  'transactions': [{'comissionAmount': 1.0,\n",
       "    'contract': None,\n",
       "    'price': 0.0,\n",
       "    'recieveAmount': None,\n",
       "    'recipient': '97c3a1fcdbad4085b059b22735c74faf',\n",
       "    'sendAmount': 1,\n",
       "    'sender': 'z01x0000000000000000000000000000000000000000000000000000000000',\n",
       "    'symbol': 'zsh',\n",
       "    'timestamp': 1629891839.940452,\n",
       "    'tradeTxId': None},\n",
       "   {'comissionAmount': 0.02,\n",
       "    'contract': 'uni',\n",
       "    'price': 995.0,\n",
       "    'recieveAmount': 995.0,\n",
       "    'recipient': 'z01x0030dfc2c4736a6ecaa2362cb65f7fb313934b33283f51caa765e3745e',\n",
       "    'sendAmount': 1.0,\n",
       "    'sender': 'z01x0030dfc2c4736a6ecaa2362cb65f7fb313934b33283f51caa765e3745e',\n",
       "    'symbol': 'uni/usdt',\n",
       "    'timestamp': 1629891840.563482,\n",
       "    'tradeTxId': 'b0f0b5bc8246a50bac85bc12027892720d790c930f31f7a0e282a81eb87c92fa'},\n",
       "   {'comissionAmount': 0.02,\n",
       "    'contract': 'usdt',\n",
       "    'price': 995.0,\n",
       "    'recieveAmount': 1.0,\n",
       "    'recipient': 'z01x0030dfc2c4736a6ecaa2362cb65f7fb313934b33283f51caa765e3745e',\n",
       "    'sendAmount': 995.0,\n",
       "    'sender': 'z01x0030dfc2c4736a6ecaa2362cb65f7fb313934b33283f51caa765e3745e',\n",
       "    'symbol': 'uni/usdt',\n",
       "    'timestamp': 1629891840.5635,\n",
       "    'tradeTxId': '95d47afaffbd445faeeefacf36ed0fcbd9a802079a48fc0187597371416bce19'}]},\n",
       " {'index': 5,\n",
       "  'previousHash': '6718596e49ed01fe1b6a847ee511a7e7188f9ec20d6911575a70e257a76b00fc',\n",
       "  'proof': 22850,\n",
       "  'timestamp': 1629891873.729846,\n",
       "  'transactions': [{'comissionAmount': 1.0,\n",
       "    'contract': None,\n",
       "    'price': 0.0,\n",
       "    'recieveAmount': None,\n",
       "    'recipient': '97c3a1fcdbad4085b059b22735c74faf',\n",
       "    'sendAmount': 1,\n",
       "    'sender': 'z01x0000000000000000000000000000000000000000000000000000000000',\n",
       "    'symbol': 'zsh',\n",
       "    'timestamp': 1629891873.053874,\n",
       "    'tradeTxId': None},\n",
       "   {'comissionAmount': 0.02,\n",
       "    'contract': 'uni',\n",
       "    'price': 999.0,\n",
       "    'recieveAmount': 999.0,\n",
       "    'recipient': 'z01x0030dfc2c4736a6ecaa2362cb65f7fb313934b33283f51caa765e3745e',\n",
       "    'sendAmount': 1.0,\n",
       "    'sender': 'z01x0030dfc2c4736a6ecaa2362cb65f7fb313934b33283f51caa765e3745e',\n",
       "    'symbol': 'uni/usdt',\n",
       "    'timestamp': 1629891873.729811,\n",
       "    'tradeTxId': '7f5253f4d1a1ad73ef9877534a26b2512427cea07e19598e72d2a2de874990d3'},\n",
       "   {'comissionAmount': 0.02,\n",
       "    'contract': 'usdt',\n",
       "    'price': 999.0,\n",
       "    'recieveAmount': 1.0,\n",
       "    'recipient': 'z01x0030dfc2c4736a6ecaa2362cb65f7fb313934b33283f51caa765e3745e',\n",
       "    'sendAmount': 999.0,\n",
       "    'sender': 'z01x0030dfc2c4736a6ecaa2362cb65f7fb313934b33283f51caa765e3745e',\n",
       "    'symbol': 'uni/usdt',\n",
       "    'timestamp': 1629891873.729823,\n",
       "    'tradeTxId': '04dbdf8ec688a9831ce305e761e740a2f499d92e2d5edb22ed67bd41d570fb4c'}]},\n",
       " {'index': 6,\n",
       "  'previousHash': 'dd45a3faa48ba99a90f175f16c28217ffc6b2c33da759c4b4707e6ed8fb5dbf8',\n",
       "  'proof': 13230,\n",
       "  'timestamp': 1629891895.740501,\n",
       "  'transactions': [{'comissionAmount': 1.0,\n",
       "    'contract': None,\n",
       "    'price': 0.0,\n",
       "    'recieveAmount': None,\n",
       "    'recipient': '97c3a1fcdbad4085b059b22735c74faf',\n",
       "    'sendAmount': 1,\n",
       "    'sender': 'z01x0000000000000000000000000000000000000000000000000000000000',\n",
       "    'symbol': 'zsh',\n",
       "    'timestamp': 1629891895.05764,\n",
       "    'tradeTxId': None},\n",
       "   {'comissionAmount': 0.02,\n",
       "    'contract': 'uni',\n",
       "    'price': 1008.0,\n",
       "    'recieveAmount': 1008.0,\n",
       "    'recipient': 'z01x0030dfc2c4736a6ecaa2362cb65f7fb313934b33283f51caa765e3745e',\n",
       "    'sendAmount': 1.0,\n",
       "    'sender': 'z01x0030dfc2c4736a6ecaa2362cb65f7fb313934b33283f51caa765e3745e',\n",
       "    'symbol': 'uni/usdt',\n",
       "    'timestamp': 1629891895.740466,\n",
       "    'tradeTxId': '46b2935a1a933812d65d11ea2a6be74307ce7966cb3496932fe64704ee8d8605'},\n",
       "   {'comissionAmount': 0.02,\n",
       "    'contract': 'usdt',\n",
       "    'price': 1008.0,\n",
       "    'recieveAmount': 1.0,\n",
       "    'recipient': 'z01x0030dfc2c4736a6ecaa2362cb65f7fb313934b33283f51caa765e3745e',\n",
       "    'sendAmount': 1008.0,\n",
       "    'sender': 'z01x0030dfc2c4736a6ecaa2362cb65f7fb313934b33283f51caa765e3745e',\n",
       "    'symbol': 'uni/usdt',\n",
       "    'timestamp': 1629891895.740478,\n",
       "    'tradeTxId': 'faf91e41fe6dacb2c9a11b0bb052fa34c4186e924cb91c998df57662b0e8421f'}]},\n",
       " {'index': 7,\n",
       "  'previousHash': '11e4ebc58453a2ec49e40e91eb5670af0ac293309596947db5710f466e733368',\n",
       "  'proof': 25592,\n",
       "  'timestamp': 1629893815.034123,\n",
       "  'transactions': [{'comissionAmount': 1.0,\n",
       "    'contract': None,\n",
       "    'price': 0.0,\n",
       "    'recieveAmount': None,\n",
       "    'recipient': '97c3a1fcdbad4085b059b22735c74faf',\n",
       "    'sendAmount': 1,\n",
       "    'sender': 'z01x0000000000000000000000000000000000000000000000000000000000',\n",
       "    'symbol': 'zsh',\n",
       "    'timestamp': 1629893812.792582,\n",
       "    'tradeTxId': None},\n",
       "   {'comissionAmount': 0.02,\n",
       "    'contract': 'uni',\n",
       "    'price': 1008.0,\n",
       "    'recieveAmount': 1008.0,\n",
       "    'recipient': 'z01x0030dfc2c4736a6ecaa2362cb65f7fb313934b33283f51caa765e3745e',\n",
       "    'sendAmount': 1.0,\n",
       "    'sender': 'z01x0030dfc2c4736a6ecaa2362cb65f7fb313934b33283f51caa765e3745e',\n",
       "    'symbol': 'uni/usdt',\n",
       "    'timestamp': 1629893815.034074,\n",
       "    'tradeTxId': '14e24eebcb7943be455bf30025d6b6e65c39b23eb5301dc98f4040469a4fb1db'},\n",
       "   {'comissionAmount': 0.02,\n",
       "    'contract': 'usdt',\n",
       "    'price': 1008.0,\n",
       "    'recieveAmount': 1.0,\n",
       "    'recipient': 'z01x0030dfc2c4736a6ecaa2362cb65f7fb313934b33283f51caa765e3745e',\n",
       "    'sendAmount': 1008.0,\n",
       "    'sender': 'z01x0030dfc2c4736a6ecaa2362cb65f7fb313934b33283f51caa765e3745e',\n",
       "    'symbol': 'uni/usdt',\n",
       "    'timestamp': 1629893815.03409,\n",
       "    'tradeTxId': 'a921b16e215a7bd8121261603e3cd4c81fbeda0ee82b8b523a21649bfab828b4'}]}]"
      ]
     },
     "execution_count": 67,
     "metadata": {},
     "output_type": "execute_result"
    }
   ],
   "source": [
    "chain = json.loads(requests.get(host+'/chain').content)['chain']\n",
    "chain"
   ]
  },
  {
   "cell_type": "code",
   "execution_count": null,
   "metadata": {},
   "outputs": [],
   "source": [
    "chain[0][-1][]"
   ]
  },
  {
   "cell_type": "markdown",
   "metadata": {},
   "source": [
    "### NODE 1"
   ]
  },
  {
   "cell_type": "code",
   "execution_count": 71,
   "metadata": {},
   "outputs": [],
   "source": [
    "# host1 = 'http://0.0.0.0:5001'\n",
    "host1 = 'http://178.176.120.241:5000'"
   ]
  },
  {
   "cell_type": "code",
   "execution_count": 74,
   "metadata": {},
   "outputs": [
    {
     "data": {
      "text/plain": [
       "b'{\"ADDRESS\":\"z01x001ddb88cc07c6d9179c51b370128d07109a650cba29c5889c078e6bb0\"}\\n'"
      ]
     },
     "execution_count": 74,
     "metadata": {},
     "output_type": "execute_result"
    }
   ],
   "source": [
    "wallet1 = requests.post(host1+'/wallet/new', json={'password': 'lalalend'}).content\n",
    "wallet1"
   ]
  },
  {
   "cell_type": "code",
   "execution_count": 266,
   "metadata": {},
   "outputs": [
    {
     "data": {
      "text/plain": [
       "b'{\"ADDRESS\":\"z01x0011c451ec98668981d667349895f26de90940f0b55a2843eabab0ebc7\",\"MSG\":true}\\n'"
      ]
     },
     "execution_count": 266,
     "metadata": {},
     "output_type": "execute_result"
    }
   ],
   "source": [
    "login1 = requests.post(host1+'/wallet/login', json={'password': 'lalalend'}).content\n",
    "login1"
   ]
  },
  {
   "cell_type": "code",
   "execution_count": 267,
   "metadata": {},
   "outputs": [
    {
     "data": {
      "text/plain": [
       "b'{\"MSG\":[3,\"Tx pool synced among 1 nodes\"]}\\n'"
      ]
     },
     "execution_count": 267,
     "metadata": {},
     "output_type": "execute_result"
    }
   ],
   "source": [
    "tradeTx1 = {\n",
    "    'type': 'trade',\n",
    "    'sender': json.loads(login1)['ADDRESS'],\n",
    "    'symbol': 'btc/usdt',\n",
    "    'price': 3.0,\n",
    "    'send': 'btc',\n",
    "    'sendVol': 2.0,\n",
    "    'get': 'usdt',\n",
    "    'getVol': 6.0,\n",
    "    'comissionAmount':2\n",
    "}\n",
    "\n",
    "txReq1 = requests.post(host1+'/transactions/new', json=tradeTx1).content\n",
    "txReq1"
   ]
  },
  {
   "cell_type": "code",
   "execution_count": 268,
   "metadata": {},
   "outputs": [
    {
     "data": {
      "text/plain": [
       "b'{\"MSG\":[3,\"Tx pool synced among 1 nodes\"]}\\n'"
      ]
     },
     "execution_count": 268,
     "metadata": {},
     "output_type": "execute_result"
    }
   ],
   "source": [
    "tradeTx1 = {\n",
    "    'type': 'trade',\n",
    "    'sender': json.loads(login1)['ADDRESS'],\n",
    "    'symbol': 'btc/usdt',\n",
    "    'price': 3.0,\n",
    "    'send': 'usdt',\n",
    "    'sendVol': 6.0,\n",
    "    'get': 'btc',\n",
    "    'getVol': 2.0,\n",
    "    'comissionAmount':2\n",
    "}\n",
    "\n",
    "txReq1 = requests.post(host1+'/transactions/new', json=tradeTx1).content\n",
    "txReq1"
   ]
  },
  {
   "cell_type": "code",
   "execution_count": 72,
   "metadata": {},
   "outputs": [
    {
     "data": {
      "text/plain": [
       "b'{\"tradeOrders\":[{\"comissionAmount\":2.0,\"get\":\"usdt\",\"getVol\":49010.0,\"price\":49010.0,\"send\":\"btc\",\"sendVol\":1.0,\"sender\":\"z01x0030dfc2c4736a6ecaa2362cb65f7fb313934b33283f51caa765e3745e\",\"symbol\":\"btc/usdt\",\"timestamp\":1629785450.250563,\"tradeTxId\":\"097e6811fd1bb472cf2acc15bbcf773e224b10cf4c5a814201075b48eb455a1e\"},{\"comissionAmount\":2.0,\"get\":\"usdt\",\"getVol\":49020.0,\"price\":49020.0,\"send\":\"btc\",\"sendVol\":1.0,\"sender\":\"z01x0030dfc2c4736a6ecaa2362cb65f7fb313934b33283f51caa765e3745e\",\"symbol\":\"btc/usdt\",\"timestamp\":1629785451.023485,\"tradeTxId\":\"c31a89faee68430c5dbc117c60d35a45080e842b591b76a80e1fe1d32376f628\"},{\"comissionAmount\":2.0,\"get\":\"usdt\",\"getVol\":49030.0,\"price\":49030.0,\"send\":\"btc\",\"sendVol\":1.0,\"sender\":\"z01x0030dfc2c4736a6ecaa2362cb65f7fb313934b33283f51caa765e3745e\",\"symbol\":\"btc/usdt\",\"timestamp\":1629785451.748514,\"tradeTxId\":\"ba171caf3e650036595ee8432cb0627ceb1c2c0267fb03f9ac4a0218ac2679eb\"},{\"comissionAmount\":2.0,\"get\":\"btc\",\"getVol\":1.0,\"price\":48980.0,\"send\":\"usdt\",\"sendVol\":48980.0,\"sender\":\"z01x0030dfc2c4736a6ecaa2362cb65f7fb313934b33283f51caa765e3745e\",\"symbol\":\"btc/usdt\",\"timestamp\":1629785456.066063,\"tradeTxId\":\"5c63a413cbe72d73bdb4f6f59bbd157a6ada4bad4c829f7214a3d156b90e27d0\"},{\"comissionAmount\":2.0,\"get\":\"btc\",\"getVol\":1.0,\"price\":48970.0,\"send\":\"usdt\",\"sendVol\":48970.0,\"sender\":\"z01x0030dfc2c4736a6ecaa2362cb65f7fb313934b33283f51caa765e3745e\",\"symbol\":\"btc/usdt\",\"timestamp\":1629785456.808713,\"tradeTxId\":\"38d302fce84d1f625b169a13c6291864e18115cd8cc16ef48ead3dc6ef034e0a\"},{\"comissionAmount\":2.0,\"get\":\"btc\",\"getVol\":1.0,\"price\":48960.0,\"send\":\"usdt\",\"sendVol\":48960.0,\"sender\":\"z01x0030dfc2c4736a6ecaa2362cb65f7fb313934b33283f51caa765e3745e\",\"symbol\":\"btc/usdt\",\"timestamp\":1629785457.525857,\"tradeTxId\":\"bdc50ed2c308e3f46734c124ac5634b0b0b5bd73c4cb8f6392f71a587f7e9d83\"}]}\\n'"
      ]
     },
     "execution_count": 72,
     "metadata": {},
     "output_type": "execute_result"
    }
   ],
   "source": [
    "ordersPool1 = requests.get(host1+'/getTradeOrders').content\n",
    "ordersPool1"
   ]
  },
  {
   "cell_type": "code",
   "execution_count": 272,
   "metadata": {},
   "outputs": [
    {
     "data": {
      "text/plain": [
       "b'{\"index\":3,\"message\":\"New Block Forged\",\"pool_syncing\":\"Tx pool synced among 1 nodes\",\"previous_hash\":\"49c4fa4aada5dec35ce6f03f9de1465628b9513738ce8d3dd1f18cb17d0f2a8f\",\"proof\":119240,\"transactions\":[{\"comissionAmount\":1.0,\"contract\":null,\"price\":0.0,\"recieveAmount\":null,\"recipient\":\"895cc4a0852d41a9a9c4f7f0ad55d296\",\"sendAmount\":1,\"sender\":\"z01x0000000000000000000000000000000000000000000000000000000000\",\"symbol\":\"zsh\",\"timestamp\":1629723377.434202,\"tradeTxId\":null},{\"comissionAmount\":2.0,\"contract\":\"btc\",\"price\":3.0,\"recieveAmount\":6.0,\"recipient\":\"z01x0011c451ec98668981d667349895f26de90940f0b55a2843eabab0ebc7\",\"sendAmount\":2.0,\"sender\":\"z01x0011c451ec98668981d667349895f26de90940f0b55a2843eabab0ebc7\",\"symbol\":\"btc/usdt\",\"timestamp\":1629723377.440518,\"tradeTxId\":\"fb7456550faa82f198c6026e488ce59602ae9a013ad08fa808e2b6bdff76e856\"},{\"comissionAmount\":2.0,\"contract\":\"usdt\",\"price\":3.0,\"recieveAmount\":2.0,\"recipient\":\"z01x0011c451ec98668981d667349895f26de90940f0b55a2843eabab0ebc7\",\"sendAmount\":6.0,\"sender\":\"z01x0011c451ec98668981d667349895f26de90940f0b55a2843eabab0ebc7\",\"symbol\":\"btc/usdt\",\"timestamp\":1629723377.440526,\"tradeTxId\":\"43fd5abe90609c230698a44803fd474eb96d75e401a35133f039d6976fc34555\"}]}\\n'"
      ]
     },
     "execution_count": 272,
     "metadata": {},
     "output_type": "execute_result"
    }
   ],
   "source": [
    "mineReq1 = requests.get(host1+'/mine').content\n",
    "mineReq1"
   ]
  },
  {
   "cell_type": "code",
   "execution_count": 177,
   "metadata": {},
   "outputs": [
    {
     "data": {
      "text/plain": [
       "b'{\"txPool\":[]}\\n'"
      ]
     },
     "execution_count": 177,
     "metadata": {},
     "output_type": "execute_result"
    }
   ],
   "source": [
    "txPool1 = requests.get(host1+'/getTxPool').content\n",
    "txPool1"
   ]
  },
  {
   "cell_type": "code",
   "execution_count": 273,
   "metadata": {},
   "outputs": [
    {
     "data": {
      "text/plain": [
       "b'{\"chain\":[{\"index\":1,\"previousHash\":\"9c3b78de7eb0066418a682aec7d0e6841cd5cbe70d71ae65309d4917cd1c5681\",\"proof\":42,\"timestamp\":1629032178.368946,\"transactions\":[\"ascl,sdc,d[v,[d,vsdcaaxasx]]\",\"lv,sldc,sdc ;,d;d\"]},{\"index\":2,\"previousHash\":\"9204ca3bc9ca2716f5a0a3ed866c9fb5b15a292c0ea53bc2e3e145b94933f393\",\"proof\":22976,\"timestamp\":1629723151.057186,\"transactions\":[{\"comissionAmount\":1.0,\"contract\":null,\"price\":0.0,\"recieveAmount\":null,\"recipient\":\"d32902ea13e44d3a9f905d99620d0892\",\"sendAmount\":1,\"sender\":\"z01x0000000000000000000000000000000000000000000000000000000000\",\"symbol\":\"zsh\",\"timestamp\":1629723151.043912,\"tradeTxId\":null},{\"comissionAmount\":2.0,\"contract\":\"btc\",\"price\":30000.0,\"recieveAmount\":60000.0,\"recipient\":\"z01x00daba2c45b077691c1ada65fb07f5e740e455d4463c59028b37055900\",\"sendAmount\":2.0,\"sender\":\"z01x00daba2c45b077691c1ada65fb07f5e740e455d4463c59028b37055900\",\"symbol\":\"btc/usdt\",\"timestamp\":1629723151.057158,\"tradeTxId\":\"8e85b87e9298b3d39259884f5edc56eb516ec865d96333783cc2c4e6cc53f22e\"},{\"comissionAmount\":2.0,\"contract\":\"usdt\",\"price\":30000.0,\"recieveAmount\":2.0,\"recipient\":\"z01x00daba2c45b077691c1ada65fb07f5e740e455d4463c59028b37055900\",\"sendAmount\":60000.0,\"sender\":\"z01x00daba2c45b077691c1ada65fb07f5e740e455d4463c59028b37055900\",\"symbol\":\"btc/usdt\",\"timestamp\":1629723151.057167,\"tradeTxId\":\"ff4f6d0db4cb0753f60e402dbfa9e8595c983fe03906a695d904966f8b99b3b8\"}]},{\"index\":3,\"previousHash\":\"49c4fa4aada5dec35ce6f03f9de1465628b9513738ce8d3dd1f18cb17d0f2a8f\",\"proof\":119240,\"timestamp\":1629723377.440542,\"transactions\":[{\"comissionAmount\":1.0,\"contract\":null,\"price\":0.0,\"recieveAmount\":null,\"recipient\":\"895cc4a0852d41a9a9c4f7f0ad55d296\",\"sendAmount\":1,\"sender\":\"z01x0000000000000000000000000000000000000000000000000000000000\",\"symbol\":\"zsh\",\"timestamp\":1629723377.434202,\"tradeTxId\":null},{\"comissionAmount\":2.0,\"contract\":\"btc\",\"price\":3.0,\"recieveAmount\":6.0,\"recipient\":\"z01x0011c451ec98668981d667349895f26de90940f0b55a2843eabab0ebc7\",\"sendAmount\":2.0,\"sender\":\"z01x0011c451ec98668981d667349895f26de90940f0b55a2843eabab0ebc7\",\"symbol\":\"btc/usdt\",\"timestamp\":1629723377.440518,\"tradeTxId\":\"fb7456550faa82f198c6026e488ce59602ae9a013ad08fa808e2b6bdff76e856\"},{\"comissionAmount\":2.0,\"contract\":\"usdt\",\"price\":3.0,\"recieveAmount\":2.0,\"recipient\":\"z01x0011c451ec98668981d667349895f26de90940f0b55a2843eabab0ebc7\",\"sendAmount\":6.0,\"sender\":\"z01x0011c451ec98668981d667349895f26de90940f0b55a2843eabab0ebc7\",\"symbol\":\"btc/usdt\",\"timestamp\":1629723377.440526,\"tradeTxId\":\"43fd5abe90609c230698a44803fd474eb96d75e401a35133f039d6976fc34555\"}]}],\"length\":3}\\n'"
      ]
     },
     "execution_count": 273,
     "metadata": {},
     "output_type": "execute_result"
    }
   ],
   "source": [
    "chain1 = requests.get(host1+'/chain').content\n",
    "chain1"
   ]
  },
  {
   "cell_type": "code",
   "execution_count": null,
   "metadata": {},
   "outputs": [],
   "source": []
  }
 ],
 "metadata": {
  "kernelspec": {
   "display_name": "Python 3",
   "language": "python",
   "name": "python3"
  },
  "language_info": {
   "codemirror_mode": {
    "name": "ipython",
    "version": 3
   },
   "file_extension": ".py",
   "mimetype": "text/x-python",
   "name": "python",
   "nbconvert_exporter": "python",
   "pygments_lexer": "ipython3",
   "version": "3.7.2"
  }
 },
 "nbformat": 4,
 "nbformat_minor": 2
}

{
 "cells": [
  {
   "cell_type": "markdown",
   "metadata": {},
   "source": [
    "# DEX Functions"
   ]
  },
  {
   "cell_type": "code",
   "execution_count": 4,
   "metadata": {},
   "outputs": [],
   "source": [
    "import os\n",
    "import re\n",
    "import sys\n",
    "import hashlib\n",
    "import socket\n",
    "import requests\n",
    "import json\n",
    "import time\n",
    "from time import time\n",
    "from operator import itemgetter\n",
    "from datetime import datetime, timezone\n",
    "from pyp2p.net import *\n",
    "\n",
    "from config import Config\n",
    "\n",
    "# from blockchain import Blockchain"
   ]
  },
  {
   "cell_type": "code",
   "execution_count": 2,
   "metadata": {},
   "outputs": [
    {
     "data": {
      "text/plain": [
       "\"{'a': 1, 'b': 2}\""
      ]
     },
     "execution_count": 2,
     "metadata": {},
     "output_type": "execute_result"
    }
   ],
   "source": [
    "aDict = {'a':1, 'b':2}\n",
    "str(aDict)"
   ]
  },
  {
   "cell_type": "markdown",
   "metadata": {},
   "source": [
    "### Address Derive System"
   ]
  },
  {
   "cell_type": "code",
   "execution_count": 7,
   "metadata": {},
   "outputs": [],
   "source": [
    "# 1. Make key pares\n",
    "# 2. Get address by hashing public key with SHA3 (Keccak) and adding Id bytes\n",
    "# 3. Sign tx (pub key added) with private key and send it to pool\n",
    "# 4. Check hash and pub key equality and verify msg signiture\n",
    "# 5. If step 4 == True submit transaction into pool"
   ]
  },
  {
   "cell_type": "markdown",
   "metadata": {},
   "source": [
    "#### Create wallet"
   ]
  },
  {
   "cell_type": "code",
   "execution_count": 5,
   "metadata": {},
   "outputs": [],
   "source": [
    "from Crypto.PublicKey import RSA\n",
    "from Crypto.Cipher import PKCS1_v1_5"
   ]
  },
  {
   "cell_type": "code",
   "execution_count": 20,
   "metadata": {},
   "outputs": [
    {
     "data": {
      "text/plain": [
       "'30819f300d06092a864886f70d010101050003818d0030818902818100a49e0bf9e0ccb99e28623cfb9b901a7e3e093ed54f477ec4d90d480f0f6df612e40d1a81717c4047f70d23ff3a8ddf7fe67bf907d09871d2c3826541c59b18e4932071b61db6bf492c9c8721efdb92d30d55ad3cf7b1f643723f23c654c58be9cbcfb2bb76c1a1d988e064908f1bc4951d4cec1ebfa9c0a6fcc9d85f3abf893b0203010001'"
      ]
     },
     "execution_count": 20,
     "metadata": {},
     "output_type": "execute_result"
    }
   ],
   "source": [
    "key = RSA.generate(1024)\n",
    "pubKey = key.publickey().export_key(format='DER')\n",
    "pubKey.hex()"
   ]
  },
  {
   "cell_type": "code",
   "execution_count": 21,
   "metadata": {},
   "outputs": [
    {
     "data": {
      "text/plain": [
       "'3082025d02010002818100a49e0bf9e0ccb99e28623cfb9b901a7e3e093ed54f477ec4d90d480f0f6df612e40d1a81717c4047f70d23ff3a8ddf7fe67bf907d09871d2c3826541c59b18e4932071b61db6bf492c9c8721efdb92d30d55ad3cf7b1f643723f23c654c58be9cbcfb2bb76c1a1d988e064908f1bc4951d4cec1ebfa9c0a6fcc9d85f3abf893b02030100010281800f3a07458fc3a00fbf10872f86ce278531dbcd1212093cf29c591c2738782560cdf3605644d7076320b8f8716d4b1e37486c833673d7060046d152e8688cd61a786a6fef3d006578ef92c90b6080ba3f1bdde58674f647598b2a2d3e41134661af25010d3fb65d943f37c913b4499d00646ffae5b325b52094da4ace000c9c21024100c0480c324e5c47780c6126eff20e72c1f27084eddfd17dd6a1e5eef1434b9d29d53afddff1c8d97e1813350baa884eaf56deea397882855822ff1e2fc0e01753024100db2b273259b719ecc8e956a4f61c66efa76524122d36dc43d429372dd2a8530c6b879b56f7f05dd39828a4db3d08f9a7e3a329448c2ebcb07ceece7192981179024006eb10b546a87f51cc703a6c6bb32561e10d375b2fb063ecb30a88dc596581141e3def207d9c9266bd0b03df95952def951a9426d935290310cf4910c2c9cd4d024100a2a5f7c4ca07b459a1106998aa7c9177b106c22a2b1bd7830ee4376aee36b4cb36d1c05a5e4e27936c0c5dabc633eef2c560c4b37645090b00ec4890c875ca210241008830c9836558e585d72eabb32d2f5e0530678982cf891f76f69195e674e5ded6e3623a65cd51c213c6d5d05bb55bc5edfd5a12a8503f7039ae7ab5581397d643'"
      ]
     },
     "execution_count": 21,
     "metadata": {},
     "output_type": "execute_result"
    }
   ],
   "source": [
    "prKey = key.export_key(format='DER')\n",
    "prKey.hex()"
   ]
  },
  {
   "cell_type": "code",
   "execution_count": 52,
   "metadata": {},
   "outputs": [
    {
     "data": {
      "text/plain": [
       "'z01x002d4a36d2a36c6a478308e2fd79e18bdca9a9e87f4b85bb08c84821e4'"
      ]
     },
     "execution_count": 52,
     "metadata": {},
     "output_type": "execute_result"
    }
   ],
   "source": [
    "# Make net address\n",
    "idStr = 'z01x00'\n",
    "pubHash = hashlib.sha3_224(pubKey).hexdigest()\n",
    "address = idStr + pubHash\n",
    "address"
   ]
  },
  {
   "cell_type": "code",
   "execution_count": 43,
   "metadata": {},
   "outputs": [
    {
     "data": {
      "text/plain": [
       "'4db3566bd03adcbc7d6556e4cddb323ae63c169c66b01c5088d189b9365d59783bcd9d9d67b1dbb4b12f99f614c08d5bad54f440346d902ff008edede459dba971e2bf1b71307c0880ec517a14c4dc1653fbc691fb32a17d15ab848531e59497fb49b3bdb8c813ff6c0eec37ef51727d7c011d5d569f29af6d67dc695a8cbfa8'"
      ]
     },
     "execution_count": 43,
     "metadata": {},
     "output_type": "execute_result"
    }
   ],
   "source": [
    "# Sign msg\n",
    "from Crypto.Signature import pkcs1_15\n",
    "from Crypto.Hash import SHA256\n",
    "\n",
    "signKey = RSA.import_key(prKey)\n",
    "msg = 'To be signed'\n",
    "msg = msg.encode('utf-8')\n",
    "hashedMsg = SHA256.new(msg)\n",
    "signature = pkcs1_15.new(signKey).sign(hashedMsg).hex()\n",
    "signature"
   ]
  },
  {
   "cell_type": "code",
   "execution_count": 39,
   "metadata": {},
   "outputs": [
    {
     "name": "stdout",
     "output_type": "stream",
     "text": [
      "Yeeey!\n"
     ]
    }
   ],
   "source": [
    "# Verify address hash\n",
    "pubKeyFromAddress = address.split(idStr)[1]\n",
    "if hashlib.sha3_256(pubKey).hexdigest() == pubKeyFromAddress:\n",
    "    print('Yeeey!')\n",
    "    \n",
    "else:\n",
    "    print('Not valid publick key')"
   ]
  },
  {
   "cell_type": "code",
   "execution_count": 48,
   "metadata": {},
   "outputs": [
    {
     "name": "stdout",
     "output_type": "stream",
     "text": [
      "Valid\n"
     ]
    }
   ],
   "source": [
    "# Verify signiture\n",
    "msgToVerif = 'To be signed'\n",
    "msgToVerif = msgToVerif.encode('utf-8')\n",
    "\n",
    "verifKey = RSA.import_key(pubKey)\n",
    "h = SHA256.new(msgToVerif)\n",
    "\n",
    "try:\n",
    "    pkcs1_15.new(verifKey).verify(h, bytes.fromhex(signature))\n",
    "    print('Valid')\n",
    "except (ValueError, TypeError):\n",
    "    print('Nice try...')"
   ]
  },
  {
   "cell_type": "code",
   "execution_count": 2,
   "metadata": {},
   "outputs": [
    {
     "data": {
      "text/plain": [
       "'z01x00'"
      ]
     },
     "execution_count": 2,
     "metadata": {},
     "output_type": "execute_result"
    }
   ],
   "source": [
    "istr = Config().IDSTR\n",
    "istr"
   ]
  },
  {
   "cell_type": "code",
   "execution_count": 4,
   "metadata": {},
   "outputs": [
    {
     "data": {
      "text/plain": [
       "'626e0ec4cdb441beb9bc53af2dd78faa'"
      ]
     },
     "execution_count": 4,
     "metadata": {},
     "output_type": "execute_result"
    }
   ],
   "source": [
    "uuid.uuid4().hex"
   ]
  },
  {
   "cell_type": "code",
   "execution_count": 5,
   "metadata": {},
   "outputs": [],
   "source": [
    "import uuid\n",
    "import hashlib\n",
    "\n",
    "from Crypto.PublicKey import RSA\n",
    "from Crypto.Cipher import PKCS1_v1_5\n",
    "\n",
    "from config import Config\n",
    "\n",
    "\n",
    "def createWallet(password):\n",
    "    # Create wallet ID\n",
    "    uid = uuid.uuid4().hex\n",
    "    \n",
    "    # Generate keys pair\n",
    "    key = RSA.generate(1024)\n",
    "    # Export public and private keys and save them\n",
    "    pubKey = key.publickey().export_key(format='DER')\n",
    "    with open(os.path.join(os.path.join(Config().BASEDIR, 'keys'), f'{uid}_pubKey.der'), 'wb') as pubFile:\n",
    "        pubFile.write(pubKey)\n",
    "    \n",
    "    prKey = key.export_key(format='DER', passphrase=password, pkcs=8,\n",
    "                              protection=\"scryptAndAES128-CBC\")\n",
    "    with open(os.path.join(os.path.join(Config().BASEDIR, 'keys'), f'{uid}_prKey.der'), 'wb') as prFile:\n",
    "        prFile.write(prKey)\n",
    "        \n",
    "    # Form address and return it to the user\n",
    "    pubHash = hashlib.sha3_224(pubKey).hexdigest()\n",
    "    address = Config().IDSTR+pubHash\n",
    "    \n",
    "    return address"
   ]
  },
  {
   "cell_type": "code",
   "execution_count": 6,
   "metadata": {},
   "outputs": [
    {
     "data": {
      "text/plain": [
       "'z01x00081671f35daba740645359878a47a78ffd8f34c9a1daed3bc46b5feb'"
      ]
     },
     "execution_count": 6,
     "metadata": {},
     "output_type": "execute_result"
    }
   ],
   "source": [
    "password = 'lalalend'\n",
    "address = createWallet(password)\n",
    "address"
   ]
  },
  {
   "cell_type": "code",
   "execution_count": 1,
   "metadata": {},
   "outputs": [],
   "source": [
    "import os\n",
    "import json\n",
    "\n",
    "from Crypto.PublicKey import RSA\n",
    "from config import Config\n",
    "\n",
    "def authoriseUser(password):\n",
    "    \n",
    "    # Get keys names\n",
    "    keysNames = os.listdir(os.path.join(Config().BASEDIR, 'keys'))\n",
    "    # Get private key name\n",
    "    prKeyName = [name for name in keysNames if name.split('_')[1] == 'prKey.der'][0]\n",
    "    \n",
    "    # Get and decrypt private key\n",
    "    try:\n",
    "        with open(os.path.join(os.path.join(Config().BASEDIR, 'keys'), prKeyName), 'rb') as keyFile:\n",
    "            key = RSA.import_key(keyFile.read(), passphrase=password)\n",
    "    except:\n",
    "        return json.dumps({\"MSG\": \"Wrong password\"})\n",
    "    \n",
    "    prKey = key.export_key()\n",
    "    \n",
    "    return prKey"
   ]
  },
  {
   "cell_type": "code",
   "execution_count": 2,
   "metadata": {},
   "outputs": [
    {
     "data": {
      "text/plain": [
       "'{\"MSG\": \"Wrong password\"}'"
      ]
     },
     "execution_count": 2,
     "metadata": {},
     "output_type": "execute_result"
    }
   ],
   "source": [
    "prKey = authoriseUser('lalalend')\n",
    "prKey"
   ]
  },
  {
   "cell_type": "code",
   "execution_count": 28,
   "metadata": {},
   "outputs": [],
   "source": [
    "# Sign msg\n",
    "from Crypto.Signature import pkcs1_15\n",
    "from Crypto.Hash import SHA256\n",
    "\n",
    "def signTransaction(msg, prKey):\n",
    "    \n",
    "    msg = msg.encode('utf-8')\n",
    "    \n",
    "    signKey = RSA.import_key(prKey)\n",
    "    hashedMsg = SHA256.new(msg)\n",
    "    signature = pkcs1_15.new(signKey).sign(hashedMsg).hex()\n",
    "    \n",
    "    return signature"
   ]
  },
  {
   "cell_type": "code",
   "execution_count": 29,
   "metadata": {},
   "outputs": [
    {
     "data": {
      "text/plain": [
       "'4763445dd69c805754544247ac99f835aef488593938a9d01ecd82d63c0febc27376ff8d72323102e96bac5216769f9c5dedd9c9fdf7d664f33a84f1280728843716f89784adec0904aa3a391ba1732126af61cc53af410c50ddc4f3ef289ec081cfbe6048e9ae6fdd3b529db3c03edb6ffe15b5e0f8c7d48161776c3f2fe61f'"
      ]
     },
     "execution_count": 29,
     "metadata": {},
     "output_type": "execute_result"
    }
   ],
   "source": [
    "msg = 'message'\n",
    "sig = signTransaction(msg, prKey)\n",
    "sig"
   ]
  },
  {
   "cell_type": "code",
   "execution_count": 37,
   "metadata": {},
   "outputs": [],
   "source": [
    "# Verify address hash and signature\n",
    "import hashlib \n",
    "import json\n",
    "\n",
    "from Crypto.PublicKey import RSA\n",
    "from Crypto.Signature import pkcs1_15\n",
    "\n",
    "from config import Config\n",
    "    \n",
    "def verifyTxSignature(address, pubKey, msg, signature):\n",
    "    \n",
    "    pubKeyFromAddress = address.split(Config().IDSTR)[1]\n",
    "    if hashlib.sha3_224(pubKey).hexdigest() == pubKeyFromAddress:\n",
    "        \n",
    "        msg = msg.encode('utf-8')\n",
    "        verifKey = RSA.import_key(pubKey)\n",
    "        msgHash = SHA256.new(msg)\n",
    "\n",
    "        try:\n",
    "            pkcs1_15.new(verifKey).verify(msgHash, bytes.fromhex(signature))\n",
    "            return json.dumps({'MSG':True})\n",
    "        \n",
    "        except (ValueError, TypeError):\n",
    "            return json.dumps({'MSG':False})\n",
    "\n",
    "    else:\n",
    "        return json.dumps({'MSG': 'Invalid public address'})\n",
    "            "
   ]
  },
  {
   "cell_type": "code",
   "execution_count": 41,
   "metadata": {},
   "outputs": [
    {
     "data": {
      "text/plain": [
       "'{\"MSG\": true}'"
      ]
     },
     "execution_count": 41,
     "metadata": {},
     "output_type": "execute_result"
    }
   ],
   "source": [
    "# Get keys names\n",
    "keysNames = os.listdir(os.path.join(Config().BASEDIR, 'keys'))\n",
    "# Get public key name\n",
    "prKeyName = [name for name in keysNames if name.split('_')[1] == 'pubKey.der'][0]\n",
    "# Get and decrypt public key\n",
    "with open(os.path.join(os.path.join(Config().BASEDIR, 'keys'), prKeyName), 'rb') as keyFile:\n",
    "    key = RSA.import_key(keyFile.read())\n",
    "\n",
    "pubKey = key.public_key().export_key(format='DER')\n",
    "address = address\n",
    "msg = 'message'\n",
    "signature = sig\n",
    "\n",
    "sigVerif = verifyTxSignature(address, pubKey, msg, signature)\n",
    "sigVerif"
   ]
  },
  {
   "cell_type": "code",
   "execution_count": 6,
   "metadata": {},
   "outputs": [],
   "source": [
    "# Get keys names\n",
    "keysNames = os.listdir(os.path.join(Config().BASEDIR, 'keys'))\n",
    "# Get public key name\n",
    "prKeyName = [name for name in keysNames if name.split('_')[1] == 'pubKey.der'][0]\n",
    "# Get and decrypt public key\n",
    "with open(os.path.join(os.path.join(Config().BASEDIR, 'keys'), prKeyName), 'rb') as keyFile:\n",
    "    key = RSA.import_key(keyFile.read())"
   ]
  },
  {
   "cell_type": "code",
   "execution_count": 11,
   "metadata": {},
   "outputs": [
    {
     "data": {
      "text/plain": [
       "b'0\\x81\\x9f0\\r\\x06\\t*\\x86H\\x86\\xf7\\r\\x01\\x01\\x01\\x05\\x00\\x03\\x81\\x8d\\x000\\x81\\x89\\x02\\x81\\x81\\x00\\xefn\\xb4\\xcc\\xb7\\xe8\\xff\\xc7\\xa4?h\\x15\\x0f\\n|4\\xcf\\x96U\\xdc\\xd8\\xfaOU3\\x0b\\x12\\xdd\\xd5\\tqg\\x10m$\\\\\\xb7\\x93\\xb4\\x15\\x13\\xad\\x18\\xf5\\xb3\\x0cyI&tM\\x08\\xbb\\x1c\\x89\\xd9\\x17\\xc8J\\x98\\x137Q\\xd8\\xee\\xe5\\x89\\x14\"\\x1c9\\xbeNP\\x8e\\xce\\x1b6\\xeb\\x08\\x93+\\x88\\x1c\\x9f4\\x18\\x1d\\xea$\\x84\\xb3^\\x1f\\x84\\xa5\\x90\\xe8\\xb7\\x7f\\xfe`\\x1b\\xb5\\x86\\x00o<\\xea\\xb1\\xbe\\xbf\\xfa\\x00:\\\\\\xa3\\xd4\\xeeJ\\x00\\xeb&\\x9a\\x945\\x12\\x91\\x02\\x03\\x01\\x00\\x01'"
      ]
     },
     "execution_count": 11,
     "metadata": {},
     "output_type": "execute_result"
    }
   ],
   "source": [
    "pubKey = key.export_key(format='DER')\n",
    "pubKey"
   ]
  },
  {
   "cell_type": "code",
   "execution_count": 12,
   "metadata": {},
   "outputs": [
    {
     "data": {
      "text/plain": [
       "'z01x00a61643807d1f0bfe6dbb609311de768fb41430479b6564ca5f2c4f06'"
      ]
     },
     "execution_count": 12,
     "metadata": {},
     "output_type": "execute_result"
    }
   ],
   "source": [
    "# Form address and return it to the user\n",
    "pubHash = hashlib.sha3_224(pubKey).hexdigest()\n",
    "address = Config().IDSTR+pubHash\n",
    "address"
   ]
  },
  {
   "cell_type": "code",
   "execution_count": 13,
   "metadata": {},
   "outputs": [
    {
     "ename": "AttributeError",
     "evalue": "'list' object has no attribute 'split'",
     "output_type": "error",
     "traceback": [
      "\u001b[0;31m---------------------------------------------------------------------------\u001b[0m",
      "\u001b[0;31mAttributeError\u001b[0m                            Traceback (most recent call last)",
      "\u001b[0;32m<ipython-input-13-44887e69b26b>\u001b[0m in \u001b[0;36m<module>\u001b[0;34m\u001b[0m\n\u001b[0;32m----> 1\u001b[0;31m \u001b[0mos\u001b[0m\u001b[0;34m.\u001b[0m\u001b[0mlistdir\u001b[0m\u001b[0;34m(\u001b[0m\u001b[0mos\u001b[0m\u001b[0;34m.\u001b[0m\u001b[0mpath\u001b[0m\u001b[0;34m.\u001b[0m\u001b[0mjoin\u001b[0m\u001b[0;34m(\u001b[0m\u001b[0mConfig\u001b[0m\u001b[0;34m(\u001b[0m\u001b[0;34m)\u001b[0m\u001b[0;34m.\u001b[0m\u001b[0mBASEDIR\u001b[0m\u001b[0;34m,\u001b[0m \u001b[0;34m'keys'\u001b[0m\u001b[0;34m)\u001b[0m\u001b[0;34m)\u001b[0m\u001b[0;34m.\u001b[0m\u001b[0msplit\u001b[0m\u001b[0;34m(\u001b[0m\u001b[0;34m'_'\u001b[0m\u001b[0;34m)\u001b[0m\u001b[0;34m[\u001b[0m\u001b[0;36m1\u001b[0m\u001b[0;34m]\u001b[0m\u001b[0;34m\u001b[0m\u001b[0;34m\u001b[0m\u001b[0m\n\u001b[0m",
      "\u001b[0;31mAttributeError\u001b[0m: 'list' object has no attribute 'split'"
     ]
    }
   ],
   "source": [
    "os.listdir(os.path.join(Config().BASEDIR, 'keys')).split('_')[1]"
   ]
  },
  {
   "cell_type": "code",
   "execution_count": null,
   "metadata": {},
   "outputs": [],
   "source": []
  },
  {
   "cell_type": "markdown",
   "metadata": {},
   "source": [
    "### Set Internet Broadcasting System"
   ]
  },
  {
   "cell_type": "code",
   "execution_count": 3,
   "metadata": {},
   "outputs": [
    {
     "data": {
      "text/plain": [
       "'82.151.196.144'"
      ]
     },
     "execution_count": 3,
     "metadata": {},
     "output_type": "execute_result"
    }
   ],
   "source": [
    "# Get public IP\n",
    "publicIp = requests.get(\"https://api.ipify.org\").content.decode()\n",
    "publicIp"
   ]
  },
  {
   "cell_type": "code",
   "execution_count": 4,
   "metadata": {},
   "outputs": [
    {
     "data": {
      "text/plain": [
       "'192.168.0.16'"
      ]
     },
     "execution_count": 4,
     "metadata": {},
     "output_type": "execute_result"
    }
   ],
   "source": [
    "# Get local IP\n",
    "socket.gethostbyname(socket.gethostname())"
   ]
  },
  {
   "cell_type": "code",
   "execution_count": 6,
   "metadata": {},
   "outputs": [
    {
     "ename": "Exception",
     "evalue": "Unable to connect to rendezvous server.",
     "output_type": "error",
     "traceback": [
      "\u001b[0;31m---------------------------------------------------------------------------\u001b[0m",
      "\u001b[0;31mTypeError\u001b[0m                                 Traceback (most recent call last)",
      "\u001b[0;32m~/anaconda3/lib/python3.7/site-packages/pyp2p/net.py\u001b[0m in \u001b[0;36mstart\u001b[0;34m(self)\u001b[0m\n\u001b[1;32m    731\u001b[0m         \u001b[0;32mtry\u001b[0m\u001b[0;34m:\u001b[0m\u001b[0;34m\u001b[0m\u001b[0;34m\u001b[0m\u001b[0m\n\u001b[0;32m--> 732\u001b[0;31m             \u001b[0mrendezvous_con\u001b[0m \u001b[0;34m=\u001b[0m \u001b[0mself\u001b[0m\u001b[0;34m.\u001b[0m\u001b[0mrendezvous\u001b[0m\u001b[0;34m.\u001b[0m\u001b[0mserver_connect\u001b[0m\u001b[0;34m(\u001b[0m\u001b[0;34m)\u001b[0m\u001b[0;34m\u001b[0m\u001b[0;34m\u001b[0m\u001b[0m\n\u001b[0m\u001b[1;32m    733\u001b[0m             \u001b[0mrendezvous_con\u001b[0m\u001b[0;34m.\u001b[0m\u001b[0mclose\u001b[0m\u001b[0;34m(\u001b[0m\u001b[0;34m)\u001b[0m\u001b[0;34m\u001b[0m\u001b[0;34m\u001b[0m\u001b[0m\n",
      "\u001b[0;32m~/anaconda3/lib/python3.7/site-packages/pyp2p/rendezvous_client.py\u001b[0m in \u001b[0;36mserver_connect\u001b[0;34m(self, sock, index, servers)\u001b[0m\n\u001b[1;32m     91\u001b[0m                 \u001b[0;31m# Connect the socket.\u001b[0m\u001b[0;34m\u001b[0m\u001b[0;34m\u001b[0m\u001b[0;34m\u001b[0m\u001b[0m\n\u001b[0;32m---> 92\u001b[0;31m                 \u001b[0mcon\u001b[0m\u001b[0;34m.\u001b[0m\u001b[0mconnect\u001b[0m\u001b[0;34m(\u001b[0m\u001b[0mserver\u001b[0m\u001b[0;34m[\u001b[0m\u001b[0;34m\"addr\"\u001b[0m\u001b[0;34m]\u001b[0m\u001b[0;34m,\u001b[0m \u001b[0mserver\u001b[0m\u001b[0;34m[\u001b[0m\u001b[0;34m\"port\"\u001b[0m\u001b[0;34m]\u001b[0m\u001b[0;34m)\u001b[0m\u001b[0;34m\u001b[0m\u001b[0;34m\u001b[0m\u001b[0m\n\u001b[0m\u001b[1;32m     93\u001b[0m                 \u001b[0mlog\u001b[0m\u001b[0;34m.\u001b[0m\u001b[0mdebug\u001b[0m\u001b[0;34m(\u001b[0m\u001b[0;34m\"server con made\"\u001b[0m\u001b[0;34m)\u001b[0m\u001b[0;34m\u001b[0m\u001b[0;34m\u001b[0m\u001b[0m\n",
      "\u001b[0;32m~/anaconda3/lib/python3.7/site-packages/pyp2p/sock.py\u001b[0m in \u001b[0;36mconnect\u001b[0;34m(self, addr, port)\u001b[0m\n\u001b[1;32m    188\u001b[0m                 \u001b[0msrc_ip\u001b[0m \u001b[0;34m=\u001b[0m \u001b[0mget_lan_ip\u001b[0m\u001b[0;34m(\u001b[0m\u001b[0mself\u001b[0m\u001b[0;34m.\u001b[0m\u001b[0minterface\u001b[0m\u001b[0;34m)\u001b[0m\u001b[0;34m\u001b[0m\u001b[0;34m\u001b[0m\u001b[0m\n\u001b[0;32m--> 189\u001b[0;31m                 \u001b[0mself\u001b[0m\u001b[0;34m.\u001b[0m\u001b[0ms\u001b[0m\u001b[0;34m.\u001b[0m\u001b[0mbind\u001b[0m\u001b[0;34m(\u001b[0m\u001b[0;34m(\u001b[0m\u001b[0msrc_ip\u001b[0m\u001b[0;34m,\u001b[0m \u001b[0;36m0\u001b[0m\u001b[0;34m)\u001b[0m\u001b[0;34m)\u001b[0m\u001b[0;34m\u001b[0m\u001b[0;34m\u001b[0m\u001b[0m\n\u001b[0m\u001b[1;32m    190\u001b[0m             \u001b[0;32mexcept\u001b[0m \u001b[0msocket\u001b[0m\u001b[0;34m.\u001b[0m\u001b[0merror\u001b[0m \u001b[0;32mas\u001b[0m \u001b[0me\u001b[0m\u001b[0;34m:\u001b[0m\u001b[0;34m\u001b[0m\u001b[0;34m\u001b[0m\u001b[0m\n",
      "\u001b[0;31mTypeError\u001b[0m: str, bytes or bytearray expected, not NoneType",
      "\nDuring handling of the above exception, another exception occurred:\n",
      "\u001b[0;31mException\u001b[0m                                 Traceback (most recent call last)",
      "\u001b[0;32m<ipython-input-6-c9a1bfc2ef3b>\u001b[0m in \u001b[0;36m<module>\u001b[0;34m\u001b[0m\n\u001b[1;32m      1\u001b[0m \u001b[0;31m#Setup Alice's p2p node.\u001b[0m\u001b[0;34m\u001b[0m\u001b[0;34m\u001b[0m\u001b[0;34m\u001b[0m\u001b[0m\n\u001b[1;32m      2\u001b[0m \u001b[0malice\u001b[0m \u001b[0;34m=\u001b[0m \u001b[0mNet\u001b[0m\u001b[0;34m(\u001b[0m\u001b[0mpassive_bind\u001b[0m\u001b[0;34m=\u001b[0m\u001b[0;34m\"192.168.0.16\"\u001b[0m\u001b[0;34m,\u001b[0m \u001b[0mpassive_port\u001b[0m\u001b[0;34m=\u001b[0m\u001b[0;36m44444\u001b[0m\u001b[0;34m,\u001b[0m \u001b[0minterface\u001b[0m\u001b[0;34m=\u001b[0m\u001b[0;34m\"eth0:2\"\u001b[0m\u001b[0;34m,\u001b[0m \u001b[0mnode_type\u001b[0m\u001b[0;34m=\u001b[0m\u001b[0;34m\"passive\"\u001b[0m\u001b[0;34m,\u001b[0m \u001b[0mdebug\u001b[0m\u001b[0;34m=\u001b[0m\u001b[0;36m1\u001b[0m\u001b[0;34m)\u001b[0m\u001b[0;34m\u001b[0m\u001b[0;34m\u001b[0m\u001b[0m\n\u001b[0;32m----> 3\u001b[0;31m \u001b[0malice\u001b[0m\u001b[0;34m.\u001b[0m\u001b[0mstart\u001b[0m\u001b[0;34m(\u001b[0m\u001b[0;34m)\u001b[0m\u001b[0;34m\u001b[0m\u001b[0;34m\u001b[0m\u001b[0m\n\u001b[0m\u001b[1;32m      4\u001b[0m \u001b[0malice\u001b[0m\u001b[0;34m.\u001b[0m\u001b[0mbootstrap\u001b[0m\u001b[0;34m(\u001b[0m\u001b[0;34m)\u001b[0m\u001b[0;34m\u001b[0m\u001b[0;34m\u001b[0m\u001b[0m\n\u001b[1;32m      5\u001b[0m \u001b[0malice\u001b[0m\u001b[0;34m.\u001b[0m\u001b[0madvertise\u001b[0m\u001b[0;34m(\u001b[0m\u001b[0;34m)\u001b[0m\u001b[0;34m\u001b[0m\u001b[0;34m\u001b[0m\u001b[0m\n",
      "\u001b[0;32m~/anaconda3/lib/python3.7/site-packages/pyp2p/net.py\u001b[0m in \u001b[0;36mstart\u001b[0;34m(self)\u001b[0m\n\u001b[1;32m    733\u001b[0m             \u001b[0mrendezvous_con\u001b[0m\u001b[0;34m.\u001b[0m\u001b[0mclose\u001b[0m\u001b[0;34m(\u001b[0m\u001b[0;34m)\u001b[0m\u001b[0;34m\u001b[0m\u001b[0;34m\u001b[0m\u001b[0m\n\u001b[1;32m    734\u001b[0m         \u001b[0;32mexcept\u001b[0m\u001b[0;34m:\u001b[0m\u001b[0;34m\u001b[0m\u001b[0;34m\u001b[0m\u001b[0m\n\u001b[0;32m--> 735\u001b[0;31m             \u001b[0;32mraise\u001b[0m \u001b[0mException\u001b[0m\u001b[0;34m(\u001b[0m\u001b[0;34m\"Unable to connect to rendezvous server.\"\u001b[0m\u001b[0;34m)\u001b[0m\u001b[0;34m\u001b[0m\u001b[0;34m\u001b[0m\u001b[0m\n\u001b[0m\u001b[1;32m    736\u001b[0m \u001b[0;34m\u001b[0m\u001b[0m\n\u001b[1;32m    737\u001b[0m         \u001b[0;31m# Started no matter what\u001b[0m\u001b[0;34m\u001b[0m\u001b[0;34m\u001b[0m\u001b[0;34m\u001b[0m\u001b[0m\n",
      "\u001b[0;31mException\u001b[0m: Unable to connect to rendezvous server."
     ]
    }
   ],
   "source": [
    "#Setup Alice's p2p node.\n",
    "alice = Net(passive_bind=\"192.168.0.16\", passive_port=44444, interface=\"eth0:2\", node_type=\"passive\", debug=1)\n",
    "alice.start()\n",
    "alice.bootstrap()\n",
    "alice.advertise()\n",
    "\n",
    "#Event loop.\n",
    "while 1:\n",
    "    for con in alice:\n",
    "        for reply in con:\n",
    "            print(reply)\n",
    "\n",
    "    time.sleep(1)"
   ]
  },
  {
   "cell_type": "code",
   "execution_count": null,
   "metadata": {},
   "outputs": [],
   "source": []
  },
  {
   "cell_type": "code",
   "execution_count": null,
   "metadata": {},
   "outputs": [],
   "source": []
  },
  {
   "cell_type": "code",
   "execution_count": 1,
   "metadata": {},
   "outputs": [],
   "source": [
    "import upnpy"
   ]
  },
  {
   "cell_type": "code",
   "execution_count": 5,
   "metadata": {},
   "outputs": [
    {
     "ename": "IGDError",
     "evalue": "No IGD found.",
     "output_type": "error",
     "traceback": [
      "\u001b[0;31m---------------------------------------------------------------------------\u001b[0m",
      "\u001b[0;31mIGDError\u001b[0m                                  Traceback (most recent call last)",
      "\u001b[0;32m<ipython-input-5-bf2953473c02>\u001b[0m in \u001b[0;36m<module>\u001b[0;34m\u001b[0m\n\u001b[1;32m      1\u001b[0m \u001b[0mupnp\u001b[0m \u001b[0;34m=\u001b[0m \u001b[0mupnpy\u001b[0m\u001b[0;34m.\u001b[0m\u001b[0mUPnP\u001b[0m\u001b[0;34m(\u001b[0m\u001b[0;34m)\u001b[0m\u001b[0;34m\u001b[0m\u001b[0;34m\u001b[0m\u001b[0m\n\u001b[0;32m----> 2\u001b[0;31m \u001b[0mdevice\u001b[0m \u001b[0;34m=\u001b[0m \u001b[0mupnp\u001b[0m\u001b[0;34m.\u001b[0m\u001b[0mget_igd\u001b[0m\u001b[0;34m(\u001b[0m\u001b[0;34m)\u001b[0m\u001b[0;34m\u001b[0m\u001b[0;34m\u001b[0m\u001b[0m\n\u001b[0m",
      "\u001b[0;32m~/anaconda3/lib/python3.7/site-packages/upnpy/upnp/UPnP.py\u001b[0m in \u001b[0;36mget_igd\u001b[0;34m(self)\u001b[0m\n\u001b[1;32m     60\u001b[0m             \u001b[0;32mraise\u001b[0m \u001b[0mexceptions\u001b[0m\u001b[0;34m.\u001b[0m\u001b[0mIGDError\u001b[0m\u001b[0;34m(\u001b[0m\u001b[0;34m'Multiple IGDs found. Specify one manually.'\u001b[0m\u001b[0;34m)\u001b[0m\u001b[0;34m\u001b[0m\u001b[0;34m\u001b[0m\u001b[0m\n\u001b[1;32m     61\u001b[0m         \u001b[0;32melse\u001b[0m\u001b[0;34m:\u001b[0m\u001b[0;34m\u001b[0m\u001b[0;34m\u001b[0m\u001b[0m\n\u001b[0;32m---> 62\u001b[0;31m             \u001b[0;32mraise\u001b[0m \u001b[0mexceptions\u001b[0m\u001b[0;34m.\u001b[0m\u001b[0mIGDError\u001b[0m\u001b[0;34m(\u001b[0m\u001b[0;34m'No IGD found.'\u001b[0m\u001b[0;34m)\u001b[0m\u001b[0;34m\u001b[0m\u001b[0;34m\u001b[0m\u001b[0m\n\u001b[0m",
      "\u001b[0;31mIGDError\u001b[0m: No IGD found."
     ]
    }
   ],
   "source": [
    "upnp = upnpy.UPnP()\n",
    "device = upnp.get_igd()"
   ]
  },
  {
   "cell_type": "code",
   "execution_count": 3,
   "metadata": {},
   "outputs": [
    {
     "ename": "AttributeError",
     "evalue": "'UPnP' object has no attribute 'AddPortMapping'",
     "output_type": "error",
     "traceback": [
      "\u001b[0;31m---------------------------------------------------------------------------\u001b[0m",
      "\u001b[0;31mAttributeError\u001b[0m                            Traceback (most recent call last)",
      "\u001b[0;32m<ipython-input-3-82f57f9a38b0>\u001b[0m in \u001b[0;36m<module>\u001b[0;34m\u001b[0m\n\u001b[0;32m----> 1\u001b[0;31m upnp.AddPortMapping(\n\u001b[0m\u001b[1;32m      2\u001b[0m     \u001b[0mNewRemoteHost\u001b[0m\u001b[0;34m=\u001b[0m\u001b[0;34m''\u001b[0m\u001b[0;34m,\u001b[0m\u001b[0;34m\u001b[0m\u001b[0;34m\u001b[0m\u001b[0m\n\u001b[1;32m      3\u001b[0m     \u001b[0mNewExternalPort\u001b[0m\u001b[0;34m=\u001b[0m\u001b[0;36m80\u001b[0m\u001b[0;34m,\u001b[0m\u001b[0;34m\u001b[0m\u001b[0;34m\u001b[0m\u001b[0m\n\u001b[1;32m      4\u001b[0m     \u001b[0mNewProtocol\u001b[0m\u001b[0;34m=\u001b[0m\u001b[0;34m'TCP'\u001b[0m\u001b[0;34m,\u001b[0m\u001b[0;34m\u001b[0m\u001b[0;34m\u001b[0m\u001b[0m\n\u001b[1;32m      5\u001b[0m     \u001b[0mNewInternalPort\u001b[0m\u001b[0;34m=\u001b[0m\u001b[0;36m8000\u001b[0m\u001b[0;34m,\u001b[0m\u001b[0;34m\u001b[0m\u001b[0;34m\u001b[0m\u001b[0m\n",
      "\u001b[0;31mAttributeError\u001b[0m: 'UPnP' object has no attribute 'AddPortMapping'"
     ]
    }
   ],
   "source": [
    "upnp.AddPortMapping(\n",
    "    NewRemoteHost='',\n",
    "    NewExternalPort=80,\n",
    "    NewProtocol='TCP',\n",
    "    NewInternalPort=8000,\n",
    "    NewInternalClient='192.168.0.16',\n",
    "    NewEnabled=1,\n",
    "    NewPortMappingDescription='Test port mapping entry from UPnPy.',\n",
    "    NewLeaseDuration=0\n",
    ") "
   ]
  },
  {
   "cell_type": "code",
   "execution_count": 6,
   "metadata": {
    "collapsed": true
   },
   "outputs": [
    {
     "ename": "ExpatError",
     "evalue": "not well-formed (invalid token): line 1, column 6",
     "output_type": "error",
     "traceback": [
      "\u001b[0;31m---------------------------------------------------------------------------\u001b[0m",
      "\u001b[0;31mExpatError\u001b[0m                                Traceback (most recent call last)",
      "\u001b[0;32m<ipython-input-6-7897dd0229fc>\u001b[0m in \u001b[0;36m<module>\u001b[0;34m\u001b[0m\n\u001b[1;32m      1\u001b[0m \u001b[0;31m# upnp = upnpy.UPnP()\u001b[0m\u001b[0;34m\u001b[0m\u001b[0;34m\u001b[0m\u001b[0;34m\u001b[0m\u001b[0m\n\u001b[1;32m      2\u001b[0m \u001b[0;34m\u001b[0m\u001b[0m\n\u001b[0;32m----> 3\u001b[0;31m \u001b[0mdevices\u001b[0m \u001b[0;34m=\u001b[0m \u001b[0mupnpy\u001b[0m\u001b[0;34m.\u001b[0m\u001b[0mdiscover\u001b[0m\u001b[0;34m(\u001b[0m\u001b[0;34m)\u001b[0m\u001b[0;34m\u001b[0m\u001b[0;34m\u001b[0m\u001b[0m\n\u001b[0m\u001b[1;32m      4\u001b[0m \u001b[0mdevices\u001b[0m\u001b[0;34m\u001b[0m\u001b[0;34m\u001b[0m\u001b[0m\n",
      "\u001b[0;32m~/anaconda3/lib/python3.7/site-packages/upnpy/upnp/UPnP.py\u001b[0m in \u001b[0;36mdiscover\u001b[0;34m(self, delay, **headers)\u001b[0m\n\u001b[1;32m     31\u001b[0m \u001b[0;34m\u001b[0m\u001b[0m\n\u001b[1;32m     32\u001b[0m         \u001b[0mdiscovered_devices\u001b[0m \u001b[0;34m=\u001b[0m \u001b[0;34m[\u001b[0m\u001b[0;34m]\u001b[0m\u001b[0;34m\u001b[0m\u001b[0;34m\u001b[0m\u001b[0m\n\u001b[0;32m---> 33\u001b[0;31m         \u001b[0;32mfor\u001b[0m \u001b[0mdevice\u001b[0m \u001b[0;32min\u001b[0m \u001b[0mself\u001b[0m\u001b[0;34m.\u001b[0m\u001b[0mssdp\u001b[0m\u001b[0;34m.\u001b[0m\u001b[0mm_search\u001b[0m\u001b[0;34m(\u001b[0m\u001b[0mdiscover_delay\u001b[0m\u001b[0;34m=\u001b[0m\u001b[0mdelay\u001b[0m\u001b[0;34m,\u001b[0m \u001b[0mst\u001b[0m\u001b[0;34m=\u001b[0m\u001b[0;34m'upnp:rootdevice'\u001b[0m\u001b[0;34m,\u001b[0m \u001b[0;34m**\u001b[0m\u001b[0mheaders\u001b[0m\u001b[0;34m)\u001b[0m\u001b[0;34m:\u001b[0m\u001b[0;34m\u001b[0m\u001b[0;34m\u001b[0m\u001b[0m\n\u001b[0m\u001b[1;32m     34\u001b[0m             \u001b[0mdiscovered_devices\u001b[0m\u001b[0;34m.\u001b[0m\u001b[0mappend\u001b[0m\u001b[0;34m(\u001b[0m\u001b[0mdevice\u001b[0m\u001b[0;34m)\u001b[0m\u001b[0;34m\u001b[0m\u001b[0;34m\u001b[0m\u001b[0m\n\u001b[1;32m     35\u001b[0m \u001b[0;34m\u001b[0m\u001b[0m\n",
      "\u001b[0;32m~/anaconda3/lib/python3.7/site-packages/upnpy/ssdp/SSDPRequest.py\u001b[0m in \u001b[0;36mm_search\u001b[0;34m(self, discover_delay, st, **headers)\u001b[0m\n\u001b[1;32m     48\u001b[0m         \u001b[0mself\u001b[0m\u001b[0;34m.\u001b[0m\u001b[0msocket\u001b[0m\u001b[0;34m.\u001b[0m\u001b[0msettimeout\u001b[0m\u001b[0;34m(\u001b[0m\u001b[0mdiscover_delay\u001b[0m\u001b[0;34m)\u001b[0m\u001b[0;34m\u001b[0m\u001b[0;34m\u001b[0m\u001b[0m\n\u001b[1;32m     49\u001b[0m \u001b[0;34m\u001b[0m\u001b[0m\n\u001b[0;32m---> 50\u001b[0;31m         \u001b[0mdevices\u001b[0m \u001b[0;34m=\u001b[0m \u001b[0mself\u001b[0m\u001b[0;34m.\u001b[0m\u001b[0m_send_request\u001b[0m\u001b[0;34m(\u001b[0m\u001b[0mself\u001b[0m\u001b[0;34m.\u001b[0m\u001b[0m_get_raw_request\u001b[0m\u001b[0;34m(\u001b[0m\u001b[0;34m)\u001b[0m\u001b[0;34m)\u001b[0m\u001b[0;34m\u001b[0m\u001b[0;34m\u001b[0m\u001b[0m\n\u001b[0m\u001b[1;32m     51\u001b[0m \u001b[0;34m\u001b[0m\u001b[0m\n\u001b[1;32m     52\u001b[0m         \u001b[0;32mfor\u001b[0m \u001b[0mdevice\u001b[0m \u001b[0;32min\u001b[0m \u001b[0mdevices\u001b[0m\u001b[0;34m:\u001b[0m\u001b[0;34m\u001b[0m\u001b[0;34m\u001b[0m\u001b[0m\n",
      "\u001b[0;32m~/anaconda3/lib/python3.7/site-packages/upnpy/ssdp/SSDPRequest.py\u001b[0m in \u001b[0;36m_send_request\u001b[0;34m(self, message)\u001b[0m\n\u001b[1;32m     98\u001b[0m \u001b[0;34m\u001b[0m\u001b[0m\n\u001b[1;32m     99\u001b[0m                 \u001b[0mresponse\u001b[0m\u001b[0;34m,\u001b[0m \u001b[0maddr\u001b[0m \u001b[0;34m=\u001b[0m \u001b[0mself\u001b[0m\u001b[0;34m.\u001b[0m\u001b[0msocket\u001b[0m\u001b[0;34m.\u001b[0m\u001b[0mrecvfrom\u001b[0m\u001b[0;34m(\u001b[0m\u001b[0;36m65507\u001b[0m\u001b[0;34m)\u001b[0m\u001b[0;34m\u001b[0m\u001b[0;34m\u001b[0m\u001b[0m\n\u001b[0;32m--> 100\u001b[0;31m                 \u001b[0mdevice\u001b[0m \u001b[0;34m=\u001b[0m \u001b[0mSSDPDevice\u001b[0m\u001b[0;34m(\u001b[0m\u001b[0maddr\u001b[0m\u001b[0;34m,\u001b[0m \u001b[0mresponse\u001b[0m\u001b[0;34m.\u001b[0m\u001b[0mdecode\u001b[0m\u001b[0;34m(\u001b[0m\u001b[0;34m)\u001b[0m\u001b[0;34m)\u001b[0m\u001b[0;34m\u001b[0m\u001b[0;34m\u001b[0m\u001b[0m\n\u001b[0m\u001b[1;32m    101\u001b[0m                 \u001b[0mdevices\u001b[0m\u001b[0;34m.\u001b[0m\u001b[0mappend\u001b[0m\u001b[0;34m(\u001b[0m\u001b[0mdevice\u001b[0m\u001b[0;34m)\u001b[0m\u001b[0;34m\u001b[0m\u001b[0;34m\u001b[0m\u001b[0m\n\u001b[1;32m    102\u001b[0m         \u001b[0;32mexcept\u001b[0m \u001b[0msocket\u001b[0m\u001b[0;34m.\u001b[0m\u001b[0mtimeout\u001b[0m\u001b[0;34m:\u001b[0m\u001b[0;34m\u001b[0m\u001b[0;34m\u001b[0m\u001b[0m\n",
      "\u001b[0;32m~/anaconda3/lib/python3.7/site-packages/upnpy/ssdp/SSDPDevice.py\u001b[0m in \u001b[0;36m__init__\u001b[0;34m(self, address, response)\u001b[0m\n\u001b[1;32m     82\u001b[0m \u001b[0;34m\u001b[0m\u001b[0m\n\u001b[1;32m     83\u001b[0m         \u001b[0mself\u001b[0m\u001b[0;34m.\u001b[0m\u001b[0m_get_description_request\u001b[0m\u001b[0;34m(\u001b[0m\u001b[0mutils\u001b[0m\u001b[0;34m.\u001b[0m\u001b[0mparse_http_header\u001b[0m\u001b[0;34m(\u001b[0m\u001b[0mresponse\u001b[0m\u001b[0;34m,\u001b[0m \u001b[0;34m'Location'\u001b[0m\u001b[0;34m)\u001b[0m\u001b[0;34m)\u001b[0m\u001b[0;34m\u001b[0m\u001b[0;34m\u001b[0m\u001b[0m\n\u001b[0;32m---> 84\u001b[0;31m         \u001b[0mself\u001b[0m\u001b[0;34m.\u001b[0m\u001b[0m_get_friendly_name_request\u001b[0m\u001b[0;34m(\u001b[0m\u001b[0;34m)\u001b[0m\u001b[0;34m\u001b[0m\u001b[0;34m\u001b[0m\u001b[0m\n\u001b[0m\u001b[1;32m     85\u001b[0m         \u001b[0mself\u001b[0m\u001b[0;34m.\u001b[0m\u001b[0m_get_type_request\u001b[0m\u001b[0;34m(\u001b[0m\u001b[0;34m)\u001b[0m\u001b[0;34m\u001b[0m\u001b[0;34m\u001b[0m\u001b[0m\n\u001b[1;32m     86\u001b[0m         \u001b[0mself\u001b[0m\u001b[0;34m.\u001b[0m\u001b[0m_get_base_url_request\u001b[0m\u001b[0;34m(\u001b[0m\u001b[0;34m)\u001b[0m\u001b[0;34m\u001b[0m\u001b[0;34m\u001b[0m\u001b[0m\n",
      "\u001b[0;32m~/anaconda3/lib/python3.7/site-packages/upnpy/ssdp/SSDPDevice.py\u001b[0m in \u001b[0;36mwrapper\u001b[0;34m(device, *args, **kwargs)\u001b[0m\n\u001b[1;32m     21\u001b[0m         \u001b[0;32melif\u001b[0m \u001b[0mdevice\u001b[0m\u001b[0;34m.\u001b[0m\u001b[0mdescription\u001b[0m \u001b[0;34m==\u001b[0m \u001b[0mexceptions\u001b[0m\u001b[0;34m.\u001b[0m\u001b[0mNotAvailableError\u001b[0m\u001b[0;34m:\u001b[0m\u001b[0;34m\u001b[0m\u001b[0;34m\u001b[0m\u001b[0m\n\u001b[1;32m     22\u001b[0m             \u001b[0;32mreturn\u001b[0m\u001b[0;34m\u001b[0m\u001b[0;34m\u001b[0m\u001b[0m\n\u001b[0;32m---> 23\u001b[0;31m         \u001b[0;32mreturn\u001b[0m \u001b[0mfunc\u001b[0m\u001b[0;34m(\u001b[0m\u001b[0mdevice\u001b[0m\u001b[0;34m,\u001b[0m \u001b[0;34m*\u001b[0m\u001b[0margs\u001b[0m\u001b[0;34m,\u001b[0m \u001b[0;34m**\u001b[0m\u001b[0mkwargs\u001b[0m\u001b[0;34m)\u001b[0m\u001b[0;34m\u001b[0m\u001b[0;34m\u001b[0m\u001b[0m\n\u001b[0m\u001b[1;32m     24\u001b[0m     \u001b[0;32mreturn\u001b[0m \u001b[0mwrapper\u001b[0m\u001b[0;34m\u001b[0m\u001b[0;34m\u001b[0m\u001b[0m\n\u001b[1;32m     25\u001b[0m \u001b[0;34m\u001b[0m\u001b[0m\n",
      "\u001b[0;32m~/anaconda3/lib/python3.7/site-packages/upnpy/ssdp/SSDPDevice.py\u001b[0m in \u001b[0;36m_get_friendly_name_request\u001b[0;34m(self)\u001b[0m\n\u001b[1;32m    125\u001b[0m     \u001b[0;34m@\u001b[0m\u001b[0m_device_description_required\u001b[0m\u001b[0;34m\u001b[0m\u001b[0;34m\u001b[0m\u001b[0m\n\u001b[1;32m    126\u001b[0m     \u001b[0;32mdef\u001b[0m \u001b[0m_get_friendly_name_request\u001b[0m\u001b[0;34m(\u001b[0m\u001b[0mself\u001b[0m\u001b[0;34m)\u001b[0m\u001b[0;34m:\u001b[0m\u001b[0;34m\u001b[0m\u001b[0;34m\u001b[0m\u001b[0m\n\u001b[0;32m--> 127\u001b[0;31m         \u001b[0mroot\u001b[0m \u001b[0;34m=\u001b[0m \u001b[0mminidom\u001b[0m\u001b[0;34m.\u001b[0m\u001b[0mparseString\u001b[0m\u001b[0;34m(\u001b[0m\u001b[0mself\u001b[0m\u001b[0;34m.\u001b[0m\u001b[0mdescription\u001b[0m\u001b[0;34m)\u001b[0m\u001b[0;34m\u001b[0m\u001b[0;34m\u001b[0m\u001b[0m\n\u001b[0m\u001b[1;32m    128\u001b[0m         \u001b[0mdevice_friendly_name\u001b[0m \u001b[0;34m=\u001b[0m \u001b[0mroot\u001b[0m\u001b[0;34m.\u001b[0m\u001b[0mgetElementsByTagName\u001b[0m\u001b[0;34m(\u001b[0m\u001b[0;34m'friendlyName'\u001b[0m\u001b[0;34m)\u001b[0m\u001b[0;34m[\u001b[0m\u001b[0;36m0\u001b[0m\u001b[0;34m]\u001b[0m\u001b[0;34m.\u001b[0m\u001b[0mfirstChild\u001b[0m\u001b[0;34m.\u001b[0m\u001b[0mnodeValue\u001b[0m\u001b[0;34m\u001b[0m\u001b[0;34m\u001b[0m\u001b[0m\n\u001b[1;32m    129\u001b[0m         \u001b[0mself\u001b[0m\u001b[0;34m.\u001b[0m\u001b[0mfriendly_name\u001b[0m \u001b[0;34m=\u001b[0m \u001b[0mdevice_friendly_name\u001b[0m\u001b[0;34m\u001b[0m\u001b[0;34m\u001b[0m\u001b[0m\n",
      "\u001b[0;32m~/anaconda3/lib/python3.7/xml/dom/minidom.py\u001b[0m in \u001b[0;36mparseString\u001b[0;34m(string, parser)\u001b[0m\n\u001b[1;32m   1966\u001b[0m     \u001b[0;32mif\u001b[0m \u001b[0mparser\u001b[0m \u001b[0;32mis\u001b[0m \u001b[0;32mNone\u001b[0m\u001b[0;34m:\u001b[0m\u001b[0;34m\u001b[0m\u001b[0;34m\u001b[0m\u001b[0m\n\u001b[1;32m   1967\u001b[0m         \u001b[0;32mfrom\u001b[0m \u001b[0mxml\u001b[0m\u001b[0;34m.\u001b[0m\u001b[0mdom\u001b[0m \u001b[0;32mimport\u001b[0m \u001b[0mexpatbuilder\u001b[0m\u001b[0;34m\u001b[0m\u001b[0;34m\u001b[0m\u001b[0m\n\u001b[0;32m-> 1968\u001b[0;31m         \u001b[0;32mreturn\u001b[0m \u001b[0mexpatbuilder\u001b[0m\u001b[0;34m.\u001b[0m\u001b[0mparseString\u001b[0m\u001b[0;34m(\u001b[0m\u001b[0mstring\u001b[0m\u001b[0;34m)\u001b[0m\u001b[0;34m\u001b[0m\u001b[0;34m\u001b[0m\u001b[0m\n\u001b[0m\u001b[1;32m   1969\u001b[0m     \u001b[0;32melse\u001b[0m\u001b[0;34m:\u001b[0m\u001b[0;34m\u001b[0m\u001b[0;34m\u001b[0m\u001b[0m\n\u001b[1;32m   1970\u001b[0m         \u001b[0;32mfrom\u001b[0m \u001b[0mxml\u001b[0m\u001b[0;34m.\u001b[0m\u001b[0mdom\u001b[0m \u001b[0;32mimport\u001b[0m \u001b[0mpulldom\u001b[0m\u001b[0;34m\u001b[0m\u001b[0;34m\u001b[0m\u001b[0m\n",
      "\u001b[0;32m~/anaconda3/lib/python3.7/xml/dom/expatbuilder.py\u001b[0m in \u001b[0;36mparseString\u001b[0;34m(string, namespaces)\u001b[0m\n\u001b[1;32m    923\u001b[0m     \u001b[0;32melse\u001b[0m\u001b[0;34m:\u001b[0m\u001b[0;34m\u001b[0m\u001b[0;34m\u001b[0m\u001b[0m\n\u001b[1;32m    924\u001b[0m         \u001b[0mbuilder\u001b[0m \u001b[0;34m=\u001b[0m \u001b[0mExpatBuilder\u001b[0m\u001b[0;34m(\u001b[0m\u001b[0;34m)\u001b[0m\u001b[0;34m\u001b[0m\u001b[0;34m\u001b[0m\u001b[0m\n\u001b[0;32m--> 925\u001b[0;31m     \u001b[0;32mreturn\u001b[0m \u001b[0mbuilder\u001b[0m\u001b[0;34m.\u001b[0m\u001b[0mparseString\u001b[0m\u001b[0;34m(\u001b[0m\u001b[0mstring\u001b[0m\u001b[0;34m)\u001b[0m\u001b[0;34m\u001b[0m\u001b[0;34m\u001b[0m\u001b[0m\n\u001b[0m\u001b[1;32m    926\u001b[0m \u001b[0;34m\u001b[0m\u001b[0m\n\u001b[1;32m    927\u001b[0m \u001b[0;34m\u001b[0m\u001b[0m\n",
      "\u001b[0;32m~/anaconda3/lib/python3.7/xml/dom/expatbuilder.py\u001b[0m in \u001b[0;36mparseString\u001b[0;34m(self, string)\u001b[0m\n\u001b[1;32m    221\u001b[0m         \u001b[0mparser\u001b[0m \u001b[0;34m=\u001b[0m \u001b[0mself\u001b[0m\u001b[0;34m.\u001b[0m\u001b[0mgetParser\u001b[0m\u001b[0;34m(\u001b[0m\u001b[0;34m)\u001b[0m\u001b[0;34m\u001b[0m\u001b[0;34m\u001b[0m\u001b[0m\n\u001b[1;32m    222\u001b[0m         \u001b[0;32mtry\u001b[0m\u001b[0;34m:\u001b[0m\u001b[0;34m\u001b[0m\u001b[0;34m\u001b[0m\u001b[0m\n\u001b[0;32m--> 223\u001b[0;31m             \u001b[0mparser\u001b[0m\u001b[0;34m.\u001b[0m\u001b[0mParse\u001b[0m\u001b[0;34m(\u001b[0m\u001b[0mstring\u001b[0m\u001b[0;34m,\u001b[0m \u001b[0;32mTrue\u001b[0m\u001b[0;34m)\u001b[0m\u001b[0;34m\u001b[0m\u001b[0;34m\u001b[0m\u001b[0m\n\u001b[0m\u001b[1;32m    224\u001b[0m             \u001b[0mself\u001b[0m\u001b[0;34m.\u001b[0m\u001b[0m_setup_subset\u001b[0m\u001b[0;34m(\u001b[0m\u001b[0mstring\u001b[0m\u001b[0;34m)\u001b[0m\u001b[0;34m\u001b[0m\u001b[0;34m\u001b[0m\u001b[0m\n\u001b[1;32m    225\u001b[0m         \u001b[0;32mexcept\u001b[0m \u001b[0mParseEscape\u001b[0m\u001b[0;34m:\u001b[0m\u001b[0;34m\u001b[0m\u001b[0;34m\u001b[0m\u001b[0m\n",
      "\u001b[0;31mExpatError\u001b[0m: not well-formed (invalid token): line 1, column 6"
     ]
    }
   ],
   "source": [
    "# upnp = upnpy.UPnP()\n",
    "\n",
    "devices = upnpy.discover()\n",
    "devices"
   ]
  },
  {
   "cell_type": "code",
   "execution_count": null,
   "metadata": {},
   "outputs": [],
   "source": []
  },
  {
   "cell_type": "code",
   "execution_count": null,
   "metadata": {},
   "outputs": [],
   "source": []
  },
  {
   "cell_type": "code",
   "execution_count": null,
   "metadata": {},
   "outputs": [],
   "source": [
    "# Open port\n",
    "import miniupnpc\n",
    "\n",
    "def open_port(port_no):\n",
    "    '''this function opens a port using upnp'''\n",
    "    upnp = miniupnpc.UPnP()\n",
    "\n",
    "    upnp.discoverdelay = 10\n",
    "    upnp.discover()\n",
    "\n",
    "    upnp.selectigd()\n",
    "\n",
    "    # addportmapping(external-port, protocol, internal-host, internal-port, description, remote-host)\n",
    "    result=upnp.addportmapping(port_no, 'TCP', upnp.lanaddr, port_no, 'testing', '')\n",
    "    return result"
   ]
  },
  {
   "cell_type": "markdown",
   "metadata": {},
   "source": [
    "### Test Blockchain File System"
   ]
  },
  {
   "cell_type": "code",
   "execution_count": 9,
   "metadata": {},
   "outputs": [],
   "source": [
    "host = 'http://0.0.0.0:5000'\n",
    "# host = 'http://82.151.196.144:5000'"
   ]
  },
  {
   "cell_type": "code",
   "execution_count": 8,
   "metadata": {
    "collapsed": true
   },
   "outputs": [
    {
     "ename": "KeyboardInterrupt",
     "evalue": "",
     "output_type": "error",
     "traceback": [
      "\u001b[0;31m---------------------------------------------------------------------------\u001b[0m",
      "\u001b[0;31mKeyboardInterrupt\u001b[0m                         Traceback (most recent call last)",
      "\u001b[0;32m<ipython-input-8-b655776af4c3>\u001b[0m in \u001b[0;36m<module>\u001b[0;34m\u001b[0m\n\u001b[0;32m----> 1\u001b[0;31m \u001b[0mtxPool\u001b[0m \u001b[0;34m=\u001b[0m \u001b[0mrequests\u001b[0m\u001b[0;34m.\u001b[0m\u001b[0mget\u001b[0m\u001b[0;34m(\u001b[0m\u001b[0mhost\u001b[0m\u001b[0;34m+\u001b[0m\u001b[0;34m'/getTxPool'\u001b[0m\u001b[0;34m)\u001b[0m\u001b[0;34m\u001b[0m\u001b[0;34m\u001b[0m\u001b[0m\n\u001b[0m\u001b[1;32m      2\u001b[0m \u001b[0mtxPool\u001b[0m\u001b[0;34m\u001b[0m\u001b[0;34m\u001b[0m\u001b[0m\n",
      "\u001b[0;32m~/anaconda3/lib/python3.7/site-packages/requests/api.py\u001b[0m in \u001b[0;36mget\u001b[0;34m(url, params, **kwargs)\u001b[0m\n\u001b[1;32m     73\u001b[0m \u001b[0;34m\u001b[0m\u001b[0m\n\u001b[1;32m     74\u001b[0m     \u001b[0mkwargs\u001b[0m\u001b[0;34m.\u001b[0m\u001b[0msetdefault\u001b[0m\u001b[0;34m(\u001b[0m\u001b[0;34m'allow_redirects'\u001b[0m\u001b[0;34m,\u001b[0m \u001b[0;32mTrue\u001b[0m\u001b[0;34m)\u001b[0m\u001b[0;34m\u001b[0m\u001b[0;34m\u001b[0m\u001b[0m\n\u001b[0;32m---> 75\u001b[0;31m     \u001b[0;32mreturn\u001b[0m \u001b[0mrequest\u001b[0m\u001b[0;34m(\u001b[0m\u001b[0;34m'get'\u001b[0m\u001b[0;34m,\u001b[0m \u001b[0murl\u001b[0m\u001b[0;34m,\u001b[0m \u001b[0mparams\u001b[0m\u001b[0;34m=\u001b[0m\u001b[0mparams\u001b[0m\u001b[0;34m,\u001b[0m \u001b[0;34m**\u001b[0m\u001b[0mkwargs\u001b[0m\u001b[0;34m)\u001b[0m\u001b[0;34m\u001b[0m\u001b[0;34m\u001b[0m\u001b[0m\n\u001b[0m\u001b[1;32m     76\u001b[0m \u001b[0;34m\u001b[0m\u001b[0m\n\u001b[1;32m     77\u001b[0m \u001b[0;34m\u001b[0m\u001b[0m\n",
      "\u001b[0;32m~/anaconda3/lib/python3.7/site-packages/requests/api.py\u001b[0m in \u001b[0;36mrequest\u001b[0;34m(method, url, **kwargs)\u001b[0m\n\u001b[1;32m     58\u001b[0m     \u001b[0;31m# cases, and look like a memory leak in others.\u001b[0m\u001b[0;34m\u001b[0m\u001b[0;34m\u001b[0m\u001b[0;34m\u001b[0m\u001b[0m\n\u001b[1;32m     59\u001b[0m     \u001b[0;32mwith\u001b[0m \u001b[0msessions\u001b[0m\u001b[0;34m.\u001b[0m\u001b[0mSession\u001b[0m\u001b[0;34m(\u001b[0m\u001b[0;34m)\u001b[0m \u001b[0;32mas\u001b[0m \u001b[0msession\u001b[0m\u001b[0;34m:\u001b[0m\u001b[0;34m\u001b[0m\u001b[0;34m\u001b[0m\u001b[0m\n\u001b[0;32m---> 60\u001b[0;31m         \u001b[0;32mreturn\u001b[0m \u001b[0msession\u001b[0m\u001b[0;34m.\u001b[0m\u001b[0mrequest\u001b[0m\u001b[0;34m(\u001b[0m\u001b[0mmethod\u001b[0m\u001b[0;34m=\u001b[0m\u001b[0mmethod\u001b[0m\u001b[0;34m,\u001b[0m \u001b[0murl\u001b[0m\u001b[0;34m=\u001b[0m\u001b[0murl\u001b[0m\u001b[0;34m,\u001b[0m \u001b[0;34m**\u001b[0m\u001b[0mkwargs\u001b[0m\u001b[0;34m)\u001b[0m\u001b[0;34m\u001b[0m\u001b[0;34m\u001b[0m\u001b[0m\n\u001b[0m\u001b[1;32m     61\u001b[0m \u001b[0;34m\u001b[0m\u001b[0m\n\u001b[1;32m     62\u001b[0m \u001b[0;34m\u001b[0m\u001b[0m\n",
      "\u001b[0;32m~/anaconda3/lib/python3.7/site-packages/requests/sessions.py\u001b[0m in \u001b[0;36mrequest\u001b[0;34m(self, method, url, params, data, headers, cookies, files, auth, timeout, allow_redirects, proxies, hooks, stream, verify, cert, json)\u001b[0m\n\u001b[1;32m    531\u001b[0m         }\n\u001b[1;32m    532\u001b[0m         \u001b[0msend_kwargs\u001b[0m\u001b[0;34m.\u001b[0m\u001b[0mupdate\u001b[0m\u001b[0;34m(\u001b[0m\u001b[0msettings\u001b[0m\u001b[0;34m)\u001b[0m\u001b[0;34m\u001b[0m\u001b[0;34m\u001b[0m\u001b[0m\n\u001b[0;32m--> 533\u001b[0;31m         \u001b[0mresp\u001b[0m \u001b[0;34m=\u001b[0m \u001b[0mself\u001b[0m\u001b[0;34m.\u001b[0m\u001b[0msend\u001b[0m\u001b[0;34m(\u001b[0m\u001b[0mprep\u001b[0m\u001b[0;34m,\u001b[0m \u001b[0;34m**\u001b[0m\u001b[0msend_kwargs\u001b[0m\u001b[0;34m)\u001b[0m\u001b[0;34m\u001b[0m\u001b[0;34m\u001b[0m\u001b[0m\n\u001b[0m\u001b[1;32m    534\u001b[0m \u001b[0;34m\u001b[0m\u001b[0m\n\u001b[1;32m    535\u001b[0m         \u001b[0;32mreturn\u001b[0m \u001b[0mresp\u001b[0m\u001b[0;34m\u001b[0m\u001b[0;34m\u001b[0m\u001b[0m\n",
      "\u001b[0;32m~/anaconda3/lib/python3.7/site-packages/requests/sessions.py\u001b[0m in \u001b[0;36msend\u001b[0;34m(self, request, **kwargs)\u001b[0m\n\u001b[1;32m    644\u001b[0m \u001b[0;34m\u001b[0m\u001b[0m\n\u001b[1;32m    645\u001b[0m         \u001b[0;31m# Send the request\u001b[0m\u001b[0;34m\u001b[0m\u001b[0;34m\u001b[0m\u001b[0;34m\u001b[0m\u001b[0m\n\u001b[0;32m--> 646\u001b[0;31m         \u001b[0mr\u001b[0m \u001b[0;34m=\u001b[0m \u001b[0madapter\u001b[0m\u001b[0;34m.\u001b[0m\u001b[0msend\u001b[0m\u001b[0;34m(\u001b[0m\u001b[0mrequest\u001b[0m\u001b[0;34m,\u001b[0m \u001b[0;34m**\u001b[0m\u001b[0mkwargs\u001b[0m\u001b[0;34m)\u001b[0m\u001b[0;34m\u001b[0m\u001b[0;34m\u001b[0m\u001b[0m\n\u001b[0m\u001b[1;32m    647\u001b[0m \u001b[0;34m\u001b[0m\u001b[0m\n\u001b[1;32m    648\u001b[0m         \u001b[0;31m# Total elapsed time of the request (approximately)\u001b[0m\u001b[0;34m\u001b[0m\u001b[0;34m\u001b[0m\u001b[0;34m\u001b[0m\u001b[0m\n",
      "\u001b[0;32m~/anaconda3/lib/python3.7/site-packages/requests/adapters.py\u001b[0m in \u001b[0;36msend\u001b[0;34m(self, request, stream, timeout, verify, cert, proxies)\u001b[0m\n\u001b[1;32m    447\u001b[0m                     \u001b[0mdecode_content\u001b[0m\u001b[0;34m=\u001b[0m\u001b[0;32mFalse\u001b[0m\u001b[0;34m,\u001b[0m\u001b[0;34m\u001b[0m\u001b[0;34m\u001b[0m\u001b[0m\n\u001b[1;32m    448\u001b[0m                     \u001b[0mretries\u001b[0m\u001b[0;34m=\u001b[0m\u001b[0mself\u001b[0m\u001b[0;34m.\u001b[0m\u001b[0mmax_retries\u001b[0m\u001b[0;34m,\u001b[0m\u001b[0;34m\u001b[0m\u001b[0;34m\u001b[0m\u001b[0m\n\u001b[0;32m--> 449\u001b[0;31m                     \u001b[0mtimeout\u001b[0m\u001b[0;34m=\u001b[0m\u001b[0mtimeout\u001b[0m\u001b[0;34m\u001b[0m\u001b[0;34m\u001b[0m\u001b[0m\n\u001b[0m\u001b[1;32m    450\u001b[0m                 )\n\u001b[1;32m    451\u001b[0m \u001b[0;34m\u001b[0m\u001b[0m\n",
      "\u001b[0;32m~/anaconda3/lib/python3.7/site-packages/urllib3/connectionpool.py\u001b[0m in \u001b[0;36murlopen\u001b[0;34m(self, method, url, body, headers, retries, redirect, assert_same_host, timeout, pool_timeout, release_conn, chunked, body_pos, **response_kw)\u001b[0m\n\u001b[1;32m    598\u001b[0m                                                   \u001b[0mtimeout\u001b[0m\u001b[0;34m=\u001b[0m\u001b[0mtimeout_obj\u001b[0m\u001b[0;34m,\u001b[0m\u001b[0;34m\u001b[0m\u001b[0;34m\u001b[0m\u001b[0m\n\u001b[1;32m    599\u001b[0m                                                   \u001b[0mbody\u001b[0m\u001b[0;34m=\u001b[0m\u001b[0mbody\u001b[0m\u001b[0;34m,\u001b[0m \u001b[0mheaders\u001b[0m\u001b[0;34m=\u001b[0m\u001b[0mheaders\u001b[0m\u001b[0;34m,\u001b[0m\u001b[0;34m\u001b[0m\u001b[0;34m\u001b[0m\u001b[0m\n\u001b[0;32m--> 600\u001b[0;31m                                                   chunked=chunked)\n\u001b[0m\u001b[1;32m    601\u001b[0m \u001b[0;34m\u001b[0m\u001b[0m\n\u001b[1;32m    602\u001b[0m             \u001b[0;31m# If we're going to release the connection in ``finally:``, then\u001b[0m\u001b[0;34m\u001b[0m\u001b[0;34m\u001b[0m\u001b[0;34m\u001b[0m\u001b[0m\n",
      "\u001b[0;32m~/anaconda3/lib/python3.7/site-packages/urllib3/connectionpool.py\u001b[0m in \u001b[0;36m_make_request\u001b[0;34m(self, conn, method, url, timeout, chunked, **httplib_request_kw)\u001b[0m\n\u001b[1;32m    352\u001b[0m             \u001b[0mconn\u001b[0m\u001b[0;34m.\u001b[0m\u001b[0mrequest_chunked\u001b[0m\u001b[0;34m(\u001b[0m\u001b[0mmethod\u001b[0m\u001b[0;34m,\u001b[0m \u001b[0murl\u001b[0m\u001b[0;34m,\u001b[0m \u001b[0;34m**\u001b[0m\u001b[0mhttplib_request_kw\u001b[0m\u001b[0;34m)\u001b[0m\u001b[0;34m\u001b[0m\u001b[0;34m\u001b[0m\u001b[0m\n\u001b[1;32m    353\u001b[0m         \u001b[0;32melse\u001b[0m\u001b[0;34m:\u001b[0m\u001b[0;34m\u001b[0m\u001b[0;34m\u001b[0m\u001b[0m\n\u001b[0;32m--> 354\u001b[0;31m             \u001b[0mconn\u001b[0m\u001b[0;34m.\u001b[0m\u001b[0mrequest\u001b[0m\u001b[0;34m(\u001b[0m\u001b[0mmethod\u001b[0m\u001b[0;34m,\u001b[0m \u001b[0murl\u001b[0m\u001b[0;34m,\u001b[0m \u001b[0;34m**\u001b[0m\u001b[0mhttplib_request_kw\u001b[0m\u001b[0;34m)\u001b[0m\u001b[0;34m\u001b[0m\u001b[0;34m\u001b[0m\u001b[0m\n\u001b[0m\u001b[1;32m    355\u001b[0m \u001b[0;34m\u001b[0m\u001b[0m\n\u001b[1;32m    356\u001b[0m         \u001b[0;31m# Reset the timeout for the recv() on the socket\u001b[0m\u001b[0;34m\u001b[0m\u001b[0;34m\u001b[0m\u001b[0;34m\u001b[0m\u001b[0m\n",
      "\u001b[0;32m~/anaconda3/lib/python3.7/http/client.py\u001b[0m in \u001b[0;36mrequest\u001b[0;34m(self, method, url, body, headers, encode_chunked)\u001b[0m\n\u001b[1;32m   1227\u001b[0m                 encode_chunked=False):\n\u001b[1;32m   1228\u001b[0m         \u001b[0;34m\"\"\"Send a complete request to the server.\"\"\"\u001b[0m\u001b[0;34m\u001b[0m\u001b[0;34m\u001b[0m\u001b[0m\n\u001b[0;32m-> 1229\u001b[0;31m         \u001b[0mself\u001b[0m\u001b[0;34m.\u001b[0m\u001b[0m_send_request\u001b[0m\u001b[0;34m(\u001b[0m\u001b[0mmethod\u001b[0m\u001b[0;34m,\u001b[0m \u001b[0murl\u001b[0m\u001b[0;34m,\u001b[0m \u001b[0mbody\u001b[0m\u001b[0;34m,\u001b[0m \u001b[0mheaders\u001b[0m\u001b[0;34m,\u001b[0m \u001b[0mencode_chunked\u001b[0m\u001b[0;34m)\u001b[0m\u001b[0;34m\u001b[0m\u001b[0;34m\u001b[0m\u001b[0m\n\u001b[0m\u001b[1;32m   1230\u001b[0m \u001b[0;34m\u001b[0m\u001b[0m\n\u001b[1;32m   1231\u001b[0m     \u001b[0;32mdef\u001b[0m \u001b[0m_send_request\u001b[0m\u001b[0;34m(\u001b[0m\u001b[0mself\u001b[0m\u001b[0;34m,\u001b[0m \u001b[0mmethod\u001b[0m\u001b[0;34m,\u001b[0m \u001b[0murl\u001b[0m\u001b[0;34m,\u001b[0m \u001b[0mbody\u001b[0m\u001b[0;34m,\u001b[0m \u001b[0mheaders\u001b[0m\u001b[0;34m,\u001b[0m \u001b[0mencode_chunked\u001b[0m\u001b[0;34m)\u001b[0m\u001b[0;34m:\u001b[0m\u001b[0;34m\u001b[0m\u001b[0;34m\u001b[0m\u001b[0m\n",
      "\u001b[0;32m~/anaconda3/lib/python3.7/http/client.py\u001b[0m in \u001b[0;36m_send_request\u001b[0;34m(self, method, url, body, headers, encode_chunked)\u001b[0m\n\u001b[1;32m   1273\u001b[0m             \u001b[0;31m# default charset of iso-8859-1.\u001b[0m\u001b[0;34m\u001b[0m\u001b[0;34m\u001b[0m\u001b[0;34m\u001b[0m\u001b[0m\n\u001b[1;32m   1274\u001b[0m             \u001b[0mbody\u001b[0m \u001b[0;34m=\u001b[0m \u001b[0m_encode\u001b[0m\u001b[0;34m(\u001b[0m\u001b[0mbody\u001b[0m\u001b[0;34m,\u001b[0m \u001b[0;34m'body'\u001b[0m\u001b[0;34m)\u001b[0m\u001b[0;34m\u001b[0m\u001b[0;34m\u001b[0m\u001b[0m\n\u001b[0;32m-> 1275\u001b[0;31m         \u001b[0mself\u001b[0m\u001b[0;34m.\u001b[0m\u001b[0mendheaders\u001b[0m\u001b[0;34m(\u001b[0m\u001b[0mbody\u001b[0m\u001b[0;34m,\u001b[0m \u001b[0mencode_chunked\u001b[0m\u001b[0;34m=\u001b[0m\u001b[0mencode_chunked\u001b[0m\u001b[0;34m)\u001b[0m\u001b[0;34m\u001b[0m\u001b[0;34m\u001b[0m\u001b[0m\n\u001b[0m\u001b[1;32m   1276\u001b[0m \u001b[0;34m\u001b[0m\u001b[0m\n\u001b[1;32m   1277\u001b[0m     \u001b[0;32mdef\u001b[0m \u001b[0mgetresponse\u001b[0m\u001b[0;34m(\u001b[0m\u001b[0mself\u001b[0m\u001b[0;34m)\u001b[0m\u001b[0;34m:\u001b[0m\u001b[0;34m\u001b[0m\u001b[0;34m\u001b[0m\u001b[0m\n",
      "\u001b[0;32m~/anaconda3/lib/python3.7/http/client.py\u001b[0m in \u001b[0;36mendheaders\u001b[0;34m(self, message_body, encode_chunked)\u001b[0m\n\u001b[1;32m   1222\u001b[0m         \u001b[0;32melse\u001b[0m\u001b[0;34m:\u001b[0m\u001b[0;34m\u001b[0m\u001b[0;34m\u001b[0m\u001b[0m\n\u001b[1;32m   1223\u001b[0m             \u001b[0;32mraise\u001b[0m \u001b[0mCannotSendHeader\u001b[0m\u001b[0;34m(\u001b[0m\u001b[0;34m)\u001b[0m\u001b[0;34m\u001b[0m\u001b[0;34m\u001b[0m\u001b[0m\n\u001b[0;32m-> 1224\u001b[0;31m         \u001b[0mself\u001b[0m\u001b[0;34m.\u001b[0m\u001b[0m_send_output\u001b[0m\u001b[0;34m(\u001b[0m\u001b[0mmessage_body\u001b[0m\u001b[0;34m,\u001b[0m \u001b[0mencode_chunked\u001b[0m\u001b[0;34m=\u001b[0m\u001b[0mencode_chunked\u001b[0m\u001b[0;34m)\u001b[0m\u001b[0;34m\u001b[0m\u001b[0;34m\u001b[0m\u001b[0m\n\u001b[0m\u001b[1;32m   1225\u001b[0m \u001b[0;34m\u001b[0m\u001b[0m\n\u001b[1;32m   1226\u001b[0m     def request(self, method, url, body=None, headers={}, *,\n",
      "\u001b[0;32m~/anaconda3/lib/python3.7/http/client.py\u001b[0m in \u001b[0;36m_send_output\u001b[0;34m(self, message_body, encode_chunked)\u001b[0m\n\u001b[1;32m   1014\u001b[0m         \u001b[0mmsg\u001b[0m \u001b[0;34m=\u001b[0m \u001b[0;34mb\"\\r\\n\"\u001b[0m\u001b[0;34m.\u001b[0m\u001b[0mjoin\u001b[0m\u001b[0;34m(\u001b[0m\u001b[0mself\u001b[0m\u001b[0;34m.\u001b[0m\u001b[0m_buffer\u001b[0m\u001b[0;34m)\u001b[0m\u001b[0;34m\u001b[0m\u001b[0;34m\u001b[0m\u001b[0m\n\u001b[1;32m   1015\u001b[0m         \u001b[0;32mdel\u001b[0m \u001b[0mself\u001b[0m\u001b[0;34m.\u001b[0m\u001b[0m_buffer\u001b[0m\u001b[0;34m[\u001b[0m\u001b[0;34m:\u001b[0m\u001b[0;34m]\u001b[0m\u001b[0;34m\u001b[0m\u001b[0;34m\u001b[0m\u001b[0m\n\u001b[0;32m-> 1016\u001b[0;31m         \u001b[0mself\u001b[0m\u001b[0;34m.\u001b[0m\u001b[0msend\u001b[0m\u001b[0;34m(\u001b[0m\u001b[0mmsg\u001b[0m\u001b[0;34m)\u001b[0m\u001b[0;34m\u001b[0m\u001b[0;34m\u001b[0m\u001b[0m\n\u001b[0m\u001b[1;32m   1017\u001b[0m \u001b[0;34m\u001b[0m\u001b[0m\n\u001b[1;32m   1018\u001b[0m         \u001b[0;32mif\u001b[0m \u001b[0mmessage_body\u001b[0m \u001b[0;32mis\u001b[0m \u001b[0;32mnot\u001b[0m \u001b[0;32mNone\u001b[0m\u001b[0;34m:\u001b[0m\u001b[0;34m\u001b[0m\u001b[0;34m\u001b[0m\u001b[0m\n",
      "\u001b[0;32m~/anaconda3/lib/python3.7/http/client.py\u001b[0m in \u001b[0;36msend\u001b[0;34m(self, data)\u001b[0m\n\u001b[1;32m    954\u001b[0m         \u001b[0;32mif\u001b[0m \u001b[0mself\u001b[0m\u001b[0;34m.\u001b[0m\u001b[0msock\u001b[0m \u001b[0;32mis\u001b[0m \u001b[0;32mNone\u001b[0m\u001b[0;34m:\u001b[0m\u001b[0;34m\u001b[0m\u001b[0;34m\u001b[0m\u001b[0m\n\u001b[1;32m    955\u001b[0m             \u001b[0;32mif\u001b[0m \u001b[0mself\u001b[0m\u001b[0;34m.\u001b[0m\u001b[0mauto_open\u001b[0m\u001b[0;34m:\u001b[0m\u001b[0;34m\u001b[0m\u001b[0;34m\u001b[0m\u001b[0m\n\u001b[0;32m--> 956\u001b[0;31m                 \u001b[0mself\u001b[0m\u001b[0;34m.\u001b[0m\u001b[0mconnect\u001b[0m\u001b[0;34m(\u001b[0m\u001b[0;34m)\u001b[0m\u001b[0;34m\u001b[0m\u001b[0;34m\u001b[0m\u001b[0m\n\u001b[0m\u001b[1;32m    957\u001b[0m             \u001b[0;32melse\u001b[0m\u001b[0;34m:\u001b[0m\u001b[0;34m\u001b[0m\u001b[0;34m\u001b[0m\u001b[0m\n\u001b[1;32m    958\u001b[0m                 \u001b[0;32mraise\u001b[0m \u001b[0mNotConnected\u001b[0m\u001b[0;34m(\u001b[0m\u001b[0;34m)\u001b[0m\u001b[0;34m\u001b[0m\u001b[0;34m\u001b[0m\u001b[0m\n",
      "\u001b[0;32m~/anaconda3/lib/python3.7/site-packages/urllib3/connection.py\u001b[0m in \u001b[0;36mconnect\u001b[0;34m(self)\u001b[0m\n\u001b[1;32m    179\u001b[0m \u001b[0;34m\u001b[0m\u001b[0m\n\u001b[1;32m    180\u001b[0m     \u001b[0;32mdef\u001b[0m \u001b[0mconnect\u001b[0m\u001b[0;34m(\u001b[0m\u001b[0mself\u001b[0m\u001b[0;34m)\u001b[0m\u001b[0;34m:\u001b[0m\u001b[0;34m\u001b[0m\u001b[0;34m\u001b[0m\u001b[0m\n\u001b[0;32m--> 181\u001b[0;31m         \u001b[0mconn\u001b[0m \u001b[0;34m=\u001b[0m \u001b[0mself\u001b[0m\u001b[0;34m.\u001b[0m\u001b[0m_new_conn\u001b[0m\u001b[0;34m(\u001b[0m\u001b[0;34m)\u001b[0m\u001b[0;34m\u001b[0m\u001b[0;34m\u001b[0m\u001b[0m\n\u001b[0m\u001b[1;32m    182\u001b[0m         \u001b[0mself\u001b[0m\u001b[0;34m.\u001b[0m\u001b[0m_prepare_conn\u001b[0m\u001b[0;34m(\u001b[0m\u001b[0mconn\u001b[0m\u001b[0;34m)\u001b[0m\u001b[0;34m\u001b[0m\u001b[0;34m\u001b[0m\u001b[0m\n\u001b[1;32m    183\u001b[0m \u001b[0;34m\u001b[0m\u001b[0m\n",
      "\u001b[0;32m~/anaconda3/lib/python3.7/site-packages/urllib3/connection.py\u001b[0m in \u001b[0;36m_new_conn\u001b[0;34m(self)\u001b[0m\n\u001b[1;32m    157\u001b[0m         \u001b[0;32mtry\u001b[0m\u001b[0;34m:\u001b[0m\u001b[0;34m\u001b[0m\u001b[0;34m\u001b[0m\u001b[0m\n\u001b[1;32m    158\u001b[0m             conn = connection.create_connection(\n\u001b[0;32m--> 159\u001b[0;31m                 (self._dns_host, self.port), self.timeout, **extra_kw)\n\u001b[0m\u001b[1;32m    160\u001b[0m \u001b[0;34m\u001b[0m\u001b[0m\n\u001b[1;32m    161\u001b[0m         \u001b[0;32mexcept\u001b[0m \u001b[0mSocketTimeout\u001b[0m \u001b[0;32mas\u001b[0m \u001b[0me\u001b[0m\u001b[0;34m:\u001b[0m\u001b[0;34m\u001b[0m\u001b[0;34m\u001b[0m\u001b[0m\n",
      "\u001b[0;32m~/anaconda3/lib/python3.7/site-packages/urllib3/util/connection.py\u001b[0m in \u001b[0;36mcreate_connection\u001b[0;34m(address, timeout, source_address, socket_options)\u001b[0m\n\u001b[1;32m     68\u001b[0m             \u001b[0;32mif\u001b[0m \u001b[0msource_address\u001b[0m\u001b[0;34m:\u001b[0m\u001b[0;34m\u001b[0m\u001b[0;34m\u001b[0m\u001b[0m\n\u001b[1;32m     69\u001b[0m                 \u001b[0msock\u001b[0m\u001b[0;34m.\u001b[0m\u001b[0mbind\u001b[0m\u001b[0;34m(\u001b[0m\u001b[0msource_address\u001b[0m\u001b[0;34m)\u001b[0m\u001b[0;34m\u001b[0m\u001b[0;34m\u001b[0m\u001b[0m\n\u001b[0;32m---> 70\u001b[0;31m             \u001b[0msock\u001b[0m\u001b[0;34m.\u001b[0m\u001b[0mconnect\u001b[0m\u001b[0;34m(\u001b[0m\u001b[0msa\u001b[0m\u001b[0;34m)\u001b[0m\u001b[0;34m\u001b[0m\u001b[0;34m\u001b[0m\u001b[0m\n\u001b[0m\u001b[1;32m     71\u001b[0m             \u001b[0;32mreturn\u001b[0m \u001b[0msock\u001b[0m\u001b[0;34m\u001b[0m\u001b[0;34m\u001b[0m\u001b[0m\n\u001b[1;32m     72\u001b[0m \u001b[0;34m\u001b[0m\u001b[0m\n",
      "\u001b[0;31mKeyboardInterrupt\u001b[0m: "
     ]
    }
   ],
   "source": [
    "txPool = requests.get(host+'/getTxPool')\n",
    "txPool"
   ]
  },
  {
   "cell_type": "code",
   "execution_count": null,
   "metadata": {},
   "outputs": [],
   "source": [
    "txPool.content"
   ]
  },
  {
   "cell_type": "code",
   "execution_count": 30,
   "metadata": {},
   "outputs": [
    {
     "data": {
      "text/plain": [
       "b'{\"chain\":[{\"index\":1,\"previousHash\":\"9c3b78de7eb0066418a682aec7d0e6841cd5cbe70d71ae65309d4917cd1c5681\",\"proof\":42,\"timestamp\":1629032178.368946,\"transactions\":[\"ascl,sdc,d[v,[d,vsdcaaxasx]]\",\"lv,sldc,sdc ;,d;d\"]}],\"length\":1}\\n'"
      ]
     },
     "execution_count": 30,
     "metadata": {},
     "output_type": "execute_result"
    }
   ],
   "source": [
    "chain = requests.get(host+'/chain').content\n",
    "chain"
   ]
  },
  {
   "cell_type": "code",
   "execution_count": 20,
   "metadata": {},
   "outputs": [
    {
     "data": {
      "text/plain": [
       "b'{\"nodes\": [\"0.0.0.0:5001\"]}'"
      ]
     },
     "execution_count": 20,
     "metadata": {},
     "output_type": "execute_result"
    }
   ],
   "source": [
    "nodes = requests.get(host+'/nodes/getNodes').content\n",
    "nodes"
   ]
  },
  {
   "cell_type": "code",
   "execution_count": 15,
   "metadata": {},
   "outputs": [
    {
     "data": {
      "text/plain": [
       "b'{\"message\":\"New nodes have been added\",\"total_nodes\":[\"0.0.0.0:5001\"]}\\n'"
      ]
     },
     "execution_count": 15,
     "metadata": {},
     "output_type": "execute_result"
    }
   ],
   "source": [
    "newNode = requests.post(host+'/nodes/register', json={'nodes':['http://0.0.0.0:5001']}).content\n",
    "newNode"
   ]
  },
  {
   "cell_type": "code",
   "execution_count": null,
   "metadata": {},
   "outputs": [],
   "source": []
  },
  {
   "cell_type": "code",
   "execution_count": 61,
   "metadata": {},
   "outputs": [
    {
     "data": {
      "text/plain": [
       "b'{\"MSG\":2}\\n'"
      ]
     },
     "execution_count": 61,
     "metadata": {},
     "output_type": "execute_result"
    }
   ],
   "source": [
    "respond = requests.get(host+'/nodes/getChainFilesAmount').content\n",
    "respond"
   ]
  },
  {
   "cell_type": "code",
   "execution_count": 66,
   "metadata": {},
   "outputs": [
    {
     "data": {
      "text/plain": [
       "{'Content-Disposition': 'attachment; filename=1629031331.json', 'Content-Length': '361', 'Content-Type': 'application/json', 'Last-Modified': 'Sun, 15 Aug 2021 12:42:11 GMT', 'Cache-Control': 'public, max-age=43200', 'Expires': 'Tue, 17 Aug 2021 00:47:54 GMT', 'ETag': '\"1629031331.106267-361-3308983641\"', 'Server': 'Werkzeug/0.16.0 Python/3.7.2', 'Date': 'Mon, 16 Aug 2021 12:47:54 GMT'}"
      ]
     },
     "execution_count": 66,
     "metadata": {},
     "output_type": "execute_result"
    }
   ],
   "source": [
    "respond = requests.post(host+'/nodes/sendChainData', json={'iter': 0}).headers\n",
    "respond"
   ]
  },
  {
   "cell_type": "code",
   "execution_count": 75,
   "metadata": {},
   "outputs": [
    {
     "data": {
      "text/plain": [
       "<Response [200]>"
      ]
     },
     "execution_count": 75,
     "metadata": {},
     "output_type": "execute_result"
    }
   ],
   "source": [
    "respond = requests.post(host+'/nodes/sendChainData', json={'iter': 1})\n",
    "respond"
   ]
  },
  {
   "cell_type": "code",
   "execution_count": 81,
   "metadata": {},
   "outputs": [
    {
     "data": {
      "text/plain": [
       "'1629032179.json'"
      ]
     },
     "execution_count": 81,
     "metadata": {},
     "output_type": "execute_result"
    }
   ],
   "source": [
    "fileName = re.split(r'; filename=', respond.headers['Content-Disposition'])[1]\n",
    "fileName"
   ]
  },
  {
   "cell_type": "code",
   "execution_count": 46,
   "metadata": {},
   "outputs": [
    {
     "name": "stdout",
     "output_type": "stream",
     "text": [
      "good\n"
     ]
    }
   ],
   "source": [
    "if request.status_code == 200:\n",
    "    print('good')"
   ]
  },
  {
   "cell_type": "code",
   "execution_count": 85,
   "metadata": {},
   "outputs": [
    {
     "data": {
      "text/plain": [
       "set()"
      ]
     },
     "execution_count": 85,
     "metadata": {},
     "output_type": "execute_result"
    }
   ],
   "source": [
    "lst = []\n",
    "s = {i for i in lst if len(lst)>0}\n",
    "s"
   ]
  },
  {
   "cell_type": "code",
   "execution_count": 86,
   "metadata": {},
   "outputs": [],
   "source": [
    "for node in s:\n",
    "    print(node)"
   ]
  },
  {
   "cell_type": "code",
   "execution_count": null,
   "metadata": {},
   "outputs": [],
   "source": []
  },
  {
   "cell_type": "markdown",
   "metadata": {},
   "source": [
    "### Test New Transactions System"
   ]
  },
  {
   "cell_type": "code",
   "execution_count": 134,
   "metadata": {},
   "outputs": [
    {
     "data": {
      "text/plain": [
       "b'{\"msg\":\"Transaction will be added to Block 2\"}\\n'"
      ]
     },
     "execution_count": 134,
     "metadata": {},
     "output_type": "execute_result"
    }
   ],
   "source": [
    "tx = {\n",
    "    'type': 'common',\n",
    "    'symbol': 'btc',\n",
    "    'contract': 'btc',\n",
    "    'sender': 'Selderey',\n",
    "    'recipient': 'Makovka',\n",
    "    'sendAmount':6.22,\n",
    "    'comissionAmount': 3 \n",
    "}\n",
    "\n",
    "request = requests.post('http://0.0.0.0:5000/transactions/new', json=tx).content\n",
    "request"
   ]
  },
  {
   "cell_type": "code",
   "execution_count": 158,
   "metadata": {},
   "outputs": [
    {
     "data": {
      "text/plain": [
       "b'{\"txPool\":[]}\\n'"
      ]
     },
     "execution_count": 158,
     "metadata": {},
     "output_type": "execute_result"
    }
   ],
   "source": [
    "txPool = requests.get('http://0.0.0.0:5000/getTxPool').content\n",
    "txPool"
   ]
  },
  {
   "cell_type": "code",
   "execution_count": 175,
   "metadata": {},
   "outputs": [
    {
     "data": {
      "text/plain": [
       "b'{\"index\":2,\"message\":\"New Block Forged\",\"previous_hash\":\"468095a1151ef337794e03ec6ad360fcc305b24a32bd1ea01a1b0fb9267ff712\",\"proof\":35293,\"transactions\":[{\"comissionAmount\":1.0,\"contract\":null,\"price\":0.0,\"recieveAmount\":null,\"recipient\":\"6257bc266e88480cbcd6418ab0dfa39d\",\"sendAmount\":1,\"sender\":\"0\",\"symbol\":\"zsh\",\"timestamp\":1628685557.224318,\"tradeTxId\":null},{\"comissionAmount\":1.0,\"contract\":\"btc\",\"price\":30000.0,\"recieveAmount\":30000.0,\"recipient\":\"him\",\"sendAmount\":1.0,\"sender\":\"me\",\"symbol\":\"btc/usdt\",\"timestamp\":1628685557.224583,\"tradeTxId\":\"59af6324d5a53eba8a56243530ea2c25f1ca224a65eed04c0644f74e7347c38e\"},{\"comissionAmount\":0.9090909090909091,\"contract\":\"usdt\",\"price\":30000.0,\"recieveAmount\":1.0,\"recipient\":\"me\",\"sendAmount\":30000.0,\"sender\":\"him\",\"symbol\":\"btc/usdt\",\"timestamp\":1628685557.22459,\"tradeTxId\":\"f3f99e129e2e1691c7e7eeb8f0e4f1df4b5592e9f82d935f8d36f62cd3009c06\"}]}\\n'"
      ]
     },
     "execution_count": 175,
     "metadata": {},
     "output_type": "execute_result"
    }
   ],
   "source": [
    "mineRequest = requests.get('http://0.0.0.0:5000/mine').content\n",
    "mineRequest"
   ]
  },
  {
   "cell_type": "code",
   "execution_count": 173,
   "metadata": {},
   "outputs": [
    {
     "data": {
      "text/plain": [
       "b'{\"msg\":\"Transaction will be added to Block 2\"}\\n'"
      ]
     },
     "execution_count": 173,
     "metadata": {},
     "output_type": "execute_result"
    }
   ],
   "source": [
    "tradeTx = {\n",
    "    'type': 'trade',\n",
    "    'sender': 'me',\n",
    "    'symbol': 'btc/usdt',\n",
    "    'price': 30000.0,\n",
    "    'send': 'btc',\n",
    "    'sendVol': 2.0,\n",
    "    'get': 'usdt',\n",
    "    'getVol': 60000.0,\n",
    "    'comissionAmount':2\n",
    "}\n",
    "\n",
    "request = requests.post('http://0.0.0.0:5000/transactions/new', json=tradeTx).content\n",
    "request"
   ]
  },
  {
   "cell_type": "code",
   "execution_count": 174,
   "metadata": {},
   "outputs": [
    {
     "data": {
      "text/plain": [
       "b'{\"msg\":\"Transaction will be added to Block 2\"}\\n'"
      ]
     },
     "execution_count": 174,
     "metadata": {},
     "output_type": "execute_result"
    }
   ],
   "source": [
    "tradeTx = {\n",
    "    'type': 'trade',\n",
    "    'sender': 'him',\n",
    "    'symbol': 'btc/usdt',\n",
    "    'price': 33000.0,\n",
    "    'send': 'usdt',\n",
    "    'sendVol': 33000.0,\n",
    "    'get': 'btc',\n",
    "    'getVol': 1.0,\n",
    "    'comissionAmount':1\n",
    "}\n",
    "\n",
    "request = requests.post('http://0.0.0.0:5000/transactions/new', json=tradeTx).content\n",
    "request"
   ]
  },
  {
   "cell_type": "code",
   "execution_count": 176,
   "metadata": {},
   "outputs": [
    {
     "data": {
      "text/plain": [
       "b'{\"tradeOrders\":[{\"comissionAmount\":2.0,\"get\":\"usdt\",\"getVol\":30000.0,\"price\":30000.0,\"send\":\"btc\",\"sendVol\":1.0,\"sender\":\"me\",\"symbol\":\"btc/usdt\",\"timestamp\":1628685550.766065,\"tradeTxId\":\"59af6324d5a53eba8a56243530ea2c25f1ca224a65eed04c0644f74e7347c38e\"}]}\\n'"
      ]
     },
     "execution_count": 176,
     "metadata": {},
     "output_type": "execute_result"
    }
   ],
   "source": [
    "ordersPool = requests.get('http://0.0.0.0:5000/getTradeOrders').content\n",
    "ordersPool"
   ]
  },
  {
   "cell_type": "code",
   "execution_count": null,
   "metadata": {},
   "outputs": [],
   "source": []
  },
  {
   "cell_type": "markdown",
   "metadata": {},
   "source": [
    "### Orders Pool"
   ]
  },
  {
   "cell_type": "code",
   "execution_count": 53,
   "metadata": {
    "scrolled": true
   },
   "outputs": [
    {
     "data": {
      "text/plain": [
       "[{'sender': 'boy',\n",
       "  'symbol': 'btc/dai',\n",
       "  'price': 30000.0,\n",
       "  'send': 'btc',\n",
       "  'sendVol': 1.0,\n",
       "  'get': 'dai',\n",
       "  'getVol': 30000.0},\n",
       " {'sender': 'man',\n",
       "  'symbol': 'btc/dai',\n",
       "  'price': 33333.33,\n",
       "  'send': 'dai',\n",
       "  'sendVol': 15000.0,\n",
       "  'get': 'btc',\n",
       "  'getVol': 0.45},\n",
       " {'sender': 'girl',\n",
       "  'symbol': 'eth/dai',\n",
       "  'price': 2600.0,\n",
       "  'send': 'eth',\n",
       "  'sendVol': 1.0,\n",
       "  'get': 'dai',\n",
       "  'getVol': 2600.0},\n",
       " {'sender': 'woman',\n",
       "  'symbol': 'eth/dai',\n",
       "  'price': 2750.0,\n",
       "  'send': 'dai',\n",
       "  'sendVol': 1650.0,\n",
       "  'get': 'eth',\n",
       "  'getVol': 0.6},\n",
       " {'sender': 'oldlady',\n",
       "  'symbol': 'zcash/dai',\n",
       "  'price': 500.0,\n",
       "  'send': 'zcash',\n",
       "  'sendVol': 1.0,\n",
       "  'get': 'dai',\n",
       "  'getVol': 500.0},\n",
       " {'sender': 'bug',\n",
       "  'symbol': 'uni/dai',\n",
       "  'price': 24.0,\n",
       "  'send': 'uni',\n",
       "  'sendVol': 1.0,\n",
       "  'get': 'dai',\n",
       "  'getVol': 24.0},\n",
       " {'sender': 'loft',\n",
       "  'symbol': 'uni/usdt',\n",
       "  'price': 24.0,\n",
       "  'send': 'usdt',\n",
       "  'sendVol': 24.0,\n",
       "  'get': 'uni',\n",
       "  'getVol': 1.0}]"
      ]
     },
     "execution_count": 53,
     "metadata": {},
     "output_type": "execute_result"
    }
   ],
   "source": [
    "testLst = [ {\n",
    "    'sender': 'boy',\n",
    "    'symbol': 'btc/dai',\n",
    "    'price': 30000.0,\n",
    "    'send': 'btc',\n",
    "    'sendVol': 1.0,\n",
    "    'get': 'dai',\n",
    "    'getVol': 30000.0,\n",
    "   \n",
    "},\n",
    "\n",
    " {\n",
    "    'sender':'man',\n",
    "     'symbol': 'btc/dai',\n",
    "     'price': 33333.33,\n",
    "    'send': 'dai',\n",
    "    'sendVol': 15000.0,\n",
    "    'get': 'btc',\n",
    "    'getVol': 0.45,\n",
    "   \n",
    "},\n",
    "\n",
    " {\n",
    "    'sender':'girl',\n",
    "     'symbol': 'eth/dai',\n",
    "     'price': 2600.0,\n",
    "    'send': 'eth',\n",
    "    'sendVol': 1.0,\n",
    "    'get': 'dai',\n",
    "    'getVol': 2600.0,\n",
    "   \n",
    "},\n",
    "\n",
    " {\n",
    "    'sender':'woman',\n",
    "     'symbol': 'eth/dai',\n",
    "     'price': 2750.0,\n",
    "    'send': 'dai',\n",
    "    'sendVol': 1650.0,\n",
    "    'get': 'eth',\n",
    "    'getVol': 0.6,\n",
    "   \n",
    "},\n",
    "{\n",
    "    'sender':'oldlady',\n",
    "    'symbol': 'zcash/dai',\n",
    "    'price': 500.0,\n",
    "    'send': 'zcash',\n",
    "    'sendVol': 1.0,\n",
    "    'get': 'dai',\n",
    "    'getVol': 500.0,\n",
    "   \n",
    "},\n",
    "{\n",
    "    'sender':'bug',\n",
    "    'symbol': 'uni/dai',\n",
    "    'price': 24.0,\n",
    "    'send': 'uni',\n",
    "    'sendVol': 1.0,\n",
    "    'get': 'dai',\n",
    "    'getVol': 24.0,\n",
    "},\n",
    "{\n",
    "    'sender':'loft',\n",
    "    'symbol': 'uni/usdt',\n",
    "    'price': 24.0,\n",
    "    'send': 'usdt',\n",
    "    'sendVol': 24.0,\n",
    "    'get': 'uni',\n",
    "    'getVol': 1.0,\n",
    "}\n",
    "]\n",
    "\n",
    "testLst"
   ]
  },
  {
   "cell_type": "markdown",
   "metadata": {},
   "source": [
    "### Matching System"
   ]
  },
  {
   "cell_type": "code",
   "execution_count": 54,
   "metadata": {},
   "outputs": [
    {
     "data": {
      "text/plain": [
       "[('boy', 'btc/dai', 'btc', 'dai', 30000.0),\n",
       " ('man', 'btc/dai', 'dai', 'btc', 33333.33),\n",
       " ('woman', 'eth/dai', 'dai', 'eth', 2750.0),\n",
       " ('girl', 'eth/dai', 'eth', 'dai', 2600.0),\n",
       " ('bug', 'uni/dai', 'uni', 'dai', 24.0),\n",
       " ('loft', 'uni/usdt', 'usdt', 'uni', 24.0),\n",
       " ('oldlady', 'zcash/dai', 'zcash', 'dai', 500.0)]"
      ]
     },
     "execution_count": 54,
     "metadata": {},
     "output_type": "execute_result"
    }
   ],
   "source": [
    "sybmolSortedLst = sorted([(testLst[i]['sender'],testLst[i]['symbol'],testLst[i]['send'],testLst[i]['get'],\\\n",
    "                           testLst[i]['price'],)\\\n",
    "                          for i in range(len(testLst))], key=itemgetter(1, 2))\n",
    "\n",
    "sybmolSortedLst"
   ]
  },
  {
   "cell_type": "code",
   "execution_count": 55,
   "metadata": {},
   "outputs": [
    {
     "data": {
      "text/plain": [
       "[(('boy', 'btc/dai', 'btc', 'dai', 30000.0),\n",
       "  ('man', 'btc/dai', 'dai', 'btc', 33333.33)),\n",
       " (('woman', 'eth/dai', 'dai', 'eth', 2750.0),\n",
       "  ('girl', 'eth/dai', 'eth', 'dai', 2600.0))]"
      ]
     },
     "execution_count": 55,
     "metadata": {},
     "output_type": "execute_result"
    }
   ],
   "source": [
    "mathchedOrders = []\n",
    "for i in range(len(sybmolSortedLst)-1):\n",
    "    if (sybmolSortedLst[i][2] == sybmolSortedLst[i+1][3]) and (sybmolSortedLst[i][3] == sybmolSortedLst[i+1][2]) :\n",
    "        \n",
    "        # Split symbol and define direction and price matching\n",
    "        splittedSymbol1 = re.split(r'/', sybmolSortedLst[i][1])[0]\n",
    "        splittedSymbol2 = re.split(r'/', sybmolSortedLst[i+1][1])[0]\n",
    "        \n",
    "        if ((splittedSymbol1 == sybmolSortedLst[i][2] and splittedSymbol2 == sybmolSortedLst[i+1][3]) \\\n",
    "            and (sybmolSortedLst[i][-1] <= sybmolSortedLst[i+1][-1])) \\\n",
    "            or ((splittedSymbol1 == sybmolSortedLst[i][3] and splittedSymbol2 == sybmolSortedLst[i+1][2])\\\n",
    "               and (sybmolSortedLst[i][-1] >= sybmolSortedLst[i+1][-1])):\n",
    "        \n",
    "            mathchedOrders.append((sybmolSortedLst[i], sybmolSortedLst[i+1],))\n",
    "\n",
    "mathchedOrders"
   ]
  },
  {
   "cell_type": "markdown",
   "metadata": {},
   "source": [
    "### Transaction System"
   ]
  },
  {
   "cell_type": "code",
   "execution_count": 56,
   "metadata": {},
   "outputs": [
    {
     "data": {
      "text/plain": [
       "[{'timestamp': 1628673995.017817,\n",
       "  'symbol': 'btc/dai',\n",
       "  'contract': 'btc',\n",
       "  'sender': 'boy',\n",
       "  'recipient': 'man',\n",
       "  'sendAmount': 0.45,\n",
       "  'recieveAmount': 13500.0,\n",
       "  'price': 30000.0},\n",
       " {'timestamp': 1628673995.017819,\n",
       "  'symbol': 'btc/dai',\n",
       "  'contract': 'dai',\n",
       "  'sender': 'man',\n",
       "  'recipient': 'boy',\n",
       "  'sendAmount': 13500.0,\n",
       "  'recieveAmount': 0.45,\n",
       "  'price': 30000.0},\n",
       " {'timestamp': 1628673995.0178308,\n",
       "  'symbol': 'eth/dai',\n",
       "  'contract': 'eth',\n",
       "  'sender': 'girl',\n",
       "  'recipient': 'woman',\n",
       "  'sendAmount': 0.6,\n",
       "  'recieveAmount': 1560.0,\n",
       "  'price': 2600.0},\n",
       " {'timestamp': 1628673995.017832,\n",
       "  'symbol': 'eth/dai',\n",
       "  'contract': 'dai',\n",
       "  'sender': 'woman',\n",
       "  'recipient': 'girl',\n",
       "  'sendAmount': 1560.0,\n",
       "  'recieveAmount': 0.6,\n",
       "  'price': 2600.0}]"
      ]
     },
     "execution_count": 56,
     "metadata": {},
     "output_type": "execute_result"
    }
   ],
   "source": [
    "commonTxs = []\n",
    "\n",
    "# Get matched orders\n",
    "txDir = {}\n",
    "for i in range(len(mathchedOrders)):\n",
    "    tempLst = [mathchedOrders[i][0][0], mathchedOrders[i][1][0]]\n",
    "    txTempLst=[order for order in testLst if order['sender'] in tempLst]\n",
    "    txDir[f'tx_{i}'] = txTempLst\n",
    "    \n",
    "# Calculate txs amount\n",
    "txKeys = list(txDir.keys())\n",
    "for j in range(len(txKeys)):\n",
    "    tradeTxs = txDir[txKeys[j]]\n",
    "    \n",
    "    symbolSplitted = re.split(r'/', tradeTxs[0]['symbol'])[0]\n",
    "\n",
    "    if tradeTxs[0]['send'] == symbolSplitted:\n",
    "\n",
    "        tradePrice = tradeTxs[0]['price']\n",
    "        seller = tradeTxs[0]\n",
    "        buyer = tradeTxs[1]\n",
    "\n",
    "        sellSendAddress = seller['sender']\n",
    "        sellRecieveAddress = buyer['sender']\n",
    "        sellSendToken = seller['send']\n",
    "        sellSendAmount = min(seller['sendVol'], buyer['getVol'])\n",
    "\n",
    "        buySendAddress = buyer['sender']\n",
    "        buyRecieveAddress = seller['sender']\n",
    "        buySendToken = seller['get']\n",
    "        buySendAmount = sellSendAmount*tradePrice\n",
    "\n",
    "        tradeSellTx = {\n",
    "            'timestamp': time(),\n",
    "            'symbol': seller['symbol'],\n",
    "            'contract': symbolSplitted,\n",
    "            'sender': sellSendAddress,\n",
    "            'recipient': buySendAddress,\n",
    "            'sendAmount': sellSendAmount,\n",
    "            'recieveAmount': buySendAmount,\n",
    "            'price': tradePrice\n",
    "        }\n",
    "\n",
    "\n",
    "        tradeBuyTx = {\n",
    "            'timestamp': time(),\n",
    "            'symbol': seller['symbol'],\n",
    "            'contract': re.split(r'/', seller['symbol'])[1],\n",
    "            'sender': buySendAddress,\n",
    "            'recipient': sellSendAddress,\n",
    "            'sendAmount': buySendAmount,\n",
    "            'recieveAmount': sellSendAmount,\n",
    "            'price': tradePrice\n",
    "        }\n",
    "        \n",
    "        # Decrease order vols; Fill (aka delete from trade pool) order if vols == 0\n",
    "        txDir[txKeys[j]][0]['sendVol'] -= sellSendAmount\n",
    "        txDir[txKeys[j]][0]['getVol'] -= buySendAmount\n",
    "        \n",
    "        txDir[txKeys[j]][1]['sendVol'] -= buySendAmount\n",
    "        txDir[txKeys[j]][1]['getVol'] -= sellSendAmount\n",
    "        \n",
    "        \n",
    "\n",
    "    elif tradeTxs[0]['get'] == symbolSplitted:\n",
    "\n",
    "        tradePrice = tradeTxs[0]['price']\n",
    "        seller = tradeTxs[1]\n",
    "        buyer = tradeTxs[0]\n",
    "\n",
    "        sellSendAddress = seller['sender']\n",
    "        sellRecieveAddress = buyer['sender']\n",
    "        sellSendToken = seller['send']\n",
    "        sellSendAmount = min(seller['sendVol'], buyer['getVol'])\n",
    "\n",
    "        buySendAddress = buyer['sender']\n",
    "        buyRecieveAddress = seller['sender']\n",
    "        buySendToken = seller['get']\n",
    "        buySendAmount = sellSendAmount*tradePrice\n",
    "\n",
    "        tradeSellTx = {\n",
    "            'timestamp': time(),\n",
    "            'symbol': seller['symbol'],\n",
    "            'contract': symbolSplitted,\n",
    "            'sender': sellSendAddress,\n",
    "            'recipient': buySendAddress,\n",
    "            'sendAmount': sellSendAmount,\n",
    "            'recieveAmount': buySendAmount,\n",
    "            'price': tradePrice\n",
    "        }\n",
    "\n",
    "\n",
    "        tradeBuyTx = {\n",
    "            'timestamp': time(),\n",
    "            'symbol': seller['symbol'],\n",
    "            'contract': re.split(r'/', seller['symbol'])[1],\n",
    "            'sender': buySendAddress,\n",
    "            'recipient': sellSendAddress,\n",
    "            'sendAmount': buySendAmount,\n",
    "            'recieveAmount': sellSendAmount,\n",
    "            'price': tradePrice\n",
    "        }\n",
    "        \n",
    "        # Decrease order vols; Fill (aka delete from trade pool) order if vols == 0\n",
    "        txDir[txKeys[j]][1]['sendVol'] -= sellSendAmount\n",
    "        txDir[txKeys[j]][1]['getVol'] -= buySendAmount\n",
    "        \n",
    "        txDir[txKeys[j]][0]['sendVol'] -= buySendAmount\n",
    "        txDir[txKeys[j]][0]['getVol'] -= sellSendAmount\n",
    "                 \n",
    "       \n",
    "    # Form tx and send it to common pool\n",
    "    commonTxs.append(tradeSellTx)\n",
    "    commonTxs.append(tradeBuyTx)\n",
    "    \n",
    "# Remove zero getVol transactions from tradeTxs pool  \n",
    "txDirKeys = list(txDir.keys())\n",
    "toRemove = []\n",
    "\n",
    "for key in txDirKeys:\n",
    "    toRemoveTemp = [order for i,order in enumerate(txDir[key]) if order['getVol']==0]\n",
    "    if len(toRemoveTemp) > 0:\n",
    "        toRemove.append(toRemoveTemp[0])\n",
    "\n",
    "for removeOrder in toRemove:\n",
    "    testLst.remove(removeOrder)\n",
    "\n",
    "commonTxs\n"
   ]
  },
  {
   "cell_type": "code",
   "execution_count": 32,
   "metadata": {},
   "outputs": [
    {
     "data": {
      "text/plain": [
       "{'tx_0': [{'sender': 'boy',\n",
       "   'symbol': 'btc/dai',\n",
       "   'price': 30000.0,\n",
       "   'send': 'btc',\n",
       "   'sendVol': 0.55,\n",
       "   'get': 'dai',\n",
       "   'getVol': 16500.0},\n",
       "  {'sender': 'man',\n",
       "   'symbol': 'btc/dai',\n",
       "   'price': 33333.33,\n",
       "   'send': 'dai',\n",
       "   'sendVol': 1500.0,\n",
       "   'get': 'btc',\n",
       "   'getVol': 0.0}],\n",
       " 'tx_1': [{'sender': 'girl',\n",
       "   'symbol': 'eth/dai',\n",
       "   'price': 2600.0,\n",
       "   'send': 'eth',\n",
       "   'sendVol': 0.4,\n",
       "   'get': 'dai',\n",
       "   'getVol': 1040.0},\n",
       "  {'sender': 'woman',\n",
       "   'symbol': 'eth/dai',\n",
       "   'price': 2750.0,\n",
       "   'send': 'dai',\n",
       "   'sendVol': 90.0,\n",
       "   'get': 'eth',\n",
       "   'getVol': 0.0}]}"
      ]
     },
     "execution_count": 32,
     "metadata": {},
     "output_type": "execute_result"
    }
   ],
   "source": [
    "txDir"
   ]
  },
  {
   "cell_type": "code",
   "execution_count": 57,
   "metadata": {},
   "outputs": [
    {
     "data": {
      "text/plain": [
       "[{'sender': 'boy',\n",
       "  'symbol': 'btc/dai',\n",
       "  'price': 30000.0,\n",
       "  'send': 'btc',\n",
       "  'sendVol': 0.55,\n",
       "  'get': 'dai',\n",
       "  'getVol': 16500.0},\n",
       " {'sender': 'girl',\n",
       "  'symbol': 'eth/dai',\n",
       "  'price': 2600.0,\n",
       "  'send': 'eth',\n",
       "  'sendVol': 0.4,\n",
       "  'get': 'dai',\n",
       "  'getVol': 1040.0},\n",
       " {'sender': 'oldlady',\n",
       "  'symbol': 'zcash/dai',\n",
       "  'price': 500.0,\n",
       "  'send': 'zcash',\n",
       "  'sendVol': 1.0,\n",
       "  'get': 'dai',\n",
       "  'getVol': 500.0},\n",
       " {'sender': 'bug',\n",
       "  'symbol': 'uni/dai',\n",
       "  'price': 24.0,\n",
       "  'send': 'uni',\n",
       "  'sendVol': 1.0,\n",
       "  'get': 'dai',\n",
       "  'getVol': 24.0},\n",
       " {'sender': 'loft',\n",
       "  'symbol': 'uni/usdt',\n",
       "  'price': 24.0,\n",
       "  'send': 'usdt',\n",
       "  'sendVol': 24.0,\n",
       "  'get': 'uni',\n",
       "  'getVol': 1.0}]"
      ]
     },
     "execution_count": 57,
     "metadata": {},
     "output_type": "execute_result"
    }
   ],
   "source": [
    "testLst"
   ]
  },
  {
   "cell_type": "code",
   "execution_count": null,
   "metadata": {},
   "outputs": [],
   "source": [
    "for tx in txDir:\n",
    "\n",
    "    toRemove = [order for i,order in enumerate(tx) if order['getVol']==0]\n",
    "\n",
    "    for removeDict in toRemove:\n",
    "        aList.remove(removeDict)\n",
    "\n",
    "    aList"
   ]
  },
  {
   "cell_type": "code",
   "execution_count": 18,
   "metadata": {},
   "outputs": [
    {
     "data": {
      "text/plain": [
       "[{'id': 'boy',\n",
       "  'symbol': 'btc/dai',\n",
       "  'price': 30000.0,\n",
       "  'send': 'btc',\n",
       "  'sendVol': 0.55,\n",
       "  'get': 'dai',\n",
       "  'getVol': 16500.0},\n",
       " {'id': 'girl',\n",
       "  'symbol': 'eth/dai',\n",
       "  'price': 2600.0,\n",
       "  'send': 'eth',\n",
       "  'sendVol': 0.4,\n",
       "  'get': 'dai',\n",
       "  'getVol': 1040.0},\n",
       " {'id': 'oldlady',\n",
       "  'symbol': 'zcash/dai',\n",
       "  'price': 500.0,\n",
       "  'send': 'zcash',\n",
       "  'sendVol': 1.0,\n",
       "  'get': 'dai',\n",
       "  'getVol': 500.0},\n",
       " {'id': 'bug',\n",
       "  'symbol': 'uni/dai',\n",
       "  'price': 24.0,\n",
       "  'send': 'uni',\n",
       "  'sendVol': 1.0,\n",
       "  'get': 'dai',\n",
       "  'getVol': 24.0},\n",
       " {'id': 'loft',\n",
       "  'symbol': 'uni/usdt',\n",
       "  'price': 24.0,\n",
       "  'send': 'usdt',\n",
       "  'sendVol': 24.0,\n",
       "  'get': 'uni',\n",
       "  'getVol': 1.0}]"
      ]
     },
     "execution_count": 18,
     "metadata": {},
     "output_type": "execute_result"
    }
   ],
   "source": [
    "txDirKeys = list(txDir.keys())\n",
    "toRemove = []\n",
    "\n",
    "for key in txDirKeys:\n",
    "    toRemoveTemp = [order for i,order in enumerate(txDir[key]) if order['getVol']==0]\n",
    "    toRemove.append(toRemoveTemp[0])\n",
    "\n",
    "for removeOrder in toRemove:\n",
    "    testLst.remove(removeOrder)\n",
    "    \n",
    "testLst"
   ]
  },
  {
   "cell_type": "code",
   "execution_count": null,
   "metadata": {},
   "outputs": [],
   "source": []
  },
  {
   "cell_type": "code",
   "execution_count": 7,
   "metadata": {},
   "outputs": [
    {
     "data": {
      "text/plain": [
       "{'timestamp': 1628665190.98132,\n",
       " 'symbol': 'eth/dai',\n",
       " 'contract': 'dai',\n",
       " 'sender': 'woman',\n",
       " 'receiver': 'girl',\n",
       " 'sentAmount': 1560.0,\n",
       " 'recieveAmount': 0.6,\n",
       " 'price': 2600.0}"
      ]
     },
     "execution_count": 7,
     "metadata": {},
     "output_type": "execute_result"
    }
   ],
   "source": [
    "tradeBuyTx"
   ]
  },
  {
   "cell_type": "code",
   "execution_count": 8,
   "metadata": {},
   "outputs": [
    {
     "data": {
      "text/plain": [
       "{'timestamp': 1628418258.835157,\n",
       " 'symbol': 'eth/dai',\n",
       " 'contract': 'eth',\n",
       " 'sender': 'girl',\n",
       " 'receiver': 'woman',\n",
       " 'sentAmount': 0.0,\n",
       " 'recieveAmount': 0.0,\n",
       " 'price': 2600.0}"
      ]
     },
     "execution_count": 8,
     "metadata": {},
     "output_type": "execute_result"
    }
   ],
   "source": [
    "tradeSellTx"
   ]
  },
  {
   "cell_type": "code",
   "execution_count": null,
   "metadata": {},
   "outputs": [],
   "source": []
  },
  {
   "cell_type": "code",
   "execution_count": 111,
   "metadata": {},
   "outputs": [
    {
     "data": {
      "text/plain": [
       "{'tx_0': [{'id': 'boy',\n",
       "   'symbol': 'btc/dai',\n",
       "   'price': 30000.0,\n",
       "   'send': 'btc',\n",
       "   'sendVol': 1.0,\n",
       "   'get': 'dai',\n",
       "   'getVol': 30000.0},\n",
       "  {'id': 'man',\n",
       "   'symbol': 'btc/dai',\n",
       "   'price': 33333.33,\n",
       "   'send': 'dai',\n",
       "   'sendVol': 15000.0,\n",
       "   'get': 'btc',\n",
       "   'getVol': 0.45}],\n",
       " 'tx_1': [{'id': 'girl',\n",
       "   'symbol': 'eth/dai',\n",
       "   'price': 2600.0,\n",
       "   'send': 'eth',\n",
       "   'sendVol': 1.0,\n",
       "   'get': 'dai',\n",
       "   'getVol': 2600.0},\n",
       "  {'id': 'woman',\n",
       "   'symbol': 'eth/dai',\n",
       "   'price': 2750.0,\n",
       "   'send': 'dai',\n",
       "   'sendVol': 1650.0,\n",
       "   'get': 'eth',\n",
       "   'getVol': 0.6}]}"
      ]
     },
     "execution_count": 111,
     "metadata": {},
     "output_type": "execute_result"
    }
   ],
   "source": [
    "txDir = {}\n",
    "for i in range(len(mathchedOrders)):\n",
    "    tempLst = [mathchedOrders[i][0][0], mathchedOrders[i][1][0]]\n",
    "    txTempLst=[order for order in testLst if order['id'] in tempLst]\n",
    "    txDir[f'tx_{i}'] = txTempLst\n",
    "\n",
    "txDir"
   ]
  },
  {
   "cell_type": "code",
   "execution_count": 112,
   "metadata": {},
   "outputs": [
    {
     "data": {
      "text/plain": [
       "[{'id': 'girl',\n",
       "  'symbol': 'eth/dai',\n",
       "  'price': 2600.0,\n",
       "  'send': 'eth',\n",
       "  'sendVol': 1.0,\n",
       "  'get': 'dai',\n",
       "  'getVol': 2600.0},\n",
       " {'id': 'woman',\n",
       "  'symbol': 'eth/dai',\n",
       "  'price': 2750.0,\n",
       "  'send': 'dai',\n",
       "  'sendVol': 1650.0,\n",
       "  'get': 'eth',\n",
       "  'getVol': 0.6}]"
      ]
     },
     "execution_count": 112,
     "metadata": {},
     "output_type": "execute_result"
    }
   ],
   "source": [
    "txKeys = list(txDir.keys())\n",
    "firstTx = txDir[txKeys[1]]\n",
    "firstTx"
   ]
  },
  {
   "cell_type": "code",
   "execution_count": 113,
   "metadata": {},
   "outputs": [
    {
     "data": {
      "text/plain": [
       "{'timestamp': 1628253892.8598552,\n",
       " 'symbol': 'eth/dai',\n",
       " 'contract': 'eth',\n",
       " 'sender': 'girl',\n",
       " 'receiver': 'woman',\n",
       " 'sentAmount': 0.6,\n",
       " 'recieveAmount': 1560.0,\n",
       " 'price': 2600.0}"
      ]
     },
     "execution_count": 113,
     "metadata": {},
     "output_type": "execute_result"
    }
   ],
   "source": [
    "symbolSplitted = re.split(r'/', firstTx[0]['symbol'])[0]\n",
    "\n",
    "if firstTx[0]['send'] == symbolSplitted:\n",
    "    \n",
    "    tradePrice = firstTx[0]['price']\n",
    "    seller = firstTx[0]\n",
    "    buyer = firstTx[1]\n",
    "    \n",
    "    sellSendAddress = seller['id']\n",
    "    sellRecieveAddress = buyer['id']\n",
    "    sellSendToken = seller['send']\n",
    "    sellSendAmount = min(seller['sendVol'], buyer['getVol'])\n",
    "    \n",
    "    buySendAddress = buyer['id']\n",
    "    buyRecieveAddress = seller['id']\n",
    "    buySendToken = seller['get']\n",
    "    buySendAmount = sellSendAmount*tradePrice\n",
    "    \n",
    "    tradeSellTx = {\n",
    "        'timestamp': time(),\n",
    "        'symbol': seller['symbol'],\n",
    "        'contract': symbolSplitted,\n",
    "        'sender': sellSendAddress,\n",
    "        'receiver': buySendAddress,\n",
    "        'sentAmount': sellSendAmount,\n",
    "        'recieveAmount': buySendAmount,\n",
    "        'price': tradePrice\n",
    "    }\n",
    "    \n",
    "    \n",
    "    tradeBuyTx = {\n",
    "        'timestamp': time(),\n",
    "        'symbol': seller['symbol'],\n",
    "        'contract': re.split(r'/', seller['symbol'])[1],\n",
    "        'sender': buySendAddress,\n",
    "        'receiver': sellSendAddress,\n",
    "        'sentAmount': buySendAmount,\n",
    "        'recieveAmount': sellSendAmount,\n",
    "        'price': tradePrice\n",
    "    }\n",
    "    \n",
    "    seller['sendVol'] -= sellSendAmount\n",
    "    seller['getVol'] -= buySendAmount\n",
    "    \n",
    "    buyer['sendVol'] -= buySendAmount\n",
    "    buyer['getVol'] -= sellSendAmount\n",
    "    \n",
    "\n",
    "    \n",
    "elif firstTx[0]['get'] == symbolSplitted:\n",
    "    \n",
    "    tradePrice = firstTx[0]['price']\n",
    "    seller = firstTx[1]\n",
    "    buyer = firstTx[0]\n",
    "    \n",
    "    sellSendAddress = seller['id']\n",
    "    sellRecieveAddress = buyer['id']\n",
    "    sellSendToken = seller['send']\n",
    "    sellSendAmount = min(seller['sendVol'], buyer['getVol'])\n",
    "    \n",
    "    buySendAddress = buyer['id']\n",
    "    buyRecieveAddress = seller['id']\n",
    "    buySendToken = seller['get']\n",
    "    buySendAmount = sellSendAmount*tradePrice\n",
    "    \n",
    "    tradeSellTx = {\n",
    "        'timestamp': time(),\n",
    "        'symbol': seller['symbol'],\n",
    "        'contract': symbolSplitted,\n",
    "        'sender': sellSendAddress,\n",
    "        'receiver': buySendAddress,\n",
    "        'sentAmount': sellSendAmount,\n",
    "        'recieveAmount': buySendAmount,\n",
    "        'price': tradePrice\n",
    "    }\n",
    "    \n",
    "    \n",
    "    tradeBuyTx = {\n",
    "        'timestamp': time(),\n",
    "        'symbol': seller['symbol'],\n",
    "        'contract': re.split(r'/', seller['symbol'])[1],\n",
    "        'sender': buySendAddress,\n",
    "        'receiver': sellSendAddress,\n",
    "        'sentAmount': buySendAmount,\n",
    "        'recieveAmount': sellSendAmount,\n",
    "        'price': tradePrice\n",
    "    }\n",
    "    \n",
    "    seller['sendVol'] -= sellSendAmount\n",
    "    seller['getVol'] -= buySendAmount\n",
    "    \n",
    "    buyer['sendVol'] -= buySendAmount\n",
    "    buyer['getVol'] -= sellSendAmount\n",
    "    \n",
    "tradeSellTx"
   ]
  },
  {
   "cell_type": "code",
   "execution_count": 114,
   "metadata": {},
   "outputs": [
    {
     "data": {
      "text/plain": [
       "{'timestamp': 1628253892.8598568,\n",
       " 'symbol': 'eth/dai',\n",
       " 'contract': 'dai',\n",
       " 'sender': 'woman',\n",
       " 'receiver': 'girl',\n",
       " 'sentAmount': 1560.0,\n",
       " 'recieveAmount': 0.6,\n",
       " 'price': 2600.0}"
      ]
     },
     "execution_count": 114,
     "metadata": {},
     "output_type": "execute_result"
    }
   ],
   "source": [
    "tradeBuyTx"
   ]
  },
  {
   "cell_type": "code",
   "execution_count": 115,
   "metadata": {},
   "outputs": [
    {
     "data": {
      "text/plain": [
       "[{'id': 'girl',\n",
       "  'symbol': 'eth/dai',\n",
       "  'price': 2600.0,\n",
       "  'send': 'eth',\n",
       "  'sendVol': 0.4,\n",
       "  'get': 'dai',\n",
       "  'getVol': 1040.0},\n",
       " {'id': 'woman',\n",
       "  'symbol': 'eth/dai',\n",
       "  'price': 2750.0,\n",
       "  'send': 'dai',\n",
       "  'sendVol': 90.0,\n",
       "  'get': 'eth',\n",
       "  'getVol': 0.0}]"
      ]
     },
     "execution_count": 115,
     "metadata": {},
     "output_type": "execute_result"
    }
   ],
   "source": [
    "firstTx"
   ]
  },
  {
   "cell_type": "code",
   "execution_count": 116,
   "metadata": {},
   "outputs": [
    {
     "data": {
      "text/plain": [
       "[{'id': 'girl',\n",
       "  'symbol': 'eth/dai',\n",
       "  'price': 2600.0,\n",
       "  'send': 'eth',\n",
       "  'sendVol': 0.4,\n",
       "  'get': 'dai',\n",
       "  'getVol': 1040.0},\n",
       " {'id': 'woman',\n",
       "  'symbol': 'eth/dai',\n",
       "  'price': 2750.0,\n",
       "  'send': 'dai',\n",
       "  'sendVol': 90.0,\n",
       "  'get': 'eth',\n",
       "  'getVol': 0.0,\n",
       "  'status': 'filled'}]"
      ]
     },
     "execution_count": 116,
     "metadata": {},
     "output_type": "execute_result"
    }
   ],
   "source": [
    "# Check orders fullfillment\n",
    "for order in firstTx:\n",
    "    if order['sendVol'] == 0 or order['getVol'] == 0:\n",
    "        order['status'] = 'filled'\n",
    "        \n",
    "firstTx"
   ]
  },
  {
   "cell_type": "code",
   "execution_count": null,
   "metadata": {},
   "outputs": [],
   "source": []
  },
  {
   "cell_type": "code",
   "execution_count": null,
   "metadata": {},
   "outputs": [],
   "source": []
  },
  {
   "cell_type": "code",
   "execution_count": 14,
   "metadata": {},
   "outputs": [
    {
     "data": {
      "text/plain": [
       "[('man', 'all', 'yel'),\n",
       " ('boy', 'bal', 'salt'),\n",
       " ('oldlady', 'moon', 'salt'),\n",
       " ('woman', 'salt', 'moon'),\n",
       " ('girl', 'yel', 'all'),\n",
       " ('bug', 'yel', 'all')]"
      ]
     },
     "execution_count": 14,
     "metadata": {},
     "output_type": "execute_result"
    }
   ],
   "source": [
    "tstAsk = sorted([(testLst[i]['id'],testLst[i]['ask'],testLst[i]['bid'],) for i in range(len(testLst))], key=itemgetter(1,2))\n",
    "tstAsk"
   ]
  },
  {
   "cell_type": "code",
   "execution_count": 9,
   "metadata": {},
   "outputs": [
    {
     "data": {
      "text/plain": [
       "[(3, 'all', 'yel'),\n",
       " (6, 'all', 'yel'),\n",
       " (4, 'moon', 'salt'),\n",
       " (1, 'salt', 'bal'),\n",
       " (5, 'salt', 'moon'),\n",
       " (2, 'yel', 'all')]"
      ]
     },
     "execution_count": 9,
     "metadata": {},
     "output_type": "execute_result"
    }
   ],
   "source": [
    "tstBid = sorted([(testLst[i]['id'],testLst[i]['bid'],testLst[i]['ask'],) for i in range(len(testLst))], key=itemgetter(1,2))\n",
    "tstBid"
   ]
  },
  {
   "cell_type": "code",
   "execution_count": null,
   "metadata": {},
   "outputs": [],
   "source": []
  },
  {
   "cell_type": "code",
   "execution_count": null,
   "metadata": {},
   "outputs": [],
   "source": []
  },
  {
   "cell_type": "code",
   "execution_count": 10,
   "metadata": {},
   "outputs": [
    {
     "data": {
      "text/plain": [
       "[[(3, 'all', 'yel'), (2, 'all', 'yel')],\n",
       " [(4, 'moon', 'salt'), (5, 'moon', 'salt')],\n",
       " [(2, 'yel', 'all'), (6, 'yel', 'all')]]"
      ]
     },
     "execution_count": 10,
     "metadata": {},
     "output_type": "execute_result"
    }
   ],
   "source": [
    "mathchedOrders = []\n",
    "c = 0\n",
    "for getOrders, sendOrders in zip(tstToGet,tstToSend):\n",
    "    if getOrders[1] == sendOrders[1] and getOrders[2] == sendOrders[2]:\n",
    "        match = [getOrders, sendOrders]\n",
    "        mathchedOrders.append(match)\n",
    "        \n",
    "mathchedOrders"
   ]
  },
  {
   "cell_type": "code",
   "execution_count": 12,
   "metadata": {},
   "outputs": [
    {
     "data": {
      "text/plain": [
       "[[(2, 'yel', 'all'), (6, 'yel', 'all')],\n",
       " [(3, 'all', 'yel'), (2, 'all', 'yel')],\n",
       " [(4, 'moon', 'salt'), (5, 'moon', 'salt')]]"
      ]
     },
     "execution_count": 12,
     "metadata": {},
     "output_type": "execute_result"
    }
   ],
   "source": [
    "toProcess = sorted([orders for orders in mathchedOrders], key=itemgetter(0,1))\n",
    "toProcess"
   ]
  },
  {
   "cell_type": "code",
   "execution_count": null,
   "metadata": {},
   "outputs": [],
   "source": []
  },
  {
   "cell_type": "code",
   "execution_count": null,
   "metadata": {},
   "outputs": [],
   "source": []
  },
  {
   "cell_type": "code",
   "execution_count": 69,
   "metadata": {},
   "outputs": [
    {
     "data": {
      "text/plain": [
       "[[(3, 'all', 'yel'), (2, 'all', 'yel')]]"
      ]
     },
     "execution_count": 69,
     "metadata": {},
     "output_type": "execute_result"
    }
   ],
   "source": [
    "toPool = []\n",
    "\n",
    "for i in range(len(mathchedOrders)-1):\n",
    "    if mathchedOrders[i+1][1][0]==mathchedOrders[i][0][0]:\n",
    "        toPool.append(mathchedOrders[i])\n",
    "        \n",
    "toPool"
   ]
  },
  {
   "cell_type": "code",
   "execution_count": 67,
   "metadata": {},
   "outputs": [
    {
     "data": {
      "text/plain": [
       "True"
      ]
     },
     "execution_count": 67,
     "metadata": {},
     "output_type": "execute_result"
    }
   ],
   "source": [
    "mathchedOrders[0][0][0]==mathchedOrders[1][1][0]"
   ]
  },
  {
   "cell_type": "code",
   "execution_count": 23,
   "metadata": {},
   "outputs": [
    {
     "data": {
      "text/plain": [
       "[{'a': 'bal', 'b': 'salt'},\n",
       " {'a': 'all', 'b': 'yel'},\n",
       " {'a': 'yel', 'b': 'all'},\n",
       " {'a': 'salt', 'b': 'bal'}]"
      ]
     },
     "execution_count": 23,
     "metadata": {},
     "output_type": "execute_result"
    }
   ],
   "source": [
    "tstSort = sorted(testLst, key=lambda k: k['a'] == k['b'])\n",
    "tstSort"
   ]
  },
  {
   "cell_type": "code",
   "execution_count": 33,
   "metadata": {},
   "outputs": [
    {
     "data": {
      "text/plain": [
       "[{'id': 1, 'a': 'bal', 'b': 'salt'},\n",
       " {'id': 2, 'a': 'all', 'b': 'yel'},\n",
       " {'id': 3, 'a': 'yel', 'b': 'all'},\n",
       " {'id': 4, 'a': 'salt', 'b': 'bal'}]"
      ]
     },
     "execution_count": 33,
     "metadata": {},
     "output_type": "execute_result"
    }
   ],
   "source": [
    "testLst"
   ]
  },
  {
   "cell_type": "code",
   "execution_count": 58,
   "metadata": {},
   "outputs": [
    {
     "data": {
      "text/plain": [
       "b'{\"nodes\": []}'"
      ]
     },
     "execution_count": 58,
     "metadata": {},
     "output_type": "execute_result"
    }
   ],
   "source": [
    "nodes = requests.get('http://localhost:5000/nodes/getNodes').content\n",
    "nodes"
   ]
  },
  {
   "cell_type": "code",
   "execution_count": 56,
   "metadata": {},
   "outputs": [
    {
     "data": {
      "text/plain": [
       "b'{\"chain\":[{\"index\":1,\"previousHash\":1,\"proof\":100,\"timestamp\":1628086698.873197,\"transactions\":[]}],\"message\":\"Our chain is authoritative\"}\\n'"
      ]
     },
     "execution_count": 56,
     "metadata": {},
     "output_type": "execute_result"
    }
   ],
   "source": [
    "chain = requests.get('http://localhost:5000/nodes/resolve').content\n",
    "# chainTrue = json.loads(chain)\n",
    "# chainTrue\n",
    "chain"
   ]
  },
  {
   "cell_type": "code",
   "execution_count": 53,
   "metadata": {},
   "outputs": [
    {
     "data": {
      "text/plain": [
       "b'{\"message\":\"New nodes have been added\",\"total_nodes\":[\"localhost:5000\",\"localhost:5001\"]}\\n'"
      ]
     },
     "execution_count": 53,
     "metadata": {},
     "output_type": "execute_result"
    }
   ],
   "source": [
    "regResult = requests.post('http://localhost:5000/nodes/register', json={'nodes': ('http://localhost:5000/', 'http://localhost:5001/',)}).content\n",
    "regResult"
   ]
  },
  {
   "cell_type": "code",
   "execution_count": null,
   "metadata": {},
   "outputs": [],
   "source": []
  },
  {
   "cell_type": "code",
   "execution_count": 35,
   "metadata": {},
   "outputs": [
    {
     "data": {
      "text/plain": [
       "b'{\"chain\":[{\"index\":1,\"previousHash\":1,\"proof\":100,\"timestamp\":1628084880.8870988,\"transactions\":[]},{\"index\":2,\"previousHash\":\"653ad21073662fe7a06fdbb9e21a826076706f90556d2d66c56fe81bfa3d2145\",\"proof\":35293,\"timestamp\":1628085644.59333,\"transactions\":[{\"amount\":7,\"recipient\":\"someone-other-address\",\"sender\":\"lalalala\"},{\"amount\":1,\"recipient\":\"20a1f73aa3ba468dba631ddf901846e1\",\"sender\":\"0\"}]},{\"index\":3,\"previousHash\":\"8d3b6a2ed7e2e91528035019185348775b148e3e4aad5a94de7c4068ae513611\",\"proof\":35089,\"timestamp\":1628085819.22687,\"transactions\":[{\"amount\":7,\"recipient\":\"someone-other-address\",\"sender\":\"lalalala\"},{\"amount\":7,\"recipient\":\"someone-other-address\",\"sender\":\"lalalala\"},{\"amount\":7,\"recipient\":\"someone-other-address\",\"sender\":\"lalalala\"},{\"amount\":7,\"recipient\":\"someone-other-address\",\"sender\":\"lalalala\"},{\"amount\":1,\"recipient\":\"20a1f73aa3ba468dba631ddf901846e1\",\"sender\":\"0\"}]},{\"index\":4,\"previousHash\":\"bbe0ad89914d2d99f9b640db2406e0696a44d5bcf63f05a8f25163e3df83d32d\",\"proof\":119678,\"timestamp\":1628085825.938227,\"transactions\":[{\"amount\":1,\"recipient\":\"someone-other-address\",\"sender\":\"lalalala\"},{\"amount\":1,\"recipient\":\"20a1f73aa3ba468dba631ddf901846e1\",\"sender\":\"0\"}]},{\"index\":5,\"previousHash\":\"33ee8eb4af929eca2057cd0a207e17da1c6d0804235e3637de39de3035106710\",\"proof\":146502,\"timestamp\":1628085829.615207,\"transactions\":[{\"amount\":3,\"recipient\":\"someone-other-address\",\"sender\":\"lalalala\"},{\"amount\":1,\"recipient\":\"20a1f73aa3ba468dba631ddf901846e1\",\"sender\":\"0\"}]},{\"index\":6,\"previousHash\":\"2ff99d3e69ae8bee2661a23f9a990bf33d867e1c7430fbae0a86bf6c0ee578d5\",\"proof\":43538,\"timestamp\":1628085832.945429,\"transactions\":[{\"amount\":6,\"recipient\":\"someone-other-address\",\"sender\":\"lalalala\"},{\"amount\":1,\"recipient\":\"20a1f73aa3ba468dba631ddf901846e1\",\"sender\":\"0\"}]}],\"message\":\"Our chain is authoritative\"}\\n'"
      ]
     },
     "execution_count": 35,
     "metadata": {},
     "output_type": "execute_result"
    }
   ],
   "source": [
    "chain = requests.get('http://localhost:5001/nodes/resolve').content\n",
    "chain"
   ]
  },
  {
   "cell_type": "code",
   "execution_count": 14,
   "metadata": {},
   "outputs": [
    {
     "data": {
      "text/plain": [
       "b'{\"msg\":\"Transaction will be added to Block 2\"}\\n'"
      ]
     },
     "execution_count": 14,
     "metadata": {},
     "output_type": "execute_result"
    }
   ],
   "source": [
    "tx = {\n",
    "    \"sender\": \"d4ee26eee15148ee92c6cd394edd974e\",\n",
    "     \"recipient\": \"someone-other-address\",\n",
    "     \"amount\": 19\n",
    "}\n",
    "\n",
    "txSent = requests.post(\"http://localhost:5000/transactions/new\", json=tx).content\n",
    "txSent"
   ]
  },
  {
   "cell_type": "code",
   "execution_count": 15,
   "metadata": {},
   "outputs": [
    {
     "data": {
      "text/plain": [
       "b'{\"index\":2,\"message\":\"New Block Forged\",\"previous_hash\":\"5f0c3e03f04104c30131974c6fd4a0e970cf1506191b2bed6552ed2da5c8e091\",\"proof\":35293,\"transactions\":[{\"amount\":19,\"recipient\":\"someone-other-address\",\"sender\":\"d4ee26eee15148ee92c6cd394edd974e\"},{\"amount\":19,\"recipient\":\"someone-other-address\",\"sender\":\"d4ee26eee15148ee92c6cd394edd974e\"},{\"amount\":1,\"recipient\":\"a05764f3f7014a54bc4c1a0ea4d83f37\",\"sender\":\"0\"}]}\\n'"
      ]
     },
     "execution_count": 15,
     "metadata": {},
     "output_type": "execute_result"
    }
   ],
   "source": [
    "mining = requests.get('http://localhost:5000/mine').content\n",
    "mining"
   ]
  },
  {
   "cell_type": "code",
   "execution_count": null,
   "metadata": {},
   "outputs": [],
   "source": []
  },
  {
   "cell_type": "code",
   "execution_count": 33,
   "metadata": {},
   "outputs": [
    {
     "data": {
      "text/plain": [
       "b'{\"msg\":\"Transaction will be added to Block 6\"}\\n'"
      ]
     },
     "execution_count": 33,
     "metadata": {},
     "output_type": "execute_result"
    }
   ],
   "source": [
    "tx = {\n",
    "    \"sender\": \"lalalala\",\n",
    "     \"recipient\": \"someone-other-address\",\n",
    "     \"amount\": 6\n",
    "}\n",
    "\n",
    "txSent = requests.post(\"http://localhost:5001/transactions/new\", json=tx).content\n",
    "txSent"
   ]
  },
  {
   "cell_type": "code",
   "execution_count": 34,
   "metadata": {},
   "outputs": [
    {
     "data": {
      "text/plain": [
       "b'{\"index\":6,\"message\":\"New Block Forged\",\"previous_hash\":\"2ff99d3e69ae8bee2661a23f9a990bf33d867e1c7430fbae0a86bf6c0ee578d5\",\"proof\":43538,\"transactions\":[{\"amount\":6,\"recipient\":\"someone-other-address\",\"sender\":\"lalalala\"},{\"amount\":1,\"recipient\":\"20a1f73aa3ba468dba631ddf901846e1\",\"sender\":\"0\"}]}\\n'"
      ]
     },
     "execution_count": 34,
     "metadata": {},
     "output_type": "execute_result"
    }
   ],
   "source": [
    "mining = requests.get('http://localhost:5001/mine').content\n",
    "mining"
   ]
  },
  {
   "cell_type": "code",
   "execution_count": null,
   "metadata": {},
   "outputs": [],
   "source": []
  },
  {
   "cell_type": "code",
   "execution_count": null,
   "metadata": {},
   "outputs": [],
   "source": []
  }
 ],
 "metadata": {
  "kernelspec": {
   "display_name": "Python 3",
   "language": "python",
   "name": "python3"
  },
  "language_info": {
   "codemirror_mode": {
    "name": "ipython",
    "version": 3
   },
   "file_extension": ".py",
   "mimetype": "text/x-python",
   "name": "python",
   "nbconvert_exporter": "python",
   "pygments_lexer": "ipython3",
   "version": "3.7.2"
  }
 },
 "nbformat": 4,
 "nbformat_minor": 2
}

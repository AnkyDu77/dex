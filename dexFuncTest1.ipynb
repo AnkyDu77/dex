{
 "cells": [
  {
   "cell_type": "code",
   "execution_count": 2,
   "metadata": {},
   "outputs": [],
   "source": [
    "import os\n",
    "import re\n",
    "import sys\n",
    "import uuid\n",
    "import hashlib\n",
    "import socket\n",
    "import requests\n",
    "import json\n",
    "import time\n",
    "from Crypto.PublicKey import RSA\n",
    "from Crypto.Cipher import PKCS1_v1_5\n",
    "from time import time\n",
    "from urllib.parse import urlparse\n",
    "from flask import request\n",
    "from operator import itemgetter\n",
    "from datetime import datetime, timezone\n",
    "from pyp2p.net import *\n",
    "\n",
    "from config import Config"
   ]
  },
  {
   "cell_type": "code",
   "execution_count": 51,
   "metadata": {},
   "outputs": [],
   "source": [
    "class Pool(object):\n",
    "    def __init__(self):\n",
    "        self.balance = None\n",
    "        self.name = None"
   ]
  },
  {
   "cell_type": "code",
   "execution_count": 52,
   "metadata": {},
   "outputs": [],
   "source": [
    "class PoolHarvest(object):\n",
    "    def __init__(self):\n",
    "        self.pools = []\n",
    "        \n",
    "    def appendPool(self, pool):\n",
    "        self.pools.append(pool)"
   ]
  },
  {
   "cell_type": "code",
   "execution_count": 53,
   "metadata": {},
   "outputs": [],
   "source": [
    "p1 = Pool()\n",
    "p1.name = 'Alice'\n",
    "p1.balance = 1000"
   ]
  },
  {
   "cell_type": "code",
   "execution_count": 54,
   "metadata": {},
   "outputs": [],
   "source": [
    "p2 = Pool()\n",
    "p2.name = 'Bob'\n",
    "p2.balance = 10"
   ]
  },
  {
   "cell_type": "code",
   "execution_count": 56,
   "metadata": {},
   "outputs": [],
   "source": [
    "harvest = PoolHarvest()\n",
    "harvest.appendPool(p1)\n",
    "harvest.appendPool(p2)"
   ]
  },
  {
   "cell_type": "code",
   "execution_count": 57,
   "metadata": {},
   "outputs": [
    {
     "data": {
      "text/plain": [
       "[<__main__.Pool at 0x7fbe50c242b0>, <__main__.Pool at 0x7fbe50c24198>]"
      ]
     },
     "execution_count": 57,
     "metadata": {},
     "output_type": "execute_result"
    }
   ],
   "source": [
    "harvest.pools"
   ]
  },
  {
   "cell_type": "code",
   "execution_count": 60,
   "metadata": {},
   "outputs": [
    {
     "data": {
      "text/plain": [
       "900"
      ]
     },
     "execution_count": 60,
     "metadata": {},
     "output_type": "execute_result"
    }
   ],
   "source": [
    "pool = [pool for pool in harvest.pools if pool.name == 'Alice'][0]\n",
    "pool.balance -= 100\n",
    "pool.balance"
   ]
  },
  {
   "cell_type": "code",
   "execution_count": 61,
   "metadata": {},
   "outputs": [
    {
     "data": {
      "text/plain": [
       "900"
      ]
     },
     "execution_count": 61,
     "metadata": {},
     "output_type": "execute_result"
    }
   ],
   "source": [
    "poolCh = [pool for pool in harvest.pools if pool.name == 'Alice'][0]\n",
    "poolCh.balance"
   ]
  },
  {
   "cell_type": "code",
   "execution_count": null,
   "metadata": {},
   "outputs": [],
   "source": []
  },
  {
   "cell_type": "markdown",
   "metadata": {},
   "source": [
    "### Full non-native tokens transaction Test"
   ]
  },
  {
   "cell_type": "code",
   "execution_count": 247,
   "metadata": {},
   "outputs": [
    {
     "data": {
      "text/plain": [
       "b'{\"index\":3,\"message\":\"New Block Forged\",\"pool_syncing\":\"Tx pool synced among 0 nodes\",\"previous_hash\":\"0a5204d00993180b61ea136b6716d526c02924e85d0c7f3081157cbca331c9c1\",\"proof\":119240,\"transactions\":[{\"comissionAmount\":1.0,\"contract\":null,\"price\":0.0,\"recieveAmount\":null,\"recipient\":\"z01x008f39fe080c401f29bb0985cbf5345a1abc813b1ad74c231cdc6c52cb\",\"sendAmount\":1,\"sender\":\"z01x0000000000000000000000000000000000000000000000000000000000\",\"symbol\":\"zsh\",\"timestamp\":1630156609.512039,\"tradeTxId\":null},{\"comissionAmount\":0.02,\"contract\":\"zsh\",\"price\":9.93,\"recieveAmount\":9.93,\"recipient\":\"z01x00d48992ae6cfc5e56bd39f0c1c289ca48ba7be74a5d6e3b09e80985ca\",\"sendAmount\":1.0,\"sender\":\"z01x008f39fe080c401f29bb0985cbf5345a1abc813b1ad74c231cdc6c52cb\",\"symbol\":\"zsh/usdt\",\"timestamp\":1630156610.163726,\"tradeTxId\":\"95bfbd6c9df82cce5ec25a8ad6a2ae4e4e6072a110c89d9a4ca53c4eabd2e94b\"},{\"comissionAmount\":0.02,\"contract\":\"usdt\",\"price\":9.93,\"recieveAmount\":1.0,\"recipient\":\"z01x008f39fe080c401f29bb0985cbf5345a1abc813b1ad74c231cdc6c52cb\",\"sendAmount\":9.93,\"sender\":\"z01x00d48992ae6cfc5e56bd39f0c1c289ca48ba7be74a5d6e3b09e80985ca\",\"symbol\":\"zsh/usdt\",\"timestamp\":1630156610.163784,\"tradeTxId\":\"dfd8f302a8fdcbab17d73845bfb191d7827efa30d43362fa81eb4be27a475e06\"}]}\\n'"
      ]
     },
     "execution_count": 247,
     "metadata": {},
     "output_type": "execute_result"
    }
   ],
   "source": [
    "# Coinbase\n",
    "wallet = requests.post(host+'/wallet/new', json={'password': '12345'}).content\n",
    "wallet = requests.post(host+'/wallet/new', json={'password': 'qwerty'}).content\n",
    "\n",
    "name = 'Tether' #Tether Ether\n",
    "symbol = 'usdt' #usdt eth\n",
    "pool = requests.post(host+'/pools/createPool', json={'name': name, 'symbol': symbol}).content\n",
    "\n",
    "login = requests.post(host+'/wallet/login', json={'password': '12345'}).content\n",
    "mineReq = requests.get(host+'/mine').content\n",
    "\n",
    "sellTx = {\n",
    "        'type': 'trade',\n",
    "        'sender': json.loads(login)['ADDRESS'],\n",
    "        'symbol': 'zsh/usdt',\n",
    "        'price': 9.93,\n",
    "        'send': 'zsh',\n",
    "        'sendVol': 1.0,\n",
    "        'get': 'usdt',\n",
    "        'getVol': 9.93,\n",
    "        'comissionAmount':2\n",
    "    }\n",
    "txReq = requests.post(host+'/transactions/new', json=sellTx).content\n",
    "\n",
    "login = requests.post(host+'/wallet/login', json={'password': 'qwerty'}).content\n",
    "\n",
    "buyTx = {\n",
    "        'type': 'trade',\n",
    "        'sender': json.loads(login)['ADDRESS'],\n",
    "        'symbol': 'zsh/usdt',\n",
    "        'price': 9.93,\n",
    "        'send': 'usdt',\n",
    "        'sendVol': 9.93,\n",
    "        'get': 'zsh',\n",
    "        'getVol': 1.0,\n",
    "        'comissionAmount':2\n",
    "    }\n",
    "txReq = requests.post(host+'/transactions/new', json=buyTx).content\n",
    "mineReq = requests.get(host+'/mine').content\n",
    "mineReq"
   ]
  },
  {
   "cell_type": "code",
   "execution_count": null,
   "metadata": {},
   "outputs": [],
   "source": []
  },
  {
   "cell_type": "markdown",
   "metadata": {},
   "source": [
    "### Test new pool creation  \n",
    "Pool creation has to be a transaction with some zsh spenditure!"
   ]
  },
  {
   "cell_type": "code",
   "execution_count": 232,
   "metadata": {},
   "outputs": [
    {
     "data": {
      "text/plain": [
       "b'{\"ADDRESS\":\"z01x00677ed3eb9789e5405d94e59129389ffae05b41027ffc8af28942d89a\"}\\n'"
      ]
     },
     "execution_count": 232,
     "metadata": {},
     "output_type": "execute_result"
    }
   ],
   "source": [
    "# Coinbase\n",
    "wallet = requests.post(host+'/wallet/new', json={'password': '12345'}).content\n",
    "wallet"
   ]
  },
  {
   "cell_type": "code",
   "execution_count": 233,
   "metadata": {},
   "outputs": [
    {
     "data": {
      "text/plain": [
       "b'{\"ADDRESS\":\"z01x00d6718ba1a1de9f995d9f6d7802089438a6e72cb9f5324a684c41be3c\"}\\n'"
      ]
     },
     "execution_count": 233,
     "metadata": {},
     "output_type": "execute_result"
    }
   ],
   "source": [
    "wallet = requests.post(host+'/wallet/new', json={'password': 'qwerty'}).content\n",
    "wallet"
   ]
  },
  {
   "cell_type": "code",
   "execution_count": 234,
   "metadata": {},
   "outputs": [
    {
     "data": {
      "text/plain": [
       "b'{\"MSG\":\"New pool was created! Name: Tether, Symbol: USDT\"}\\n'"
      ]
     },
     "execution_count": 234,
     "metadata": {},
     "output_type": "execute_result"
    }
   ],
   "source": [
    "name = 'Tether' #Tether Ether\n",
    "symbol = 'usdt' #usdt eth\n",
    "pool = requests.post(host+'/pools/createPool', json={'name': name, 'symbol': symbol}).content\n",
    "pool"
   ]
  },
  {
   "cell_type": "code",
   "execution_count": 248,
   "metadata": {},
   "outputs": [
    {
     "data": {
      "text/plain": [
       "b'{\"MSG\": [{\"name\": \"Tether\", \"symbol\": \"USDT\", \"poolBalance\": 0.0, \"accounts\": {\"z01x008f39fe080c401f29bb0985cbf5345a1abc813b1ad74c231cdc6c52cb\": 10009.93, \"z01x00d48992ae6cfc5e56bd39f0c1c289ca48ba7be74a5d6e3b09e80985ca\": 9990.07}, \"blockHash\": \"0a5204d00993180b61ea136b6716d526c02924e85d0c7f3081157cbca331c9c1\", \"validHash\": \"8bb84c880e847890e81599139b149b9e4f7f5493f7b3a930024a464a\"}]}'"
      ]
     },
     "execution_count": 248,
     "metadata": {},
     "output_type": "execute_result"
    }
   ],
   "source": [
    "pools = requests.get(host+'/pools/getPools').content\n",
    "pools"
   ]
  },
  {
   "cell_type": "code",
   "execution_count": null,
   "metadata": {},
   "outputs": [],
   "source": []
  },
  {
   "cell_type": "code",
   "execution_count": null,
   "metadata": {},
   "outputs": [],
   "source": []
  },
  {
   "cell_type": "code",
   "execution_count": 2,
   "metadata": {},
   "outputs": [
    {
     "data": {
      "text/plain": [
       "'2f1d2c396fe1aeec398cee910d55c44f254e470ee7a927e4890bcd7a'"
      ]
     },
     "execution_count": 2,
     "metadata": {},
     "output_type": "execute_result"
    }
   ],
   "source": [
    "uid = uuid.uuid4().hex\n",
    "password = 'lalalend'\n",
    "passHashed = hashlib.sha3_224((password+uid).encode()).hexdigest()\n",
    "passHashed"
   ]
  },
  {
   "cell_type": "code",
   "execution_count": 28,
   "metadata": {},
   "outputs": [
    {
     "data": {
      "text/plain": [
       "'82.151.196.144'"
      ]
     },
     "execution_count": 28,
     "metadata": {},
     "output_type": "execute_result"
    }
   ],
   "source": [
    "whiteIp = requests.get('https://api.ipify.org').content\n",
    "whiteIp.decode()"
   ]
  },
  {
   "cell_type": "code",
   "execution_count": 27,
   "metadata": {},
   "outputs": [
    {
     "data": {
      "text/plain": [
       "b'{\"MSG\":\"Working\"}\\n'"
      ]
     },
     "execution_count": 27,
     "metadata": {},
     "output_type": "execute_result"
    }
   ],
   "source": [
    "requests.get('http://178.176.120.241:5000').content"
   ]
  },
  {
   "cell_type": "code",
   "execution_count": null,
   "metadata": {},
   "outputs": [],
   "source": []
  },
  {
   "cell_type": "markdown",
   "metadata": {},
   "source": [
    "## Test Blockchain Endpoints"
   ]
  },
  {
   "cell_type": "code",
   "execution_count": 5,
   "metadata": {},
   "outputs": [],
   "source": [
    "host = 'http://0.0.0.0:5000'"
   ]
  },
  {
   "cell_type": "code",
   "execution_count": 3,
   "metadata": {},
   "outputs": [
    {
     "data": {
      "text/plain": [
       "b'{\"nodes\": [\"178.176.120.241:5000\"]}'"
      ]
     },
     "execution_count": 3,
     "metadata": {},
     "output_type": "execute_result"
    }
   ],
   "source": [
    "nodes = requests.get(host+\"/nodes/getNodes\").content\n",
    "nodes"
   ]
  },
  {
   "cell_type": "code",
   "execution_count": 277,
   "metadata": {},
   "outputs": [
    {
     "data": {
      "text/plain": [
       "b'{\"nodes\": [\"82.151.196.144:5000\"]}'"
      ]
     },
     "execution_count": 277,
     "metadata": {},
     "output_type": "execute_result"
    }
   ],
   "source": [
    "host1 = 'http://178.176.120.241:5000'\n",
    "nodes1 = requests.get(host1+\"/nodes/getNodes\").content\n",
    "nodes1"
   ]
  },
  {
   "cell_type": "code",
   "execution_count": 115,
   "metadata": {},
   "outputs": [
    {
     "data": {
      "text/plain": [
       "'z01x006cd240bb549be12078aa8cf76dac965060dd2b6ba2f4151b6b0fe680'"
      ]
     },
     "execution_count": 115,
     "metadata": {},
     "output_type": "execute_result"
    }
   ],
   "source": [
    "wallet = json.loads(wallet)['ADDRESS']\n",
    "wallet"
   ]
  },
  {
   "cell_type": "code",
   "execution_count": null,
   "metadata": {},
   "outputs": [],
   "source": []
  },
  {
   "cell_type": "code",
   "execution_count": null,
   "metadata": {},
   "outputs": [],
   "source": []
  },
  {
   "cell_type": "code",
   "execution_count": null,
   "metadata": {},
   "outputs": [],
   "source": []
  },
  {
   "cell_type": "code",
   "execution_count": 12,
   "metadata": {},
   "outputs": [],
   "source": [
    "regNode = requests.post(host+\"/nodes/register\", json={\"nodes\": ['http://0.0.0.0:5001']}).content\n",
    "regNode"
   ]
  },
  {
   "cell_type": "code",
   "execution_count": 69,
   "metadata": {},
   "outputs": [
    {
     "data": {
      "text/plain": [
       "b'{\"MSG\":true}\\n'"
      ]
     },
     "execution_count": 69,
     "metadata": {},
     "output_type": "execute_result"
    }
   ],
   "source": [
    "# logout = requests.get(host+'/wallet/logout').content\n",
    "# logout"
   ]
  },
  {
   "cell_type": "code",
   "execution_count": 11,
   "metadata": {},
   "outputs": [
    {
     "data": {
      "text/plain": [
       "b'{\"ADDRESS\":\"z01x00c493832775240711eabc46458221156049b42ca355b3902a2c25fa9d\"}\\n'"
      ]
     },
     "execution_count": 11,
     "metadata": {},
     "output_type": "execute_result"
    }
   ],
   "source": [
    "# Coinbase\n",
    "wallet = requests.post(host+'/wallet/new', json={'password': '12345'}).content\n",
    "wallet"
   ]
  },
  {
   "cell_type": "code",
   "execution_count": 12,
   "metadata": {},
   "outputs": [
    {
     "data": {
      "text/plain": [
       "b'{\"ADDRESS\":\"z01x0011b6b1f87a66cf63d8e61d59429468dcb67d1324aebfd3f7bb51cc92\"}\\n'"
      ]
     },
     "execution_count": 12,
     "metadata": {},
     "output_type": "execute_result"
    }
   ],
   "source": [
    "wallet = requests.post(host+'/wallet/new', json={'password': 'qwerty'}).content\n",
    "wallet"
   ]
  },
  {
   "cell_type": "code",
   "execution_count": 236,
   "metadata": {},
   "outputs": [
    {
     "data": {
      "text/plain": [
       "b'{\"ADDRESS\":\"z01x00677ed3eb9789e5405d94e59129389ffae05b41027ffc8af28942d89a\",\"MSG\":true}\\n'"
      ]
     },
     "execution_count": 236,
     "metadata": {},
     "output_type": "execute_result"
    }
   ],
   "source": [
    "login = requests.post(host+'/wallet/login', json={'password': '12345'}).content\n",
    "login"
   ]
  },
  {
   "cell_type": "code",
   "execution_count": 237,
   "metadata": {},
   "outputs": [
    {
     "data": {
      "text/plain": [
       "b'{\"index\":2,\"message\":\"New Block Forged\",\"pool_syncing\":\"Tx pool synced among 0 nodes\",\"previous_hash\":\"9204ca3bc9ca2716f5a0a3ed866c9fb5b15a292c0ea53bc2e3e145b94933f393\",\"proof\":22976,\"transactions\":[{\"comissionAmount\":1.0,\"contract\":null,\"price\":0.0,\"recieveAmount\":null,\"recipient\":\"z01x00677ed3eb9789e5405d94e59129389ffae05b41027ffc8af28942d89a\",\"sendAmount\":1,\"sender\":\"z01x0000000000000000000000000000000000000000000000000000000000\",\"symbol\":\"zsh\",\"timestamp\":1630155731.854355,\"tradeTxId\":null}]}\\n'"
      ]
     },
     "execution_count": 237,
     "metadata": {},
     "output_type": "execute_result"
    }
   ],
   "source": [
    "mineReq = requests.get(host+'/mine').content\n",
    "mineReq"
   ]
  },
  {
   "cell_type": "code",
   "execution_count": 238,
   "metadata": {},
   "outputs": [
    {
     "data": {
      "text/plain": [
       "b'{\"BALACNE\":{\"balance\":1.0,\"token\":\"ZSH\"}}\\n'"
      ]
     },
     "execution_count": 238,
     "metadata": {},
     "output_type": "execute_result"
    }
   ],
   "source": [
    "accountBalance = requests.post(host+'/wallet/getBalance', json={'address': json.loads(login)['ADDRESS']}).content\n",
    "accountBalance"
   ]
  },
  {
   "cell_type": "code",
   "execution_count": null,
   "metadata": {},
   "outputs": [],
   "source": []
  },
  {
   "cell_type": "code",
   "execution_count": 239,
   "metadata": {},
   "outputs": [
    {
     "data": {
      "text/plain": [
       "b'{\"MSG\":3,\"SYNC\":\"Tx pool synced among 0 nodes\"}\\n'"
      ]
     },
     "execution_count": 239,
     "metadata": {},
     "output_type": "execute_result"
    }
   ],
   "source": [
    "sellTx = {\n",
    "        'type': 'trade',\n",
    "        'sender': json.loads(login)['ADDRESS'],\n",
    "        'symbol': 'zsh/usdt',\n",
    "        'price': 9.93,\n",
    "        'send': 'zsh',\n",
    "        'sendVol': 1.0,\n",
    "        'get': 'usdt',\n",
    "        'getVol': 9.93,\n",
    "        'comissionAmount':2\n",
    "    }\n",
    "txReq = requests.post(host+'/transactions/new', json=sellTx).content\n",
    "txReq"
   ]
  },
  {
   "cell_type": "code",
   "execution_count": 240,
   "metadata": {},
   "outputs": [
    {
     "data": {
      "text/plain": [
       "b'{\"ADDRESS\":\"z01x00d6718ba1a1de9f995d9f6d7802089438a6e72cb9f5324a684c41be3c\",\"MSG\":true}\\n'"
      ]
     },
     "execution_count": 240,
     "metadata": {},
     "output_type": "execute_result"
    }
   ],
   "source": [
    "login = requests.post(host+'/wallet/login', json={'password': 'qwerty'}).content\n",
    "login"
   ]
  },
  {
   "cell_type": "code",
   "execution_count": 241,
   "metadata": {},
   "outputs": [
    {
     "data": {
      "text/plain": [
       "b'{\"BALACNE\":{\"balance\":0.0,\"token\":\"ZSH\"}}\\n'"
      ]
     },
     "execution_count": 241,
     "metadata": {},
     "output_type": "execute_result"
    }
   ],
   "source": [
    "accountBalance = requests.post(host+'/wallet/getBalance', json={'address': json.loads(login)['ADDRESS']}).content\n",
    "accountBalance"
   ]
  },
  {
   "cell_type": "code",
   "execution_count": 242,
   "metadata": {},
   "outputs": [
    {
     "data": {
      "text/plain": [
       "b'{\"MSG\":3,\"SYNC\":\"Tx pool synced among 0 nodes\"}\\n'"
      ]
     },
     "execution_count": 242,
     "metadata": {},
     "output_type": "execute_result"
    }
   ],
   "source": [
    "buyTx = {\n",
    "        'type': 'trade',\n",
    "        'sender': json.loads(login)['ADDRESS'],\n",
    "        'symbol': 'zsh/usdt',\n",
    "        'price': 9.93,\n",
    "        'send': 'usdt',\n",
    "        'sendVol': 9.93,\n",
    "        'get': 'zsh',\n",
    "        'getVol': 1.0,\n",
    "        'comissionAmount':2\n",
    "    }\n",
    "txReq = requests.post(host+'/transactions/new', json=buyTx).content\n",
    "\n",
    "txReq"
   ]
  },
  {
   "cell_type": "code",
   "execution_count": 243,
   "metadata": {},
   "outputs": [
    {
     "data": {
      "text/plain": [
       "b'<!DOCTYPE HTML PUBLIC \"-//W3C//DTD HTML 3.2 Final//EN\">\\n<title>500 Internal Server Error</title>\\n<h1>Internal Server Error</h1>\\n<p>The server encountered an internal error and was unable to complete your request. Either the server is overloaded or there is an error in the application.</p>\\n'"
      ]
     },
     "execution_count": 243,
     "metadata": {},
     "output_type": "execute_result"
    }
   ],
   "source": [
    "mineReq = requests.get(host+'/mine').content\n",
    "mineReq"
   ]
  },
  {
   "cell_type": "code",
   "execution_count": 190,
   "metadata": {},
   "outputs": [
    {
     "data": {
      "text/plain": [
       "b'{\"BALACNE\":{\"balance\":2.0,\"token\":\"ZSH\"}}\\n'"
      ]
     },
     "execution_count": 190,
     "metadata": {},
     "output_type": "execute_result"
    }
   ],
   "source": [
    "accountBalance = requests.post(host+'/wallet/getBalance', json={'address': json.loads(login)['ADDRESS']}).content\n",
    "accountBalance"
   ]
  },
  {
   "cell_type": "code",
   "execution_count": 130,
   "metadata": {},
   "outputs": [
    {
     "data": {
      "text/plain": [
       "b'{\"MSG\":4,\"SYNC\":\"Tx pool synced among 1 nodes\"}\\n'"
      ]
     },
     "execution_count": 130,
     "metadata": {},
     "output_type": "execute_result"
    }
   ],
   "source": [
    "step=0.1\n",
    "for i in range(3):\n",
    "    \n",
    "    tradeTx = {\n",
    "        'type': 'trade',\n",
    "        'sender': json.loads(login)['ADDRESS'],\n",
    "        'symbol': 'zsh/usdt',\n",
    "        'price': 10.0+step,\n",
    "        'send': 'zsh',\n",
    "        'sendVol': 1.0,\n",
    "        'get': 'usdt',\n",
    "        'getVol': 10.0+step,\n",
    "        'comissionAmount':2\n",
    "    }\n",
    "\n",
    "    txReq = requests.post(host+'/transactions/new', json=tradeTx).content\n",
    "    step += 0.1\n",
    "\n",
    "txReq"
   ]
  },
  {
   "cell_type": "code",
   "execution_count": 131,
   "metadata": {},
   "outputs": [
    {
     "data": {
      "text/plain": [
       "b'{\"MSG\":4,\"SYNC\":\"Tx pool synced among 1 nodes\"}\\n'"
      ]
     },
     "execution_count": 131,
     "metadata": {},
     "output_type": "execute_result"
    }
   ],
   "source": [
    "step = 0.1\n",
    "for i in range(3):\n",
    "    tradeTx = {\n",
    "        'type': 'trade',\n",
    "        'sender': json.loads(login)['ADDRESS'],\n",
    "        'symbol': 'zsh/usdt',\n",
    "        'price': 9.8+step,\n",
    "        'send': 'usdt',\n",
    "        'sendVol': 9.8+step,\n",
    "        'get': 'zsh',\n",
    "        'getVol': 1.0,\n",
    "        'comissionAmount':2\n",
    "    }\n",
    "    \n",
    "    txReq = requests.post(host+'/transactions/new', json=tradeTx).content\n",
    "    step -= 0.1\n",
    "txReq"
   ]
  },
  {
   "cell_type": "code",
   "execution_count": null,
   "metadata": {},
   "outputs": [],
   "source": []
  },
  {
   "cell_type": "code",
   "execution_count": null,
   "metadata": {},
   "outputs": [],
   "source": []
  },
  {
   "cell_type": "code",
   "execution_count": 36,
   "metadata": {},
   "outputs": [
    {
     "data": {
      "text/plain": [
       "[{'comissionAmount': 2.0,\n",
       "  'get': 'usdt',\n",
       "  'getVol': 10.1,\n",
       "  'price': 10.1,\n",
       "  'send': 'zsh',\n",
       "  'sendVol': 1.0,\n",
       "  'sender': 'z01x006cd240bb549be12078aa8cf76dac965060dd2b6ba2f4151b6b0fe680',\n",
       "  'symbol': 'zsh/usdt',\n",
       "  'timestamp': 1629980429.780089,\n",
       "  'tradeTxId': 'cc9828d5acda1758fc2435ad279c436213bd5d65a6767e557d9b0f9c88794a9c'},\n",
       " {'comissionAmount': 2.0,\n",
       "  'get': 'usdt',\n",
       "  'getVol': 10.2,\n",
       "  'price': 10.2,\n",
       "  'send': 'zsh',\n",
       "  'sendVol': 1.0,\n",
       "  'sender': 'z01x006cd240bb549be12078aa8cf76dac965060dd2b6ba2f4151b6b0fe680',\n",
       "  'symbol': 'zsh/usdt',\n",
       "  'timestamp': 1629980430.591604,\n",
       "  'tradeTxId': 'f82a51ea6f4e22fd10c4984a9b20965774e4f308eeae3d039dea659034c03d41'},\n",
       " {'comissionAmount': 2.0,\n",
       "  'get': 'usdt',\n",
       "  'getVol': 10.3,\n",
       "  'price': 10.3,\n",
       "  'send': 'zsh',\n",
       "  'sendVol': 1.0,\n",
       "  'sender': 'z01x006cd240bb549be12078aa8cf76dac965060dd2b6ba2f4151b6b0fe680',\n",
       "  'symbol': 'zsh/usdt',\n",
       "  'timestamp': 1629980431.33705,\n",
       "  'tradeTxId': '040d642e897cf24f6784de7ccdc1700bcf8f56881aa1d80751f65c2da2105573'},\n",
       " {'comissionAmount': 2.0,\n",
       "  'get': 'zsh',\n",
       "  'getVol': 1.0,\n",
       "  'price': 9.9,\n",
       "  'send': 'usdt',\n",
       "  'sendVol': 9.9,\n",
       "  'sender': 'z01x006cd240bb549be12078aa8cf76dac965060dd2b6ba2f4151b6b0fe680',\n",
       "  'symbol': 'zsh/usdt',\n",
       "  'timestamp': 1629980434.055874,\n",
       "  'tradeTxId': 'c657a8138676ea2926fd832102470dcae0b8133bff768b979bdaffa41ac91a30'},\n",
       " {'comissionAmount': 2.0,\n",
       "  'get': 'zsh',\n",
       "  'getVol': 1.0,\n",
       "  'price': 9.8,\n",
       "  'send': 'usdt',\n",
       "  'sendVol': 9.8,\n",
       "  'sender': 'z01x006cd240bb549be12078aa8cf76dac965060dd2b6ba2f4151b6b0fe680',\n",
       "  'symbol': 'zsh/usdt',\n",
       "  'timestamp': 1629980434.800877,\n",
       "  'tradeTxId': '3970013a35a8466f7ea666d188db891d1c8811926cf1709d6c87f5fdb4f47dd7'},\n",
       " {'comissionAmount': 2.0,\n",
       "  'get': 'zsh',\n",
       "  'getVol': 1.0,\n",
       "  'price': 9.700000000000001,\n",
       "  'send': 'usdt',\n",
       "  'sendVol': 9.700000000000001,\n",
       "  'sender': 'z01x006cd240bb549be12078aa8cf76dac965060dd2b6ba2f4151b6b0fe680',\n",
       "  'symbol': 'zsh/usdt',\n",
       "  'timestamp': 1629980435.500672,\n",
       "  'tradeTxId': '04f0977dd84510cae828b00e6e4f3db05dcd15dd43493dbd4f40523a30b5fed1'}]"
      ]
     },
     "execution_count": 36,
     "metadata": {},
     "output_type": "execute_result"
    }
   ],
   "source": [
    "ordersPool = json.loads(requests.get(host+'/getTradeOrders').content)['tradeOrders']\n",
    "ordersPool"
   ]
  },
  {
   "cell_type": "code",
   "execution_count": 132,
   "metadata": {},
   "outputs": [
    {
     "data": {
      "text/plain": [
       "[{'index': 1,\n",
       "  'previousHash': '9c3b78de7eb0066418a682aec7d0e6841cd5cbe70d71ae65309d4917cd1c5681',\n",
       "  'proof': 42,\n",
       "  'timestamp': 1629032178.368946,\n",
       "  'transactions': ['ascl,sdc,d[v,[d,vsdcaaxasx]]', 'lv,sldc,sdc ;,d;d']},\n",
       " {'index': 2,\n",
       "  'previousHash': '9204ca3bc9ca2716f5a0a3ed866c9fb5b15a292c0ea53bc2e3e145b94933f393',\n",
       "  'proof': 22976,\n",
       "  'timestamp': 1630062487.100557,\n",
       "  'transactions': [{'comissionAmount': 1.0,\n",
       "    'contract': None,\n",
       "    'price': 0.0,\n",
       "    'recieveAmount': None,\n",
       "    'recipient': 'z01x0028f3a682c732e293aad870ea7ed6bdd79b0fca340cf6927cf9e9c10a',\n",
       "    'sendAmount': 1,\n",
       "    'sender': 'z01x0000000000000000000000000000000000000000000000000000000000',\n",
       "    'symbol': 'zsh',\n",
       "    'timestamp': 1630062486.249603,\n",
       "    'tradeTxId': None}]},\n",
       " {'index': 3,\n",
       "  'previousHash': '422699de7eaf9da0437a4e67a69bbc18192eef6d4d145112fac4caaa8c72826b',\n",
       "  'proof': 119240,\n",
       "  'timestamp': 1630062491.103936,\n",
       "  'transactions': [{'comissionAmount': 1.0,\n",
       "    'contract': None,\n",
       "    'price': 0.0,\n",
       "    'recieveAmount': None,\n",
       "    'recipient': 'z01x0028f3a682c732e293aad870ea7ed6bdd79b0fca340cf6927cf9e9c10a',\n",
       "    'sendAmount': 1,\n",
       "    'sender': 'z01x0000000000000000000000000000000000000000000000000000000000',\n",
       "    'symbol': 'zsh',\n",
       "    'timestamp': 1630062490.456663,\n",
       "    'tradeTxId': None}]}]"
      ]
     },
     "execution_count": 132,
     "metadata": {},
     "output_type": "execute_result"
    }
   ],
   "source": [
    "chain = json.loads(requests.get(host+'/chain').content)['chain']\n",
    "chain"
   ]
  },
  {
   "cell_type": "code",
   "execution_count": null,
   "metadata": {},
   "outputs": [],
   "source": []
  },
  {
   "cell_type": "code",
   "execution_count": 71,
   "metadata": {},
   "outputs": [
    {
     "data": {
      "text/plain": [
       "b'{\"MSG\":4,\"SYNC\":\"Tx pool synced among 1 nodes\"}\\n'"
      ]
     },
     "execution_count": 71,
     "metadata": {},
     "output_type": "execute_result"
    }
   ],
   "source": [
    "# 'comissionAmount': 2.0,\n",
    "#   'get': 'usdt',\n",
    "#   'getVol': 1030.0,\n",
    "#   'price': 1030.0,\n",
    "#   'send': 'uni',\n",
    "#   'sendVol': 1.0,\n",
    "#   'sender': 'z01x0030dfc2c4736a6ecaa2362cb65f7fb313934b33283f51caa765e3745e',\n",
    "#   'symbol': 'uni/usdt',\n",
    "#   'timestamp': 1629813262.264664,\n",
    "#   'tradeTxId': 'd648507f2b334c965c3e616f6d06fb1e987e820453385b8e65183c2f994265c3'}\n",
    "\n",
    "\n",
    "buyTx = {\n",
    "        'type': 'trade',\n",
    "        'sender': json.loads(login)['ADDRESS'],\n",
    "        'symbol': 'uni/usdt',\n",
    "        'price': 1000.0,\n",
    "        'send': 'usdt',\n",
    "        'sendVol': 1000.0,\n",
    "        'get': 'uni',\n",
    "        'getVol': 1.0,\n",
    "        'comissionAmount':2\n",
    "    }\n",
    "txReq = requests.post(host+'/transactions/new', json=buyTx).content\n",
    "\n",
    "\n",
    "# {'comissionAmount': 2.0,\n",
    "#   'get': 'usdt',\n",
    "#   'getVol': 49010.0,\n",
    "#   'price': 49010.0,\n",
    "#   'send': 'btc',\n",
    "#   'sendVol': 1.0,\n",
    "#   'sender': 'z01x0030dfc2c4736a6ecaa2362cb65f7fb313934b33283f51caa765e3745e',\n",
    "#   'symbol': 'btc/usdt',\n",
    "#   'timestamp': 1629813003.165863,\n",
    "#   'tradeTxId': 'b0c04cc31ff140a01b7bacaad8dd8b866b93861edc74e4e2be28e0327e31c139'}\n",
    "\n",
    "# buyTx = {\n",
    "#         'type': 'trade',\n",
    "#         'sender': json.loads(login)['ADDRESS'],\n",
    "#         'symbol': 'btc/usdt',\n",
    "#         'price': 49010.1,\n",
    "#         'send': 'usdt',\n",
    "#         'sendVol': 49010.1,\n",
    "#         'get': 'btc',\n",
    "#         'getVol': 1.0,\n",
    "#         'comissionAmount':2\n",
    "#     }\n",
    "txReq = requests.post(host+'/transactions/new', json=buyTx).content\n",
    "txReq"
   ]
  },
  {
   "cell_type": "code",
   "execution_count": 48,
   "metadata": {
    "scrolled": true
   },
   "outputs": [
    {
     "data": {
      "text/plain": [
       "[{'comissionAmount': 2.0,\n",
       "  'get': 'usdt',\n",
       "  'getVol': 1010.0,\n",
       "  'price': 1010.0,\n",
       "  'send': 'uni',\n",
       "  'sendVol': 1.0,\n",
       "  'sender': 'z01x0030dfc2c4736a6ecaa2362cb65f7fb313934b33283f51caa765e3745e',\n",
       "  'symbol': 'uni/usdt',\n",
       "  'timestamp': 1629891726.53693,\n",
       "  'tradeTxId': '562bea1978aa9504102791d5b466ea68e40cf62605659248170a5ed150e53857'},\n",
       " {'comissionAmount': 2.0,\n",
       "  'get': 'usdt',\n",
       "  'getVol': 1020.0,\n",
       "  'price': 1020.0,\n",
       "  'send': 'uni',\n",
       "  'sendVol': 1.0,\n",
       "  'sender': 'z01x0030dfc2c4736a6ecaa2362cb65f7fb313934b33283f51caa765e3745e',\n",
       "  'symbol': 'uni/usdt',\n",
       "  'timestamp': 1629891727.30612,\n",
       "  'tradeTxId': 'cdbb497b923da5f1e8c473e2e4d74e0f78ff0b7897c728798c4c0b7ae36218c0'},\n",
       " {'comissionAmount': 2.0,\n",
       "  'get': 'usdt',\n",
       "  'getVol': 1030.0,\n",
       "  'price': 1030.0,\n",
       "  'send': 'uni',\n",
       "  'sendVol': 1.0,\n",
       "  'sender': 'z01x0030dfc2c4736a6ecaa2362cb65f7fb313934b33283f51caa765e3745e',\n",
       "  'symbol': 'uni/usdt',\n",
       "  'timestamp': 1629891728.041295,\n",
       "  'tradeTxId': '5209e1a8ebe118fe1f25b27fcca9a03bca2012d81f5f40046ac992111380aa4e'},\n",
       " {'comissionAmount': 2.0,\n",
       "  'get': 'uni',\n",
       "  'getVol': 1.0,\n",
       "  'price': 980.0,\n",
       "  'send': 'usdt',\n",
       "  'sendVol': 980.0,\n",
       "  'sender': 'z01x0030dfc2c4736a6ecaa2362cb65f7fb313934b33283f51caa765e3745e',\n",
       "  'symbol': 'uni/usdt',\n",
       "  'timestamp': 1629891732.675759,\n",
       "  'tradeTxId': '0dd163a143528b6618728d8cbc6f74204b43a583dd2a58c6b6a738f6a68f2eca'},\n",
       " {'comissionAmount': 2.0,\n",
       "  'get': 'uni',\n",
       "  'getVol': 1.0,\n",
       "  'price': 970.0,\n",
       "  'send': 'usdt',\n",
       "  'sendVol': 970.0,\n",
       "  'sender': 'z01x0030dfc2c4736a6ecaa2362cb65f7fb313934b33283f51caa765e3745e',\n",
       "  'symbol': 'uni/usdt',\n",
       "  'timestamp': 1629891733.420516,\n",
       "  'tradeTxId': '7fe359cd2d6b1566340a1c14ce181652357eca225e2d69a3ae287018076cc0d2'},\n",
       " {'comissionAmount': 2.0,\n",
       "  'get': 'uni',\n",
       "  'getVol': 1.0,\n",
       "  'price': 960.0,\n",
       "  'send': 'usdt',\n",
       "  'sendVol': 960.0,\n",
       "  'sender': 'z01x0030dfc2c4736a6ecaa2362cb65f7fb313934b33283f51caa765e3745e',\n",
       "  'symbol': 'uni/usdt',\n",
       "  'timestamp': 1629891734.132669,\n",
       "  'tradeTxId': 'b8e0024409c538cfeeb22aedbb2a3cf79254662fb50dd9e4ad0b76a0ace438ee'},\n",
       " {'comissionAmount': 2.0,\n",
       "  'get': 'usdt',\n",
       "  'getVol': 1008.0,\n",
       "  'price': 1008.0,\n",
       "  'send': 'uni',\n",
       "  'sendVol': 1.0,\n",
       "  'sender': 'z01x0030dfc2c4736a6ecaa2362cb65f7fb313934b33283f51caa765e3745e',\n",
       "  'symbol': 'uni/usdt',\n",
       "  'timestamp': 1629893795.800789,\n",
       "  'tradeTxId': '2b7b0ae515c7dab2cfe8b985e71cad9c1e61d9be558b31018ed40dae8145f68e'}]"
      ]
     },
     "execution_count": 48,
     "metadata": {},
     "output_type": "execute_result"
    }
   ],
   "source": [
    "ordersPool = json.loads(requests.get(host+'/getTradeOrders').content)['tradeOrders']\n",
    "ordersPool"
   ]
  },
  {
   "cell_type": "code",
   "execution_count": 26,
   "metadata": {},
   "outputs": [
    {
     "data": {
      "text/plain": [
       "[{'index': 1,\n",
       "  'previousHash': '9c3b78de7eb0066418a682aec7d0e6841cd5cbe70d71ae65309d4917cd1c5681',\n",
       "  'proof': 42,\n",
       "  'timestamp': 1629032178.368946,\n",
       "  'transactions': ['ascl,sdc,d[v,[d,vsdcaaxasx]]', 'lv,sldc,sdc ;,d;d']}]"
      ]
     },
     "execution_count": 26,
     "metadata": {},
     "output_type": "execute_result"
    }
   ],
   "source": [
    "chain = json.loads(requests.get(host+'/chain').content)['chain']\n",
    "chain"
   ]
  },
  {
   "cell_type": "code",
   "execution_count": null,
   "metadata": {},
   "outputs": [],
   "source": []
  },
  {
   "cell_type": "code",
   "execution_count": 38,
   "metadata": {},
   "outputs": [
    {
     "data": {
      "text/plain": [
       "[('z01x0030dfc2c4736a6ecaa2362cb65f7fb313934b33283f51caa765e3745e',\n",
       "  'btc/usdt',\n",
       "  'usdt',\n",
       "  'btc',\n",
       "  48960.0,\n",
       "  '86e46974fdd63dd773da36f3724e91ec782e62110b44637fde6322f39d4101ce'),\n",
       " ('z01x0030dfc2c4736a6ecaa2362cb65f7fb313934b33283f51caa765e3745e',\n",
       "  'btc/usdt',\n",
       "  'usdt',\n",
       "  'btc',\n",
       "  48970.0,\n",
       "  'fd782f8c14c710d1e33ca276961e9cb7a61fff371ead383dac2d81ddb15af1a0'),\n",
       " ('z01x0030dfc2c4736a6ecaa2362cb65f7fb313934b33283f51caa765e3745e',\n",
       "  'btc/usdt',\n",
       "  'usdt',\n",
       "  'btc',\n",
       "  48980.0,\n",
       "  '6aab946489976021faff63a985d37243a65b1ec0c3c837bc0d92c6b1154aae3f'),\n",
       " ('z01x0030dfc2c4736a6ecaa2362cb65f7fb313934b33283f51caa765e3745e',\n",
       "  'btc/usdt',\n",
       "  'btc',\n",
       "  'usdt',\n",
       "  49000.0,\n",
       "  '6d348eea99de4b9a0999f1b252cdf1c28d8bba0bdecf3184c17f64291e2ab4e3'),\n",
       " ('z01x0030dfc2c4736a6ecaa2362cb65f7fb313934b33283f51caa765e3745e',\n",
       "  'btc/usdt',\n",
       "  'usdt',\n",
       "  'btc',\n",
       "  49000.0,\n",
       "  '6356596306c008b19dee84b58701b0d93bdd07b17160c6caf24ce4314082b511'),\n",
       " ('z01x0030dfc2c4736a6ecaa2362cb65f7fb313934b33283f51caa765e3745e',\n",
       "  'btc/usdt',\n",
       "  'btc',\n",
       "  'usdt',\n",
       "  49010.0,\n",
       "  'a52d682742d1a2f1aaa85c79af25a871e92a2ff8be550d88336d4e5052d87e19'),\n",
       " ('z01x0030dfc2c4736a6ecaa2362cb65f7fb313934b33283f51caa765e3745e',\n",
       "  'btc/usdt',\n",
       "  'btc',\n",
       "  'usdt',\n",
       "  49020.0,\n",
       "  '5bf8ba8eb92b8da3c91a9f19047b97b5f4daa6971fb8bedc417aa16255bb3a87'),\n",
       " ('z01x0030dfc2c4736a6ecaa2362cb65f7fb313934b33283f51caa765e3745e',\n",
       "  'btc/usdt',\n",
       "  'btc',\n",
       "  'usdt',\n",
       "  49030.0,\n",
       "  'fa145471de6058bde3a3eb019f9f62dc89ad37628faf81c6692aa0721c7d37bd')]"
      ]
     },
     "execution_count": 38,
     "metadata": {},
     "output_type": "execute_result"
    }
   ],
   "source": [
    "sybmolSortedLst = sorted([(ordersPool[i]['sender'],ordersPool[i]['symbol'],\\\n",
    "                            ordersPool[i]['send'],ordersPool[i]['get'],\\\n",
    "                           ordersPool[i]['price'],ordersPool[i]['tradeTxId'],)\\\n",
    "                          for i in range(len(ordersPool))], key=itemgetter(4, 2, 1))\n",
    "\n",
    "sybmolSortedLst"
   ]
  },
  {
   "cell_type": "code",
   "execution_count": 39,
   "metadata": {},
   "outputs": [
    {
     "data": {
      "text/plain": [
       "[(('z01x0030dfc2c4736a6ecaa2362cb65f7fb313934b33283f51caa765e3745e',\n",
       "   'btc/usdt',\n",
       "   'btc',\n",
       "   'usdt',\n",
       "   49000.0,\n",
       "   '6d348eea99de4b9a0999f1b252cdf1c28d8bba0bdecf3184c17f64291e2ab4e3'),\n",
       "  ('z01x0030dfc2c4736a6ecaa2362cb65f7fb313934b33283f51caa765e3745e',\n",
       "   'btc/usdt',\n",
       "   'usdt',\n",
       "   'btc',\n",
       "   49000.0,\n",
       "   '6356596306c008b19dee84b58701b0d93bdd07b17160c6caf24ce4314082b511'))]"
      ]
     },
     "execution_count": 39,
     "metadata": {},
     "output_type": "execute_result"
    }
   ],
   "source": [
    "mathchedOrders=[]\n",
    "for i in range(len(sybmolSortedLst)-1):\n",
    "    if (sybmolSortedLst[i][2] == sybmolSortedLst[i+1][3]) and (sybmolSortedLst[i][3] == sybmolSortedLst[i+1][2]) :\n",
    "\n",
    "        # Split symbol and define direction and price matching\n",
    "        splittedSymbol1 = re.split(r'/', sybmolSortedLst[i][1])[0]\n",
    "        splittedSymbol2 = re.split(r'/', sybmolSortedLst[i+1][1])[0]\n",
    "\n",
    "        if ((splittedSymbol1 == sybmolSortedLst[i][2] and splittedSymbol2 == sybmolSortedLst[i+1][3]) \\\n",
    "            and (sybmolSortedLst[i][4] <= sybmolSortedLst[i+1][4])) \\\n",
    "            or ((splittedSymbol1 == sybmolSortedLst[i][3] and splittedSymbol2 == sybmolSortedLst[i+1][2])\\\n",
    "               and (sybmolSortedLst[i][4] >= sybmolSortedLst[i+1][4])):\n",
    "\n",
    "            mathchedOrders.append((sybmolSortedLst[i], sybmolSortedLst[i+1],))\n",
    "mathchedOrders"
   ]
  },
  {
   "cell_type": "code",
   "execution_count": 56,
   "metadata": {},
   "outputs": [
    {
     "data": {
      "text/plain": [
       "'6356596306c008b19dee84b58701b0d93bdd07b17160c6caf24ce4314082b511'"
      ]
     },
     "execution_count": 56,
     "metadata": {},
     "output_type": "execute_result"
    }
   ],
   "source": [
    "mathchedOrders[0][1][-1]"
   ]
  },
  {
   "cell_type": "code",
   "execution_count": null,
   "metadata": {},
   "outputs": [],
   "source": []
  },
  {
   "cell_type": "code",
   "execution_count": null,
   "metadata": {},
   "outputs": [],
   "source": [
    "commonTxs = []\n",
    "# Get matched orders\n",
    "txDir = {}\n",
    "for i in range(len(mathchedOrders)):\n",
    "    tempLst = [mathchedOrders[i][0][0], mathchedOrders[i][1][0]]\n",
    "    txTempLst=[order for order in ordersList if order['tradeTxId'] in tempLst]\n",
    "    txDir[f'tx_{i}'] = txTempLst"
   ]
  },
  {
   "cell_type": "code",
   "execution_count": null,
   "metadata": {},
   "outputs": [],
   "source": []
  },
  {
   "cell_type": "code",
   "execution_count": null,
   "metadata": {},
   "outputs": [],
   "source": []
  },
  {
   "cell_type": "code",
   "execution_count": 270,
   "metadata": {},
   "outputs": [
    {
     "data": {
      "text/plain": [
       "b'{\"txPool\":[]}\\n'"
      ]
     },
     "execution_count": 270,
     "metadata": {},
     "output_type": "execute_result"
    }
   ],
   "source": [
    "txPool = requests.get(host+'/getTxPool').content\n",
    "txPool"
   ]
  },
  {
   "cell_type": "code",
   "execution_count": 67,
   "metadata": {},
   "outputs": [
    {
     "data": {
      "text/plain": [
       "[{'index': 1,\n",
       "  'previousHash': '9c3b78de7eb0066418a682aec7d0e6841cd5cbe70d71ae65309d4917cd1c5681',\n",
       "  'proof': 42,\n",
       "  'timestamp': 1629032178.368946,\n",
       "  'transactions': ['ascl,sdc,d[v,[d,vsdcaaxasx]]', 'lv,sldc,sdc ;,d;d']},\n",
       " {'index': 2,\n",
       "  'previousHash': '9204ca3bc9ca2716f5a0a3ed866c9fb5b15a292c0ea53bc2e3e145b94933f393',\n",
       "  'proof': 22976,\n",
       "  'timestamp': 1629891791.715504,\n",
       "  'transactions': [{'comissionAmount': 1.0,\n",
       "    'contract': None,\n",
       "    'price': 0.0,\n",
       "    'recieveAmount': None,\n",
       "    'recipient': '97c3a1fcdbad4085b059b22735c74faf',\n",
       "    'sendAmount': 1,\n",
       "    'sender': 'z01x0000000000000000000000000000000000000000000000000000000000',\n",
       "    'symbol': 'zsh',\n",
       "    'timestamp': 1629891791.043628,\n",
       "    'tradeTxId': None},\n",
       "   {'comissionAmount': 0.02,\n",
       "    'contract': 'uni',\n",
       "    'price': 1001.0,\n",
       "    'recieveAmount': 1001.0,\n",
       "    'recipient': 'z01x0030dfc2c4736a6ecaa2362cb65f7fb313934b33283f51caa765e3745e',\n",
       "    'sendAmount': 1.0,\n",
       "    'sender': 'z01x0030dfc2c4736a6ecaa2362cb65f7fb313934b33283f51caa765e3745e',\n",
       "    'symbol': 'uni/usdt',\n",
       "    'timestamp': 1629891791.715456,\n",
       "    'tradeTxId': 'f08fc1beaabd2939b7d88f1d240c0c532337608bb2899e7d02c3d796656388f7'},\n",
       "   {'comissionAmount': 0.02,\n",
       "    'contract': 'usdt',\n",
       "    'price': 1001.0,\n",
       "    'recieveAmount': 1.0,\n",
       "    'recipient': 'z01x0030dfc2c4736a6ecaa2362cb65f7fb313934b33283f51caa765e3745e',\n",
       "    'sendAmount': 1001.0,\n",
       "    'sender': 'z01x0030dfc2c4736a6ecaa2362cb65f7fb313934b33283f51caa765e3745e',\n",
       "    'symbol': 'uni/usdt',\n",
       "    'timestamp': 1629891791.715467,\n",
       "    'tradeTxId': '3802ce964760f8b31751ac79fcb39c3d0652632880264effaf704884089b26cf'},\n",
       "   {'comissionAmount': 0.02,\n",
       "    'contract': 'uni',\n",
       "    'price': 1009.0,\n",
       "    'recieveAmount': 1009.0,\n",
       "    'recipient': 'z01x0030dfc2c4736a6ecaa2362cb65f7fb313934b33283f51caa765e3745e',\n",
       "    'sendAmount': 1.0,\n",
       "    'sender': 'z01x0030dfc2c4736a6ecaa2362cb65f7fb313934b33283f51caa765e3745e',\n",
       "    'symbol': 'uni/usdt',\n",
       "    'timestamp': 1629891791.715478,\n",
       "    'tradeTxId': 'eb36e9aab981b5feadd9abb213e1a41260bace08d1e55fec3266dc608dc97d53'},\n",
       "   {'comissionAmount': 0.02,\n",
       "    'contract': 'usdt',\n",
       "    'price': 1009.0,\n",
       "    'recieveAmount': 1.0,\n",
       "    'recipient': 'z01x0030dfc2c4736a6ecaa2362cb65f7fb313934b33283f51caa765e3745e',\n",
       "    'sendAmount': 1009.0,\n",
       "    'sender': 'z01x0030dfc2c4736a6ecaa2362cb65f7fb313934b33283f51caa765e3745e',\n",
       "    'symbol': 'uni/usdt',\n",
       "    'timestamp': 1629891791.71548,\n",
       "    'tradeTxId': 'b5c78bb54ea2e826467e6a95a010d09e44bd401dfd47ae435ccb181b13ebf235'}]},\n",
       " {'index': 3,\n",
       "  'previousHash': '5316de6b4e90f9174b31672c82fdb0f575e3f16d86e2f1fca0733a964e5b19e5',\n",
       "  'proof': 119240,\n",
       "  'timestamp': 1629891815.00987,\n",
       "  'transactions': [{'comissionAmount': 1.0,\n",
       "    'contract': None,\n",
       "    'price': 0.0,\n",
       "    'recieveAmount': None,\n",
       "    'recipient': '97c3a1fcdbad4085b059b22735c74faf',\n",
       "    'sendAmount': 1,\n",
       "    'sender': 'z01x0000000000000000000000000000000000000000000000000000000000',\n",
       "    'symbol': 'zsh',\n",
       "    'timestamp': 1629891814.308184,\n",
       "    'tradeTxId': None},\n",
       "   {'comissionAmount': 0.02,\n",
       "    'contract': 'uni',\n",
       "    'price': 1000.0,\n",
       "    'recieveAmount': 1000.0,\n",
       "    'recipient': 'z01x0030dfc2c4736a6ecaa2362cb65f7fb313934b33283f51caa765e3745e',\n",
       "    'sendAmount': 1.0,\n",
       "    'sender': 'z01x0030dfc2c4736a6ecaa2362cb65f7fb313934b33283f51caa765e3745e',\n",
       "    'symbol': 'uni/usdt',\n",
       "    'timestamp': 1629891815.009819,\n",
       "    'tradeTxId': '28f46fc914ddcf4239f9bfbf6120d5beebfbdeaba0300e0943ad12d60cee0fe9'},\n",
       "   {'comissionAmount': 0.02,\n",
       "    'contract': 'usdt',\n",
       "    'price': 1000.0,\n",
       "    'recieveAmount': 1.0,\n",
       "    'recipient': 'z01x0030dfc2c4736a6ecaa2362cb65f7fb313934b33283f51caa765e3745e',\n",
       "    'sendAmount': 1000.0,\n",
       "    'sender': 'z01x0030dfc2c4736a6ecaa2362cb65f7fb313934b33283f51caa765e3745e',\n",
       "    'symbol': 'uni/usdt',\n",
       "    'timestamp': 1629891815.009833,\n",
       "    'tradeTxId': '173178e0b114fac10085ea955a04befd371bd0749296cbe0456d0a42c37c6c25'}]},\n",
       " {'index': 4,\n",
       "  'previousHash': '78dd8f698a2512481a38329a7676cbfac925bfe692a3779845ee4a25ee955fe7',\n",
       "  'proof': 26333,\n",
       "  'timestamp': 1629891840.563551,\n",
       "  'transactions': [{'comissionAmount': 1.0,\n",
       "    'contract': None,\n",
       "    'price': 0.0,\n",
       "    'recieveAmount': None,\n",
       "    'recipient': '97c3a1fcdbad4085b059b22735c74faf',\n",
       "    'sendAmount': 1,\n",
       "    'sender': 'z01x0000000000000000000000000000000000000000000000000000000000',\n",
       "    'symbol': 'zsh',\n",
       "    'timestamp': 1629891839.940452,\n",
       "    'tradeTxId': None},\n",
       "   {'comissionAmount': 0.02,\n",
       "    'contract': 'uni',\n",
       "    'price': 995.0,\n",
       "    'recieveAmount': 995.0,\n",
       "    'recipient': 'z01x0030dfc2c4736a6ecaa2362cb65f7fb313934b33283f51caa765e3745e',\n",
       "    'sendAmount': 1.0,\n",
       "    'sender': 'z01x0030dfc2c4736a6ecaa2362cb65f7fb313934b33283f51caa765e3745e',\n",
       "    'symbol': 'uni/usdt',\n",
       "    'timestamp': 1629891840.563482,\n",
       "    'tradeTxId': 'b0f0b5bc8246a50bac85bc12027892720d790c930f31f7a0e282a81eb87c92fa'},\n",
       "   {'comissionAmount': 0.02,\n",
       "    'contract': 'usdt',\n",
       "    'price': 995.0,\n",
       "    'recieveAmount': 1.0,\n",
       "    'recipient': 'z01x0030dfc2c4736a6ecaa2362cb65f7fb313934b33283f51caa765e3745e',\n",
       "    'sendAmount': 995.0,\n",
       "    'sender': 'z01x0030dfc2c4736a6ecaa2362cb65f7fb313934b33283f51caa765e3745e',\n",
       "    'symbol': 'uni/usdt',\n",
       "    'timestamp': 1629891840.5635,\n",
       "    'tradeTxId': '95d47afaffbd445faeeefacf36ed0fcbd9a802079a48fc0187597371416bce19'}]},\n",
       " {'index': 5,\n",
       "  'previousHash': '6718596e49ed01fe1b6a847ee511a7e7188f9ec20d6911575a70e257a76b00fc',\n",
       "  'proof': 22850,\n",
       "  'timestamp': 1629891873.729846,\n",
       "  'transactions': [{'comissionAmount': 1.0,\n",
       "    'contract': None,\n",
       "    'price': 0.0,\n",
       "    'recieveAmount': None,\n",
       "    'recipient': '97c3a1fcdbad4085b059b22735c74faf',\n",
       "    'sendAmount': 1,\n",
       "    'sender': 'z01x0000000000000000000000000000000000000000000000000000000000',\n",
       "    'symbol': 'zsh',\n",
       "    'timestamp': 1629891873.053874,\n",
       "    'tradeTxId': None},\n",
       "   {'comissionAmount': 0.02,\n",
       "    'contract': 'uni',\n",
       "    'price': 999.0,\n",
       "    'recieveAmount': 999.0,\n",
       "    'recipient': 'z01x0030dfc2c4736a6ecaa2362cb65f7fb313934b33283f51caa765e3745e',\n",
       "    'sendAmount': 1.0,\n",
       "    'sender': 'z01x0030dfc2c4736a6ecaa2362cb65f7fb313934b33283f51caa765e3745e',\n",
       "    'symbol': 'uni/usdt',\n",
       "    'timestamp': 1629891873.729811,\n",
       "    'tradeTxId': '7f5253f4d1a1ad73ef9877534a26b2512427cea07e19598e72d2a2de874990d3'},\n",
       "   {'comissionAmount': 0.02,\n",
       "    'contract': 'usdt',\n",
       "    'price': 999.0,\n",
       "    'recieveAmount': 1.0,\n",
       "    'recipient': 'z01x0030dfc2c4736a6ecaa2362cb65f7fb313934b33283f51caa765e3745e',\n",
       "    'sendAmount': 999.0,\n",
       "    'sender': 'z01x0030dfc2c4736a6ecaa2362cb65f7fb313934b33283f51caa765e3745e',\n",
       "    'symbol': 'uni/usdt',\n",
       "    'timestamp': 1629891873.729823,\n",
       "    'tradeTxId': '04dbdf8ec688a9831ce305e761e740a2f499d92e2d5edb22ed67bd41d570fb4c'}]},\n",
       " {'index': 6,\n",
       "  'previousHash': 'dd45a3faa48ba99a90f175f16c28217ffc6b2c33da759c4b4707e6ed8fb5dbf8',\n",
       "  'proof': 13230,\n",
       "  'timestamp': 1629891895.740501,\n",
       "  'transactions': [{'comissionAmount': 1.0,\n",
       "    'contract': None,\n",
       "    'price': 0.0,\n",
       "    'recieveAmount': None,\n",
       "    'recipient': '97c3a1fcdbad4085b059b22735c74faf',\n",
       "    'sendAmount': 1,\n",
       "    'sender': 'z01x0000000000000000000000000000000000000000000000000000000000',\n",
       "    'symbol': 'zsh',\n",
       "    'timestamp': 1629891895.05764,\n",
       "    'tradeTxId': None},\n",
       "   {'comissionAmount': 0.02,\n",
       "    'contract': 'uni',\n",
       "    'price': 1008.0,\n",
       "    'recieveAmount': 1008.0,\n",
       "    'recipient': 'z01x0030dfc2c4736a6ecaa2362cb65f7fb313934b33283f51caa765e3745e',\n",
       "    'sendAmount': 1.0,\n",
       "    'sender': 'z01x0030dfc2c4736a6ecaa2362cb65f7fb313934b33283f51caa765e3745e',\n",
       "    'symbol': 'uni/usdt',\n",
       "    'timestamp': 1629891895.740466,\n",
       "    'tradeTxId': '46b2935a1a933812d65d11ea2a6be74307ce7966cb3496932fe64704ee8d8605'},\n",
       "   {'comissionAmount': 0.02,\n",
       "    'contract': 'usdt',\n",
       "    'price': 1008.0,\n",
       "    'recieveAmount': 1.0,\n",
       "    'recipient': 'z01x0030dfc2c4736a6ecaa2362cb65f7fb313934b33283f51caa765e3745e',\n",
       "    'sendAmount': 1008.0,\n",
       "    'sender': 'z01x0030dfc2c4736a6ecaa2362cb65f7fb313934b33283f51caa765e3745e',\n",
       "    'symbol': 'uni/usdt',\n",
       "    'timestamp': 1629891895.740478,\n",
       "    'tradeTxId': 'faf91e41fe6dacb2c9a11b0bb052fa34c4186e924cb91c998df57662b0e8421f'}]},\n",
       " {'index': 7,\n",
       "  'previousHash': '11e4ebc58453a2ec49e40e91eb5670af0ac293309596947db5710f466e733368',\n",
       "  'proof': 25592,\n",
       "  'timestamp': 1629893815.034123,\n",
       "  'transactions': [{'comissionAmount': 1.0,\n",
       "    'contract': None,\n",
       "    'price': 0.0,\n",
       "    'recieveAmount': None,\n",
       "    'recipient': '97c3a1fcdbad4085b059b22735c74faf',\n",
       "    'sendAmount': 1,\n",
       "    'sender': 'z01x0000000000000000000000000000000000000000000000000000000000',\n",
       "    'symbol': 'zsh',\n",
       "    'timestamp': 1629893812.792582,\n",
       "    'tradeTxId': None},\n",
       "   {'comissionAmount': 0.02,\n",
       "    'contract': 'uni',\n",
       "    'price': 1008.0,\n",
       "    'recieveAmount': 1008.0,\n",
       "    'recipient': 'z01x0030dfc2c4736a6ecaa2362cb65f7fb313934b33283f51caa765e3745e',\n",
       "    'sendAmount': 1.0,\n",
       "    'sender': 'z01x0030dfc2c4736a6ecaa2362cb65f7fb313934b33283f51caa765e3745e',\n",
       "    'symbol': 'uni/usdt',\n",
       "    'timestamp': 1629893815.034074,\n",
       "    'tradeTxId': '14e24eebcb7943be455bf30025d6b6e65c39b23eb5301dc98f4040469a4fb1db'},\n",
       "   {'comissionAmount': 0.02,\n",
       "    'contract': 'usdt',\n",
       "    'price': 1008.0,\n",
       "    'recieveAmount': 1.0,\n",
       "    'recipient': 'z01x0030dfc2c4736a6ecaa2362cb65f7fb313934b33283f51caa765e3745e',\n",
       "    'sendAmount': 1008.0,\n",
       "    'sender': 'z01x0030dfc2c4736a6ecaa2362cb65f7fb313934b33283f51caa765e3745e',\n",
       "    'symbol': 'uni/usdt',\n",
       "    'timestamp': 1629893815.03409,\n",
       "    'tradeTxId': 'a921b16e215a7bd8121261603e3cd4c81fbeda0ee82b8b523a21649bfab828b4'}]}]"
      ]
     },
     "execution_count": 67,
     "metadata": {},
     "output_type": "execute_result"
    }
   ],
   "source": [
    "chain = json.loads(requests.get(host+'/chain').content)['chain']\n",
    "chain"
   ]
  },
  {
   "cell_type": "code",
   "execution_count": null,
   "metadata": {},
   "outputs": [],
   "source": [
    "chain[0][-1][]"
   ]
  },
  {
   "cell_type": "markdown",
   "metadata": {},
   "source": [
    "### NODE 1"
   ]
  },
  {
   "cell_type": "code",
   "execution_count": 71,
   "metadata": {},
   "outputs": [],
   "source": [
    "# host1 = 'http://0.0.0.0:5001'\n",
    "host1 = 'http://178.176.120.241:5000'"
   ]
  },
  {
   "cell_type": "code",
   "execution_count": 74,
   "metadata": {},
   "outputs": [
    {
     "data": {
      "text/plain": [
       "b'{\"ADDRESS\":\"z01x001ddb88cc07c6d9179c51b370128d07109a650cba29c5889c078e6bb0\"}\\n'"
      ]
     },
     "execution_count": 74,
     "metadata": {},
     "output_type": "execute_result"
    }
   ],
   "source": [
    "wallet1 = requests.post(host1+'/wallet/new', json={'password': 'lalalend'}).content\n",
    "wallet1"
   ]
  },
  {
   "cell_type": "code",
   "execution_count": 266,
   "metadata": {},
   "outputs": [
    {
     "data": {
      "text/plain": [
       "b'{\"ADDRESS\":\"z01x0011c451ec98668981d667349895f26de90940f0b55a2843eabab0ebc7\",\"MSG\":true}\\n'"
      ]
     },
     "execution_count": 266,
     "metadata": {},
     "output_type": "execute_result"
    }
   ],
   "source": [
    "login1 = requests.post(host1+'/wallet/login', json={'password': 'lalalend'}).content\n",
    "login1"
   ]
  },
  {
   "cell_type": "code",
   "execution_count": 267,
   "metadata": {},
   "outputs": [
    {
     "data": {
      "text/plain": [
       "b'{\"MSG\":[3,\"Tx pool synced among 1 nodes\"]}\\n'"
      ]
     },
     "execution_count": 267,
     "metadata": {},
     "output_type": "execute_result"
    }
   ],
   "source": [
    "tradeTx1 = {\n",
    "    'type': 'trade',\n",
    "    'sender': json.loads(login1)['ADDRESS'],\n",
    "    'symbol': 'btc/usdt',\n",
    "    'price': 3.0,\n",
    "    'send': 'btc',\n",
    "    'sendVol': 2.0,\n",
    "    'get': 'usdt',\n",
    "    'getVol': 6.0,\n",
    "    'comissionAmount':2\n",
    "}\n",
    "\n",
    "txReq1 = requests.post(host1+'/transactions/new', json=tradeTx1).content\n",
    "txReq1"
   ]
  },
  {
   "cell_type": "code",
   "execution_count": 268,
   "metadata": {},
   "outputs": [
    {
     "data": {
      "text/plain": [
       "b'{\"MSG\":[3,\"Tx pool synced among 1 nodes\"]}\\n'"
      ]
     },
     "execution_count": 268,
     "metadata": {},
     "output_type": "execute_result"
    }
   ],
   "source": [
    "tradeTx1 = {\n",
    "    'type': 'trade',\n",
    "    'sender': json.loads(login1)['ADDRESS'],\n",
    "    'symbol': 'btc/usdt',\n",
    "    'price': 3.0,\n",
    "    'send': 'usdt',\n",
    "    'sendVol': 6.0,\n",
    "    'get': 'btc',\n",
    "    'getVol': 2.0,\n",
    "    'comissionAmount':2\n",
    "}\n",
    "\n",
    "txReq1 = requests.post(host1+'/transactions/new', json=tradeTx1).content\n",
    "txReq1"
   ]
  },
  {
   "cell_type": "code",
   "execution_count": 72,
   "metadata": {},
   "outputs": [
    {
     "data": {
      "text/plain": [
       "b'{\"tradeOrders\":[{\"comissionAmount\":2.0,\"get\":\"usdt\",\"getVol\":49010.0,\"price\":49010.0,\"send\":\"btc\",\"sendVol\":1.0,\"sender\":\"z01x0030dfc2c4736a6ecaa2362cb65f7fb313934b33283f51caa765e3745e\",\"symbol\":\"btc/usdt\",\"timestamp\":1629785450.250563,\"tradeTxId\":\"097e6811fd1bb472cf2acc15bbcf773e224b10cf4c5a814201075b48eb455a1e\"},{\"comissionAmount\":2.0,\"get\":\"usdt\",\"getVol\":49020.0,\"price\":49020.0,\"send\":\"btc\",\"sendVol\":1.0,\"sender\":\"z01x0030dfc2c4736a6ecaa2362cb65f7fb313934b33283f51caa765e3745e\",\"symbol\":\"btc/usdt\",\"timestamp\":1629785451.023485,\"tradeTxId\":\"c31a89faee68430c5dbc117c60d35a45080e842b591b76a80e1fe1d32376f628\"},{\"comissionAmount\":2.0,\"get\":\"usdt\",\"getVol\":49030.0,\"price\":49030.0,\"send\":\"btc\",\"sendVol\":1.0,\"sender\":\"z01x0030dfc2c4736a6ecaa2362cb65f7fb313934b33283f51caa765e3745e\",\"symbol\":\"btc/usdt\",\"timestamp\":1629785451.748514,\"tradeTxId\":\"ba171caf3e650036595ee8432cb0627ceb1c2c0267fb03f9ac4a0218ac2679eb\"},{\"comissionAmount\":2.0,\"get\":\"btc\",\"getVol\":1.0,\"price\":48980.0,\"send\":\"usdt\",\"sendVol\":48980.0,\"sender\":\"z01x0030dfc2c4736a6ecaa2362cb65f7fb313934b33283f51caa765e3745e\",\"symbol\":\"btc/usdt\",\"timestamp\":1629785456.066063,\"tradeTxId\":\"5c63a413cbe72d73bdb4f6f59bbd157a6ada4bad4c829f7214a3d156b90e27d0\"},{\"comissionAmount\":2.0,\"get\":\"btc\",\"getVol\":1.0,\"price\":48970.0,\"send\":\"usdt\",\"sendVol\":48970.0,\"sender\":\"z01x0030dfc2c4736a6ecaa2362cb65f7fb313934b33283f51caa765e3745e\",\"symbol\":\"btc/usdt\",\"timestamp\":1629785456.808713,\"tradeTxId\":\"38d302fce84d1f625b169a13c6291864e18115cd8cc16ef48ead3dc6ef034e0a\"},{\"comissionAmount\":2.0,\"get\":\"btc\",\"getVol\":1.0,\"price\":48960.0,\"send\":\"usdt\",\"sendVol\":48960.0,\"sender\":\"z01x0030dfc2c4736a6ecaa2362cb65f7fb313934b33283f51caa765e3745e\",\"symbol\":\"btc/usdt\",\"timestamp\":1629785457.525857,\"tradeTxId\":\"bdc50ed2c308e3f46734c124ac5634b0b0b5bd73c4cb8f6392f71a587f7e9d83\"}]}\\n'"
      ]
     },
     "execution_count": 72,
     "metadata": {},
     "output_type": "execute_result"
    }
   ],
   "source": [
    "ordersPool1 = requests.get(host1+'/getTradeOrders').content\n",
    "ordersPool1"
   ]
  },
  {
   "cell_type": "code",
   "execution_count": 272,
   "metadata": {},
   "outputs": [
    {
     "data": {
      "text/plain": [
       "b'{\"index\":3,\"message\":\"New Block Forged\",\"pool_syncing\":\"Tx pool synced among 1 nodes\",\"previous_hash\":\"49c4fa4aada5dec35ce6f03f9de1465628b9513738ce8d3dd1f18cb17d0f2a8f\",\"proof\":119240,\"transactions\":[{\"comissionAmount\":1.0,\"contract\":null,\"price\":0.0,\"recieveAmount\":null,\"recipient\":\"895cc4a0852d41a9a9c4f7f0ad55d296\",\"sendAmount\":1,\"sender\":\"z01x0000000000000000000000000000000000000000000000000000000000\",\"symbol\":\"zsh\",\"timestamp\":1629723377.434202,\"tradeTxId\":null},{\"comissionAmount\":2.0,\"contract\":\"btc\",\"price\":3.0,\"recieveAmount\":6.0,\"recipient\":\"z01x0011c451ec98668981d667349895f26de90940f0b55a2843eabab0ebc7\",\"sendAmount\":2.0,\"sender\":\"z01x0011c451ec98668981d667349895f26de90940f0b55a2843eabab0ebc7\",\"symbol\":\"btc/usdt\",\"timestamp\":1629723377.440518,\"tradeTxId\":\"fb7456550faa82f198c6026e488ce59602ae9a013ad08fa808e2b6bdff76e856\"},{\"comissionAmount\":2.0,\"contract\":\"usdt\",\"price\":3.0,\"recieveAmount\":2.0,\"recipient\":\"z01x0011c451ec98668981d667349895f26de90940f0b55a2843eabab0ebc7\",\"sendAmount\":6.0,\"sender\":\"z01x0011c451ec98668981d667349895f26de90940f0b55a2843eabab0ebc7\",\"symbol\":\"btc/usdt\",\"timestamp\":1629723377.440526,\"tradeTxId\":\"43fd5abe90609c230698a44803fd474eb96d75e401a35133f039d6976fc34555\"}]}\\n'"
      ]
     },
     "execution_count": 272,
     "metadata": {},
     "output_type": "execute_result"
    }
   ],
   "source": [
    "mineReq1 = requests.get(host1+'/mine').content\n",
    "mineReq1"
   ]
  },
  {
   "cell_type": "code",
   "execution_count": 177,
   "metadata": {},
   "outputs": [
    {
     "data": {
      "text/plain": [
       "b'{\"txPool\":[]}\\n'"
      ]
     },
     "execution_count": 177,
     "metadata": {},
     "output_type": "execute_result"
    }
   ],
   "source": [
    "txPool1 = requests.get(host1+'/getTxPool').content\n",
    "txPool1"
   ]
  },
  {
   "cell_type": "code",
   "execution_count": 273,
   "metadata": {},
   "outputs": [
    {
     "data": {
      "text/plain": [
       "b'{\"chain\":[{\"index\":1,\"previousHash\":\"9c3b78de7eb0066418a682aec7d0e6841cd5cbe70d71ae65309d4917cd1c5681\",\"proof\":42,\"timestamp\":1629032178.368946,\"transactions\":[\"ascl,sdc,d[v,[d,vsdcaaxasx]]\",\"lv,sldc,sdc ;,d;d\"]},{\"index\":2,\"previousHash\":\"9204ca3bc9ca2716f5a0a3ed866c9fb5b15a292c0ea53bc2e3e145b94933f393\",\"proof\":22976,\"timestamp\":1629723151.057186,\"transactions\":[{\"comissionAmount\":1.0,\"contract\":null,\"price\":0.0,\"recieveAmount\":null,\"recipient\":\"d32902ea13e44d3a9f905d99620d0892\",\"sendAmount\":1,\"sender\":\"z01x0000000000000000000000000000000000000000000000000000000000\",\"symbol\":\"zsh\",\"timestamp\":1629723151.043912,\"tradeTxId\":null},{\"comissionAmount\":2.0,\"contract\":\"btc\",\"price\":30000.0,\"recieveAmount\":60000.0,\"recipient\":\"z01x00daba2c45b077691c1ada65fb07f5e740e455d4463c59028b37055900\",\"sendAmount\":2.0,\"sender\":\"z01x00daba2c45b077691c1ada65fb07f5e740e455d4463c59028b37055900\",\"symbol\":\"btc/usdt\",\"timestamp\":1629723151.057158,\"tradeTxId\":\"8e85b87e9298b3d39259884f5edc56eb516ec865d96333783cc2c4e6cc53f22e\"},{\"comissionAmount\":2.0,\"contract\":\"usdt\",\"price\":30000.0,\"recieveAmount\":2.0,\"recipient\":\"z01x00daba2c45b077691c1ada65fb07f5e740e455d4463c59028b37055900\",\"sendAmount\":60000.0,\"sender\":\"z01x00daba2c45b077691c1ada65fb07f5e740e455d4463c59028b37055900\",\"symbol\":\"btc/usdt\",\"timestamp\":1629723151.057167,\"tradeTxId\":\"ff4f6d0db4cb0753f60e402dbfa9e8595c983fe03906a695d904966f8b99b3b8\"}]},{\"index\":3,\"previousHash\":\"49c4fa4aada5dec35ce6f03f9de1465628b9513738ce8d3dd1f18cb17d0f2a8f\",\"proof\":119240,\"timestamp\":1629723377.440542,\"transactions\":[{\"comissionAmount\":1.0,\"contract\":null,\"price\":0.0,\"recieveAmount\":null,\"recipient\":\"895cc4a0852d41a9a9c4f7f0ad55d296\",\"sendAmount\":1,\"sender\":\"z01x0000000000000000000000000000000000000000000000000000000000\",\"symbol\":\"zsh\",\"timestamp\":1629723377.434202,\"tradeTxId\":null},{\"comissionAmount\":2.0,\"contract\":\"btc\",\"price\":3.0,\"recieveAmount\":6.0,\"recipient\":\"z01x0011c451ec98668981d667349895f26de90940f0b55a2843eabab0ebc7\",\"sendAmount\":2.0,\"sender\":\"z01x0011c451ec98668981d667349895f26de90940f0b55a2843eabab0ebc7\",\"symbol\":\"btc/usdt\",\"timestamp\":1629723377.440518,\"tradeTxId\":\"fb7456550faa82f198c6026e488ce59602ae9a013ad08fa808e2b6bdff76e856\"},{\"comissionAmount\":2.0,\"contract\":\"usdt\",\"price\":3.0,\"recieveAmount\":2.0,\"recipient\":\"z01x0011c451ec98668981d667349895f26de90940f0b55a2843eabab0ebc7\",\"sendAmount\":6.0,\"sender\":\"z01x0011c451ec98668981d667349895f26de90940f0b55a2843eabab0ebc7\",\"symbol\":\"btc/usdt\",\"timestamp\":1629723377.440526,\"tradeTxId\":\"43fd5abe90609c230698a44803fd474eb96d75e401a35133f039d6976fc34555\"}]}],\"length\":3}\\n'"
      ]
     },
     "execution_count": 273,
     "metadata": {},
     "output_type": "execute_result"
    }
   ],
   "source": [
    "chain1 = requests.get(host1+'/chain').content\n",
    "chain1"
   ]
  },
  {
   "cell_type": "code",
   "execution_count": null,
   "metadata": {},
   "outputs": [],
   "source": []
  }
 ],
 "metadata": {
  "kernelspec": {
   "display_name": "Python 3",
   "language": "python",
   "name": "python3"
  },
  "language_info": {
   "codemirror_mode": {
    "name": "ipython",
    "version": 3
   },
   "file_extension": ".py",
   "mimetype": "text/x-python",
   "name": "python",
   "nbconvert_exporter": "python",
   "pygments_lexer": "ipython3",
   "version": "3.7.2"
  }
 },
 "nbformat": 4,
 "nbformat_minor": 2
}
